{
 "cells": [
  {
   "cell_type": "markdown",
   "metadata": {},
   "source": [
    "## data preprocess\n",
    "### data cleaning on quality issues\n",
    "For each feature identify the following problems\n",
    "* Inconsistent values\n",
    "* Duplicate records\n",
    "Duplicate should be removed immediately from database/dataset\n",
    "* Missing values\n",
    "* Invalid values\n",
    "* Outliers\n",
    "\n",
    "### data transformation\n",
    "scaling, transformation, feature selection, dim reduction, data manipulation\n",
    "* scaling - normalization\n",
    "* transformation - category vectorize\n",
    "* feature selection/engineering"
   ]
  },
  {
   "cell_type": "code",
   "execution_count": 1,
   "metadata": {
    "collapsed": true
   },
   "outputs": [],
   "source": [
    "%load_ext autoreload\n",
    "# always reload modules marked with \"%aimport\"\n",
    "%autoreload 1\n",
    "\n",
    "import os,sys\n",
    "import numpy as np\n",
    "import pandas as pd\n",
    "\n",
    "# add the 'src' directory as one where we can import modules\n",
    "src_dir = os.path.join(os.getcwd(), '../..', 'src')\n",
    "sys.path.append(src_dir)\n",
    "\n",
    "%aimport plot_utils\n",
    "from plot_utils import *\n",
    "%aimport preprocessing\n",
    "from preprocessing import *\n",
    "%aimport data_source\n",
    "from data_source import *"
   ]
  },
  {
   "cell_type": "code",
   "execution_count": 2,
   "metadata": {},
   "outputs": [
    {
     "name": "stdout",
     "output_type": "stream",
     "text": [
      "connect to database postgresql://postgres:@localhost:5432/sdra\n",
      "['properties', 'property_features', 'transactions', 'property_addresses', 'property_address_transactions', 'property_estimate']\n",
      "execute  c:\\wenyan\\dse_capstone\\database\\preprocess.sql\n"
     ]
    }
   ],
   "source": [
    "ds = DataSource(host='localhost',port=5432, username='postgres', password='', database='sdra')\n",
    "ds.show_views()\n",
    "ds.update_views()"
   ]
  },
  {
   "cell_type": "markdown",
   "metadata": {},
   "source": [
    "### county_properties, property_features, property_addresses\n",
    "* restrict properties to land_use_code = 1, land_use_subcode: [11, 17]  ~ 711255\n",
    "* year_built has 2 digit, it's not clear if it's 19xx or 20xx, eg '10' could be 1910 or 2010\n",
    "* 1784 properties have sqft = 0\n",
    "* 146 properties missed address\n",
    "* final valid: 709325"
   ]
  },
  {
   "cell_type": "markdown",
   "metadata": {},
   "source": [
    "### county_addresses\n",
    "* Among 709325 valid properties, 673826(95%) have addresses encoded as geo lon/lat with rank > 20"
   ]
  },
  {
   "cell_type": "markdown",
   "metadata": {},
   "source": [
    "### county_transactions ###\n",
    "* (duplicate) records in transactions: can be identified by (pin, trailer_pin, doc_date)?\n",
    "* Lots of transactions with code 'M' seem to have weird sold_price value?\n",
    "* (invalid values) 174764 transactions have price = 0, they all appear after 2009-01-01\n",
    "* (outlier or invalid?) weird values: sqft > 1000ft and sold_price < 50000 in year 2017, eg Borrego Springs\n",
    "* (missing records) some transactions that we knew didn't exist in data\n",
    "\n",
    "* valid transactions: 1449003\n"
   ]
  },
  {
   "cell_type": "code",
   "execution_count": 3,
   "metadata": {},
   "outputs": [
    {
     "name": "stdout",
     "output_type": "stream",
     "text": [
      "(1512560, 18)\n"
     ]
    },
    {
     "data": {
      "text/html": [
       "<div>\n",
       "<style>\n",
       "    .dataframe thead tr:only-child th {\n",
       "        text-align: right;\n",
       "    }\n",
       "\n",
       "    .dataframe thead th {\n",
       "        text-align: left;\n",
       "    }\n",
       "\n",
       "    .dataframe tbody tr th {\n",
       "        vertical-align: top;\n",
       "    }\n",
       "</style>\n",
       "<table border=\"1\" class=\"dataframe\">\n",
       "  <thead>\n",
       "    <tr style=\"text-align: right;\">\n",
       "      <th></th>\n",
       "      <th>pin</th>\n",
       "      <th>year_built</th>\n",
       "      <th>sqft</th>\n",
       "      <th>num_bed</th>\n",
       "      <th>num_bath</th>\n",
       "      <th>pool</th>\n",
       "      <th>view</th>\n",
       "      <th>eval_land</th>\n",
       "      <th>eval_imps</th>\n",
       "      <th>str_no</th>\n",
       "      <th>street</th>\n",
       "      <th>st_type</th>\n",
       "      <th>unit_no</th>\n",
       "      <th>city</th>\n",
       "      <th>zip</th>\n",
       "      <th>sold_price</th>\n",
       "      <th>date</th>\n",
       "      <th>sqft_price</th>\n",
       "    </tr>\n",
       "  </thead>\n",
       "  <tbody>\n",
       "    <tr>\n",
       "      <th>0</th>\n",
       "      <td>5754330300</td>\n",
       "      <td>1955.0</td>\n",
       "      <td>1120</td>\n",
       "      <td>3.0</td>\n",
       "      <td>1.0</td>\n",
       "      <td>N</td>\n",
       "      <td>N</td>\n",
       "      <td>133145</td>\n",
       "      <td>110954</td>\n",
       "      <td>1113</td>\n",
       "      <td>HILLTOP</td>\n",
       "      <td>DR</td>\n",
       "      <td>None</td>\n",
       "      <td>CHULA VISTA</td>\n",
       "      <td>91911</td>\n",
       "      <td>447000</td>\n",
       "      <td>2017-10-24</td>\n",
       "      <td>399</td>\n",
       "    </tr>\n",
       "    <tr>\n",
       "      <th>1</th>\n",
       "      <td>1657014212</td>\n",
       "      <td>1993.0</td>\n",
       "      <td>1016</td>\n",
       "      <td>2.0</td>\n",
       "      <td>2.0</td>\n",
       "      <td>None</td>\n",
       "      <td>None</td>\n",
       "      <td>234000</td>\n",
       "      <td>91000</td>\n",
       "      <td>3305</td>\n",
       "      <td>GENOA</td>\n",
       "      <td>WAY</td>\n",
       "      <td>90</td>\n",
       "      <td>OCEANSIDE</td>\n",
       "      <td>92056</td>\n",
       "      <td>397000</td>\n",
       "      <td>2017-10-19</td>\n",
       "      <td>390</td>\n",
       "    </tr>\n",
       "    <tr>\n",
       "      <th>2</th>\n",
       "      <td>4370430100</td>\n",
       "      <td>1942.0</td>\n",
       "      <td>1500</td>\n",
       "      <td>4.0</td>\n",
       "      <td>2.0</td>\n",
       "      <td>N</td>\n",
       "      <td>N</td>\n",
       "      <td>401372</td>\n",
       "      <td>44890</td>\n",
       "      <td>1581</td>\n",
       "      <td>BURTON</td>\n",
       "      <td>ST</td>\n",
       "      <td>None</td>\n",
       "      <td>SAN DIEGO</td>\n",
       "      <td>92111</td>\n",
       "      <td>0</td>\n",
       "      <td>2017-10-03</td>\n",
       "      <td>0</td>\n",
       "    </tr>\n",
       "  </tbody>\n",
       "</table>\n",
       "</div>"
      ],
      "text/plain": [
       "          pin  year_built  sqft  num_bed  num_bath  pool  view  eval_land  \\\n",
       "0  5754330300      1955.0  1120      3.0       1.0     N     N     133145   \n",
       "1  1657014212      1993.0  1016      2.0       2.0  None  None     234000   \n",
       "2  4370430100      1942.0  1500      4.0       2.0     N     N     401372   \n",
       "\n",
       "   eval_imps str_no   street st_type unit_no         city    zip  sold_price  \\\n",
       "0     110954   1113  HILLTOP      DR    None  CHULA VISTA  91911      447000   \n",
       "1      91000   3305    GENOA     WAY      90    OCEANSIDE  92056      397000   \n",
       "2      44890   1581   BURTON      ST    None    SAN DIEGO  92111           0   \n",
       "\n",
       "         date  sqft_price  \n",
       "0  2017-10-24         399  \n",
       "1  2017-10-19         390  \n",
       "2  2017-10-03           0  "
      ]
     },
     "execution_count": 3,
     "metadata": {},
     "output_type": "execute_result"
    }
   ],
   "source": [
    "# all transactions\n",
    "df_all = ds.get_view_df('property_address_transactions')\n",
    "print(df_all.shape)\n",
    "df_all[:3]"
   ]
  },
  {
   "cell_type": "code",
   "execution_count": 4,
   "metadata": {},
   "outputs": [
    {
     "data": {
      "image/png": "[encoded data removed]",
      "text/plain": [
       "<matplotlib.figure.Figure at 0x1e7283937f0>"
      ]
     },
     "metadata": {},
     "output_type": "display_data"
    }
   ],
   "source": [
    "# check various feature distribution\n",
    "columns = set(df_all.columns) - set(['pin'])\n",
    "plot_feature_histogram(df_all, list(columns))"
   ]
  },
  {
   "cell_type": "code",
   "execution_count": 9,
   "metadata": {},
   "outputs": [
    {
     "data": {
      "image/png": "[encoded data removed]",
      "text/plain": [
       "<matplotlib.figure.Figure at 0x1e74c48fa90>"
      ]
     },
     "metadata": {},
     "output_type": "display_data"
    }
   ],
   "source": [
    "df_all_valid = df_all[(df_all['sqft_price']<2000) &(df_all['sqft_price']>0)\n",
    "                     &(df_all['sqft']<10000)\n",
    "                     &(df_all['sold_price']>0) \n",
    "                     #&(df_all['sold_price'] < 2000000)\n",
    "                     &(df_all['num_bed']<10)\n",
    "                     &(df_all['num_bath']<10)\n",
    "                     ]\n",
    "plot_feature_histogram(df_all_valid, list(columns))"
   ]
  },
  {
   "cell_type": "code",
   "execution_count": 10,
   "metadata": {},
   "outputs": [
    {
     "data": {
      "text/plain": [
       "(8280, 18)"
      ]
     },
     "execution_count": 10,
     "metadata": {},
     "output_type": "execute_result"
    }
   ],
   "source": [
    "df_all_valid[df_all_valid['sold_price']>2000000].shape"
   ]
  },
  {
   "cell_type": "code",
   "execution_count": 105,
   "metadata": {},
   "outputs": [
    {
     "data": {
      "text/plain": [
       "{'num_bath': 1512009,\n",
       " 'num_bed': 1511762,\n",
       " 'sold_price': 1449003,\n",
       " 'sqft': 1511550,\n",
       " 'sqft_price': 1448693,\n",
       " 'total': 1512560}"
      ]
     },
     "execution_count": 105,
     "metadata": {},
     "output_type": "execute_result"
    }
   ],
   "source": [
    "# check valid data size for each valid condition\n",
    "pp = Preprocess(df_all)\n",
    "valid_counts = pp.get_valid_count()\n",
    "print(valid_counts)\n",
    "plot_bar(valid_counts)"
   ]
  },
  {
   "cell_type": "code",
   "execution_count": 109,
   "metadata": {},
   "outputs": [
    {
     "name": "stdout",
     "output_type": "stream",
     "text": [
      "converting view\n",
      "converting pool\n",
      "1446992\n",
      "1446992\n"
     ]
    }
   ],
   "source": [
    "# check the preprocess module set correct condition for valid range\n",
    "df_all_valid1 = pp.dataset(feature='delivered', valid=True)\n",
    "print(df_all_valid.shape[0])\n",
    "print(df_all_valid1.shape[0])"
   ]
  },
  {
   "cell_type": "code",
   "execution_count": 4,
   "metadata": {},
   "outputs": [
    {
     "data": {
      "text/plain": [
       "(41100, 16)"
      ]
     },
     "execution_count": 4,
     "metadata": {},
     "output_type": "execute_result"
    }
   ],
   "source": [
    "# last year transactions \n",
    "df_last_year = df_all[(pd.to_datetime(df_all['date']) >= '2016-10-01') & (pd.to_datetime(df_all['date']) < '2017-10-01')]\n",
    "df_last_year.shape"
   ]
  },
  {
   "cell_type": "code",
   "execution_count": 6,
   "metadata": {},
   "outputs": [
    {
     "data": {
      "text/plain": [
       "(3162, 16)"
      ]
     },
     "execution_count": 6,
     "metadata": {},
     "output_type": "execute_result"
    }
   ],
   "source": [
    "df_last_year[df_last_year['sold_price']==0].shape"
   ]
  },
  {
   "cell_type": "code",
   "execution_count": 7,
   "metadata": {},
   "outputs": [
    {
     "data": {
      "text/html": [
       "<div>\n",
       "<style>\n",
       "    .dataframe thead tr:only-child th {\n",
       "        text-align: right;\n",
       "    }\n",
       "\n",
       "    .dataframe thead th {\n",
       "        text-align: left;\n",
       "    }\n",
       "\n",
       "    .dataframe tbody tr th {\n",
       "        vertical-align: top;\n",
       "    }\n",
       "</style>\n",
       "<table border=\"1\" class=\"dataframe\">\n",
       "  <thead>\n",
       "    <tr style=\"text-align: right;\">\n",
       "      <th></th>\n",
       "      <th>pin</th>\n",
       "      <th>year_built</th>\n",
       "      <th>sqft</th>\n",
       "      <th>num_bed</th>\n",
       "      <th>num_bath</th>\n",
       "      <th>pool</th>\n",
       "      <th>view</th>\n",
       "      <th>str_no</th>\n",
       "      <th>street</th>\n",
       "      <th>st_type</th>\n",
       "      <th>unit_no</th>\n",
       "      <th>city</th>\n",
       "      <th>zip</th>\n",
       "      <th>sold_price</th>\n",
       "      <th>date</th>\n",
       "      <th>sqft_price</th>\n",
       "    </tr>\n",
       "  </thead>\n",
       "  <tbody>\n",
       "    <tr>\n",
       "      <th>8</th>\n",
       "      <td>5561805536</td>\n",
       "      <td>1996.0</td>\n",
       "      <td>378</td>\n",
       "      <td>1.0</td>\n",
       "      <td>1.0</td>\n",
       "      <td>None</td>\n",
       "      <td>N</td>\n",
       "      <td>312</td>\n",
       "      <td>J</td>\n",
       "      <td>AVE</td>\n",
       "      <td>64</td>\n",
       "      <td>NATIONAL CITY</td>\n",
       "      <td>91950</td>\n",
       "      <td>0</td>\n",
       "      <td>2017-09-27</td>\n",
       "      <td>0</td>\n",
       "    </tr>\n",
       "    <tr>\n",
       "      <th>15</th>\n",
       "      <td>1876510400</td>\n",
       "      <td>1994.0</td>\n",
       "      <td>2462</td>\n",
       "      <td>5.0</td>\n",
       "      <td>3.0</td>\n",
       "      <td>N</td>\n",
       "      <td>Y</td>\n",
       "      <td>2349</td>\n",
       "      <td>SUMMIT CIRCLE</td>\n",
       "      <td>GLN</td>\n",
       "      <td>None</td>\n",
       "      <td>ESCONDIDO</td>\n",
       "      <td>92026</td>\n",
       "      <td>0</td>\n",
       "      <td>2017-09-27</td>\n",
       "      <td>0</td>\n",
       "    </tr>\n",
       "    <tr>\n",
       "      <th>56</th>\n",
       "      <td>4993631100</td>\n",
       "      <td>1959.0</td>\n",
       "      <td>1770</td>\n",
       "      <td>3.0</td>\n",
       "      <td>2.0</td>\n",
       "      <td>N</td>\n",
       "      <td>Y</td>\n",
       "      <td>3524</td>\n",
       "      <td>KENWOOD</td>\n",
       "      <td>DR</td>\n",
       "      <td>None</td>\n",
       "      <td>SPRING VALLEY</td>\n",
       "      <td>91977</td>\n",
       "      <td>0</td>\n",
       "      <td>2017-09-27</td>\n",
       "      <td>0</td>\n",
       "    </tr>\n",
       "    <tr>\n",
       "      <th>110</th>\n",
       "      <td>1613431500</td>\n",
       "      <td>1979.0</td>\n",
       "      <td>873</td>\n",
       "      <td>2.0</td>\n",
       "      <td>1.0</td>\n",
       "      <td>N</td>\n",
       "      <td>None</td>\n",
       "      <td>1444</td>\n",
       "      <td>HIGHRIDGE</td>\n",
       "      <td>DR</td>\n",
       "      <td>None</td>\n",
       "      <td>OCEANSIDE</td>\n",
       "      <td>92056</td>\n",
       "      <td>0</td>\n",
       "      <td>2017-09-26</td>\n",
       "      <td>0</td>\n",
       "    </tr>\n",
       "    <tr>\n",
       "      <th>224</th>\n",
       "      <td>3194015300</td>\n",
       "      <td>1987.0</td>\n",
       "      <td>1937</td>\n",
       "      <td>3.0</td>\n",
       "      <td>2.0</td>\n",
       "      <td>N</td>\n",
       "      <td>Y</td>\n",
       "      <td>11752</td>\n",
       "      <td>MIRA LAGO</td>\n",
       "      <td>WAY</td>\n",
       "      <td>None</td>\n",
       "      <td>SAN DIEGO</td>\n",
       "      <td>92131</td>\n",
       "      <td>0</td>\n",
       "      <td>2017-09-25</td>\n",
       "      <td>0</td>\n",
       "    </tr>\n",
       "    <tr>\n",
       "      <th>225</th>\n",
       "      <td>6720202700</td>\n",
       "      <td>1956.0</td>\n",
       "      <td>1242</td>\n",
       "      <td>4.0</td>\n",
       "      <td>2.0</td>\n",
       "      <td>N</td>\n",
       "      <td>N</td>\n",
       "      <td>5214</td>\n",
       "      <td>IRWIN</td>\n",
       "      <td>AVE</td>\n",
       "      <td>None</td>\n",
       "      <td>SAN DIEGO</td>\n",
       "      <td>92120</td>\n",
       "      <td>0</td>\n",
       "      <td>2017-09-25</td>\n",
       "      <td>0</td>\n",
       "    </tr>\n",
       "    <tr>\n",
       "      <th>233</th>\n",
       "      <td>5913312600</td>\n",
       "      <td>1985.0</td>\n",
       "      <td>1865</td>\n",
       "      <td>4.0</td>\n",
       "      <td>2.0</td>\n",
       "      <td>N</td>\n",
       "      <td>N</td>\n",
       "      <td>3020</td>\n",
       "      <td>PARKSIDE</td>\n",
       "      <td>PL</td>\n",
       "      <td>None</td>\n",
       "      <td>SAN DIEGO</td>\n",
       "      <td>92139</td>\n",
       "      <td>0</td>\n",
       "      <td>2017-09-25</td>\n",
       "      <td>0</td>\n",
       "    </tr>\n",
       "    <tr>\n",
       "      <th>273</th>\n",
       "      <td>1668100400</td>\n",
       "      <td>1994.0</td>\n",
       "      <td>1824</td>\n",
       "      <td>3.0</td>\n",
       "      <td>2.0</td>\n",
       "      <td>None</td>\n",
       "      <td>N</td>\n",
       "      <td>1424</td>\n",
       "      <td>JANIS LYNN</td>\n",
       "      <td>LN</td>\n",
       "      <td>None</td>\n",
       "      <td>VISTA</td>\n",
       "      <td>92083</td>\n",
       "      <td>0</td>\n",
       "      <td>2017-09-25</td>\n",
       "      <td>0</td>\n",
       "    </tr>\n",
       "    <tr>\n",
       "      <th>285</th>\n",
       "      <td>1866124400</td>\n",
       "      <td>1992.0</td>\n",
       "      <td>4822</td>\n",
       "      <td>5.0</td>\n",
       "      <td>4.0</td>\n",
       "      <td>Y</td>\n",
       "      <td>Y</td>\n",
       "      <td>28039</td>\n",
       "      <td>HIGH VISTA</td>\n",
       "      <td>DR</td>\n",
       "      <td>None</td>\n",
       "      <td>ESCONDIDO</td>\n",
       "      <td>92026</td>\n",
       "      <td>0</td>\n",
       "      <td>2017-09-25</td>\n",
       "      <td>0</td>\n",
       "    </tr>\n",
       "    <tr>\n",
       "      <th>350</th>\n",
       "      <td>4893802913</td>\n",
       "      <td>1982.0</td>\n",
       "      <td>1232</td>\n",
       "      <td>2.0</td>\n",
       "      <td>2.0</td>\n",
       "      <td>None</td>\n",
       "      <td>N</td>\n",
       "      <td>1166</td>\n",
       "      <td>DECKER</td>\n",
       "      <td>ST</td>\n",
       "      <td>B</td>\n",
       "      <td>EL CAJON</td>\n",
       "      <td>92019</td>\n",
       "      <td>0</td>\n",
       "      <td>2017-09-25</td>\n",
       "      <td>0</td>\n",
       "    </tr>\n",
       "  </tbody>\n",
       "</table>\n",
       "</div>"
      ],
      "text/plain": [
       "            pin  year_built  sqft  num_bed  num_bath  pool  view str_no  \\\n",
       "8    5561805536      1996.0   378      1.0       1.0  None     N    312   \n",
       "15   1876510400      1994.0  2462      5.0       3.0     N     Y   2349   \n",
       "56   4993631100      1959.0  1770      3.0       2.0     N     Y   3524   \n",
       "110  1613431500      1979.0   873      2.0       1.0     N  None   1444   \n",
       "224  3194015300      1987.0  1937      3.0       2.0     N     Y  11752   \n",
       "225  6720202700      1956.0  1242      4.0       2.0     N     N   5214   \n",
       "233  5913312600      1985.0  1865      4.0       2.0     N     N   3020   \n",
       "273  1668100400      1994.0  1824      3.0       2.0  None     N   1424   \n",
       "285  1866124400      1992.0  4822      5.0       4.0     Y     Y  28039   \n",
       "350  4893802913      1982.0  1232      2.0       2.0  None     N   1166   \n",
       "\n",
       "            street st_type unit_no           city    zip  sold_price  \\\n",
       "8                J     AVE      64  NATIONAL CITY  91950           0   \n",
       "15   SUMMIT CIRCLE     GLN    None      ESCONDIDO  92026           0   \n",
       "56         KENWOOD      DR    None  SPRING VALLEY  91977           0   \n",
       "110      HIGHRIDGE      DR    None      OCEANSIDE  92056           0   \n",
       "224      MIRA LAGO     WAY    None      SAN DIEGO  92131           0   \n",
       "225          IRWIN     AVE    None      SAN DIEGO  92120           0   \n",
       "233       PARKSIDE      PL    None      SAN DIEGO  92139           0   \n",
       "273     JANIS LYNN      LN    None          VISTA  92083           0   \n",
       "285     HIGH VISTA      DR    None      ESCONDIDO  92026           0   \n",
       "350         DECKER      ST       B       EL CAJON  92019           0   \n",
       "\n",
       "           date  sqft_price  \n",
       "8    2017-09-27           0  \n",
       "15   2017-09-27           0  \n",
       "56   2017-09-27           0  \n",
       "110  2017-09-26           0  \n",
       "224  2017-09-25           0  \n",
       "225  2017-09-25           0  \n",
       "233  2017-09-25           0  \n",
       "273  2017-09-25           0  \n",
       "285  2017-09-25           0  \n",
       "350  2017-09-25           0  "
      ]
     },
     "execution_count": 7,
     "metadata": {},
     "output_type": "execute_result"
    }
   ],
   "source": [
    "df_last_year[df_last_year['sold_price']==0][:10]"
   ]
  },
  {
   "cell_type": "code",
   "execution_count": 116,
   "metadata": {},
   "outputs": [
    {
     "name": "stdout",
     "output_type": "stream",
     "text": [
      "{'num_bath': 41088, 'sqft': 41081, 'sold_price': 37938, 'num_bed': 41079, 'total': 41100, 'sqft_price': 37918}\n"
     ]
    },
    {
     "data": {
      "image/png": "[encoded data removed]",
      "text/plain": [
       "<matplotlib.figure.Figure at 0x17842f56a90>"
      ]
     },
     "metadata": {},
     "output_type": "display_data"
    }
   ],
   "source": [
    "pp_last_year = Preprocess(df_last_year)\n",
    "valid_counts = pp_last_year.get_valid_count()\n",
    "print(valid_counts)\n",
    "plot_bar(valid_counts)"
   ]
  },
  {
   "cell_type": "code",
   "execution_count": 117,
   "metadata": {},
   "outputs": [
    {
     "name": "stdout",
     "output_type": "stream",
     "text": [
      "converting view\n",
      "converting pool\n",
      "37881\n"
     ]
    }
   ],
   "source": [
    "df_last_year_valid = pp_last_year.dataset(feature='delivered', valid=True)\n",
    "print(df_last_year_valid.shape[0])"
   ]
  },
  {
   "cell_type": "code",
   "execution_count": null,
   "metadata": {
    "collapsed": true
   },
   "outputs": [],
   "source": []
  }
 ],
 "metadata": {
  "kernelspec": {
   "display_name": "Python 3",
   "language": "python",
   "name": "python3"
  },
  "language_info": {
   "codemirror_mode": {
    "name": "ipython",
    "version": 3
   },
   "file_extension": ".py",
   "mimetype": "text/x-python",
   "name": "python",
   "nbconvert_exporter": "python",
   "pygments_lexer": "ipython3",
   "version": "3.5.0"
  }
 },
 "nbformat": 4,
 "nbformat_minor": 2
}
