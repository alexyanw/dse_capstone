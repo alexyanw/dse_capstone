{
 "cells": [
  {
   "cell_type": "markdown",
   "metadata": {},
   "source": [
    "## data preprocess\n",
    "### data cleaning on quality issues\n",
    "For each feature identify the following problems\n",
    "* Inconsistent values\n",
    "* Duplicate records\n",
    "* Missing values\n",
    "* Invalid values\n",
    "* Outliers\n",
    "\n",
    "### data transformation\n",
    "scaling, transformation, feature selection, dim reduction, data manipulation\n",
    "* scaling - normalization\n",
    "* transformation - category vectorize\n",
    "* feature selection/engineering"
   ]
  },
  {
   "cell_type": "code",
   "execution_count": 3,
   "metadata": {
    "collapsed": true
   },
   "outputs": [],
   "source": [
    "import pandas as pd\n",
    "import sys\n",
    "from sqlalchemy import create_engine\n",
    "import matplotlib.pyplot as plt\n",
    "import numpy as np\n",
    "import seaborn as sns\n",
    "color = sns.color_palette()\n",
    "\n",
    "ServerName = \"localhost\"\n",
    "Database = \"sdra\"\n",
    "\n",
    "# Create the connection\n",
    "engine = create_engine('postgresql://postgres:@' + ServerName + ':5432/' + Database)"
   ]
  },
  {
   "cell_type": "markdown",
   "metadata": {},
   "source": [
    "### check address data\n",
    "* missing data(addresses)?"
   ]
  },
  {
   "cell_type": "code",
   "execution_count": 3,
   "metadata": {
    "collapsed": true
   },
   "outputs": [],
   "source": [
    "sql = '''\n",
    "with properties as (\n",
    "    select number,upper(street) as street, city,zip from redfin_properties\n",
    ")\n",
    "-- select number,street,city from properties where (number, street,city) not in (select number,street,city from addresses)\n",
    "-- select p.number,p.street,p.city from properties p,addresses a\n",
    "-- select count(1) from properties p left join addresses a on p.number=a.number and a.street = p.street and p.city=a.city and p.zip = a.postcode\n",
    "select count(1) from properties p where (p.number, p.street, p.city, p.zip) in (select a.number, a.street, a.city,a.postcode as zip from addresses a)\n",
    "'''\n",
    "\n",
    "valid_count = pd.read_sql_query(sql, engine)"
   ]
  },
  {
   "cell_type": "code",
   "execution_count": 4,
   "metadata": {},
   "outputs": [
    {
     "data": {
      "text/html": [
       "<div>\n",
       "<style>\n",
       "    .dataframe thead tr:only-child th {\n",
       "        text-align: right;\n",
       "    }\n",
       "\n",
       "    .dataframe thead th {\n",
       "        text-align: left;\n",
       "    }\n",
       "\n",
       "    .dataframe tbody tr th {\n",
       "        vertical-align: top;\n",
       "    }\n",
       "</style>\n",
       "<table border=\"1\" class=\"dataframe\">\n",
       "  <thead>\n",
       "    <tr style=\"text-align: right;\">\n",
       "      <th></th>\n",
       "      <th>count</th>\n",
       "    </tr>\n",
       "  </thead>\n",
       "  <tbody>\n",
       "    <tr>\n",
       "      <th>0</th>\n",
       "      <td>524093</td>\n",
       "    </tr>\n",
       "  </tbody>\n",
       "</table>\n",
       "</div>"
      ],
      "text/plain": [
       "    count\n",
       "0  524093"
      ]
     },
     "execution_count": 4,
     "metadata": {},
     "output_type": "execute_result"
    }
   ],
   "source": [
    "valid_count"
   ]
  },
  {
   "cell_type": "markdown",
   "metadata": {
    "collapsed": true
   },
   "source": [
    "### redfin_properties\n",
    "* (invalid) year_built: eg 9999\n",
    "* (missing) sqft"
   ]
  },
  {
   "cell_type": "markdown",
   "metadata": {},
   "source": [
    "### redfin_transactions\n",
    "* (missing value) transactions missing between 1980~1987\n",
    "* (mismatch) sold price mismatch btw 'public record and sandicor': https://www.redfin.com//CA/Imperial-Beach/100-Evergreen-Ave-91932/unit-2/home/143020730\n",
    "* (note) price - latest sold or listing price\n",
    "  * https://www.redfin.com//CA/Imperial-Beach/100-Evergreen-Ave-91932/unit-2/home/143020730\n",
    "  * https://www.redfin.com//CA/San-Diego/10260-Black-Mountain-Rd-92126/unit-135/home/4855426\n",
    "* outlier: unit price(price_per_sqft) > $1500\n",
    "  "
   ]
  },
  {
   "cell_type": "code",
   "execution_count": null,
   "metadata": {
    "collapsed": true
   },
   "outputs": [],
   "source": []
  }
 ],
 "metadata": {
  "kernelspec": {
   "display_name": "Python 3",
   "language": "python",
   "name": "python3"
  },
  "language_info": {
   "codemirror_mode": {
    "name": "ipython",
    "version": 3
   },
   "file_extension": ".py",
   "mimetype": "text/x-python",
   "name": "python",
   "nbconvert_exporter": "python",
   "pygments_lexer": "ipython3",
   "version": "3.5.0"
  }
 },
 "nbformat": 4,
 "nbformat_minor": 2
}
