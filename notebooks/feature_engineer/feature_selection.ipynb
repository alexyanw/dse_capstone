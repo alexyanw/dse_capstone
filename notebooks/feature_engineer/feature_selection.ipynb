{
 "cells": [
  {
   "cell_type": "markdown",
   "metadata": {},
   "source": [
    "## descriptive data exploration\n",
    "* study the trending of correlation\n",
    "\n",
    "### feature ranking\n",
    "* correlation btw each feature and unit price\n",
    "* random forest ranking\n"
   ]
  },
  {
   "cell_type": "code",
   "execution_count": 1,
   "metadata": {},
   "outputs": [],
   "source": [
    "%load_ext autoreload\n",
    "# always reload modules marked with \"%aimport\"\n",
    "%autoreload 1\n",
    "\n",
    "import os,sys\n",
    "import numpy as np\n",
    "import pandas as pd\n",
    "\n",
    "# add the 'src' directory as one where we can import modules\n",
    "src_dir = os.path.join(os.getcwd(), '../..', 'src')\n",
    "sys.path.append(src_dir)\n",
    "\n",
    "%aimport plot_utils\n",
    "from plot_utils import *\n",
    "%aimport preprocessing\n",
    "from preprocessing import *\n",
    "%aimport data_source\n",
    "from data_source import *"
   ]
  },
  {
   "cell_type": "code",
   "execution_count": 2,
   "metadata": {},
   "outputs": [
    {
     "name": "stdout",
     "output_type": "stream",
     "text": [
      "connect to database postgresql://postgres:@localhost:5432/sdra\n",
      "['properties', 'property_features', 'transactions', 'property_addresses', 'property_address_transactions', 'property_estimate']\n",
      "execute  c:\\wenyan\\dse_capstone\\database\\preprocess.sql\n"
     ]
    }
   ],
   "source": [
    "ds = DataSource(host='localhost',port=5432, username='postgres', password='', database='sdra')\n",
    "ds.show_views()\n",
    "ds.update_views()\n",
    "\n",
    "df_transaction = ds.get_view_df('property_address_transactions')\n",
    "df_property = ds.get_view_df('property_addresses')\n",
    "pp = Preprocess(df_transaction, df_property)"
   ]
  },
  {
   "cell_type": "markdown",
   "metadata": {},
   "source": [
    "### retrieve the dataset"
   ]
  },
  {
   "cell_type": "code",
   "execution_count": 3,
   "metadata": {},
   "outputs": [
    {
     "name": "stdout",
     "output_type": "stream",
     "text": [
      "transforming view\n",
      "transforming pool\n",
      "transforming impr_over_land\n",
      "transforming date\n",
      "transforming year_built\n",
      "transforming sold_year\n",
      "transforming sold_age\n",
      "making sqft_zip_avg\n",
      "making sqft_price_zip_avg\n",
      "making sold_price_zip_avg\n",
      "making sale_count_zip\n",
      "making prop_count_zip\n",
      "all dataset (1446992, 21)\n",
      "transforming view\n",
      "transforming pool\n",
      "transforming impr_over_land\n",
      "transforming date\n",
      "transforming year_built\n",
      "transforming sold_year\n",
      "transforming sold_age\n",
      "making sqft_zip_avg\n",
      "making sqft_price_zip_avg\n",
      "making sold_price_zip_avg\n",
      "making sale_count_zip\n",
      "making prop_count_zip\n",
      "last year (37881, 21)\n"
     ]
    }
   ],
   "source": [
    "df_all_valid = pp.dataset(valid=True)\n",
    "print('all dataset', df_all_valid.shape)\n",
    "# last year transactions of valid properties\n",
    "df_last_year_valid = pp.dataset(valid=True, date=('2016-10-01', '2017-10-01'))\n",
    "print('last year', df_last_year_valid.shape)"
   ]
  },
  {
   "cell_type": "markdown",
   "metadata": {},
   "source": [
    "### correlation between features and target(sqft_price)\n",
    "* with geography: street, zip, city\n",
    "* with property characteristic: sqft, lot_size_sqft"
   ]
  },
  {
   "cell_type": "code",
   "execution_count": 26,
   "metadata": {},
   "outputs": [
    {
     "data": {
      "text/html": [
       "<div>\n",
       "<style>\n",
       "    .dataframe thead tr:only-child th {\n",
       "        text-align: right;\n",
       "    }\n",
       "\n",
       "    .dataframe thead th {\n",
       "        text-align: left;\n",
       "    }\n",
       "\n",
       "    .dataframe tbody tr th {\n",
       "        vertical-align: top;\n",
       "    }\n",
       "</style>\n",
       "<table border=\"1\" class=\"dataframe\">\n",
       "  <thead>\n",
       "    <tr style=\"text-align: right;\">\n",
       "      <th></th>\n",
       "      <th>sqft_zip_avg</th>\n",
       "      <th>sold_price</th>\n",
       "      <th>eval_imps</th>\n",
       "      <th>num_bed</th>\n",
       "      <th>impr_over_land</th>\n",
       "      <th>zip</th>\n",
       "      <th>street</th>\n",
       "      <th>sold_year</th>\n",
       "      <th>sold_price_zip_avg</th>\n",
       "      <th>sold_age</th>\n",
       "      <th>...</th>\n",
       "      <th>sqft</th>\n",
       "      <th>year_built</th>\n",
       "      <th>eval_land</th>\n",
       "      <th>prop_count_zip</th>\n",
       "      <th>sale_count_zip</th>\n",
       "      <th>view</th>\n",
       "      <th>sqft_price_zip_avg</th>\n",
       "      <th>num_bath</th>\n",
       "      <th>pool</th>\n",
       "      <th>sqft_price</th>\n",
       "    </tr>\n",
       "  </thead>\n",
       "  <tbody>\n",
       "    <tr>\n",
       "      <th>0</th>\n",
       "      <td>1490.440277</td>\n",
       "      <td>447000</td>\n",
       "      <td>110954</td>\n",
       "      <td>3.0</td>\n",
       "      <td>0.833332</td>\n",
       "      <td>91911</td>\n",
       "      <td>HILLTOP</td>\n",
       "      <td>2017</td>\n",
       "      <td>213934.491731</td>\n",
       "      <td>62</td>\n",
       "      <td>...</td>\n",
       "      <td>1120</td>\n",
       "      <td>1955</td>\n",
       "      <td>133145</td>\n",
       "      <td>13639</td>\n",
       "      <td>25518</td>\n",
       "      <td>0</td>\n",
       "      <td>146.430716</td>\n",
       "      <td>1.0</td>\n",
       "      <td>0</td>\n",
       "      <td>399</td>\n",
       "    </tr>\n",
       "    <tr>\n",
       "      <th>1</th>\n",
       "      <td>1490.440277</td>\n",
       "      <td>330000</td>\n",
       "      <td>60000</td>\n",
       "      <td>3.0</td>\n",
       "      <td>0.222222</td>\n",
       "      <td>91911</td>\n",
       "      <td>JAMUL</td>\n",
       "      <td>2017</td>\n",
       "      <td>213934.491731</td>\n",
       "      <td>61</td>\n",
       "      <td>...</td>\n",
       "      <td>1050</td>\n",
       "      <td>1956</td>\n",
       "      <td>270000</td>\n",
       "      <td>13639</td>\n",
       "      <td>25518</td>\n",
       "      <td>1</td>\n",
       "      <td>146.430716</td>\n",
       "      <td>2.0</td>\n",
       "      <td>0</td>\n",
       "      <td>314</td>\n",
       "    </tr>\n",
       "    <tr>\n",
       "      <th>2</th>\n",
       "      <td>1490.440277</td>\n",
       "      <td>510000</td>\n",
       "      <td>344668</td>\n",
       "      <td>3.0</td>\n",
       "      <td>2.734137</td>\n",
       "      <td>91911</td>\n",
       "      <td>EMERSON</td>\n",
       "      <td>2017</td>\n",
       "      <td>213934.491731</td>\n",
       "      <td>58</td>\n",
       "      <td>...</td>\n",
       "      <td>1204</td>\n",
       "      <td>1959</td>\n",
       "      <td>126061</td>\n",
       "      <td>13639</td>\n",
       "      <td>25518</td>\n",
       "      <td>0</td>\n",
       "      <td>146.430716</td>\n",
       "      <td>2.0</td>\n",
       "      <td>0</td>\n",
       "      <td>423</td>\n",
       "    </tr>\n",
       "  </tbody>\n",
       "</table>\n",
       "<p>3 rows × 21 columns</p>\n",
       "</div>"
      ],
      "text/plain": [
       "   sqft_zip_avg  sold_price  eval_imps  num_bed  impr_over_land    zip  \\\n",
       "0   1490.440277      447000     110954      3.0        0.833332  91911   \n",
       "1   1490.440277      330000      60000      3.0        0.222222  91911   \n",
       "2   1490.440277      510000     344668      3.0        2.734137  91911   \n",
       "\n",
       "    street  sold_year  sold_price_zip_avg  sold_age     ...      sqft  \\\n",
       "0  HILLTOP       2017       213934.491731        62     ...      1120   \n",
       "1    JAMUL       2017       213934.491731        61     ...      1050   \n",
       "2  EMERSON       2017       213934.491731        58     ...      1204   \n",
       "\n",
       "   year_built  eval_land  prop_count_zip  sale_count_zip  view  \\\n",
       "0        1955     133145           13639           25518     0   \n",
       "1        1956     270000           13639           25518     1   \n",
       "2        1959     126061           13639           25518     0   \n",
       "\n",
       "   sqft_price_zip_avg  num_bath  pool  sqft_price  \n",
       "0          146.430716       1.0     0         399  \n",
       "1          146.430716       2.0     0         314  \n",
       "2          146.430716       2.0     0         423  \n",
       "\n",
       "[3 rows x 21 columns]"
      ]
     },
     "execution_count": 26,
     "metadata": {},
     "output_type": "execute_result"
    }
   ],
   "source": [
    "df_all_valid[:3]"
   ]
  },
  {
   "cell_type": "code",
   "execution_count": 27,
   "metadata": {
    "collapsed": true
   },
   "outputs": [],
   "source": [
    "features = set(pp.get_feature_list('all')) - set(['date', 'street', 'zip', 'sold_year', 'sqft_price']) # exclude features not suitable\n",
    "features -= set(['year_built'])   # features under work"
   ]
  },
  {
   "cell_type": "code",
   "execution_count": 28,
   "metadata": {},
   "outputs": [
    {
     "data": {
      "image/png": "[encoded data removed]",
      "text/plain": [
       "<matplotlib.figure.Figure at 0x20b203220b8>"
      ]
     },
     "metadata": {},
     "output_type": "display_data"
    },
    {
     "data": {
      "text/plain": [
       "{'eval_imps': 0.077338197609331041,\n",
       " 'eval_land': 0.61846442502312449,\n",
       " 'impr_over_land': -0.32046510708445214,\n",
       " 'num_bath': -0.065958691610244882,\n",
       " 'num_bed': -0.20961935904804133,\n",
       " 'pool': -0.019426027608156499,\n",
       " 'prop_count_zip': -0.04032071787323286,\n",
       " 'sale_count_zip': -0.06798179221133363,\n",
       " 'sold_age': 0.018049030401652923,\n",
       " 'sold_price': 0.5207020617735828,\n",
       " 'sold_price_zip_avg': 0.52739438548844464,\n",
       " 'sqft': -0.11262337737728986,\n",
       " 'sqft_price_zip_avg': 0.74378014598476083,\n",
       " 'sqft_zip_avg': 0.01523071986865601,\n",
       " 'view': 0.14640347896467293}"
      ]
     },
     "execution_count": 28,
     "metadata": {},
     "output_type": "execute_result"
    }
   ],
   "source": [
    "plot_correlation(df_last_year_valid, 'sqft_price', features)"
   ]
  },
  {
   "cell_type": "markdown",
   "metadata": {
    "collapsed": true
   },
   "source": [
    "### correlation matrix of delivered features"
   ]
  },
  {
   "cell_type": "code",
   "execution_count": 14,
   "metadata": {},
   "outputs": [
    {
     "data": {
      "image/png": "[encoded data removed]",
      "text/plain": [
       "<matplotlib.figure.Figure at 0x15db30f04a8>"
      ]
     },
     "metadata": {},
     "output_type": "display_data"
    }
   ],
   "source": [
    "corr_features = list(features)\n",
    "corr_features = pp.get_feature_list()\n",
    "corrmat = df_last_year_valid[corr_features].corr(method='spearman')\n",
    "f, ax = plt.subplots(figsize=(8, 8))\n",
    "# Draw the heatmap using seaborn\n",
    "sns.heatmap(corrmat, vmax=1., square=True)\n",
    "plt.title(\"Important features correlation map\", fontsize=15)\n",
    "plt.show()"
   ]
  }
 ],
 "metadata": {
  "kernelspec": {
   "display_name": "Python 3",
   "language": "python",
   "name": "python3"
  },
  "language_info": {
   "codemirror_mode": {
    "name": "ipython",
    "version": 3
   },
   "file_extension": ".py",
   "mimetype": "text/x-python",
   "name": "python",
   "nbconvert_exporter": "python",
   "pygments_lexer": "ipython3",
   "version": "3.5.0"
  }
 },
 "nbformat": 4,
 "nbformat_minor": 2
}
