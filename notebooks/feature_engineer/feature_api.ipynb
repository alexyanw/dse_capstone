{
 "cells": [
  {
   "cell_type": "markdown",
   "metadata": {},
   "source": [
    "## descriptive data exploration\n",
    "* study the trending of correlation\n",
    "\n",
    "### feature ranking\n",
    "* correlation btw each feature and unit price\n",
    "* random forest ranking\n"
   ]
  },
  {
   "cell_type": "code",
   "execution_count": 20,
   "metadata": {},
   "outputs": [
    {
     "name": "stdout",
     "output_type": "stream",
     "text": [
      "The autoreload extension is already loaded. To reload it, use:\n",
      "  %reload_ext autoreload\n"
     ]
    }
   ],
   "source": [
    "%load_ext autoreload\n",
    "# always reload modules marked with \"%aimport\"\n",
    "%autoreload 1\n",
    "\n",
    "import os,sys\n",
    "import numpy as np\n",
    "import pandas as pd\n",
    "\n",
    "# add the 'src' directory as one where we can import modules\n",
    "src_dir = os.path.join(os.getcwd(), '../..', 'src')\n",
    "sys.path.append(src_dir)\n",
    "\n",
    "%aimport plot_utils\n",
    "from plot_utils import *\n",
    "%aimport preprocessing\n",
    "from preprocessing import *\n",
    "%aimport data_source\n",
    "from data_source import *"
   ]
  },
  {
   "cell_type": "code",
   "execution_count": 2,
   "metadata": {},
   "outputs": [
    {
     "name": "stdout",
     "output_type": "stream",
     "text": [
      "connect to database postgresql://postgres:@localhost:5432/sdra\n",
      "['properties', 'property_features', 'transactions', 'property_addresses', 'property_address_transactions', 'property_estimate']\n",
      "execute  c:\\wenyan\\dse_capstone\\database\\preprocess.sql\n",
      "(1512560, 16)\n",
      "(709325, 7)\n"
     ]
    }
   ],
   "source": [
    "ds = DataSource(host='localhost',port=5432, username='postgres', password='', database='sdra')\n",
    "ds.show_views()\n",
    "ds.update_views()\n",
    "\n",
    "df_transaction = ds.get_view_df('property_address_transactions')\n",
    "df_property = ds.get_view_df('property_addresses')\n",
    "print(df_transaction.shape)\n",
    "print(df_property.shape)"
   ]
  },
  {
   "cell_type": "markdown",
   "metadata": {},
   "source": [
    "### 2 ways to instance Preprocess\n",
    "#### instance with DataSource\n",
    "* dataframes will be loaded from database\n",
    "* dataframes will be joined to extract various features\n",
    "#### instance with existing dataframe\n",
    "* avoid loading data from database\n",
    "\n",
    "### pp.dataset(feature='delivered', valid=True)\n",
    "* by default without any param, dataset func will load all features including delivered and underwork and all records\n",
    "* feature: delivered, underwork, all\n",
    "* valid=True: only valid records, outliers and invalid values are removed"
   ]
  },
  {
   "cell_type": "code",
   "execution_count": 9,
   "metadata": {},
   "outputs": [
    {
     "name": "stdout",
     "output_type": "stream",
     "text": [
      "transforming view\n",
      "transforming pool\n",
      "transforming date\n",
      "transforming year_built\n",
      "transforming sold_year\n",
      "transforming sold_age\n",
      "making sqft_zip_avg\n",
      "making sqft_price_zip_avg\n",
      "making sold_price_zip_avg\n",
      "making sale_count_zip\n",
      "making prop_count_zip\n",
      "Warning: feature 'prop_count_zip' is missing due to preprocess doesn't have df_property\n"
     ]
    }
   ],
   "source": [
    "pp = Preprocess(source=ds, transaction='property_address_transactions', property='property_addresses')\n",
    "df_all_valid = pp.dataset(feature='delivered', valid=True)"
   ]
  },
  {
   "cell_type": "code",
   "execution_count": 10,
   "metadata": {},
   "outputs": [
    {
     "name": "stdout",
     "output_type": "stream",
     "text": [
      "(1446992, 9)\n"
     ]
    },
    {
     "data": {
      "text/html": [
       "<div>\n",
       "<style>\n",
       "    .dataframe thead tr:only-child th {\n",
       "        text-align: right;\n",
       "    }\n",
       "\n",
       "    .dataframe thead th {\n",
       "        text-align: left;\n",
       "    }\n",
       "\n",
       "    .dataframe tbody tr th {\n",
       "        vertical-align: top;\n",
       "    }\n",
       "</style>\n",
       "<table border=\"1\" class=\"dataframe\">\n",
       "  <thead>\n",
       "    <tr style=\"text-align: right;\">\n",
       "      <th></th>\n",
       "      <th>sqft_zip_avg</th>\n",
       "      <th>num_bath</th>\n",
       "      <th>sqft</th>\n",
       "      <th>num_bed</th>\n",
       "      <th>pool</th>\n",
       "      <th>view</th>\n",
       "      <th>sqft_price</th>\n",
       "      <th>sold_price_zip_avg</th>\n",
       "      <th>sqft_price_zip_avg</th>\n",
       "    </tr>\n",
       "  </thead>\n",
       "  <tbody>\n",
       "    <tr>\n",
       "      <th>0</th>\n",
       "      <td>1490.440277</td>\n",
       "      <td>1.0</td>\n",
       "      <td>1120</td>\n",
       "      <td>3.0</td>\n",
       "      <td>0</td>\n",
       "      <td>0</td>\n",
       "      <td>399</td>\n",
       "      <td>213934.491731</td>\n",
       "      <td>146.430716</td>\n",
       "    </tr>\n",
       "    <tr>\n",
       "      <th>1</th>\n",
       "      <td>1490.440277</td>\n",
       "      <td>2.0</td>\n",
       "      <td>1050</td>\n",
       "      <td>3.0</td>\n",
       "      <td>0</td>\n",
       "      <td>1</td>\n",
       "      <td>314</td>\n",
       "      <td>213934.491731</td>\n",
       "      <td>146.430716</td>\n",
       "    </tr>\n",
       "    <tr>\n",
       "      <th>2</th>\n",
       "      <td>1490.440277</td>\n",
       "      <td>2.0</td>\n",
       "      <td>1204</td>\n",
       "      <td>3.0</td>\n",
       "      <td>0</td>\n",
       "      <td>0</td>\n",
       "      <td>423</td>\n",
       "      <td>213934.491731</td>\n",
       "      <td>146.430716</td>\n",
       "    </tr>\n",
       "  </tbody>\n",
       "</table>\n",
       "</div>"
      ],
      "text/plain": [
       "   sqft_zip_avg  num_bath  sqft  num_bed  pool  view  sqft_price  \\\n",
       "0   1490.440277       1.0  1120      3.0     0     0         399   \n",
       "1   1490.440277       2.0  1050      3.0     0     1         314   \n",
       "2   1490.440277       2.0  1204      3.0     0     0         423   \n",
       "\n",
       "   sold_price_zip_avg  sqft_price_zip_avg  \n",
       "0       213934.491731          146.430716  \n",
       "1       213934.491731          146.430716  \n",
       "2       213934.491731          146.430716  "
      ]
     },
     "execution_count": 10,
     "metadata": {},
     "output_type": "execute_result"
    }
   ],
   "source": [
    "print(df_all_valid.shape)\n",
    "df_all_valid[:3]"
   ]
  },
  {
   "cell_type": "code",
   "execution_count": 21,
   "metadata": {},
   "outputs": [
    {
     "name": "stdout",
     "output_type": "stream",
     "text": [
      "transforming view\n",
      "transforming pool\n",
      "transforming date\n",
      "transforming year_built\n",
      "transforming sold_year\n",
      "transforming sold_age\n",
      "making sqft_zip_avg\n",
      "making sqft_price_zip_avg\n",
      "making sold_price_zip_avg\n",
      "making sale_count_zip\n",
      "making prop_count_zip\n",
      "(1446992, 9)\n"
     ]
    },
    {
     "data": {
      "text/html": [
       "<div>\n",
       "<style>\n",
       "    .dataframe thead tr:only-child th {\n",
       "        text-align: right;\n",
       "    }\n",
       "\n",
       "    .dataframe thead th {\n",
       "        text-align: left;\n",
       "    }\n",
       "\n",
       "    .dataframe tbody tr th {\n",
       "        vertical-align: top;\n",
       "    }\n",
       "</style>\n",
       "<table border=\"1\" class=\"dataframe\">\n",
       "  <thead>\n",
       "    <tr style=\"text-align: right;\">\n",
       "      <th></th>\n",
       "      <th>sqft_zip_avg</th>\n",
       "      <th>num_bath</th>\n",
       "      <th>sqft</th>\n",
       "      <th>num_bed</th>\n",
       "      <th>pool</th>\n",
       "      <th>view</th>\n",
       "      <th>sqft_price</th>\n",
       "      <th>sold_price_zip_avg</th>\n",
       "      <th>sqft_price_zip_avg</th>\n",
       "    </tr>\n",
       "  </thead>\n",
       "  <tbody>\n",
       "    <tr>\n",
       "      <th>0</th>\n",
       "      <td>1490.440277</td>\n",
       "      <td>1.0</td>\n",
       "      <td>1120</td>\n",
       "      <td>3.0</td>\n",
       "      <td>0</td>\n",
       "      <td>0</td>\n",
       "      <td>399</td>\n",
       "      <td>213934.491731</td>\n",
       "      <td>146.430716</td>\n",
       "    </tr>\n",
       "    <tr>\n",
       "      <th>1</th>\n",
       "      <td>1490.440277</td>\n",
       "      <td>2.0</td>\n",
       "      <td>1050</td>\n",
       "      <td>3.0</td>\n",
       "      <td>0</td>\n",
       "      <td>1</td>\n",
       "      <td>314</td>\n",
       "      <td>213934.491731</td>\n",
       "      <td>146.430716</td>\n",
       "    </tr>\n",
       "    <tr>\n",
       "      <th>2</th>\n",
       "      <td>1490.440277</td>\n",
       "      <td>2.0</td>\n",
       "      <td>1204</td>\n",
       "      <td>3.0</td>\n",
       "      <td>0</td>\n",
       "      <td>0</td>\n",
       "      <td>423</td>\n",
       "      <td>213934.491731</td>\n",
       "      <td>146.430716</td>\n",
       "    </tr>\n",
       "  </tbody>\n",
       "</table>\n",
       "</div>"
      ],
      "text/plain": [
       "   sqft_zip_avg  num_bath  sqft  num_bed  pool  view  sqft_price  \\\n",
       "0   1490.440277       1.0  1120      3.0     0     0         399   \n",
       "1   1490.440277       2.0  1050      3.0     0     1         314   \n",
       "2   1490.440277       2.0  1204      3.0     0     0         423   \n",
       "\n",
       "   sold_price_zip_avg  sqft_price_zip_avg  \n",
       "0       213934.491731          146.430716  \n",
       "1       213934.491731          146.430716  \n",
       "2       213934.491731          146.430716  "
      ]
     },
     "execution_count": 21,
     "metadata": {},
     "output_type": "execute_result"
    }
   ],
   "source": [
    "# instance with existing dataframe\n",
    "pp1 = Preprocess(df_transaction, df_property)\n",
    "df_all_valid1 = pp1.dataset(feature='delivered', valid=True)\n",
    "print(df_all_valid1.shape)\n",
    "df_all_valid1[:3]"
   ]
  },
  {
   "cell_type": "code",
   "execution_count": null,
   "metadata": {
    "collapsed": true
   },
   "outputs": [],
   "source": []
  }
 ],
 "metadata": {
  "kernelspec": {
   "display_name": "Python 3",
   "language": "python",
   "name": "python3"
  },
  "language_info": {
   "codemirror_mode": {
    "name": "ipython",
    "version": 3
   },
   "file_extension": ".py",
   "mimetype": "text/x-python",
   "name": "python",
   "nbconvert_exporter": "python",
   "pygments_lexer": "ipython3",
   "version": "3.5.0"
  }
 },
 "nbformat": 4,
 "nbformat_minor": 2
}
