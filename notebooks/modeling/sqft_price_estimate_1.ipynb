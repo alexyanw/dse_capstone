{
 "cells": [
  {
   "cell_type": "markdown",
   "metadata": {},
   "source": [
    "## modeling of estimation on sqft price"
   ]
  },
  {
   "cell_type": "code",
   "execution_count": 5,
   "metadata": {},
   "outputs": [
    {
     "name": "stdout",
     "output_type": "stream",
     "text": [
      "The autoreload extension is already loaded. To reload it, use:\n",
      "  %reload_ext autoreload\n"
     ]
    }
   ],
   "source": [
    "%load_ext autoreload\n",
    "# always reload modules marked with \"%aimport\"\n",
    "%autoreload 1\n",
    "\n",
    "import os,sys\n",
    "import numpy as np\n",
    "import pandas as pd\n",
    "\n",
    "# add the 'src' directory as one where we can import modules\n",
    "src_dir = os.path.join(os.getcwd(), '../..', 'src')\n",
    "sys.path.append(src_dir)\n",
    "\n",
    "%aimport plot_utils\n",
    "from plot_utils import *\n",
    "%aimport preprocessing\n",
    "from preprocessing import *\n",
    "%aimport data_source\n",
    "from data_source import *"
   ]
  },
  {
   "cell_type": "markdown",
   "metadata": {},
   "source": [
    "### DataSource \n",
    "* This module loads data from database\n",
    "* Auto update views by executing database/preprocess.sql"
   ]
  },
  {
   "cell_type": "code",
   "execution_count": 6,
   "metadata": {},
   "outputs": [
    {
     "name": "stdout",
     "output_type": "stream",
     "text": [
      "connect to database postgresql://postgres:@localhost:5432/sdra\n",
      "['properties', 'property_features', 'transactions', 'property_addresses', 'property_address_transactions', 'property_estimate']\n",
      "execute  c:\\wenyan\\dse_capstone\\database\\preprocess.sql\n"
     ]
    }
   ],
   "source": [
    "ds = DataSource(host='localhost',port=5432, username='postgres', password='', database='sdra')\n",
    "ds.show_views()\n",
    "ds.update_views()"
   ]
  },
  {
   "cell_type": "markdown",
   "metadata": {},
   "source": [
    "### Preprocess\n",
    "* This module will deliver the valid dataset with finished features"
   ]
  },
  {
   "cell_type": "code",
   "execution_count": 7,
   "metadata": {},
   "outputs": [
    {
     "name": "stdout",
     "output_type": "stream",
     "text": [
      "(1512560, 13)\n",
      "converting view\n",
      "converting pool\n",
      "converting date\n",
      "converting year_built\n",
      "Index(['num_bath', 'date', 'pool', 'year_built', 'sqft', 'sqft_price',\n",
      "       'sold_price', 'num_bed', 'view'],\n",
      "      dtype='object')\n",
      "converting sold_year\n",
      "converting sold_age\n",
      "converting view\n",
      "converting pool\n",
      "converting date\n"
     ]
    }
   ],
   "source": [
    "df_view = ds.get_view_df('property_estimate')\n",
    "pp = Preprocess(df_view)\n",
    "df_all = pp.dataset()\n",
    "df_all_valid = pp.dataset(feature='delivered', valid=True)"
   ]
  },
  {
   "cell_type": "code",
   "execution_count": 8,
   "metadata": {},
   "outputs": [
    {
     "name": "stdout",
     "output_type": "stream",
     "text": [
      "(1512560, 11)\n",
      "(1446992, 7)\n"
     ]
    }
   ],
   "source": [
    "print(df_all.shape)\n",
    "print(df_all_valid.shape)"
   ]
  },
  {
   "cell_type": "markdown",
   "metadata": {},
   "source": [
    "### dataset for modeling\n",
    "* suggest to use valid dataset - df_all_valid\n",
    "* (not suggested) can also try df_all - all data with all features"
   ]
  },
  {
   "cell_type": "code",
   "execution_count": 9,
   "metadata": {},
   "outputs": [
    {
     "name": "stdout",
     "output_type": "stream",
     "text": [
      "2017-10-24 00:00:00\n"
     ]
    }
   ],
   "source": [
    "# check the date of last transaction\n",
    "print(df_all_valid['date'].max())"
   ]
  },
  {
   "cell_type": "code",
   "execution_count": 10,
   "metadata": {},
   "outputs": [
    {
     "data": {
      "text/plain": [
       "(37881, 7)"
      ]
     },
     "execution_count": 10,
     "metadata": {},
     "output_type": "execute_result"
    }
   ],
   "source": [
    "# get only transactions in last one year\n",
    "df_last_year = df_all_valid[(df_all_valid['date'] >= '2016-10-01') & (df_all_valid['date'] < '2017-10-01')]\n",
    "df_last_year.shape"
   ]
  },
  {
   "cell_type": "markdown",
   "metadata": {},
   "source": [
    "### regression model \n",
    "* target: sqft_price\n",
    "* features: ...\n",
    "* data set: last 1 year, 2 years, ...\n",
    "* try different models"
   ]
  }
 ],
 "metadata": {
  "kernelspec": {
   "display_name": "Python 3",
   "language": "python",
   "name": "python3"
  },
  "language_info": {
   "codemirror_mode": {
    "name": "ipython",
    "version": 3
   },
   "file_extension": ".py",
   "mimetype": "text/x-python",
   "name": "python",
   "nbconvert_exporter": "python",
   "pygments_lexer": "ipython3",
   "version": "3.5.0"
  }
 },
 "nbformat": 4,
 "nbformat_minor": 2
}
