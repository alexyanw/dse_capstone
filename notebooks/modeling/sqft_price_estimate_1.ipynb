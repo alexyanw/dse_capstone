{
 "cells": [
  {
   "cell_type": "markdown",
   "metadata": {},
   "source": [
    "## modeling of estimation on sqft price"
   ]
  },
  {
   "cell_type": "code",
   "execution_count": 1,
   "metadata": {
    "collapsed": true
   },
   "outputs": [],
   "source": [
    "import os,sys\n",
    "from sqlalchemy import create_engine\n",
    "import numpy as np\n",
    "import pandas as pd\n",
    "\n",
    "cwd = os.getcwd()\n",
    "lib_path = os.path.abspath(os.path.join(cwd, 'lib'))\n",
    "sys.path.append(lib_path)\n",
    "from plot_utils import *\n",
    "\n",
    "ServerName = \"localhost\"\n",
    "Database = \"sdra\"\n",
    "engine = create_engine('postgresql://postgres:@' + ServerName + ':5432/' + Database)"
   ]
  },
  {
   "cell_type": "markdown",
   "metadata": {},
   "source": [
    "### dataset basics"
   ]
  },
  {
   "cell_type": "code",
   "execution_count": 9,
   "metadata": {},
   "outputs": [
    {
     "name": "stdout",
     "output_type": "stream",
     "text": [
      "(1449003, 16)\n"
     ]
    },
    {
     "data": {
      "text/html": [
       "<div>\n",
       "<style>\n",
       "    .dataframe thead tr:only-child th {\n",
       "        text-align: right;\n",
       "    }\n",
       "\n",
       "    .dataframe thead th {\n",
       "        text-align: left;\n",
       "    }\n",
       "\n",
       "    .dataframe tbody tr th {\n",
       "        vertical-align: top;\n",
       "    }\n",
       "</style>\n",
       "<table border=\"1\" class=\"dataframe\">\n",
       "  <thead>\n",
       "    <tr style=\"text-align: right;\">\n",
       "      <th></th>\n",
       "      <th>pin</th>\n",
       "      <th>year_built</th>\n",
       "      <th>sqft</th>\n",
       "      <th>num_bed</th>\n",
       "      <th>num_bath</th>\n",
       "      <th>pool</th>\n",
       "      <th>view</th>\n",
       "      <th>street</th>\n",
       "      <th>city</th>\n",
       "      <th>zip</th>\n",
       "      <th>sold_price</th>\n",
       "      <th>date</th>\n",
       "      <th>sold_age</th>\n",
       "      <th>sqft_price</th>\n",
       "      <th>sold_year</th>\n",
       "      <th>sold_month</th>\n",
       "    </tr>\n",
       "  </thead>\n",
       "  <tbody>\n",
       "    <tr>\n",
       "      <th>0</th>\n",
       "      <td>5754330300</td>\n",
       "      <td>1955.0</td>\n",
       "      <td>1120</td>\n",
       "      <td>3.0</td>\n",
       "      <td>15.0</td>\n",
       "      <td>N</td>\n",
       "      <td>N</td>\n",
       "      <td>HILLTOP</td>\n",
       "      <td>CHULA VISTA</td>\n",
       "      <td>91911</td>\n",
       "      <td>447000</td>\n",
       "      <td>2017-10-24</td>\n",
       "      <td>62.0</td>\n",
       "      <td>399</td>\n",
       "      <td>2017</td>\n",
       "      <td>10</td>\n",
       "    </tr>\n",
       "    <tr>\n",
       "      <th>1</th>\n",
       "      <td>1657014212</td>\n",
       "      <td>1993.0</td>\n",
       "      <td>1016</td>\n",
       "      <td>2.0</td>\n",
       "      <td>20.0</td>\n",
       "      <td>None</td>\n",
       "      <td>None</td>\n",
       "      <td>GENOA</td>\n",
       "      <td>OCEANSIDE</td>\n",
       "      <td>92056</td>\n",
       "      <td>397000</td>\n",
       "      <td>2017-10-19</td>\n",
       "      <td>24.0</td>\n",
       "      <td>390</td>\n",
       "      <td>2017</td>\n",
       "      <td>10</td>\n",
       "    </tr>\n",
       "    <tr>\n",
       "      <th>2</th>\n",
       "      <td>5741930100</td>\n",
       "      <td>1960.0</td>\n",
       "      <td>1893</td>\n",
       "      <td>3.0</td>\n",
       "      <td>20.0</td>\n",
       "      <td>Y</td>\n",
       "      <td>N</td>\n",
       "      <td>ROBERT</td>\n",
       "      <td>CHULA VISTA</td>\n",
       "      <td>91910</td>\n",
       "      <td>547000</td>\n",
       "      <td>2017-09-27</td>\n",
       "      <td>57.0</td>\n",
       "      <td>288</td>\n",
       "      <td>2017</td>\n",
       "      <td>9</td>\n",
       "    </tr>\n",
       "  </tbody>\n",
       "</table>\n",
       "</div>"
      ],
      "text/plain": [
       "          pin  year_built  sqft  num_bed  num_bath  pool  view   street  \\\n",
       "0  5754330300      1955.0  1120      3.0      15.0     N     N  HILLTOP   \n",
       "1  1657014212      1993.0  1016      2.0      20.0  None  None    GENOA   \n",
       "2  5741930100      1960.0  1893      3.0      20.0     Y     N   ROBERT   \n",
       "\n",
       "          city    zip  sold_price       date  sold_age  sqft_price  sold_year  \\\n",
       "0  CHULA VISTA  91911      447000 2017-10-24      62.0         399       2017   \n",
       "1    OCEANSIDE  92056      397000 2017-10-19      24.0         390       2017   \n",
       "2  CHULA VISTA  91910      547000 2017-09-27      57.0         288       2017   \n",
       "\n",
       "   sold_month  \n",
       "0          10  \n",
       "1          10  \n",
       "2           9  "
      ]
     },
     "execution_count": 9,
     "metadata": {},
     "output_type": "execute_result"
    }
   ],
   "source": [
    "# all valid transactions of valid property with addresses\n",
    "sql = '''SELECT * FROM property_estimate'''\n",
    "df_all = pd.read_sql_query(sql, engine)\n",
    "df_all['date'] = pd.to_datetime(df_all['date'])\n",
    "df_all['sold_year'], df_all['sold_month'] = df_all['date'].dt.year, df_all['date'].dt.month\n",
    "print(df_all.shape)\n",
    "df_all[:3]"
   ]
  },
  {
   "cell_type": "markdown",
   "metadata": {},
   "source": [
    "### more cleaning can be done here\n",
    "* eg. feature year_built are not clean yet\n",
    "* filter out sqft_price >= 1000"
   ]
  },
  {
   "cell_type": "code",
   "execution_count": 10,
   "metadata": {},
   "outputs": [
    {
     "data": {
      "text/plain": [
       "(1444802, 16)"
      ]
     },
     "execution_count": 10,
     "metadata": {},
     "output_type": "execute_result"
    }
   ],
   "source": [
    "df_all_valid = df_all[(df_all['sqft_price']<1000)\n",
    "                    &(df_all['year_built'] > 0)\n",
    "                    ]\n",
    "df_all_valid.shape"
   ]
  },
  {
   "cell_type": "code",
   "execution_count": 13,
   "metadata": {},
   "outputs": [
    {
     "name": "stdout",
     "output_type": "stream",
     "text": [
      "2017-10-24 00:00:00\n"
     ]
    }
   ],
   "source": [
    "# check the date of last transaction\n",
    "print(df_all_valid['date'].max())"
   ]
  },
  {
   "cell_type": "code",
   "execution_count": 14,
   "metadata": {},
   "outputs": [
    {
     "data": {
      "text/plain": [
       "(37508, 16)"
      ]
     },
     "execution_count": 14,
     "metadata": {},
     "output_type": "execute_result"
    }
   ],
   "source": [
    "# get only transactions in last one year\n",
    "df_last_year = df_all_valid[(df_all_valid['date'] >= '2016-10-01') & (df_all_valid['date'] < '2017-10-01')]\n",
    "df_last_year.shape"
   ]
  },
  {
   "cell_type": "markdown",
   "metadata": {},
   "source": [
    "### regression model \n",
    "* target: sqft_price\n",
    "* features: ...\n",
    "* data set: last 1 year, 2 years, ...\n",
    "* try different models"
   ]
  }
 ],
 "metadata": {
  "kernelspec": {
   "display_name": "Python 3",
   "language": "python",
   "name": "python3"
  },
  "language_info": {
   "codemirror_mode": {
    "name": "ipython",
    "version": 3
   },
   "file_extension": ".py",
   "mimetype": "text/x-python",
   "name": "python",
   "nbconvert_exporter": "python",
   "pygments_lexer": "ipython3",
   "version": "3.5.0"
  }
 },
 "nbformat": 4,
 "nbformat_minor": 2
}
