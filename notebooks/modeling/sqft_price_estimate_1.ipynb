{
 "cells": [
  {
   "cell_type": "markdown",
   "metadata": {},
   "source": [
    "## modeling of estimation on sqft price"
   ]
  },
  {
   "cell_type": "code",
   "execution_count": 6,
   "metadata": {},
   "outputs": [
    {
     "name": "stdout",
     "output_type": "stream",
     "text": [
      "The autoreload extension is already loaded. To reload it, use:\n",
      "  %reload_ext autoreload\n"
     ]
    }
   ],
   "source": [
    "%load_ext autoreload\n",
    "# always reload modules marked with \"%aimport\"\n",
    "%autoreload 1\n",
    "\n",
    "import os,sys\n",
    "import numpy as np\n",
    "import pandas as pd\n",
    "\n",
    "# add the 'src' directory as one where we can import modules\n",
    "src_dir = os.path.join(os.getcwd(), '../..', 'src')\n",
    "sys.path.append(src_dir)\n",
    "\n",
    "%aimport plot_utils\n",
    "from plot_utils import *\n",
    "%aimport preprocessing\n",
    "from preprocessing import *\n",
    "%aimport data_source\n",
    "from data_source import *"
   ]
  },
  {
   "cell_type": "markdown",
   "metadata": {},
   "source": [
    "### DataSource \n",
    "* This module loads data from database\n",
    "* Auto update views by executing database/preprocess.sql"
   ]
  },
  {
   "cell_type": "code",
   "execution_count": 2,
   "metadata": {},
   "outputs": [
    {
     "name": "stdout",
     "output_type": "stream",
     "text": [
      "connect to database postgresql://postgres:@localhost:5432/sdra\n",
      "['properties', 'property_features', 'transactions', 'property_addresses', 'property_address_transactions', 'property_estimate']\n",
      "execute  c:\\wenyan\\dse_capstone\\database\\preprocess.sql\n"
     ]
    }
   ],
   "source": [
    "ds = DataSource(host='localhost',port=5432, username='postgres', password='', database='sdra')\n",
    "ds.show_views()\n",
    "ds.update_views()"
   ]
  },
  {
   "cell_type": "markdown",
   "metadata": {},
   "source": [
    "### Preprocess\n",
    "* This module will deliver the valid dataset with finished features"
   ]
  },
  {
   "cell_type": "code",
   "execution_count": 8,
   "metadata": {},
   "outputs": [
    {
     "name": "stdout",
     "output_type": "stream",
     "text": [
      "connect to database postgresql://postgres:@localhost:5432/sdra\n",
      "['properties', 'property_features', 'transactions', 'property_addresses', 'property_address_transactions', 'property_estimate']\n",
      "execute  c:\\wenyan\\dse_capstone\\database\\preprocess.sql\n",
      "(1512560, 16)\n",
      "(709325, 7)\n"
     ]
    }
   ],
   "source": [
    "ds = DataSource(host='localhost',port=5432, username='postgres', password='', database='sdra')\n",
    "ds.show_views()\n",
    "ds.update_views()\n",
    "\n",
    "df_transaction = ds.get_view_df('property_address_transactions')\n",
    "df_property = ds.get_view_df('property_addresses')\n",
    "print(df_transaction.shape)\n",
    "print(df_property.shape)"
   ]
  },
  {
   "cell_type": "code",
   "execution_count": 10,
   "metadata": {
    "collapsed": true
   },
   "outputs": [],
   "source": [
    "pp = Preprocess(df_transaction, df_property)"
   ]
  },
  {
   "cell_type": "markdown",
   "metadata": {},
   "source": [
    "### dataset for modeling\n",
    "Preprocess.dataset(feature='delivered', valid=True)\n",
    "* suggest using: feature='delivered', otherwise all features including non-solid features will be included\n",
    "* suggest using: valid=True, otherwise outliers and invalid feature values will be  included\n",
    "* date range can be specified"
   ]
  },
  {
   "cell_type": "code",
   "execution_count": 11,
   "metadata": {},
   "outputs": [
    {
     "name": "stdout",
     "output_type": "stream",
     "text": [
      "transforming view\n",
      "transforming pool\n",
      "transforming date\n",
      "transforming year_built\n",
      "transforming sold_year\n",
      "transforming sold_age\n",
      "making sqft_zip_avg\n",
      "making sqft_price_zip_avg\n",
      "making sold_price_zip_avg\n",
      "making sale_count_zip\n",
      "making prop_count_zip\n"
     ]
    }
   ],
   "source": [
    "# records of all years\n",
    "df_all_valid = pp.dataset(feature='delivered', valid=True)"
   ]
  },
  {
   "cell_type": "code",
   "execution_count": 12,
   "metadata": {},
   "outputs": [
    {
     "name": "stdout",
     "output_type": "stream",
     "text": [
      "transforming view\n",
      "transforming pool\n",
      "transforming date\n",
      "transforming year_built\n",
      "transforming sold_year\n",
      "transforming sold_age\n",
      "making sqft_zip_avg\n",
      "making sqft_price_zip_avg\n",
      "making sold_price_zip_avg\n",
      "making sale_count_zip\n",
      "making prop_count_zip\n"
     ]
    },
    {
     "data": {
      "text/plain": [
       "(37881, 9)"
      ]
     },
     "execution_count": 12,
     "metadata": {},
     "output_type": "execute_result"
    }
   ],
   "source": [
    "# records of last year\n",
    "df_last_year_valid = pp.dataset(feature='delivered', valid=True, date=('2016-10-01', '2017-10-01'))\n",
    "df_last_year_valid.shape"
   ]
  },
  {
   "cell_type": "code",
   "execution_count": 15,
   "metadata": {},
   "outputs": [
    {
     "data": {
      "text/html": [
       "<div>\n",
       "<style>\n",
       "    .dataframe thead tr:only-child th {\n",
       "        text-align: right;\n",
       "    }\n",
       "\n",
       "    .dataframe thead th {\n",
       "        text-align: left;\n",
       "    }\n",
       "\n",
       "    .dataframe tbody tr th {\n",
       "        vertical-align: top;\n",
       "    }\n",
       "</style>\n",
       "<table border=\"1\" class=\"dataframe\">\n",
       "  <thead>\n",
       "    <tr style=\"text-align: right;\">\n",
       "      <th></th>\n",
       "      <th>view</th>\n",
       "      <th>sqft_price</th>\n",
       "      <th>pool</th>\n",
       "      <th>sqft_price_zip_avg</th>\n",
       "      <th>sqft</th>\n",
       "      <th>num_bed</th>\n",
       "      <th>sold_price_zip_avg</th>\n",
       "      <th>num_bath</th>\n",
       "      <th>sqft_zip_avg</th>\n",
       "    </tr>\n",
       "  </thead>\n",
       "  <tbody>\n",
       "    <tr>\n",
       "      <th>0</th>\n",
       "      <td>1</td>\n",
       "      <td>243</td>\n",
       "      <td>0</td>\n",
       "      <td>257.241848</td>\n",
       "      <td>3580</td>\n",
       "      <td>4.0</td>\n",
       "      <td>412059.782609</td>\n",
       "      <td>2.0</td>\n",
       "      <td>1662.940217</td>\n",
       "    </tr>\n",
       "    <tr>\n",
       "      <th>1</th>\n",
       "      <td>0</td>\n",
       "      <td>213</td>\n",
       "      <td>0</td>\n",
       "      <td>257.241848</td>\n",
       "      <td>2785</td>\n",
       "      <td>3.0</td>\n",
       "      <td>412059.782609</td>\n",
       "      <td>2.0</td>\n",
       "      <td>1662.940217</td>\n",
       "    </tr>\n",
       "    <tr>\n",
       "      <th>2</th>\n",
       "      <td>0</td>\n",
       "      <td>260</td>\n",
       "      <td>0</td>\n",
       "      <td>257.241848</td>\n",
       "      <td>1822</td>\n",
       "      <td>4.0</td>\n",
       "      <td>412059.782609</td>\n",
       "      <td>2.0</td>\n",
       "      <td>1662.940217</td>\n",
       "    </tr>\n",
       "  </tbody>\n",
       "</table>\n",
       "</div>"
      ],
      "text/plain": [
       "   view  sqft_price  pool  sqft_price_zip_avg  sqft  num_bed  \\\n",
       "0     1         243     0          257.241848  3580      4.0   \n",
       "1     0         213     0          257.241848  2785      3.0   \n",
       "2     0         260     0          257.241848  1822      4.0   \n",
       "\n",
       "   sold_price_zip_avg  num_bath  sqft_zip_avg  \n",
       "0       412059.782609       2.0   1662.940217  \n",
       "1       412059.782609       2.0   1662.940217  \n",
       "2       412059.782609       2.0   1662.940217  "
      ]
     },
     "execution_count": 15,
     "metadata": {},
     "output_type": "execute_result"
    }
   ],
   "source": [
    "df_last_year_valid[:3]"
   ]
  },
  {
   "cell_type": "code",
   "execution_count": 13,
   "metadata": {},
   "outputs": [
    {
     "name": "stdout",
     "output_type": "stream",
     "text": [
      "transforming view\n",
      "transforming pool\n",
      "transforming date\n",
      "transforming year_built\n",
      "transforming sold_year\n",
      "transforming sold_age\n",
      "making sqft_zip_avg\n",
      "making sqft_price_zip_avg\n",
      "making sold_price_zip_avg\n",
      "making sale_count_zip\n",
      "making prop_count_zip\n"
     ]
    },
    {
     "data": {
      "text/plain": [
       "(76689, 9)"
      ]
     },
     "execution_count": 13,
     "metadata": {},
     "output_type": "execute_result"
    }
   ],
   "source": [
    "# records of last 2 years\n",
    "df_last_2year_valid = pp.dataset(feature='delivered', valid=True, date=('2015-10-01', '2017-10-01'))\n",
    "df_last_2year_valid.shape"
   ]
  },
  {
   "cell_type": "code",
   "execution_count": 14,
   "metadata": {},
   "outputs": [
    {
     "name": "stdout",
     "output_type": "stream",
     "text": [
      "transforming view\n",
      "transforming pool\n",
      "transforming date\n",
      "transforming year_built\n",
      "transforming sold_year\n",
      "transforming sold_age\n",
      "making sqft_zip_avg\n",
      "making sqft_price_zip_avg\n",
      "making sold_price_zip_avg\n",
      "making sale_count_zip\n",
      "making prop_count_zip\n"
     ]
    },
    {
     "data": {
      "text/plain": [
       "(111380, 9)"
      ]
     },
     "execution_count": 14,
     "metadata": {},
     "output_type": "execute_result"
    }
   ],
   "source": [
    "# records of last 3 years\n",
    "df_last_3year_valid = pp.dataset(feature='delivered', valid=True, date=('2014-10-01', '2017-10-01'))\n",
    "df_last_3year_valid.shape"
   ]
  },
  {
   "cell_type": "markdown",
   "metadata": {},
   "source": [
    "### regression model\n",
    "* target: sqft_price\n",
    "* try various features combination: ...\n",
    "* try different dataset size: last 1 year, 2 years, ...\n",
    "* try different models: LinearRegression, RandomForestRegression, ..."
   ]
  },
  {
   "cell_type": "code",
   "execution_count": null,
   "metadata": {
    "collapsed": true
   },
   "outputs": [],
   "source": []
  }
 ],
 "metadata": {
  "kernelspec": {
   "display_name": "Python 3",
   "language": "python",
   "name": "python3"
  },
  "language_info": {
   "codemirror_mode": {
    "name": "ipython",
    "version": 3
   },
   "file_extension": ".py",
   "mimetype": "text/x-python",
   "name": "python",
   "nbconvert_exporter": "python",
   "pygments_lexer": "ipython3",
   "version": "3.5.0"
  }
 },
 "nbformat": 4,
 "nbformat_minor": 2
}
