{
 "cells": [
  {
   "cell_type": "code",
   "execution_count": 1,
   "metadata": {},
   "outputs": [],
   "source": [
    "%load_ext autoreload\n",
    "# always reload modules marked with \"%aimport\"\n",
    "%autoreload 1\n",
    "\n",
    "import os,sys\n",
    "import numpy as np\n",
    "import pandas as pd\n",
    "\n",
    "# add the 'src' directory as one where we can import modules\n",
    "src_dir = os.path.join(os.getcwd(), '../..', 'src')\n",
    "sys.path.append(src_dir)\n",
    "\n",
    "%aimport plot_utils\n",
    "from plot_utils import *\n",
    "%aimport preprocessing\n",
    "from preprocessing import *\n",
    "%aimport data_source\n",
    "from data_source import *\n",
    "%aimport model_manage\n",
    "from model_manage import *\n",
    "\n",
    "import logging\n",
    "from utils import *\n",
    "set_logger(logging.DEBUG)"
   ]
  },
  {
   "cell_type": "code",
   "execution_count": 2,
   "metadata": {},
   "outputs": [],
   "source": [
    "import pandas as pd\n",
    "import numpy as np\n",
    "\n",
    "from sklearn import linear_model\n",
    "from sklearn import model_selection\n",
    "from sklearn.ensemble import RandomForestRegressor\n",
    "from sklearn.model_selection import cross_val_score\n",
    "from sklearn.ensemble import GradientBoostingRegressor\n",
    "from sklearn.pipeline import make_pipeline, Pipeline\n",
    "from sklearn.preprocessing import StandardScaler\n",
    "from sklearn.linear_model import ElasticNet"
   ]
  },
  {
   "cell_type": "code",
   "execution_count": 3,
   "metadata": {},
   "outputs": [],
   "source": [
    "import logging\n",
    "set_logger(logging.DEBUG)"
   ]
  },
  {
   "cell_type": "code",
   "execution_count": 4,
   "metadata": {},
   "outputs": [
    {
     "name": "stderr",
     "output_type": "stream",
     "text": [
      "[dp] connect to database postgresql://postgres:@localhost:5432/sdra\n",
      "[dp] supported views: ['properties', 'property_features', 'transactions', 'property_addresses', 'property_address_transactions', 'property_transaction_valid']\n"
     ]
    }
   ],
   "source": [
    "ds = DataSource(host='localhost',port=5432, username='postgres', password='', database='sdra')\n",
    "ds.show_views()\n",
    "#ds.update_views()"
   ]
  },
  {
   "cell_type": "code",
   "execution_count": 5,
   "metadata": {},
   "outputs": [
    {
     "name": "stdout",
     "output_type": "stream",
     "text": [
      "(1512560, 23)\n",
      "(709325, 20)\n"
     ]
    }
   ],
   "source": [
    "df_transaction = ds.get_view_df('property_address_transactions')\n",
    "df_property = ds.get_view_df('property_addresses')\n",
    "print(df_transaction.shape)\n",
    "print(df_property.shape)"
   ]
  },
  {
   "cell_type": "code",
   "execution_count": 6,
   "metadata": {},
   "outputs": [],
   "source": [
    "pp = Preprocess(df_transaction, df_property)"
   ]
  },
  {
   "cell_type": "code",
   "execution_count": 7,
   "metadata": {},
   "outputs": [
    {
     "data": {
      "text/plain": [
       "['date',\n",
       " 'sqft',\n",
       " 'num_bed',\n",
       " 'num_bath',\n",
       " 'view',\n",
       " 'pool',\n",
       " 'sqft_zip_avg',\n",
       " 'sqft_price_zip_avg',\n",
       " 'sold_price_zip_avg',\n",
       " 'impr_over_land',\n",
       " 'lon',\n",
       " 'lat']"
      ]
     },
     "execution_count": 7,
     "metadata": {},
     "output_type": "execute_result"
    }
   ],
   "source": [
    "pp.get_feature_list()"
   ]
  },
  {
   "cell_type": "code",
   "execution_count": 68,
   "metadata": {},
   "outputs": [
    {
     "name": "stderr",
     "output_type": "stream",
     "text": [
      "[dp] transforming date\n",
      "[dp] transforming view\n",
      "[dp] transforming pool\n",
      "[dp] transforming impr_over_land\n",
      "[dp] transforming sold_year\n",
      "[dp] transforming sold_age\n",
      "[dp] making sqft_zip_avg\n",
      "[dp] making sqft_price_zip_avg\n",
      "[dp] making sold_price_zip_avg\n",
      "[dp] making sale_count_zip\n",
      "[dp] making prop_count_zip\n"
     ]
    },
    {
     "data": {
      "text/plain": [
       "(185872, 11)"
      ]
     },
     "execution_count": 68,
     "metadata": {},
     "output_type": "execute_result"
    }
   ],
   "source": [
    "# records of 5 year\n",
    "use_features = ['sqft', 'num_bed', 'num_bath', 'view', 'pool', 'sqft_zip_avg', 'sqft_price_zip_avg', 'sold_price_zip_avg', 'impr_over_land']\n",
    "#df_last_year_valid = pp.dataset(feature='delivered', valid=True, date=('2016-10-01', '2017-10-01'))\n",
    "df_track = pp.dataset(feature_set=['date']+use_features, valid=True, date=('2012-10-01', '2017-10-01'))\n",
    "df_track.shape"
   ]
  },
  {
   "cell_type": "code",
   "execution_count": 106,
   "metadata": {},
   "outputs": [
    {
     "name": "stderr",
     "output_type": "stream",
     "text": [
      "[dp] track/sliding/test window size: 6194, 3097, 3097\n",
      "[dp] train/valid/test size: 3097, 3097, 3097\n"
     ]
    }
   ],
   "source": [
    "# sanity check\n",
    "rf = RandomForestRegressor(n_estimators=20, max_depth=10, n_jobs=-1, random_state=17)\n",
    "mm = ModelManager(df_track[-9291:], ['date']+use_features, rf, time_series=True)\n",
    "mm.split(test_size=3097, valid_size=3097)"
   ]
  },
  {
   "cell_type": "code",
   "execution_count": 112,
   "metadata": {},
   "outputs": [
    {
     "name": "stdout",
     "output_type": "stream",
     "text": [
      "185398   2017-07-05\n",
      "102511   2017-07-05\n",
      "86697    2017-07-05\n",
      "Name: date, dtype: datetime64[ns]\n",
      "112903   2017-07-31\n",
      "112904   2017-07-31\n",
      "173639   2017-07-31\n",
      "Name: date, dtype: datetime64[ns]\n",
      "85084   2017-07-31\n",
      "85085   2017-07-31\n",
      "85086   2017-07-31\n",
      "Name: date, dtype: datetime64[ns]\n",
      "78271    2017-08-28\n",
      "140008   2017-08-28\n",
      "140007   2017-08-28\n",
      "Name: date, dtype: datetime64[ns]\n",
      "108996   2017-08-28\n",
      "78268    2017-08-28\n",
      "151326   2017-08-28\n",
      "Name: date, dtype: datetime64[ns]\n",
      "54746    2017-09-27\n",
      "57503    2017-09-27\n",
      "165036   2017-09-27\n",
      "Name: date, dtype: datetime64[ns]\n"
     ]
    }
   ],
   "source": [
    "# check ModelManager::split does the right order for time-series\n",
    "print(mm.X_train[:3]['date'])\n",
    "print(mm.X_train[-3:]['date'])\n",
    "print(mm.X_val[:3]['date'])\n",
    "print(mm.X_val[-3:]['date'])\n",
    "print(mm.X_test[:3]['date'])\n",
    "print(mm.X_test[-3:]['date'])"
   ]
  },
  {
   "cell_type": "markdown",
   "metadata": {},
   "source": [
    "### Try RandomForest with different training and testing length\n",
    "* 5 years(60 months) data is used in total for this validation\n",
    "* testing length: 1, 2, ..., 6 months\n",
    "* training: 1, 2, ..., up to 20x of testing length"
   ]
  },
  {
   "cell_type": "code",
   "execution_count": 151,
   "metadata": {},
   "outputs": [
    {
     "name": "stderr",
     "output_type": "stream",
     "text": [
      "[dp] track/sliding/test window size: 6194, 3097, 3097\n",
      "[dp] train/valid/test size: 3097, 3097, 3097\n",
      "[dp] validation step is skipped\n"
     ]
    },
    {
     "name": "stdout",
     "output_type": "stream",
     "text": [
      "use 1 months training, 1 months testing, total dataset length:9291\n"
     ]
    },
    {
     "name": "stderr",
     "output_type": "stream",
     "text": [
      "[dp] track/sliding/test window size: 9291, 6194, 3097\n",
      "[dp] train/valid/test size: 6194, 3097, 3097\n",
      "[dp] validation step is skipped\n"
     ]
    },
    {
     "name": "stdout",
     "output_type": "stream",
     "text": [
      "use 2 months training, 1 months testing, total dataset length:12388\n"
     ]
    },
    {
     "name": "stderr",
     "output_type": "stream",
     "text": [
      "[dp] track/sliding/test window size: 12388, 9291, 3097\n",
      "[dp] train/valid/test size: 9291, 3097, 3097\n",
      "[dp] validation step is skipped\n"
     ]
    },
    {
     "name": "stdout",
     "output_type": "stream",
     "text": [
      "use 3 months training, 1 months testing, total dataset length:15485\n"
     ]
    },
    {
     "name": "stderr",
     "output_type": "stream",
     "text": [
      "[dp] track/sliding/test window size: 15485, 12388, 3097\n",
      "[dp] train/valid/test size: 12388, 3097, 3097\n",
      "[dp] validation step is skipped\n"
     ]
    },
    {
     "name": "stdout",
     "output_type": "stream",
     "text": [
      "use 4 months training, 1 months testing, total dataset length:18582\n"
     ]
    },
    {
     "name": "stderr",
     "output_type": "stream",
     "text": [
      "[dp] track/sliding/test window size: 18582, 15485, 3097\n",
      "[dp] train/valid/test size: 15485, 3097, 3097\n",
      "[dp] validation step is skipped\n"
     ]
    },
    {
     "name": "stdout",
     "output_type": "stream",
     "text": [
      "use 5 months training, 1 months testing, total dataset length:21679\n"
     ]
    },
    {
     "name": "stderr",
     "output_type": "stream",
     "text": [
      "[dp] track/sliding/test window size: 21679, 18582, 3097\n",
      "[dp] train/valid/test size: 18582, 3097, 3097\n",
      "[dp] validation step is skipped\n"
     ]
    },
    {
     "name": "stdout",
     "output_type": "stream",
     "text": [
      "use 6 months training, 1 months testing, total dataset length:24776\n"
     ]
    },
    {
     "name": "stderr",
     "output_type": "stream",
     "text": [
      "[dp] track/sliding/test window size: 24776, 21679, 3097\n",
      "[dp] train/valid/test size: 21679, 3097, 3097\n",
      "[dp] validation step is skipped\n"
     ]
    },
    {
     "name": "stdout",
     "output_type": "stream",
     "text": [
      "use 7 months training, 1 months testing, total dataset length:27873\n"
     ]
    },
    {
     "name": "stderr",
     "output_type": "stream",
     "text": [
      "[dp] track/sliding/test window size: 27873, 24776, 3097\n",
      "[dp] train/valid/test size: 24776, 3097, 3097\n",
      "[dp] validation step is skipped\n"
     ]
    },
    {
     "name": "stdout",
     "output_type": "stream",
     "text": [
      "use 8 months training, 1 months testing, total dataset length:30970\n"
     ]
    },
    {
     "name": "stderr",
     "output_type": "stream",
     "text": [
      "[dp] track/sliding/test window size: 30970, 27873, 3097\n",
      "[dp] train/valid/test size: 27873, 3097, 3097\n",
      "[dp] validation step is skipped\n"
     ]
    },
    {
     "name": "stdout",
     "output_type": "stream",
     "text": [
      "use 9 months training, 1 months testing, total dataset length:34067\n"
     ]
    },
    {
     "name": "stderr",
     "output_type": "stream",
     "text": [
      "[dp] track/sliding/test window size: 34067, 30970, 3097\n",
      "[dp] train/valid/test size: 30970, 3097, 3097\n",
      "[dp] validation step is skipped\n"
     ]
    },
    {
     "name": "stdout",
     "output_type": "stream",
     "text": [
      "use 10 months training, 1 months testing, total dataset length:37164\n"
     ]
    },
    {
     "name": "stderr",
     "output_type": "stream",
     "text": [
      "[dp] track/sliding/test window size: 37164, 34067, 3097\n",
      "[dp] train/valid/test size: 34067, 3097, 3097\n",
      "[dp] validation step is skipped\n"
     ]
    },
    {
     "name": "stdout",
     "output_type": "stream",
     "text": [
      "use 11 months training, 1 months testing, total dataset length:40261\n"
     ]
    },
    {
     "name": "stderr",
     "output_type": "stream",
     "text": [
      "[dp] track/sliding/test window size: 40261, 37164, 3097\n",
      "[dp] train/valid/test size: 37164, 3097, 3097\n",
      "[dp] validation step is skipped\n"
     ]
    },
    {
     "name": "stdout",
     "output_type": "stream",
     "text": [
      "use 12 months training, 1 months testing, total dataset length:43358\n"
     ]
    },
    {
     "name": "stderr",
     "output_type": "stream",
     "text": [
      "[dp] track/sliding/test window size: 43358, 40261, 3097\n",
      "[dp] train/valid/test size: 40261, 3097, 3097\n",
      "[dp] validation step is skipped\n"
     ]
    },
    {
     "name": "stdout",
     "output_type": "stream",
     "text": [
      "use 13 months training, 1 months testing, total dataset length:46455\n"
     ]
    },
    {
     "name": "stderr",
     "output_type": "stream",
     "text": [
      "[dp] track/sliding/test window size: 46455, 43358, 3097\n",
      "[dp] train/valid/test size: 43358, 3097, 3097\n",
      "[dp] validation step is skipped\n"
     ]
    },
    {
     "name": "stdout",
     "output_type": "stream",
     "text": [
      "use 14 months training, 1 months testing, total dataset length:49552\n"
     ]
    },
    {
     "name": "stderr",
     "output_type": "stream",
     "text": [
      "[dp] track/sliding/test window size: 49552, 46455, 3097\n",
      "[dp] train/valid/test size: 46455, 3097, 3097\n",
      "[dp] validation step is skipped\n"
     ]
    },
    {
     "name": "stdout",
     "output_type": "stream",
     "text": [
      "use 15 months training, 1 months testing, total dataset length:52649\n"
     ]
    },
    {
     "name": "stderr",
     "output_type": "stream",
     "text": [
      "[dp] track/sliding/test window size: 52649, 49552, 3097\n",
      "[dp] train/valid/test size: 49552, 3097, 3097\n",
      "[dp] validation step is skipped\n"
     ]
    },
    {
     "name": "stdout",
     "output_type": "stream",
     "text": [
      "use 16 months training, 1 months testing, total dataset length:55746\n"
     ]
    },
    {
     "name": "stderr",
     "output_type": "stream",
     "text": [
      "[dp] track/sliding/test window size: 55746, 52649, 3097\n",
      "[dp] train/valid/test size: 52649, 3097, 3097\n",
      "[dp] validation step is skipped\n"
     ]
    },
    {
     "name": "stdout",
     "output_type": "stream",
     "text": [
      "use 17 months training, 1 months testing, total dataset length:58843\n"
     ]
    },
    {
     "name": "stderr",
     "output_type": "stream",
     "text": [
      "[dp] track/sliding/test window size: 58843, 55746, 3097\n",
      "[dp] train/valid/test size: 55746, 3097, 3097\n",
      "[dp] validation step is skipped\n"
     ]
    },
    {
     "name": "stdout",
     "output_type": "stream",
     "text": [
      "use 18 months training, 1 months testing, total dataset length:61940\n"
     ]
    },
    {
     "name": "stderr",
     "output_type": "stream",
     "text": [
      "[dp] track/sliding/test window size: 61940, 58843, 3097\n",
      "[dp] train/valid/test size: 58843, 3097, 3097\n",
      "[dp] validation step is skipped\n"
     ]
    },
    {
     "name": "stdout",
     "output_type": "stream",
     "text": [
      "use 19 months training, 1 months testing, total dataset length:65037\n"
     ]
    },
    {
     "name": "stderr",
     "output_type": "stream",
     "text": [
      "[dp] track/sliding/test window size: 12390, 6195, 6195\n",
      "[dp] train/valid/test size: 6195, 6195, 6195\n",
      "[dp] validation step is skipped\n"
     ]
    },
    {
     "name": "stdout",
     "output_type": "stream",
     "text": [
      "use 2 months training, 2 months testing, total dataset length:18585\n"
     ]
    },
    {
     "name": "stderr",
     "output_type": "stream",
     "text": [
      "[dp] track/sliding/test window size: 18585, 12390, 6195\n",
      "[dp] train/valid/test size: 12390, 6195, 6195\n",
      "[dp] validation step is skipped\n"
     ]
    },
    {
     "name": "stdout",
     "output_type": "stream",
     "text": [
      "use 4 months training, 2 months testing, total dataset length:24780\n"
     ]
    },
    {
     "name": "stderr",
     "output_type": "stream",
     "text": [
      "[dp] track/sliding/test window size: 24780, 18585, 6195\n",
      "[dp] train/valid/test size: 18585, 6195, 6195\n",
      "[dp] validation step is skipped\n"
     ]
    },
    {
     "name": "stdout",
     "output_type": "stream",
     "text": [
      "use 6 months training, 2 months testing, total dataset length:30975\n"
     ]
    },
    {
     "name": "stderr",
     "output_type": "stream",
     "text": [
      "[dp] track/sliding/test window size: 30975, 24780, 6195\n",
      "[dp] train/valid/test size: 24780, 6195, 6195\n",
      "[dp] validation step is skipped\n"
     ]
    },
    {
     "name": "stdout",
     "output_type": "stream",
     "text": [
      "use 8 months training, 2 months testing, total dataset length:37170\n"
     ]
    },
    {
     "name": "stderr",
     "output_type": "stream",
     "text": [
      "[dp] track/sliding/test window size: 37170, 30975, 6195\n",
      "[dp] train/valid/test size: 30975, 6195, 6195\n",
      "[dp] validation step is skipped\n"
     ]
    },
    {
     "name": "stdout",
     "output_type": "stream",
     "text": [
      "use 10 months training, 2 months testing, total dataset length:43365\n"
     ]
    },
    {
     "name": "stderr",
     "output_type": "stream",
     "text": [
      "[dp] track/sliding/test window size: 43365, 37170, 6195\n",
      "[dp] train/valid/test size: 37170, 6195, 6195\n",
      "[dp] validation step is skipped\n"
     ]
    },
    {
     "name": "stdout",
     "output_type": "stream",
     "text": [
      "use 12 months training, 2 months testing, total dataset length:49560\n"
     ]
    },
    {
     "name": "stderr",
     "output_type": "stream",
     "text": [
      "[dp] track/sliding/test window size: 49560, 43365, 6195\n",
      "[dp] train/valid/test size: 43365, 6195, 6195\n",
      "[dp] validation step is skipped\n"
     ]
    },
    {
     "name": "stdout",
     "output_type": "stream",
     "text": [
      "use 14 months training, 2 months testing, total dataset length:55755\n"
     ]
    },
    {
     "name": "stderr",
     "output_type": "stream",
     "text": [
      "[dp] track/sliding/test window size: 55755, 49560, 6195\n",
      "[dp] train/valid/test size: 49560, 6195, 6195\n",
      "[dp] validation step is skipped\n"
     ]
    },
    {
     "name": "stdout",
     "output_type": "stream",
     "text": [
      "use 16 months training, 2 months testing, total dataset length:61950\n"
     ]
    },
    {
     "name": "stderr",
     "output_type": "stream",
     "text": [
      "[dp] track/sliding/test window size: 61950, 55755, 6195\n",
      "[dp] train/valid/test size: 55755, 6195, 6195\n",
      "[dp] validation step is skipped\n"
     ]
    },
    {
     "name": "stdout",
     "output_type": "stream",
     "text": [
      "use 18 months training, 2 months testing, total dataset length:68145\n"
     ]
    },
    {
     "name": "stderr",
     "output_type": "stream",
     "text": [
      "[dp] track/sliding/test window size: 68145, 61950, 6195\n",
      "[dp] train/valid/test size: 61950, 6195, 6195\n",
      "[dp] validation step is skipped\n"
     ]
    },
    {
     "name": "stdout",
     "output_type": "stream",
     "text": [
      "use 20 months training, 2 months testing, total dataset length:74340\n"
     ]
    },
    {
     "name": "stderr",
     "output_type": "stream",
     "text": [
      "[dp] track/sliding/test window size: 74340, 68145, 6195\n",
      "[dp] train/valid/test size: 68145, 6195, 6195\n",
      "[dp] validation step is skipped\n"
     ]
    },
    {
     "name": "stdout",
     "output_type": "stream",
     "text": [
      "use 22 months training, 2 months testing, total dataset length:80535\n"
     ]
    },
    {
     "name": "stderr",
     "output_type": "stream",
     "text": [
      "[dp] track/sliding/test window size: 80535, 74340, 6195\n",
      "[dp] train/valid/test size: 74340, 6195, 6195\n",
      "[dp] validation step is skipped\n"
     ]
    },
    {
     "name": "stdout",
     "output_type": "stream",
     "text": [
      "use 24 months training, 2 months testing, total dataset length:86730\n"
     ]
    },
    {
     "name": "stderr",
     "output_type": "stream",
     "text": [
      "[dp] track/sliding/test window size: 86730, 80535, 6195\n",
      "[dp] train/valid/test size: 80535, 6195, 6195\n",
      "[dp] validation step is skipped\n"
     ]
    },
    {
     "name": "stdout",
     "output_type": "stream",
     "text": [
      "use 26 months training, 2 months testing, total dataset length:92925\n"
     ]
    },
    {
     "name": "stderr",
     "output_type": "stream",
     "text": [
      "[dp] track/sliding/test window size: 92925, 86730, 6195\n",
      "[dp] train/valid/test size: 86730, 6195, 6195\n",
      "[dp] validation step is skipped\n"
     ]
    },
    {
     "name": "stdout",
     "output_type": "stream",
     "text": [
      "use 28 months training, 2 months testing, total dataset length:99120\n"
     ]
    },
    {
     "name": "stderr",
     "output_type": "stream",
     "text": [
      "[dp] track/sliding/test window size: 99120, 92925, 6195\n",
      "[dp] train/valid/test size: 92925, 6195, 6195\n",
      "[dp] validation step is skipped\n"
     ]
    },
    {
     "name": "stdout",
     "output_type": "stream",
     "text": [
      "use 30 months training, 2 months testing, total dataset length:105315\n"
     ]
    },
    {
     "name": "stderr",
     "output_type": "stream",
     "text": [
      "[dp] track/sliding/test window size: 105315, 99120, 6195\n",
      "[dp] train/valid/test size: 99120, 6195, 6195\n",
      "[dp] validation step is skipped\n"
     ]
    },
    {
     "name": "stdout",
     "output_type": "stream",
     "text": [
      "use 32 months training, 2 months testing, total dataset length:111510\n"
     ]
    },
    {
     "name": "stderr",
     "output_type": "stream",
     "text": [
      "[dp] track/sliding/test window size: 111510, 105315, 6195\n",
      "[dp] train/valid/test size: 105315, 6195, 6195\n",
      "[dp] validation step is skipped\n"
     ]
    },
    {
     "name": "stdout",
     "output_type": "stream",
     "text": [
      "use 34 months training, 2 months testing, total dataset length:117705\n"
     ]
    },
    {
     "name": "stderr",
     "output_type": "stream",
     "text": [
      "[dp] track/sliding/test window size: 117705, 111510, 6195\n",
      "[dp] train/valid/test size: 111510, 6195, 6195\n",
      "[dp] validation step is skipped\n"
     ]
    },
    {
     "name": "stdout",
     "output_type": "stream",
     "text": [
      "use 36 months training, 2 months testing, total dataset length:123900\n"
     ]
    },
    {
     "name": "stderr",
     "output_type": "stream",
     "text": [
      "[dp] track/sliding/test window size: 123900, 117705, 6195\n",
      "[dp] train/valid/test size: 117705, 6195, 6195\n",
      "[dp] validation step is skipped\n"
     ]
    },
    {
     "name": "stdout",
     "output_type": "stream",
     "text": [
      "use 38 months training, 2 months testing, total dataset length:130095\n"
     ]
    },
    {
     "name": "stderr",
     "output_type": "stream",
     "text": [
      "[dp] track/sliding/test window size: 18586, 9293, 9293\n",
      "[dp] train/valid/test size: 9293, 9293, 9293\n",
      "[dp] validation step is skipped\n"
     ]
    },
    {
     "name": "stdout",
     "output_type": "stream",
     "text": [
      "use 3 months training, 3 months testing, total dataset length:27879\n"
     ]
    },
    {
     "name": "stderr",
     "output_type": "stream",
     "text": [
      "[dp] track/sliding/test window size: 27879, 18586, 9293\n",
      "[dp] train/valid/test size: 18586, 9293, 9293\n",
      "[dp] validation step is skipped\n"
     ]
    },
    {
     "name": "stdout",
     "output_type": "stream",
     "text": [
      "use 6 months training, 3 months testing, total dataset length:37172\n"
     ]
    },
    {
     "name": "stderr",
     "output_type": "stream",
     "text": [
      "[dp] track/sliding/test window size: 37172, 27879, 9293\n",
      "[dp] train/valid/test size: 27879, 9293, 9293\n",
      "[dp] validation step is skipped\n"
     ]
    },
    {
     "name": "stdout",
     "output_type": "stream",
     "text": [
      "use 9 months training, 3 months testing, total dataset length:46465\n"
     ]
    },
    {
     "name": "stderr",
     "output_type": "stream",
     "text": [
      "[dp] track/sliding/test window size: 46465, 37172, 9293\n",
      "[dp] train/valid/test size: 37172, 9293, 9293\n",
      "[dp] validation step is skipped\n"
     ]
    },
    {
     "name": "stdout",
     "output_type": "stream",
     "text": [
      "use 12 months training, 3 months testing, total dataset length:55758\n"
     ]
    },
    {
     "name": "stderr",
     "output_type": "stream",
     "text": [
      "[dp] track/sliding/test window size: 55758, 46465, 9293\n",
      "[dp] train/valid/test size: 46465, 9293, 9293\n",
      "[dp] validation step is skipped\n"
     ]
    },
    {
     "name": "stdout",
     "output_type": "stream",
     "text": [
      "use 15 months training, 3 months testing, total dataset length:65051\n"
     ]
    },
    {
     "name": "stderr",
     "output_type": "stream",
     "text": [
      "[dp] track/sliding/test window size: 65051, 55758, 9293\n",
      "[dp] train/valid/test size: 55758, 9293, 9293\n",
      "[dp] validation step is skipped\n"
     ]
    },
    {
     "name": "stdout",
     "output_type": "stream",
     "text": [
      "use 18 months training, 3 months testing, total dataset length:74344\n"
     ]
    },
    {
     "name": "stderr",
     "output_type": "stream",
     "text": [
      "[dp] track/sliding/test window size: 74344, 65051, 9293\n",
      "[dp] train/valid/test size: 65051, 9293, 9293\n",
      "[dp] validation step is skipped\n"
     ]
    },
    {
     "name": "stdout",
     "output_type": "stream",
     "text": [
      "use 21 months training, 3 months testing, total dataset length:83637\n"
     ]
    },
    {
     "name": "stderr",
     "output_type": "stream",
     "text": [
      "[dp] track/sliding/test window size: 83637, 74344, 9293\n",
      "[dp] train/valid/test size: 74344, 9293, 9293\n",
      "[dp] validation step is skipped\n"
     ]
    },
    {
     "name": "stdout",
     "output_type": "stream",
     "text": [
      "use 24 months training, 3 months testing, total dataset length:92930\n"
     ]
    },
    {
     "name": "stderr",
     "output_type": "stream",
     "text": [
      "[dp] track/sliding/test window size: 92930, 83637, 9293\n",
      "[dp] train/valid/test size: 83637, 9293, 9293\n",
      "[dp] validation step is skipped\n"
     ]
    },
    {
     "name": "stdout",
     "output_type": "stream",
     "text": [
      "use 27 months training, 3 months testing, total dataset length:102223\n"
     ]
    },
    {
     "name": "stderr",
     "output_type": "stream",
     "text": [
      "[dp] track/sliding/test window size: 102223, 92930, 9293\n",
      "[dp] train/valid/test size: 92930, 9293, 9293\n",
      "[dp] validation step is skipped\n"
     ]
    },
    {
     "name": "stdout",
     "output_type": "stream",
     "text": [
      "use 30 months training, 3 months testing, total dataset length:111516\n"
     ]
    },
    {
     "name": "stderr",
     "output_type": "stream",
     "text": [
      "[dp] track/sliding/test window size: 111516, 102223, 9293\n",
      "[dp] train/valid/test size: 102223, 9293, 9293\n",
      "[dp] validation step is skipped\n"
     ]
    },
    {
     "name": "stdout",
     "output_type": "stream",
     "text": [
      "use 33 months training, 3 months testing, total dataset length:120809\n"
     ]
    },
    {
     "name": "stderr",
     "output_type": "stream",
     "text": [
      "[dp] track/sliding/test window size: 120809, 111516, 9293\n",
      "[dp] train/valid/test size: 111516, 9293, 9293\n",
      "[dp] validation step is skipped\n"
     ]
    },
    {
     "name": "stdout",
     "output_type": "stream",
     "text": [
      "use 36 months training, 3 months testing, total dataset length:130102\n"
     ]
    },
    {
     "name": "stderr",
     "output_type": "stream",
     "text": [
      "[dp] track/sliding/test window size: 130102, 120809, 9293\n",
      "[dp] train/valid/test size: 120809, 9293, 9293\n",
      "[dp] validation step is skipped\n"
     ]
    },
    {
     "name": "stdout",
     "output_type": "stream",
     "text": [
      "use 39 months training, 3 months testing, total dataset length:139395\n"
     ]
    },
    {
     "name": "stderr",
     "output_type": "stream",
     "text": [
      "[dp] track/sliding/test window size: 139395, 130102, 9293\n",
      "[dp] train/valid/test size: 130102, 9293, 9293\n",
      "[dp] validation step is skipped\n"
     ]
    },
    {
     "name": "stdout",
     "output_type": "stream",
     "text": [
      "use 42 months training, 3 months testing, total dataset length:148688\n"
     ]
    },
    {
     "name": "stderr",
     "output_type": "stream",
     "text": [
      "[dp] track/sliding/test window size: 148688, 139395, 9293\n",
      "[dp] train/valid/test size: 139395, 9293, 9293\n",
      "[dp] validation step is skipped\n"
     ]
    },
    {
     "name": "stdout",
     "output_type": "stream",
     "text": [
      "use 45 months training, 3 months testing, total dataset length:157981\n"
     ]
    },
    {
     "name": "stderr",
     "output_type": "stream",
     "text": [
      "[dp] track/sliding/test window size: 157981, 148688, 9293\n",
      "[dp] train/valid/test size: 148688, 9293, 9293\n",
      "[dp] validation step is skipped\n"
     ]
    },
    {
     "name": "stdout",
     "output_type": "stream",
     "text": [
      "use 48 months training, 3 months testing, total dataset length:167274\n"
     ]
    },
    {
     "name": "stderr",
     "output_type": "stream",
     "text": [
      "[dp] track/sliding/test window size: 167274, 157981, 9293\n",
      "[dp] train/valid/test size: 157981, 9293, 9293\n",
      "[dp] validation step is skipped\n"
     ]
    },
    {
     "name": "stdout",
     "output_type": "stream",
     "text": [
      "use 51 months training, 3 months testing, total dataset length:176567\n"
     ]
    },
    {
     "name": "stderr",
     "output_type": "stream",
     "text": [
      "[dp] track/sliding/test window size: 176567, 167274, 9293\n",
      "[dp] train/valid/test size: 167274, 9293, 9293\n",
      "[dp] validation step is skipped\n"
     ]
    },
    {
     "name": "stdout",
     "output_type": "stream",
     "text": [
      "use 54 months training, 3 months testing, total dataset length:185860\n"
     ]
    },
    {
     "name": "stderr",
     "output_type": "stream",
     "text": [
      "[dp] track/sliding/test window size: 176579, 167286, 9293\n",
      "[dp] train/valid/test size: 167286, 9293, 9293\n",
      "[dp] validation step is skipped\n"
     ]
    },
    {
     "name": "stdout",
     "output_type": "stream",
     "text": [
      "use 57 months training, 3 months testing, total dataset length:185872\n"
     ]
    },
    {
     "name": "stderr",
     "output_type": "stream",
     "text": [
      "[dp] track/sliding/test window size: 24782, 12391, 12391\n",
      "[dp] train/valid/test size: 12391, 12391, 12391\n",
      "[dp] validation step is skipped\n"
     ]
    },
    {
     "name": "stdout",
     "output_type": "stream",
     "text": [
      "use 4 months training, 4 months testing, total dataset length:37173\n"
     ]
    },
    {
     "name": "stderr",
     "output_type": "stream",
     "text": [
      "[dp] track/sliding/test window size: 37173, 24782, 12391\n",
      "[dp] train/valid/test size: 24782, 12391, 12391\n",
      "[dp] validation step is skipped\n"
     ]
    },
    {
     "name": "stdout",
     "output_type": "stream",
     "text": [
      "use 8 months training, 4 months testing, total dataset length:49564\n"
     ]
    },
    {
     "name": "stderr",
     "output_type": "stream",
     "text": [
      "[dp] track/sliding/test window size: 49564, 37173, 12391\n",
      "[dp] train/valid/test size: 37173, 12391, 12391\n",
      "[dp] validation step is skipped\n"
     ]
    },
    {
     "name": "stdout",
     "output_type": "stream",
     "text": [
      "use 12 months training, 4 months testing, total dataset length:61955\n"
     ]
    },
    {
     "name": "stderr",
     "output_type": "stream",
     "text": [
      "[dp] track/sliding/test window size: 61955, 49564, 12391\n",
      "[dp] train/valid/test size: 49564, 12391, 12391\n",
      "[dp] validation step is skipped\n"
     ]
    },
    {
     "name": "stdout",
     "output_type": "stream",
     "text": [
      "use 16 months training, 4 months testing, total dataset length:74346\n"
     ]
    },
    {
     "name": "stderr",
     "output_type": "stream",
     "text": [
      "[dp] track/sliding/test window size: 74346, 61955, 12391\n",
      "[dp] train/valid/test size: 61955, 12391, 12391\n",
      "[dp] validation step is skipped\n"
     ]
    },
    {
     "name": "stdout",
     "output_type": "stream",
     "text": [
      "use 20 months training, 4 months testing, total dataset length:86737\n"
     ]
    },
    {
     "name": "stderr",
     "output_type": "stream",
     "text": [
      "[dp] track/sliding/test window size: 86737, 74346, 12391\n",
      "[dp] train/valid/test size: 74346, 12391, 12391\n",
      "[dp] validation step is skipped\n"
     ]
    },
    {
     "name": "stdout",
     "output_type": "stream",
     "text": [
      "use 24 months training, 4 months testing, total dataset length:99128\n"
     ]
    },
    {
     "name": "stderr",
     "output_type": "stream",
     "text": [
      "[dp] track/sliding/test window size: 99128, 86737, 12391\n",
      "[dp] train/valid/test size: 86737, 12391, 12391\n",
      "[dp] validation step is skipped\n"
     ]
    },
    {
     "name": "stdout",
     "output_type": "stream",
     "text": [
      "use 28 months training, 4 months testing, total dataset length:111519\n"
     ]
    },
    {
     "name": "stderr",
     "output_type": "stream",
     "text": [
      "[dp] track/sliding/test window size: 111519, 99128, 12391\n",
      "[dp] train/valid/test size: 99128, 12391, 12391\n",
      "[dp] validation step is skipped\n"
     ]
    },
    {
     "name": "stdout",
     "output_type": "stream",
     "text": [
      "use 32 months training, 4 months testing, total dataset length:123910\n"
     ]
    },
    {
     "name": "stderr",
     "output_type": "stream",
     "text": [
      "[dp] track/sliding/test window size: 123910, 111519, 12391\n",
      "[dp] train/valid/test size: 111519, 12391, 12391\n",
      "[dp] validation step is skipped\n"
     ]
    },
    {
     "name": "stdout",
     "output_type": "stream",
     "text": [
      "use 36 months training, 4 months testing, total dataset length:136301\n"
     ]
    },
    {
     "name": "stderr",
     "output_type": "stream",
     "text": [
      "[dp] track/sliding/test window size: 136301, 123910, 12391\n",
      "[dp] train/valid/test size: 123910, 12391, 12391\n",
      "[dp] validation step is skipped\n"
     ]
    },
    {
     "name": "stdout",
     "output_type": "stream",
     "text": [
      "use 40 months training, 4 months testing, total dataset length:148692\n"
     ]
    },
    {
     "name": "stderr",
     "output_type": "stream",
     "text": [
      "[dp] track/sliding/test window size: 148692, 136301, 12391\n",
      "[dp] train/valid/test size: 136301, 12391, 12391\n",
      "[dp] validation step is skipped\n"
     ]
    },
    {
     "name": "stdout",
     "output_type": "stream",
     "text": [
      "use 44 months training, 4 months testing, total dataset length:161083\n"
     ]
    },
    {
     "name": "stderr",
     "output_type": "stream",
     "text": [
      "[dp] track/sliding/test window size: 161083, 148692, 12391\n",
      "[dp] train/valid/test size: 148692, 12391, 12391\n",
      "[dp] validation step is skipped\n"
     ]
    },
    {
     "name": "stdout",
     "output_type": "stream",
     "text": [
      "use 48 months training, 4 months testing, total dataset length:173474\n"
     ]
    },
    {
     "name": "stderr",
     "output_type": "stream",
     "text": [
      "[dp] track/sliding/test window size: 173474, 161083, 12391\n",
      "[dp] train/valid/test size: 161083, 12391, 12391\n",
      "[dp] validation step is skipped\n"
     ]
    },
    {
     "name": "stdout",
     "output_type": "stream",
     "text": [
      "use 52 months training, 4 months testing, total dataset length:185865\n"
     ]
    },
    {
     "name": "stderr",
     "output_type": "stream",
     "text": [
      "[dp] track/sliding/test window size: 173481, 161090, 12391\n",
      "[dp] train/valid/test size: 161090, 12391, 12391\n",
      "[dp] validation step is skipped\n"
     ]
    },
    {
     "name": "stdout",
     "output_type": "stream",
     "text": [
      "use 56 months training, 4 months testing, total dataset length:185872\n"
     ]
    },
    {
     "name": "stderr",
     "output_type": "stream",
     "text": [
      "[dp] track/sliding/test window size: 30978, 15489, 15489\n",
      "[dp] train/valid/test size: 15489, 15489, 15489\n",
      "[dp] validation step is skipped\n"
     ]
    },
    {
     "name": "stdout",
     "output_type": "stream",
     "text": [
      "use 5 months training, 5 months testing, total dataset length:46467\n"
     ]
    },
    {
     "name": "stderr",
     "output_type": "stream",
     "text": [
      "[dp] track/sliding/test window size: 46467, 30978, 15489\n",
      "[dp] train/valid/test size: 30978, 15489, 15489\n",
      "[dp] validation step is skipped\n"
     ]
    },
    {
     "name": "stdout",
     "output_type": "stream",
     "text": [
      "use 10 months training, 5 months testing, total dataset length:61956\n"
     ]
    },
    {
     "name": "stderr",
     "output_type": "stream",
     "text": [
      "[dp] track/sliding/test window size: 61956, 46467, 15489\n",
      "[dp] train/valid/test size: 46467, 15489, 15489\n",
      "[dp] validation step is skipped\n"
     ]
    },
    {
     "name": "stdout",
     "output_type": "stream",
     "text": [
      "use 15 months training, 5 months testing, total dataset length:77445\n"
     ]
    },
    {
     "name": "stderr",
     "output_type": "stream",
     "text": [
      "[dp] track/sliding/test window size: 77445, 61956, 15489\n",
      "[dp] train/valid/test size: 61956, 15489, 15489\n",
      "[dp] validation step is skipped\n"
     ]
    },
    {
     "name": "stdout",
     "output_type": "stream",
     "text": [
      "use 20 months training, 5 months testing, total dataset length:92934\n"
     ]
    },
    {
     "name": "stderr",
     "output_type": "stream",
     "text": [
      "[dp] track/sliding/test window size: 92934, 77445, 15489\n",
      "[dp] train/valid/test size: 77445, 15489, 15489\n",
      "[dp] validation step is skipped\n"
     ]
    },
    {
     "name": "stdout",
     "output_type": "stream",
     "text": [
      "use 25 months training, 5 months testing, total dataset length:108423\n"
     ]
    },
    {
     "name": "stderr",
     "output_type": "stream",
     "text": [
      "[dp] track/sliding/test window size: 108423, 92934, 15489\n",
      "[dp] train/valid/test size: 92934, 15489, 15489\n",
      "[dp] validation step is skipped\n"
     ]
    },
    {
     "name": "stdout",
     "output_type": "stream",
     "text": [
      "use 30 months training, 5 months testing, total dataset length:123912\n"
     ]
    },
    {
     "name": "stderr",
     "output_type": "stream",
     "text": [
      "[dp] track/sliding/test window size: 123912, 108423, 15489\n",
      "[dp] train/valid/test size: 108423, 15489, 15489\n",
      "[dp] validation step is skipped\n"
     ]
    },
    {
     "name": "stdout",
     "output_type": "stream",
     "text": [
      "use 35 months training, 5 months testing, total dataset length:139401\n"
     ]
    },
    {
     "name": "stderr",
     "output_type": "stream",
     "text": [
      "[dp] track/sliding/test window size: 139401, 123912, 15489\n",
      "[dp] train/valid/test size: 123912, 15489, 15489\n",
      "[dp] validation step is skipped\n"
     ]
    },
    {
     "name": "stdout",
     "output_type": "stream",
     "text": [
      "use 40 months training, 5 months testing, total dataset length:154890\n"
     ]
    },
    {
     "name": "stderr",
     "output_type": "stream",
     "text": [
      "[dp] track/sliding/test window size: 154890, 139401, 15489\n",
      "[dp] train/valid/test size: 139401, 15489, 15489\n",
      "[dp] validation step is skipped\n"
     ]
    },
    {
     "name": "stdout",
     "output_type": "stream",
     "text": [
      "use 45 months training, 5 months testing, total dataset length:170379\n"
     ]
    },
    {
     "name": "stderr",
     "output_type": "stream",
     "text": [
      "[dp] track/sliding/test window size: 170379, 154890, 15489\n",
      "[dp] train/valid/test size: 154890, 15489, 15489\n",
      "[dp] validation step is skipped\n"
     ]
    },
    {
     "name": "stdout",
     "output_type": "stream",
     "text": [
      "use 50 months training, 5 months testing, total dataset length:185868\n"
     ]
    },
    {
     "name": "stderr",
     "output_type": "stream",
     "text": [
      "[dp] track/sliding/test window size: 170383, 154894, 15489\n",
      "[dp] train/valid/test size: 154894, 15489, 15489\n",
      "[dp] validation step is skipped\n"
     ]
    },
    {
     "name": "stdout",
     "output_type": "stream",
     "text": [
      "use 55 months training, 5 months testing, total dataset length:185872\n"
     ]
    },
    {
     "name": "stderr",
     "output_type": "stream",
     "text": [
      "[dp] track/sliding/test window size: 37174, 18587, 18587\n",
      "[dp] train/valid/test size: 18587, 18587, 18587\n",
      "[dp] validation step is skipped\n"
     ]
    },
    {
     "name": "stdout",
     "output_type": "stream",
     "text": [
      "use 6 months training, 6 months testing, total dataset length:55761\n"
     ]
    },
    {
     "name": "stderr",
     "output_type": "stream",
     "text": [
      "[dp] track/sliding/test window size: 55761, 37174, 18587\n",
      "[dp] train/valid/test size: 37174, 18587, 18587\n",
      "[dp] validation step is skipped\n"
     ]
    },
    {
     "name": "stdout",
     "output_type": "stream",
     "text": [
      "use 12 months training, 6 months testing, total dataset length:74348\n"
     ]
    },
    {
     "name": "stderr",
     "output_type": "stream",
     "text": [
      "[dp] track/sliding/test window size: 74348, 55761, 18587\n",
      "[dp] train/valid/test size: 55761, 18587, 18587\n",
      "[dp] validation step is skipped\n"
     ]
    },
    {
     "name": "stdout",
     "output_type": "stream",
     "text": [
      "use 18 months training, 6 months testing, total dataset length:92935\n"
     ]
    },
    {
     "name": "stderr",
     "output_type": "stream",
     "text": [
      "[dp] track/sliding/test window size: 92935, 74348, 18587\n",
      "[dp] train/valid/test size: 74348, 18587, 18587\n",
      "[dp] validation step is skipped\n"
     ]
    },
    {
     "name": "stdout",
     "output_type": "stream",
     "text": [
      "use 24 months training, 6 months testing, total dataset length:111522\n"
     ]
    },
    {
     "name": "stderr",
     "output_type": "stream",
     "text": [
      "[dp] track/sliding/test window size: 111522, 92935, 18587\n",
      "[dp] train/valid/test size: 92935, 18587, 18587\n",
      "[dp] validation step is skipped\n"
     ]
    },
    {
     "name": "stdout",
     "output_type": "stream",
     "text": [
      "use 30 months training, 6 months testing, total dataset length:130109\n"
     ]
    },
    {
     "name": "stderr",
     "output_type": "stream",
     "text": [
      "[dp] track/sliding/test window size: 130109, 111522, 18587\n",
      "[dp] train/valid/test size: 111522, 18587, 18587\n",
      "[dp] validation step is skipped\n"
     ]
    },
    {
     "name": "stdout",
     "output_type": "stream",
     "text": [
      "use 36 months training, 6 months testing, total dataset length:148696\n"
     ]
    },
    {
     "name": "stderr",
     "output_type": "stream",
     "text": [
      "[dp] track/sliding/test window size: 148696, 130109, 18587\n",
      "[dp] train/valid/test size: 130109, 18587, 18587\n",
      "[dp] validation step is skipped\n"
     ]
    },
    {
     "name": "stdout",
     "output_type": "stream",
     "text": [
      "use 42 months training, 6 months testing, total dataset length:167283\n"
     ]
    },
    {
     "name": "stderr",
     "output_type": "stream",
     "text": [
      "[dp] track/sliding/test window size: 167283, 148696, 18587\n",
      "[dp] train/valid/test size: 148696, 18587, 18587\n",
      "[dp] validation step is skipped\n"
     ]
    },
    {
     "name": "stdout",
     "output_type": "stream",
     "text": [
      "use 48 months training, 6 months testing, total dataset length:185870\n"
     ]
    },
    {
     "name": "stderr",
     "output_type": "stream",
     "text": [
      "[dp] track/sliding/test window size: 167285, 148698, 18587\n",
      "[dp] train/valid/test size: 148698, 18587, 18587\n",
      "[dp] validation step is skipped\n"
     ]
    },
    {
     "name": "stdout",
     "output_type": "stream",
     "text": [
      "use 54 months training, 6 months testing, total dataset length:185872\n"
     ]
    }
   ],
   "source": [
    "# total dataset is 5 years = 60 months\n",
    "# try different testing length: 1-6 months, and training length 1 ~ 20x of testing length\n",
    "total = df_track.shape[0]\n",
    "total_months = 60\n",
    "scores = []\n",
    "for j in range(1, 7):\n",
    "    scores.append([])\n",
    "    num_segment = int(total_months / j)\n",
    "    for i in range(1, min(num_segment,20)):\n",
    "        length_segment = int(total / num_segment)\n",
    "        use_length = length_segment*(i+2)\n",
    "        df_train_test = df_track[-use_length:]\n",
    "        print(\"use {} months training, {} months testing, total dataset length:{}\".format(i*j, j, df_train_test.shape[0]))\n",
    "\n",
    "        rf = RandomForestRegressor(n_estimators=20, max_depth=10, n_jobs=-1, random_state=17)\n",
    "        mm = ModelManager(df_train_test, use_features, rf, time_series=True)\n",
    "        score = mm.run(test_size=length_segment, valid_size=length_segment)\n",
    "        scores[j-1].append(score)"
   ]
  },
  {
   "cell_type": "code",
   "execution_count": 152,
   "metadata": {},
   "outputs": [
    {
     "data": {
      "image/png": "[encoded data removed]",
      "text/plain": [
       "<matplotlib.figure.Figure at 0x209d3c760f0>"
      ]
     },
     "metadata": {},
     "output_type": "display_data"
    },
    {
     "name": "stdout",
     "output_type": "stream",
     "text": [
      "best training length for 2 months testing set is 8\n"
     ]
    }
   ],
   "source": [
    "fig=plt.figure()\n",
    "for j in range(1, 7):\n",
    "    num_segment = int(total_months / j)\n",
    "    x = [i*j for i in range(1, min(num_segment,20))]\n",
    "    plt.plot(x, scores[j-1], label='{} months'.format(j))\n",
    "         \n",
    "plt.xlabel(\"length of training\")\n",
    "plt.ylabel(\"Score\")\n",
    "plt.legend()\n",
    "plt.show()\n",
    "\n",
    "print('best training length for 2 months testing set is {}'.format((np.argmin(scores)+1)*2))"
   ]
  },
  {
   "cell_type": "markdown",
   "metadata": {},
   "source": [
    "### conclusion\n",
    "* testing size of 1 or 2 months is a little too small and model performance is not very stable\n",
    "* testing size of >= 3 looks similar\n",
    "* training length has elbow point at around 10~15 months\n",
    "* let's try testing length: 4, training: 12"
   ]
  },
  {
   "cell_type": "code",
   "execution_count": null,
   "metadata": {},
   "outputs": [],
   "source": []
  }
 ],
 "metadata": {
  "kernelspec": {
   "display_name": "Python 3",
   "language": "python",
   "name": "python3"
  },
  "language_info": {
   "codemirror_mode": {
    "name": "ipython",
    "version": 3
   },
   "file_extension": ".py",
   "mimetype": "text/x-python",
   "name": "python",
   "nbconvert_exporter": "python",
   "pygments_lexer": "ipython3",
   "version": "3.6.4"
  }
 },
 "nbformat": 4,
 "nbformat_minor": 2
}
