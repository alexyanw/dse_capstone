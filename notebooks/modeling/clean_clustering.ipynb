{
 "cells": [
  {
   "cell_type": "code",
   "execution_count": 8,
   "metadata": {},
   "outputs": [
    {
     "name": "stdout",
     "output_type": "stream",
     "text": [
      "The autoreload extension is already loaded. To reload it, use:\n",
      "  %reload_ext autoreload\n"
     ]
    }
   ],
   "source": [
    "%load_ext autoreload\n",
    "# always reload modules marked with \"%aimport\"\n",
    "%autoreload 1\n",
    "\n",
    "import os,sys\n",
    "import numpy as np\n",
    "import pandas as pd\n",
    "\n",
    "# add the 'src' directory as one where we can import modules\n",
    "src_dir = os.path.join(os.getcwd(), '../..', 'src')\n",
    "sys.path.append(src_dir)\n",
    "\n",
    "%aimport plot_utils\n",
    "from plot_utils import *\n",
    "%aimport preprocessing\n",
    "from preprocessing import *\n",
    "%aimport data_source\n",
    "from data_source import *\n",
    "%aimport model_manage\n",
    "from model_manage import *\n",
    "%aimport multi_segment_regressor\n",
    "from multi_segment_regressor import *\n",
    "\n",
    "import logging\n",
    "from utils import *\n",
    "set_logger(logging.DEBUG)"
   ]
  },
  {
   "cell_type": "code",
   "execution_count": 9,
   "metadata": {},
   "outputs": [],
   "source": [
    "import pandas as pd\n",
    "import numpy as np\n",
    "\n",
    "from sklearn import linear_model\n",
    "from sklearn import model_selection\n",
    "from sklearn.ensemble import RandomForestRegressor\n",
    "from sklearn.model_selection import cross_val_score\n",
    "from sklearn.ensemble import GradientBoostingRegressor\n",
    "from sklearn.pipeline import make_pipeline, Pipeline\n",
    "from sklearn.preprocessing import StandardScaler\n",
    "from sklearn.linear_model import ElasticNet"
   ]
  },
  {
   "cell_type": "code",
   "execution_count": 10,
   "metadata": {},
   "outputs": [],
   "source": [
    "import logging\n",
    "set_logger(logging.INFO)"
   ]
  },
  {
   "cell_type": "code",
   "execution_count": 6,
   "metadata": {},
   "outputs": [
    {
     "name": "stderr",
     "output_type": "stream",
     "text": [
      "[dp] connect to database postgresql://postgres:@localhost:5432/sdra\n",
      "[dp] supported views: ['properties', 'property_features', 'transactions', 'property_addresses', 'property_address_transactions', 'property_transaction_valid', 'property_address_school_transactions']\n"
     ]
    }
   ],
   "source": [
    "ds = DataSource(host='localhost',port=5432, username='postgres', password='', database='sdra')\n",
    "ds.show_views()\n",
    "#ds.update_views()"
   ]
  },
  {
   "cell_type": "code",
   "execution_count": 7,
   "metadata": {},
   "outputs": [
    {
     "name": "stdout",
     "output_type": "stream",
     "text": [
      "(1475109, 25)\n",
      "(709325, 22)\n"
     ]
    }
   ],
   "source": [
    "#df_transaction = ds.get_view_df('property_address_school_transactions')\n",
    "df_transaction = ds.get_view_df('property_address_transactions')\n",
    "df_property = ds.get_view_df('property_addresses')\n",
    "print(df_transaction.shape)\n",
    "print(df_property.shape)"
   ]
  },
  {
   "cell_type": "code",
   "execution_count": 73,
   "metadata": {},
   "outputs": [],
   "source": [
    "pp = Preprocess(df_transaction, df_property)\n",
    "use_features = pp.get_feature_list()"
   ]
  },
  {
   "cell_type": "code",
   "execution_count": 74,
   "metadata": {},
   "outputs": [],
   "source": [
    "use_features = ['date',\n",
    " 'sqft',\n",
    " 'num_bed',\n",
    " 'num_bath',\n",
    " 'view',\n",
    " 'pool',\n",
    " 'sqft_zip_avg',\n",
    " 'sqft_price_zip_avg',\n",
    " 'sold_price_zip_avg',\n",
    " 'impr_over_land',\n",
    " 'lon',\n",
    " 'lat',\n",
    " #'min_elem_distance',\n",
    " #'min_middle_distance',\n",
    " #'min_high_distance',\n",
    " #'elem_rating',\n",
    " #'middle_rating',\n",
    " #'high_rating',\n",
    " #'avg_elem_rating',\n",
    " #'avg_middle_rating',\n",
    " #'avg_high_rating',\n",
    " ]"
   ]
  },
  {
   "cell_type": "code",
   "execution_count": 75,
   "metadata": {},
   "outputs": [
    {
     "name": "stderr",
     "output_type": "stream",
     "text": [
      "[dp] transforming date\n",
      "[dp] transforming view\n",
      "[dp] transforming pool\n",
      "[dp] transforming impr_over_land\n",
      "[dp] transforming sold_year\n",
      "[dp] transforming sold_age\n",
      "[dp] transforming eval\n",
      "[dp] transforming eval_sqft_price\n",
      "[dp] making sqft_zip_avg\n",
      "[dp] making sqft_price_zip_avg\n",
      "[dp] making sold_price_zip_avg\n",
      "[dp] making sale_count_zip\n"
     ]
    },
    {
     "data": {
      "text/plain": [
       "(67218, 26)"
      ]
     },
     "execution_count": 75,
     "metadata": {},
     "output_type": "execute_result"
    }
   ],
   "source": [
    "# records of last year\n",
    "df_track = pp.dataset(feature='all', valid=True, clean=True, date=('2015-10-01', '2017-10-01'))\n",
    "df_track.shape"
   ]
  },
  {
   "cell_type": "code",
   "execution_count": 17,
   "metadata": {},
   "outputs": [
    {
     "data": {
      "text/html": [
       "<div>\n",
       "<style scoped>\n",
       "    .dataframe tbody tr th:only-of-type {\n",
       "        vertical-align: middle;\n",
       "    }\n",
       "\n",
       "    .dataframe tbody tr th {\n",
       "        vertical-align: top;\n",
       "    }\n",
       "\n",
       "    .dataframe thead th {\n",
       "        text-align: right;\n",
       "    }\n",
       "</style>\n",
       "<table border=\"1\" class=\"dataframe\">\n",
       "  <thead>\n",
       "    <tr style=\"text-align: right;\">\n",
       "      <th></th>\n",
       "      <th>sqft_price_zip_avg</th>\n",
       "      <th>sold_age</th>\n",
       "      <th>zip</th>\n",
       "      <th>street</th>\n",
       "      <th>num_bath</th>\n",
       "      <th>eval_imps</th>\n",
       "      <th>sold_price</th>\n",
       "      <th>id</th>\n",
       "      <th>eval</th>\n",
       "      <th>lat</th>\n",
       "      <th>...</th>\n",
       "      <th>impr_over_land</th>\n",
       "      <th>sqft_zip_avg</th>\n",
       "      <th>view</th>\n",
       "      <th>sold_price_zip_avg</th>\n",
       "      <th>pool</th>\n",
       "      <th>sqft_price</th>\n",
       "      <th>sale_count_zip</th>\n",
       "      <th>date</th>\n",
       "      <th>eval_land</th>\n",
       "      <th>num_bed</th>\n",
       "    </tr>\n",
       "  </thead>\n",
       "  <tbody>\n",
       "    <tr>\n",
       "      <th>1</th>\n",
       "      <td>264.264499</td>\n",
       "      <td>30.000000</td>\n",
       "      <td>92020</td>\n",
       "      <td>CHAMBERS</td>\n",
       "      <td>1.0</td>\n",
       "      <td>89817</td>\n",
       "      <td>158500</td>\n",
       "      <td>1392761</td>\n",
       "      <td>161669</td>\n",
       "      <td>32.79673</td>\n",
       "      <td>...</td>\n",
       "      <td>1.250028</td>\n",
       "      <td>1678.766257</td>\n",
       "      <td>0</td>\n",
       "      <td>429138.400703</td>\n",
       "      <td>0</td>\n",
       "      <td>216</td>\n",
       "      <td>1138</td>\n",
       "      <td>2015-10-01</td>\n",
       "      <td>71852</td>\n",
       "      <td>1.0</td>\n",
       "    </tr>\n",
       "    <tr>\n",
       "      <th>61301</th>\n",
       "      <td>391.174863</td>\n",
       "      <td>38.000000</td>\n",
       "      <td>92122</td>\n",
       "      <td>CAMINITO ARAYA</td>\n",
       "      <td>1.0</td>\n",
       "      <td>92675</td>\n",
       "      <td>318000</td>\n",
       "      <td>1392788</td>\n",
       "      <td>324359</td>\n",
       "      <td>32.85025</td>\n",
       "      <td>...</td>\n",
       "      <td>0.400006</td>\n",
       "      <td>1347.417122</td>\n",
       "      <td>0</td>\n",
       "      <td>516158.925319</td>\n",
       "      <td>0</td>\n",
       "      <td>347</td>\n",
       "      <td>1098</td>\n",
       "      <td>2015-10-01</td>\n",
       "      <td>231684</td>\n",
       "      <td>1.0</td>\n",
       "    </tr>\n",
       "    <tr>\n",
       "      <th>9718</th>\n",
       "      <td>324.592027</td>\n",
       "      <td>112.000000</td>\n",
       "      <td>92127</td>\n",
       "      <td>FIELDTHORN</td>\n",
       "      <td>2.0</td>\n",
       "      <td>249900</td>\n",
       "      <td>595000</td>\n",
       "      <td>1392721</td>\n",
       "      <td>606900</td>\n",
       "      <td>33.01318</td>\n",
       "      <td>...</td>\n",
       "      <td>0.700000</td>\n",
       "      <td>2648.682358</td>\n",
       "      <td>0</td>\n",
       "      <td>858583.757422</td>\n",
       "      <td>0</td>\n",
       "      <td>421</td>\n",
       "      <td>2358</td>\n",
       "      <td>2015-10-01</td>\n",
       "      <td>357000</td>\n",
       "      <td>3.0</td>\n",
       "    </tr>\n",
       "    <tr>\n",
       "      <th>9719</th>\n",
       "      <td>324.592027</td>\n",
       "      <td>26.731502</td>\n",
       "      <td>92127</td>\n",
       "      <td>HUNTERS RIDGE</td>\n",
       "      <td>2.0</td>\n",
       "      <td>421086</td>\n",
       "      <td>848000</td>\n",
       "      <td>1392758</td>\n",
       "      <td>864959</td>\n",
       "      <td>33.03887</td>\n",
       "      <td>...</td>\n",
       "      <td>0.948663</td>\n",
       "      <td>2648.682358</td>\n",
       "      <td>0</td>\n",
       "      <td>858583.757422</td>\n",
       "      <td>0</td>\n",
       "      <td>308</td>\n",
       "      <td>2358</td>\n",
       "      <td>2015-10-01</td>\n",
       "      <td>443873</td>\n",
       "      <td>4.0</td>\n",
       "    </tr>\n",
       "    <tr>\n",
       "      <th>60075</th>\n",
       "      <td>251.726754</td>\n",
       "      <td>26.731502</td>\n",
       "      <td>91915</td>\n",
       "      <td>KENSINGTON</td>\n",
       "      <td>3.0</td>\n",
       "      <td>248698</td>\n",
       "      <td>415000</td>\n",
       "      <td>1392786</td>\n",
       "      <td>423299</td>\n",
       "      <td>32.61862</td>\n",
       "      <td>...</td>\n",
       "      <td>1.424379</td>\n",
       "      <td>1895.782219</td>\n",
       "      <td>0</td>\n",
       "      <td>462969.412724</td>\n",
       "      <td>0</td>\n",
       "      <td>240</td>\n",
       "      <td>1226</td>\n",
       "      <td>2015-10-01</td>\n",
       "      <td>174601</td>\n",
       "      <td>3.0</td>\n",
       "    </tr>\n",
       "  </tbody>\n",
       "</table>\n",
       "<p>5 rows × 25 columns</p>\n",
       "</div>"
      ],
      "text/plain": [
       "       sqft_price_zip_avg    sold_age    zip          street  num_bath  \\\n",
       "1              264.264499   30.000000  92020        CHAMBERS       1.0   \n",
       "61301          391.174863   38.000000  92122  CAMINITO ARAYA       1.0   \n",
       "9718           324.592027  112.000000  92127      FIELDTHORN       2.0   \n",
       "9719           324.592027   26.731502  92127   HUNTERS RIDGE       2.0   \n",
       "60075          251.726754   26.731502  91915      KENSINGTON       3.0   \n",
       "\n",
       "       eval_imps  sold_price       id    eval       lat   ...     \\\n",
       "1          89817      158500  1392761  161669  32.79673   ...      \n",
       "61301      92675      318000  1392788  324359  32.85025   ...      \n",
       "9718      249900      595000  1392721  606900  33.01318   ...      \n",
       "9719      421086      848000  1392758  864959  33.03887   ...      \n",
       "60075     248698      415000  1392786  423299  32.61862   ...      \n",
       "\n",
       "       impr_over_land  sqft_zip_avg  view  sold_price_zip_avg  pool  \\\n",
       "1            1.250028   1678.766257     0       429138.400703     0   \n",
       "61301        0.400006   1347.417122     0       516158.925319     0   \n",
       "9718         0.700000   2648.682358     0       858583.757422     0   \n",
       "9719         0.948663   2648.682358     0       858583.757422     0   \n",
       "60075        1.424379   1895.782219     0       462969.412724     0   \n",
       "\n",
       "       sqft_price  sale_count_zip       date  eval_land  num_bed  \n",
       "1             216            1138 2015-10-01      71852      1.0  \n",
       "61301         347            1098 2015-10-01     231684      1.0  \n",
       "9718          421            2358 2015-10-01     357000      3.0  \n",
       "9719          308            2358 2015-10-01     443873      4.0  \n",
       "60075         240            1226 2015-10-01     174601      3.0  \n",
       "\n",
       "[5 rows x 25 columns]"
      ]
     },
     "execution_count": 17,
     "metadata": {},
     "output_type": "execute_result"
    }
   ],
   "source": [
    "df_track.head()"
   ]
  },
  {
   "cell_type": "code",
   "execution_count": 85,
   "metadata": {
    "scrolled": false
   },
   "outputs": [],
   "source": [
    "import time\n",
    "from itertools import cycle, islice\n",
    "\n",
    "from sklearn import cluster, mixture\n",
    "from sklearn.neighbors import kneighbors_graph\n",
    "from sklearn.preprocessing import StandardScaler\n",
    "\n",
    "def clustering(cluster_features, iteration):\n",
    "    # normalize dataset for easier parameter selection\n",
    "    X = StandardScaler().fit_transform(df_track[cluster_features])\n",
    "    plt.figure(figsize=(9 * 2 + 3, 3*iteration+.5))\n",
    "    plt.subplots_adjust(left=.02, right=.98, bottom=.001, top=.96, wspace=.05,\n",
    "                        hspace=.01)\n",
    "\n",
    "    measure = {'MiniBatchKMeans':[],\n",
    "               'BayesianGaussianMixture':[]\n",
    "              }\n",
    "    plot_num = 1\n",
    "    for n in range(3,3+iteration):\n",
    "        two_means = cluster.MiniBatchKMeans(n_clusters=n)\n",
    "        #ms = cluster.MeanShift(bandwidth=bandwidth, bin_seeding=True)\n",
    "        spectral = cluster.SpectralClustering(n_clusters=n, eigen_solver='arpack', affinity=\"nearest_neighbors\")\n",
    "        #dbscan = cluster.DBSCAN(eps=.3)\n",
    "        #affinity_propagation = cluster.AffinityPropagation(damping=.9, preference=-200)\n",
    "        gmm = mixture.GaussianMixture(n_components=n, covariance_type='full')\n",
    "        bgm = mixture.BayesianGaussianMixture(n_components=n, covariance_type='full')\n",
    "\n",
    "        clustering_algorithms = [\n",
    "                ('MiniBatchKMeans', two_means),\n",
    "        #        ('AffinityPropagation', affinity_propagation),\n",
    "        #        ('MeanShift', ms),\n",
    "        #        ('SpectralClustering', spectral),\n",
    "        #        ('Ward', ward),\n",
    "        #        ('AgglomerativeClustering', average_linkage),\n",
    "        #        ('DBSCAN', dbscan),\n",
    "        #        ('Birch', birch),\n",
    "        #        ('GaussianMixture', gmm),\n",
    "        #        ('BayesianGaussianMixture', bgm)\n",
    "        ]\n",
    "\n",
    "        for clustering in clustering_algorithms:\n",
    "            name, algorithm = clustering[0], clustering[1]\n",
    "            t0 = time.time()\n",
    "            algorithm.fit(X)\n",
    "            t1 = time.time()\n",
    "            if hasattr(algorithm, 'labels_'):\n",
    "                y_pred = algorithm.labels_.astype(np.int)\n",
    "            else:\n",
    "                y_pred = algorithm.predict(X)\n",
    "\n",
    "            if name == 'BayesianGaussianMixture':\n",
    "                measure[name].append(algorithm.lower_bound_)\n",
    "            else:\n",
    "                measure[name].append(algorithm.inertia_)\n",
    "\n",
    "            plt.subplot(iteration, 2, plot_num)\n",
    "            plt.title(\"{} {} clusters on {}\".format(name, n, cluster_features), size=18)\n",
    "\n",
    "            colors = np.array(list(islice(cycle(['#377eb8', '#ff7f00', '#4daf4a',\n",
    "                                                     '#f781bf', '#a65628', '#984ea3',\n",
    "                                                     '#999999', '#e41a1c', '#dede00']),\n",
    "                                              int(max(y_pred) + 1))))\n",
    "            #plt.scatter(df_track['lon'], df_track['lat'], s=10, color=colors[y_pred], alpha=0.2)\n",
    "            plt.scatter(df_track['sold_price'], y_pred, s=10, color=colors[y_pred], alpha=0.2)\n",
    "            plt.xticks(())\n",
    "            plt.yticks(())\n",
    "            plt.text(.99, .01, ('%.2fs' % (t1 - t0)).lstrip('0'),\n",
    "                         transform=plt.gca().transAxes, size=15,\n",
    "                         horizontalalignment='right')\n",
    "            plot_num += 1\n",
    "    plt.show()\n",
    "    return measure"
   ]
  },
  {
   "cell_type": "code",
   "execution_count": 86,
   "metadata": {},
   "outputs": [
    {
     "data": {
      "image/png": "[encoded data removed]",
      "text/plain": [
       "<matplotlib.figure.Figure at 0x1cb99e06048>"
      ]
     },
     "metadata": {},
     "output_type": "display_data"
    },
    {
     "data": {
      "image/png": "[encoded data removed]",
      "text/plain": [
       "<matplotlib.figure.Figure at 0x1cb99e061d0>"
      ]
     },
     "metadata": {},
     "output_type": "display_data"
    }
   ],
   "source": [
    "measure = clustering(['sold_price'], 9)\n",
    "plt.figure()\n",
    "plt.title\n",
    "plt.plot(list(range(3,3+9)), measure['MiniBatchKMeans'])\n",
    "plt.show()"
   ]
  },
  {
   "cell_type": "markdown",
   "metadata": {},
   "source": [
    "### baseline model"
   ]
  },
  {
   "cell_type": "code",
   "execution_count": 59,
   "metadata": {},
   "outputs": [
    {
     "name": "stderr",
     "output_type": "stream",
     "text": [
      "[dp] track/sliding/test window size: 56018, 33600, 11200\n"
     ]
    },
    {
     "name": "stdout",
     "output_type": "stream",
     "text": [
      "(67218, 25)\n"
     ]
    },
    {
     "data": {
      "text/plain": [
       "112639.94031544629"
      ]
     },
     "execution_count": 59,
     "metadata": {},
     "output_type": "execute_result"
    }
   ],
   "source": [
    "\n",
    "rf = RandomForestRegressor(n_estimators=100, max_depth=14, n_jobs=-1, random_state=17)\n",
    "print(df_track.shape)\n",
    "monthly_volume = int(df_track.shape[0] / 24)\n",
    "mm = ModelManager(df_track, use_features, rf, time_series=True)\n",
    "mm.run(sliding_window=monthly_volume*12, test_size=monthly_volume*4)"
   ]
  },
  {
   "cell_type": "code",
   "execution_count": 22,
   "metadata": {},
   "outputs": [],
   "source": [
    "### assume the we can do same clustering on test dataset\n",
    "def remeasure(df_checks):\n",
    "    df_merged = pd.concat(df_checks)\n",
    "    return sqrt(mean_squared_error(df_merged['predict'], df_merged['sold_price']))\n",
    "\n",
    "def measure_segments(cluster_features, cluster_range):\n",
    "    errors = []\n",
    "    for n in cluster_range:\n",
    "        X = StandardScaler().fit_transform(df_track[cluster_features])\n",
    "        clustering = cluster.MiniBatchKMeans(n_clusters=n)\n",
    "        #clustering = mixture.BayesianGaussianMixture(n_components=n, covariance_type='full')\n",
    "        clustering.fit(X)\n",
    "        y_pred = clustering.predict(X)\n",
    "\n",
    "        results = []\n",
    "        for i in range(n):\n",
    "            df_subset = df_track[y_pred==i]\n",
    "            rf = RandomForestRegressor(n_estimators=100, max_depth=14, n_jobs=-1, random_state=17)\n",
    "            print(df_subset.shape)\n",
    "            monthly_volume = int(df_subset.shape[0] / 24)\n",
    "            mm = ModelManager(df_subset, use_features, rf, time_series=True)\n",
    "            mm.run(sliding_window=monthly_volume*12, test_size=monthly_volume*4)\n",
    "            results.append(mm.get_result_df())\n",
    "        errors.append(remeasure(results))\n",
    "    return errors"
   ]
  },
  {
   "cell_type": "code",
   "execution_count": 33,
   "metadata": {},
   "outputs": [
    {
     "name": "stderr",
     "output_type": "stream",
     "text": [
      "[dp] track/sliding/test window size: 18585, 11148, 3716\n",
      "[dp] train/valid/test size: 14868, 3717, 3716\n",
      "[dp] validation step is skipped\n"
     ]
    },
    {
     "name": "stdout",
     "output_type": "stream",
     "text": [
      "(22301, 14)\n"
     ]
    },
    {
     "name": "stderr",
     "output_type": "stream",
     "text": [
      "[dp] track/sliding/test window size: 16582, 9948, 3316\n",
      "[dp] train/valid/test size: 13265, 3317, 3316\n",
      "[dp] validation step is skipped\n"
     ]
    },
    {
     "name": "stdout",
     "output_type": "stream",
     "text": [
      "(19898, 14)\n"
     ]
    },
    {
     "name": "stderr",
     "output_type": "stream",
     "text": [
      "[dp] track/sliding/test window size: 20853, 12504, 4168\n",
      "[dp] train/valid/test size: 16682, 4171, 4168\n",
      "[dp] validation step is skipped\n"
     ]
    },
    {
     "name": "stdout",
     "output_type": "stream",
     "text": [
      "(25021, 14)\n"
     ]
    },
    {
     "name": "stderr",
     "output_type": "stream",
     "text": [
      "[dp] track/sliding/test window size: 18515, 11100, 3700\n",
      "[dp] train/valid/test size: 14812, 3703, 3700\n",
      "[dp] validation step is skipped\n"
     ]
    },
    {
     "name": "stdout",
     "output_type": "stream",
     "text": [
      "(22215, 14)\n"
     ]
    },
    {
     "name": "stderr",
     "output_type": "stream",
     "text": [
      "[dp] track/sliding/test window size: 13103, 7848, 2616\n",
      "[dp] train/valid/test size: 10482, 2621, 2616\n",
      "[dp] validation step is skipped\n"
     ]
    },
    {
     "name": "stdout",
     "output_type": "stream",
     "text": [
      "(15719, 14)\n"
     ]
    },
    {
     "name": "stderr",
     "output_type": "stream",
     "text": [
      "[dp] track/sliding/test window size: 14762, 8856, 2952\n",
      "[dp] train/valid/test size: 11809, 2953, 2952\n",
      "[dp] validation step is skipped\n"
     ]
    },
    {
     "name": "stdout",
     "output_type": "stream",
     "text": [
      "(17714, 14)\n"
     ]
    },
    {
     "name": "stderr",
     "output_type": "stream",
     "text": [
      "[dp] track/sliding/test window size: 9644, 5784, 1928\n",
      "[dp] train/valid/test size: 7715, 1929, 1928\n",
      "[dp] validation step is skipped\n"
     ]
    },
    {
     "name": "stdout",
     "output_type": "stream",
     "text": [
      "(11572, 14)\n"
     ]
    },
    {
     "name": "stderr",
     "output_type": "stream",
     "text": [
      "[dp] track/sliding/test window size: 10307, 6180, 2060\n",
      "[dp] train/valid/test size: 8245, 2062, 2060\n",
      "[dp] validation step is skipped\n"
     ]
    },
    {
     "name": "stdout",
     "output_type": "stream",
     "text": [
      "(12367, 14)\n"
     ]
    },
    {
     "name": "stderr",
     "output_type": "stream",
     "text": [
      "[dp] track/sliding/test window size: 18812, 11280, 3760\n",
      "[dp] train/valid/test size: 15049, 3763, 3760\n",
      "[dp] validation step is skipped\n"
     ]
    },
    {
     "name": "stdout",
     "output_type": "stream",
     "text": [
      "(22572, 14)\n"
     ]
    },
    {
     "name": "stderr",
     "output_type": "stream",
     "text": [
      "[dp] track/sliding/test window size: 497, 288, 96\n",
      "[dp] train/valid/test size: 397, 100, 96\n",
      "[dp] validation step is skipped\n"
     ]
    },
    {
     "name": "stdout",
     "output_type": "stream",
     "text": [
      "(593, 14)\n"
     ]
    },
    {
     "name": "stderr",
     "output_type": "stream",
     "text": [
      "[dp] track/sliding/test window size: 13150, 7884, 2628\n",
      "[dp] train/valid/test size: 10520, 2630, 2628\n",
      "[dp] validation step is skipped\n"
     ]
    },
    {
     "name": "stdout",
     "output_type": "stream",
     "text": [
      "(15778, 14)\n"
     ]
    },
    {
     "name": "stderr",
     "output_type": "stream",
     "text": [
      "[dp] track/sliding/test window size: 13262, 7944, 2648\n",
      "[dp] train/valid/test size: 10609, 2653, 2648\n",
      "[dp] validation step is skipped\n"
     ]
    },
    {
     "name": "stdout",
     "output_type": "stream",
     "text": [
      "(15910, 14)\n"
     ]
    },
    {
     "name": "stderr",
     "output_type": "stream",
     "text": [
      "[dp] track/sliding/test window size: 10992, 6588, 2196\n",
      "[dp] train/valid/test size: 8793, 2199, 2196\n",
      "[dp] validation step is skipped\n"
     ]
    },
    {
     "name": "stdout",
     "output_type": "stream",
     "text": [
      "(13188, 14)\n"
     ]
    },
    {
     "name": "stderr",
     "output_type": "stream",
     "text": [
      "[dp] track/sliding/test window size: 9045, 5424, 1808\n",
      "[dp] train/valid/test size: 7236, 1809, 1808\n",
      "[dp] validation step is skipped\n"
     ]
    },
    {
     "name": "stdout",
     "output_type": "stream",
     "text": [
      "(10853, 14)\n"
     ]
    },
    {
     "name": "stderr",
     "output_type": "stream",
     "text": [
      "[dp] track/sliding/test window size: 12596, 7548, 2516\n",
      "[dp] train/valid/test size: 10076, 2520, 2516\n",
      "[dp] validation step is skipped\n"
     ]
    },
    {
     "name": "stdout",
     "output_type": "stream",
     "text": [
      "(15112, 14)\n"
     ]
    },
    {
     "name": "stderr",
     "output_type": "stream",
     "text": [
      "[dp] track/sliding/test window size: 9522, 5712, 1904\n",
      "[dp] train/valid/test size: 7617, 1905, 1904\n",
      "[dp] validation step is skipped\n"
     ]
    },
    {
     "name": "stdout",
     "output_type": "stream",
     "text": [
      "(11426, 14)\n"
     ]
    },
    {
     "name": "stderr",
     "output_type": "stream",
     "text": [
      "[dp] track/sliding/test window size: 5386, 3228, 1076\n",
      "[dp] train/valid/test size: 4308, 1078, 1076\n",
      "[dp] validation step is skipped\n"
     ]
    },
    {
     "name": "stdout",
     "output_type": "stream",
     "text": [
      "(6462, 14)\n"
     ]
    },
    {
     "name": "stderr",
     "output_type": "stream",
     "text": [
      "[dp] track/sliding/test window size: 8483, 5088, 1696\n",
      "[dp] train/valid/test size: 6786, 1697, 1696\n",
      "[dp] validation step is skipped\n"
     ]
    },
    {
     "name": "stdout",
     "output_type": "stream",
     "text": [
      "(10179, 14)\n"
     ]
    },
    {
     "name": "stderr",
     "output_type": "stream",
     "text": [
      "[dp] track/sliding/test window size: 9612, 5760, 1920\n",
      "[dp] train/valid/test size: 7689, 1923, 1920\n",
      "[dp] validation step is skipped\n"
     ]
    },
    {
     "name": "stdout",
     "output_type": "stream",
     "text": [
      "(11532, 14)\n"
     ]
    },
    {
     "name": "stderr",
     "output_type": "stream",
     "text": [
      "[dp] track/sliding/test window size: 13209, 7920, 2640\n",
      "[dp] train/valid/test size: 10567, 2642, 2640\n",
      "[dp] validation step is skipped\n"
     ]
    },
    {
     "name": "stdout",
     "output_type": "stream",
     "text": [
      "(15849, 14)\n"
     ]
    },
    {
     "name": "stderr",
     "output_type": "stream",
     "text": [
      "[dp] track/sliding/test window size: 6321, 3780, 1260\n",
      "[dp] train/valid/test size: 5056, 1265, 1260\n",
      "[dp] validation step is skipped\n"
     ]
    },
    {
     "name": "stdout",
     "output_type": "stream",
     "text": [
      "(7581, 14)\n"
     ]
    },
    {
     "name": "stderr",
     "output_type": "stream",
     "text": [
      "[dp] track/sliding/test window size: 8623, 5172, 1724\n",
      "[dp] train/valid/test size: 6898, 1725, 1724\n",
      "[dp] validation step is skipped\n"
     ]
    },
    {
     "name": "stdout",
     "output_type": "stream",
     "text": [
      "(10347, 14)\n"
     ]
    },
    {
     "name": "stderr",
     "output_type": "stream",
     "text": [
      "[dp] track/sliding/test window size: 6300, 3768, 1256\n",
      "[dp] train/valid/test size: 5040, 1260, 1256\n",
      "[dp] validation step is skipped\n"
     ]
    },
    {
     "name": "stdout",
     "output_type": "stream",
     "text": [
      "(7556, 14)\n"
     ]
    },
    {
     "name": "stderr",
     "output_type": "stream",
     "text": [
      "[dp] track/sliding/test window size: 494, 288, 96\n",
      "[dp] train/valid/test size: 395, 99, 96\n",
      "[dp] validation step is skipped\n"
     ]
    },
    {
     "name": "stdout",
     "output_type": "stream",
     "text": [
      "(590, 14)\n"
     ]
    },
    {
     "name": "stderr",
     "output_type": "stream",
     "text": [
      "[dp] track/sliding/test window size: 11473, 6876, 2292\n",
      "[dp] train/valid/test size: 9178, 2295, 2292\n",
      "[dp] validation step is skipped\n"
     ]
    },
    {
     "name": "stdout",
     "output_type": "stream",
     "text": [
      "(13765, 14)\n"
     ]
    },
    {
     "name": "stderr",
     "output_type": "stream",
     "text": [
      "[dp] track/sliding/test window size: 12031, 7212, 2404\n",
      "[dp] train/valid/test size: 9624, 2407, 2404\n",
      "[dp] validation step is skipped\n"
     ]
    },
    {
     "name": "stdout",
     "output_type": "stream",
     "text": [
      "(14435, 14)\n"
     ]
    },
    {
     "name": "stderr",
     "output_type": "stream",
     "text": [
      "[dp] track/sliding/test window size: 9067, 5436, 1812\n",
      "[dp] train/valid/test size: 7253, 1814, 1812\n",
      "[dp] validation step is skipped\n"
     ]
    },
    {
     "name": "stdout",
     "output_type": "stream",
     "text": [
      "(10879, 14)\n"
     ]
    },
    {
     "name": "stderr",
     "output_type": "stream",
     "text": [
      "[dp] track/sliding/test window size: 9109, 5460, 1820\n",
      "[dp] train/valid/test size: 7287, 1822, 1820\n",
      "[dp] validation step is skipped\n"
     ]
    },
    {
     "name": "stdout",
     "output_type": "stream",
     "text": [
      "(10929, 14)\n"
     ]
    },
    {
     "name": "stderr",
     "output_type": "stream",
     "text": [
      "[dp] track/sliding/test window size: 6971, 4176, 1392\n",
      "[dp] train/valid/test size: 5576, 1395, 1392\n",
      "[dp] validation step is skipped\n"
     ]
    },
    {
     "name": "stdout",
     "output_type": "stream",
     "text": [
      "(8363, 14)\n"
     ]
    },
    {
     "name": "stderr",
     "output_type": "stream",
     "text": [
      "[dp] track/sliding/test window size: 7477, 4476, 1492\n",
      "[dp] train/valid/test size: 5981, 1496, 1492\n",
      "[dp] validation step is skipped\n"
     ]
    },
    {
     "name": "stdout",
     "output_type": "stream",
     "text": [
      "(8969, 14)\n"
     ]
    },
    {
     "name": "stderr",
     "output_type": "stream",
     "text": [
      "[dp] track/sliding/test window size: 492, 288, 96\n",
      "[dp] train/valid/test size: 393, 99, 96\n",
      "[dp] validation step is skipped\n"
     ]
    },
    {
     "name": "stdout",
     "output_type": "stream",
     "text": [
      "(588, 14)\n"
     ]
    },
    {
     "name": "stderr",
     "output_type": "stream",
     "text": [
      "[dp] track/sliding/test window size: 6760, 4056, 1352\n",
      "[dp] train/valid/test size: 5408, 1352, 1352\n",
      "[dp] validation step is skipped\n"
     ]
    },
    {
     "name": "stdout",
     "output_type": "stream",
     "text": [
      "(8112, 14)\n"
     ]
    },
    {
     "name": "stderr",
     "output_type": "stream",
     "text": [
      "[dp] track/sliding/test window size: 4121, 2472, 824\n",
      "[dp] train/valid/test size: 3296, 825, 824\n",
      "[dp] validation step is skipped\n"
     ]
    },
    {
     "name": "stdout",
     "output_type": "stream",
     "text": [
      "(4945, 14)\n"
     ]
    },
    {
     "name": "stderr",
     "output_type": "stream",
     "text": [
      "[dp] track/sliding/test window size: 7143, 4272, 1424\n",
      "[dp] train/valid/test size: 5714, 1429, 1424\n",
      "[dp] validation step is skipped\n"
     ]
    },
    {
     "name": "stdout",
     "output_type": "stream",
     "text": [
      "(8567, 14)\n"
     ]
    },
    {
     "name": "stderr",
     "output_type": "stream",
     "text": [
      "[dp] track/sliding/test window size: 5531, 3312, 1104\n",
      "[dp] train/valid/test size: 4424, 1107, 1104\n",
      "[dp] validation step is skipped\n"
     ]
    },
    {
     "name": "stdout",
     "output_type": "stream",
     "text": [
      "(6635, 14)\n"
     ]
    },
    {
     "name": "stderr",
     "output_type": "stream",
     "text": [
      "[dp] track/sliding/test window size: 8503, 5088, 1696\n",
      "[dp] train/valid/test size: 6802, 1701, 1696\n",
      "[dp] validation step is skipped\n"
     ]
    },
    {
     "name": "stdout",
     "output_type": "stream",
     "text": [
      "(10199, 14)\n"
     ]
    },
    {
     "name": "stderr",
     "output_type": "stream",
     "text": [
      "[dp] track/sliding/test window size: 9978, 5976, 1992\n",
      "[dp] train/valid/test size: 7982, 1996, 1992\n",
      "[dp] validation step is skipped\n"
     ]
    },
    {
     "name": "stdout",
     "output_type": "stream",
     "text": [
      "(11970, 14)\n"
     ]
    },
    {
     "name": "stderr",
     "output_type": "stream",
     "text": [
      "[dp] track/sliding/test window size: 8151, 4884, 1628\n",
      "[dp] train/valid/test size: 6520, 1631, 1628\n",
      "[dp] validation step is skipped\n"
     ]
    },
    {
     "name": "stdout",
     "output_type": "stream",
     "text": [
      "(9779, 14)\n"
     ]
    },
    {
     "name": "stderr",
     "output_type": "stream",
     "text": [
      "[dp] track/sliding/test window size: 5263, 3144, 1048\n",
      "[dp] train/valid/test size: 4210, 1053, 1048\n",
      "[dp] validation step is skipped\n"
     ]
    },
    {
     "name": "stdout",
     "output_type": "stream",
     "text": [
      "(6311, 14)\n"
     ]
    },
    {
     "name": "stderr",
     "output_type": "stream",
     "text": [
      "[dp] track/sliding/test window size: 4029, 2412, 804\n",
      "[dp] train/valid/test size: 3223, 806, 804\n",
      "[dp] validation step is skipped\n"
     ]
    },
    {
     "name": "stdout",
     "output_type": "stream",
     "text": [
      "(4833, 14)\n"
     ]
    },
    {
     "name": "stderr",
     "output_type": "stream",
     "text": [
      "[dp] track/sliding/test window size: 492, 288, 96\n",
      "[dp] train/valid/test size: 393, 99, 96\n",
      "[dp] validation step is skipped\n"
     ]
    },
    {
     "name": "stdout",
     "output_type": "stream",
     "text": [
      "(588, 14)\n"
     ]
    },
    {
     "name": "stderr",
     "output_type": "stream",
     "text": [
      "[dp] track/sliding/test window size: 6950, 4164, 1388\n",
      "[dp] train/valid/test size: 5560, 1390, 1388\n",
      "[dp] validation step is skipped\n"
     ]
    },
    {
     "name": "stdout",
     "output_type": "stream",
     "text": [
      "(8338, 14)\n"
     ]
    },
    {
     "data": {
      "image/png": "[encoded data removed]",
      "text/plain": [
       "<matplotlib.figure.Figure at 0x1e6ba1544a8>"
      ]
     },
     "metadata": {},
     "output_type": "display_data"
    }
   ],
   "source": [
    "cluster_range = list(range(3,9))\n",
    "errors = measure_segments(['lon', 'lat'], cluster_range)\n",
    "\n",
    "plt.figure()\n",
    "plt.title('clustering on lon/lat')\n",
    "plt.plot(cluster_range, errors)\n",
    "plt.show()"
   ]
  },
  {
   "cell_type": "code",
   "execution_count": 29,
   "metadata": {},
   "outputs": [
    {
     "name": "stderr",
     "output_type": "stream",
     "text": [
      "[dp] track/sliding/test window size: 19958, 11964, 3988\n",
      "[dp] train/valid/test size: 15966, 3992, 3988\n",
      "[dp] validation step is skipped\n"
     ]
    },
    {
     "name": "stdout",
     "output_type": "stream",
     "text": [
      "(23946, 14)\n"
     ]
    },
    {
     "name": "stderr",
     "output_type": "stream",
     "text": [
      "[dp] track/sliding/test window size: 5461, 3276, 1092\n",
      "[dp] train/valid/test size: 4368, 1093, 1092\n",
      "[dp] validation step is skipped\n"
     ]
    },
    {
     "name": "stdout",
     "output_type": "stream",
     "text": [
      "(6553, 14)\n"
     ]
    },
    {
     "name": "stderr",
     "output_type": "stream",
     "text": [
      "[dp] track/sliding/test window size: 30601, 18360, 6120\n",
      "[dp] train/valid/test size: 24480, 6121, 6120\n",
      "[dp] validation step is skipped\n"
     ]
    },
    {
     "name": "stdout",
     "output_type": "stream",
     "text": [
      "(36721, 14)\n"
     ]
    },
    {
     "name": "stderr",
     "output_type": "stream",
     "text": [
      "[dp] track/sliding/test window size: 13604, 8160, 2720\n",
      "[dp] train/valid/test size: 10883, 2721, 2720\n",
      "[dp] validation step is skipped\n"
     ]
    },
    {
     "name": "stdout",
     "output_type": "stream",
     "text": [
      "(16324, 14)\n"
     ]
    },
    {
     "name": "stderr",
     "output_type": "stream",
     "text": [
      "[dp] track/sliding/test window size: 11863, 7104, 2368\n",
      "[dp] train/valid/test size: 9490, 2373, 2368\n",
      "[dp] validation step is skipped\n"
     ]
    },
    {
     "name": "stdout",
     "output_type": "stream",
     "text": [
      "(14231, 14)\n"
     ]
    },
    {
     "name": "stderr",
     "output_type": "stream",
     "text": [
      "[dp] track/sliding/test window size: 5332, 3192, 1064\n",
      "[dp] train/valid/test size: 4265, 1067, 1064\n",
      "[dp] validation step is skipped\n"
     ]
    },
    {
     "name": "stdout",
     "output_type": "stream",
     "text": [
      "(6396, 14)\n"
     ]
    },
    {
     "name": "stderr",
     "output_type": "stream",
     "text": [
      "[dp] track/sliding/test window size: 25225, 15132, 5044\n",
      "[dp] train/valid/test size: 20180, 5045, 5044\n",
      "[dp] validation step is skipped\n"
     ]
    },
    {
     "name": "stdout",
     "output_type": "stream",
     "text": [
      "(30269, 14)\n"
     ]
    },
    {
     "name": "stderr",
     "output_type": "stream",
     "text": [
      "C:\\Users\\wenyan\\Anaconda3\\envs\\cap\\lib\\site-packages\\sklearn\\mixture\\base.py:237: ConvergenceWarning: Initialization 1 did not converge. Try different init parameters, or increase max_iter, tol or check for degenerate data.\n",
      "  % (init + 1), ConvergenceWarning)\n",
      "[dp] track/sliding/test window size: 2241, 1332, 444\n",
      "[dp] train/valid/test size: 1792, 449, 444\n",
      "[dp] validation step is skipped\n"
     ]
    },
    {
     "name": "stdout",
     "output_type": "stream",
     "text": [
      "(2685, 14)\n"
     ]
    },
    {
     "name": "stderr",
     "output_type": "stream",
     "text": [
      "[dp] track/sliding/test window size: 8733, 5232, 1744\n",
      "[dp] train/valid/test size: 6986, 1747, 1744\n",
      "[dp] validation step is skipped\n"
     ]
    },
    {
     "name": "stdout",
     "output_type": "stream",
     "text": [
      "(10477, 14)\n"
     ]
    },
    {
     "name": "stderr",
     "output_type": "stream",
     "text": [
      "[dp] track/sliding/test window size: 26060, 15624, 5208\n",
      "[dp] train/valid/test size: 20848, 5212, 5208\n",
      "[dp] validation step is skipped\n"
     ]
    },
    {
     "name": "stdout",
     "output_type": "stream",
     "text": [
      "(31268, 14)\n"
     ]
    },
    {
     "name": "stderr",
     "output_type": "stream",
     "text": [
      "[dp] track/sliding/test window size: 11733, 7032, 2344\n",
      "[dp] train/valid/test size: 9386, 2347, 2344\n",
      "[dp] validation step is skipped\n"
     ]
    },
    {
     "name": "stdout",
     "output_type": "stream",
     "text": [
      "(14077, 14)\n"
     ]
    },
    {
     "name": "stderr",
     "output_type": "stream",
     "text": [
      "[dp] track/sliding/test window size: 7261, 4356, 1452\n",
      "[dp] train/valid/test size: 5808, 1453, 1452\n",
      "[dp] validation step is skipped\n"
     ]
    },
    {
     "name": "stdout",
     "output_type": "stream",
     "text": [
      "(8713, 14)\n"
     ]
    },
    {
     "name": "stderr",
     "output_type": "stream",
     "text": [
      "[dp] track/sliding/test window size: 10195, 6108, 2036\n",
      "[dp] train/valid/test size: 8156, 2039, 2036\n",
      "[dp] validation step is skipped\n"
     ]
    },
    {
     "name": "stdout",
     "output_type": "stream",
     "text": [
      "(12231, 14)\n"
     ]
    },
    {
     "name": "stderr",
     "output_type": "stream",
     "text": [
      "[dp] track/sliding/test window size: 17546, 10524, 3508\n",
      "[dp] train/valid/test size: 14036, 3510, 3508\n",
      "[dp] validation step is skipped\n"
     ]
    },
    {
     "name": "stdout",
     "output_type": "stream",
     "text": [
      "(21054, 14)\n"
     ]
    },
    {
     "name": "stderr",
     "output_type": "stream",
     "text": [
      "[dp] track/sliding/test window size: 11593, 6948, 2316\n",
      "[dp] train/valid/test size: 9274, 2319, 2316\n",
      "[dp] validation step is skipped\n"
     ]
    },
    {
     "name": "stdout",
     "output_type": "stream",
     "text": [
      "(13909, 14)\n"
     ]
    },
    {
     "name": "stderr",
     "output_type": "stream",
     "text": [
      "[dp] track/sliding/test window size: 5657, 3384, 1128\n",
      "[dp] train/valid/test size: 4525, 1132, 1128\n",
      "[dp] validation step is skipped\n"
     ]
    },
    {
     "name": "stdout",
     "output_type": "stream",
     "text": [
      "(6785, 14)\n"
     ]
    },
    {
     "name": "stderr",
     "output_type": "stream",
     "text": [
      "[dp] track/sliding/test window size: 2181, 1308, 436\n",
      "[dp] train/valid/test size: 1744, 437, 436\n",
      "[dp] validation step is skipped\n"
     ]
    },
    {
     "name": "stdout",
     "output_type": "stream",
     "text": [
      "(2617, 14)\n"
     ]
    },
    {
     "name": "stderr",
     "output_type": "stream",
     "text": [
      "[dp] track/sliding/test window size: 8856, 5304, 1768\n",
      "[dp] train/valid/test size: 7084, 1772, 1768\n",
      "[dp] validation step is skipped\n"
     ]
    },
    {
     "name": "stdout",
     "output_type": "stream",
     "text": [
      "(10624, 14)\n"
     ]
    },
    {
     "name": "stderr",
     "output_type": "stream",
     "text": [
      "[dp] track/sliding/test window size: 1590, 948, 316\n",
      "[dp] train/valid/test size: 1272, 318, 316\n",
      "[dp] validation step is skipped\n"
     ]
    },
    {
     "name": "stdout",
     "output_type": "stream",
     "text": [
      "(1906, 14)\n"
     ]
    },
    {
     "name": "stderr",
     "output_type": "stream",
     "text": [
      "[dp] track/sliding/test window size: 2959, 1764, 588\n",
      "[dp] train/valid/test size: 2367, 592, 588\n",
      "[dp] validation step is skipped\n"
     ]
    },
    {
     "name": "stdout",
     "output_type": "stream",
     "text": [
      "(3547, 14)\n"
     ]
    },
    {
     "name": "stderr",
     "output_type": "stream",
     "text": [
      "[dp] track/sliding/test window size: 9228, 5532, 1844\n",
      "[dp] train/valid/test size: 7382, 1846, 1844\n",
      "[dp] validation step is skipped\n"
     ]
    },
    {
     "name": "stdout",
     "output_type": "stream",
     "text": [
      "(11072, 14)\n"
     ]
    },
    {
     "name": "stderr",
     "output_type": "stream",
     "text": [
      "[dp] track/sliding/test window size: 17417, 10440, 3480\n",
      "[dp] train/valid/test size: 13933, 3484, 3480\n",
      "[dp] validation step is skipped\n"
     ]
    },
    {
     "name": "stdout",
     "output_type": "stream",
     "text": [
      "(20897, 14)\n"
     ]
    },
    {
     "name": "stderr",
     "output_type": "stream",
     "text": [
      "[dp] track/sliding/test window size: 4483, 2676, 892\n",
      "[dp] train/valid/test size: 3586, 897, 892\n",
      "[dp] validation step is skipped\n"
     ]
    },
    {
     "name": "stdout",
     "output_type": "stream",
     "text": [
      "(5375, 14)\n"
     ]
    },
    {
     "name": "stderr",
     "output_type": "stream",
     "text": [
      "[dp] track/sliding/test window size: 8978, 5376, 1792\n",
      "[dp] train/valid/test size: 7182, 1796, 1792\n",
      "[dp] validation step is skipped\n"
     ]
    },
    {
     "name": "stdout",
     "output_type": "stream",
     "text": [
      "(10770, 14)\n"
     ]
    },
    {
     "name": "stderr",
     "output_type": "stream",
     "text": [
      "[dp] track/sliding/test window size: 11381, 6816, 2272\n",
      "[dp] train/valid/test size: 9104, 2277, 2272\n",
      "[dp] validation step is skipped\n"
     ]
    },
    {
     "name": "stdout",
     "output_type": "stream",
     "text": [
      "(13653, 14)\n"
     ]
    },
    {
     "name": "stderr",
     "output_type": "stream",
     "text": [
      "C:\\Users\\wenyan\\Anaconda3\\envs\\cap\\lib\\site-packages\\sklearn\\mixture\\base.py:237: ConvergenceWarning: Initialization 1 did not converge. Try different init parameters, or increase max_iter, tol or check for degenerate data.\n",
      "  % (init + 1), ConvergenceWarning)\n",
      "[dp] track/sliding/test window size: 1557, 924, 308\n",
      "[dp] train/valid/test size: 1245, 312, 308\n",
      "[dp] validation step is skipped\n"
     ]
    },
    {
     "name": "stdout",
     "output_type": "stream",
     "text": [
      "(1865, 14)\n"
     ]
    },
    {
     "name": "stderr",
     "output_type": "stream",
     "text": [
      "[dp] track/sliding/test window size: 4443, 2652, 884\n",
      "[dp] train/valid/test size: 3554, 889, 884\n",
      "[dp] validation step is skipped\n"
     ]
    },
    {
     "name": "stdout",
     "output_type": "stream",
     "text": [
      "(5327, 14)\n"
     ]
    },
    {
     "name": "stderr",
     "output_type": "stream",
     "text": [
      "[dp] track/sliding/test window size: 7394, 4428, 1476\n",
      "[dp] train/valid/test size: 5915, 1479, 1476\n",
      "[dp] validation step is skipped\n"
     ]
    },
    {
     "name": "stdout",
     "output_type": "stream",
     "text": [
      "(8870, 14)\n"
     ]
    },
    {
     "name": "stderr",
     "output_type": "stream",
     "text": [
      "[dp] track/sliding/test window size: 17390, 10428, 3476\n",
      "[dp] train/valid/test size: 13912, 3478, 3476\n",
      "[dp] validation step is skipped\n"
     ]
    },
    {
     "name": "stdout",
     "output_type": "stream",
     "text": [
      "(20866, 14)\n"
     ]
    },
    {
     "name": "stderr",
     "output_type": "stream",
     "text": [
      "[dp] track/sliding/test window size: 4893, 2928, 976\n",
      "[dp] train/valid/test size: 3914, 979, 976\n",
      "[dp] validation step is skipped\n"
     ]
    },
    {
     "name": "stdout",
     "output_type": "stream",
     "text": [
      "(5869, 14)\n"
     ]
    },
    {
     "name": "stderr",
     "output_type": "stream",
     "text": [
      "[dp] track/sliding/test window size: 8932, 5352, 1784\n",
      "[dp] train/valid/test size: 7145, 1787, 1784\n",
      "[dp] validation step is skipped\n"
     ]
    },
    {
     "name": "stdout",
     "output_type": "stream",
     "text": [
      "(10716, 14)\n"
     ]
    },
    {
     "name": "stderr",
     "output_type": "stream",
     "text": [
      "[dp] track/sliding/test window size: 9567, 5736, 1912\n",
      "[dp] train/valid/test size: 7653, 1914, 1912\n",
      "[dp] validation step is skipped\n"
     ]
    },
    {
     "name": "stdout",
     "output_type": "stream",
     "text": [
      "(11479, 14)\n"
     ]
    },
    {
     "name": "stderr",
     "output_type": "stream",
     "text": [
      "[dp] track/sliding/test window size: 1860, 1104, 368\n",
      "[dp] train/valid/test size: 1488, 372, 368\n",
      "[dp] validation step is skipped\n"
     ]
    },
    {
     "name": "stdout",
     "output_type": "stream",
     "text": [
      "(2228, 14)\n"
     ]
    },
    {
     "data": {
      "image/png": "[encoded data removed]",
      "text/plain": [
       "<matplotlib.figure.Figure at 0x1e714eac128>"
      ]
     },
     "metadata": {},
     "output_type": "display_data"
    }
   ],
   "source": [
    "cluster_range = list(range(3,9))\n",
    "errors = measure_segments(['lon', 'lat', 'eval'], cluster_range)\n",
    "\n",
    "plt.figure()\n",
    "plt.title('clustering on lon/lat/sold_price')\n",
    "plt.plot(cluster_range, errors)\n",
    "plt.show()"
   ]
  },
  {
   "cell_type": "code",
   "execution_count": 23,
   "metadata": {},
   "outputs": [
    {
     "name": "stderr",
     "output_type": "stream",
     "text": [
      "[dp] track/sliding/test window size: 38750, 23244, 7748\n",
      "[dp] train/valid/test size: 31000, 7750, 7748\n",
      "[dp] validation step is skipped\n"
     ]
    },
    {
     "name": "stdout",
     "output_type": "stream",
     "text": [
      "(46498, 25)\n"
     ]
    },
    {
     "name": "stderr",
     "output_type": "stream",
     "text": [
      "[dp] track/sliding/test window size: 2824, 1692, 564\n",
      "[dp] train/valid/test size: 2259, 565, 564\n",
      "[dp] validation step is skipped\n"
     ]
    },
    {
     "name": "stdout",
     "output_type": "stream",
     "text": [
      "(3388, 25)\n"
     ]
    },
    {
     "name": "stderr",
     "output_type": "stream",
     "text": [
      "[dp] track/sliding/test window size: 14446, 8664, 2888\n",
      "[dp] train/valid/test size: 11556, 2890, 2888\n",
      "[dp] validation step is skipped\n"
     ]
    },
    {
     "name": "stdout",
     "output_type": "stream",
     "text": [
      "(17334, 25)\n"
     ]
    },
    {
     "name": "stderr",
     "output_type": "stream",
     "text": [
      "[dp] track/sliding/test window size: 7692, 4608, 1536\n",
      "[dp] train/valid/test size: 6153, 1539, 1536\n",
      "[dp] validation step is skipped\n"
     ]
    },
    {
     "name": "stdout",
     "output_type": "stream",
     "text": [
      "(9228, 25)\n"
     ]
    },
    {
     "name": "stderr",
     "output_type": "stream",
     "text": [
      "[dp] track/sliding/test window size: 25369, 15216, 5072\n",
      "[dp] train/valid/test size: 20295, 5074, 5072\n",
      "[dp] validation step is skipped\n"
     ]
    },
    {
     "name": "stdout",
     "output_type": "stream",
     "text": [
      "(30441, 25)\n"
     ]
    },
    {
     "name": "stderr",
     "output_type": "stream",
     "text": [
      "[dp] track/sliding/test window size: 2055, 1224, 408\n",
      "[dp] train/valid/test size: 1644, 411, 408\n",
      "[dp] validation step is skipped\n"
     ]
    },
    {
     "name": "stdout",
     "output_type": "stream",
     "text": [
      "(2463, 25)\n"
     ]
    },
    {
     "name": "stderr",
     "output_type": "stream",
     "text": [
      "[dp] track/sliding/test window size: 20908, 12540, 4180\n",
      "[dp] train/valid/test size: 16726, 4182, 4180\n",
      "[dp] validation step is skipped\n"
     ]
    },
    {
     "name": "stdout",
     "output_type": "stream",
     "text": [
      "(25088, 25)\n"
     ]
    },
    {
     "name": "stderr",
     "output_type": "stream",
     "text": [
      "[dp] track/sliding/test window size: 7501, 4500, 1500\n",
      "[dp] train/valid/test size: 6000, 1501, 1500\n",
      "[dp] validation step is skipped\n"
     ]
    },
    {
     "name": "stdout",
     "output_type": "stream",
     "text": [
      "(9001, 25)\n"
     ]
    },
    {
     "name": "stderr",
     "output_type": "stream",
     "text": [
      "[dp] track/sliding/test window size: 19383, 11628, 3876\n",
      "[dp] train/valid/test size: 15506, 3877, 3876\n",
      "[dp] validation step is skipped\n"
     ]
    },
    {
     "name": "stdout",
     "output_type": "stream",
     "text": [
      "(23259, 25)\n"
     ]
    },
    {
     "name": "stderr",
     "output_type": "stream",
     "text": [
      "[dp] track/sliding/test window size: 2196, 1308, 436\n",
      "[dp] train/valid/test size: 1756, 440, 436\n",
      "[dp] validation step is skipped\n"
     ]
    },
    {
     "name": "stdout",
     "output_type": "stream",
     "text": [
      "(2632, 25)\n"
     ]
    },
    {
     "name": "stderr",
     "output_type": "stream",
     "text": [
      "[dp] track/sliding/test window size: 16460, 9864, 3288\n",
      "[dp] train/valid/test size: 13168, 3292, 3288\n",
      "[dp] validation step is skipped\n"
     ]
    },
    {
     "name": "stdout",
     "output_type": "stream",
     "text": [
      "(19748, 25)\n"
     ]
    },
    {
     "name": "stderr",
     "output_type": "stream",
     "text": [
      "[dp] track/sliding/test window size: 10484, 6288, 2096\n",
      "[dp] train/valid/test size: 8387, 2097, 2096\n",
      "[dp] validation step is skipped\n"
     ]
    },
    {
     "name": "stdout",
     "output_type": "stream",
     "text": [
      "(12580, 25)\n"
     ]
    },
    {
     "name": "stderr",
     "output_type": "stream",
     "text": [
      "[dp] track/sliding/test window size: 19906, 11940, 3980\n",
      "[dp] train/valid/test size: 15924, 3982, 3980\n",
      "[dp] validation step is skipped\n"
     ]
    },
    {
     "name": "stdout",
     "output_type": "stream",
     "text": [
      "(23886, 25)\n"
     ]
    },
    {
     "name": "stderr",
     "output_type": "stream",
     "text": [
      "[dp] track/sliding/test window size: 1076, 636, 212\n",
      "[dp] train/valid/test size: 860, 216, 212\n",
      "[dp] validation step is skipped\n"
     ]
    },
    {
     "name": "stdout",
     "output_type": "stream",
     "text": [
      "(1288, 25)\n"
     ]
    },
    {
     "name": "stderr",
     "output_type": "stream",
     "text": [
      "[dp] track/sliding/test window size: 6721, 4020, 1340\n",
      "[dp] train/valid/test size: 5376, 1345, 1340\n",
      "[dp] validation step is skipped\n"
     ]
    },
    {
     "name": "stdout",
     "output_type": "stream",
     "text": [
      "(8061, 25)\n"
     ]
    },
    {
     "name": "stderr",
     "output_type": "stream",
     "text": [
      "[dp] track/sliding/test window size: 14660, 8796, 2932\n",
      "[dp] train/valid/test size: 11728, 2932, 2932\n",
      "[dp] validation step is skipped\n"
     ]
    },
    {
     "name": "stdout",
     "output_type": "stream",
     "text": [
      "(17592, 25)\n"
     ]
    },
    {
     "name": "stderr",
     "output_type": "stream",
     "text": [
      "[dp] track/sliding/test window size: 10940, 6564, 2188\n",
      "[dp] train/valid/test size: 8752, 2188, 2188\n",
      "[dp] validation step is skipped\n"
     ]
    },
    {
     "name": "stdout",
     "output_type": "stream",
     "text": [
      "(13128, 25)\n"
     ]
    },
    {
     "name": "stderr",
     "output_type": "stream",
     "text": [
      "[dp] track/sliding/test window size: 2721, 1632, 544\n",
      "[dp] train/valid/test size: 2176, 545, 544\n",
      "[dp] validation step is skipped\n"
     ]
    },
    {
     "name": "stdout",
     "output_type": "stream",
     "text": [
      "(3265, 25)\n"
     ]
    },
    {
     "name": "stderr",
     "output_type": "stream",
     "text": [
      "[dp] track/sliding/test window size: 17348, 10404, 3468\n",
      "[dp] train/valid/test size: 13878, 3470, 3468\n",
      "[dp] validation step is skipped\n"
     ]
    },
    {
     "name": "stdout",
     "output_type": "stream",
     "text": [
      "(20816, 25)\n"
     ]
    },
    {
     "name": "stderr",
     "output_type": "stream",
     "text": [
      "[dp] track/sliding/test window size: 1923, 1140, 380\n",
      "[dp] train/valid/test size: 1538, 385, 380\n",
      "[dp] validation step is skipped\n"
     ]
    },
    {
     "name": "stdout",
     "output_type": "stream",
     "text": [
      "(2303, 25)\n"
     ]
    },
    {
     "name": "stderr",
     "output_type": "stream",
     "text": [
      "[dp] track/sliding/test window size: 3881, 2328, 776\n",
      "[dp] train/valid/test size: 3104, 777, 776\n",
      "[dp] validation step is skipped\n"
     ]
    },
    {
     "name": "stdout",
     "output_type": "stream",
     "text": [
      "(4657, 25)\n"
     ]
    },
    {
     "name": "stderr",
     "output_type": "stream",
     "text": [
      "[dp] track/sliding/test window size: 643, 372, 124\n",
      "[dp] train/valid/test size: 514, 129, 124\n",
      "[dp] validation step is skipped\n"
     ]
    },
    {
     "name": "stdout",
     "output_type": "stream",
     "text": [
      "(767, 25)\n"
     ]
    },
    {
     "name": "stderr",
     "output_type": "stream",
     "text": [
      "[dp] track/sliding/test window size: 8355, 5004, 1668\n",
      "[dp] train/valid/test size: 6684, 1671, 1668\n",
      "[dp] validation step is skipped\n"
     ]
    },
    {
     "name": "stdout",
     "output_type": "stream",
     "text": [
      "(10023, 25)\n"
     ]
    },
    {
     "name": "stderr",
     "output_type": "stream",
     "text": [
      "[dp] track/sliding/test window size: 13543, 8124, 2708\n",
      "[dp] train/valid/test size: 10834, 2709, 2708\n",
      "[dp] validation step is skipped\n"
     ]
    },
    {
     "name": "stdout",
     "output_type": "stream",
     "text": [
      "(16251, 25)\n"
     ]
    },
    {
     "name": "stderr",
     "output_type": "stream",
     "text": [
      "[dp] track/sliding/test window size: 10339, 6192, 2064\n",
      "[dp] train/valid/test size: 8271, 2068, 2064\n",
      "[dp] validation step is skipped\n"
     ]
    },
    {
     "name": "stdout",
     "output_type": "stream",
     "text": [
      "(12403, 25)\n"
     ]
    },
    {
     "name": "stderr",
     "output_type": "stream",
     "text": [
      "[dp] track/sliding/test window size: 12127, 7272, 2424\n",
      "[dp] train/valid/test size: 9701, 2426, 2424\n",
      "[dp] validation step is skipped\n"
     ]
    },
    {
     "name": "stdout",
     "output_type": "stream",
     "text": [
      "(14551, 25)\n"
     ]
    },
    {
     "name": "stderr",
     "output_type": "stream",
     "text": [
      "[dp] track/sliding/test window size: 5684, 3408, 1136\n",
      "[dp] train/valid/test size: 4547, 1137, 1136\n",
      "[dp] validation step is skipped\n"
     ]
    },
    {
     "name": "stdout",
     "output_type": "stream",
     "text": [
      "(6820, 25)\n"
     ]
    },
    {
     "name": "stderr",
     "output_type": "stream",
     "text": [
      "[dp] track/sliding/test window size: 1062, 624, 208\n",
      "[dp] train/valid/test size: 849, 213, 208\n",
      "[dp] validation step is skipped\n"
     ]
    },
    {
     "name": "stdout",
     "output_type": "stream",
     "text": [
      "(1270, 25)\n"
     ]
    },
    {
     "name": "stderr",
     "output_type": "stream",
     "text": [
      "[dp] track/sliding/test window size: 21820, 13080, 4360\n",
      "[dp] train/valid/test size: 17456, 4364, 4360\n",
      "[dp] validation step is skipped\n"
     ]
    },
    {
     "name": "stdout",
     "output_type": "stream",
     "text": [
      "(26180, 25)\n"
     ]
    },
    {
     "name": "stderr",
     "output_type": "stream",
     "text": [
      "[dp] track/sliding/test window size: 498, 288, 96\n",
      "[dp] train/valid/test size: 398, 100, 96\n",
      "[dp] validation step is skipped\n"
     ]
    },
    {
     "name": "stdout",
     "output_type": "stream",
     "text": [
      "(594, 25)\n"
     ]
    },
    {
     "name": "stderr",
     "output_type": "stream",
     "text": [
      "[dp] track/sliding/test window size: 12525, 7512, 2504\n",
      "[dp] train/valid/test size: 10020, 2505, 2504\n",
      "[dp] validation step is skipped\n"
     ]
    },
    {
     "name": "stdout",
     "output_type": "stream",
     "text": [
      "(15029, 25)\n"
     ]
    },
    {
     "name": "stderr",
     "output_type": "stream",
     "text": [
      "[dp] track/sliding/test window size: 2138, 1272, 424\n",
      "[dp] train/valid/test size: 1710, 428, 424\n",
      "[dp] validation step is skipped\n"
     ]
    },
    {
     "name": "stdout",
     "output_type": "stream",
     "text": [
      "(2562, 25)\n"
     ]
    },
    {
     "name": "stderr",
     "output_type": "stream",
     "text": [
      "[dp] track/sliding/test window size: 182, 96, 32\n",
      "[dp] train/valid/test size: 145, 37, 32\n",
      "[dp] validation step is skipped\n"
     ]
    },
    {
     "name": "stdout",
     "output_type": "stream",
     "text": [
      "(214, 25)\n"
     ]
    },
    {
     "data": {
      "image/png": "[encoded data removed]",
      "text/plain": [
       "<matplotlib.figure.Figure at 0x1cb1e5aafd0>"
      ]
     },
     "metadata": {},
     "output_type": "display_data"
    }
   ],
   "source": [
    "cluster_range = list(range(3,9))\n",
    "errors = measure_segments(['eval'], cluster_range)\n",
    "\n",
    "plt.figure()\n",
    "plt.title('clustering on evaluation')\n",
    "plt.plot(cluster_range, errors)\n",
    "plt.show()"
   ]
  },
  {
   "cell_type": "code",
   "execution_count": 26,
   "metadata": {},
   "outputs": [
    {
     "name": "stderr",
     "output_type": "stream",
     "text": [
      "[dp] track/sliding/test window size: 29513, 17700, 5900\n",
      "[dp] validation step is skipped\n"
     ]
    },
    {
     "name": "stdout",
     "output_type": "stream",
     "text": [
      "(35413, 25)\n"
     ]
    },
    {
     "name": "stderr",
     "output_type": "stream",
     "text": [
      "[dp] track/sliding/test window size: 3659, 2184, 728\n",
      "[dp] validation step is skipped\n"
     ]
    },
    {
     "name": "stdout",
     "output_type": "stream",
     "text": [
      "(4387, 25)\n"
     ]
    },
    {
     "name": "stderr",
     "output_type": "stream",
     "text": [
      "[dp] track/sliding/test window size: 22852, 13704, 4568\n",
      "[dp] validation step is skipped\n"
     ]
    },
    {
     "name": "stdout",
     "output_type": "stream",
     "text": [
      "(27420, 25)\n"
     ]
    },
    {
     "name": "stderr",
     "output_type": "stream",
     "text": [
      "[dp] track/sliding/test window size: 21302, 12768, 4256\n",
      "[dp] validation step is skipped\n"
     ]
    },
    {
     "name": "stdout",
     "output_type": "stream",
     "text": [
      "(25558, 25)\n"
     ]
    },
    {
     "name": "stderr",
     "output_type": "stream",
     "text": [
      "[dp] track/sliding/test window size: 8031, 4812, 1604\n",
      "[dp] validation step is skipped\n"
     ]
    },
    {
     "name": "stdout",
     "output_type": "stream",
     "text": [
      "(9635, 25)\n"
     ]
    },
    {
     "name": "stderr",
     "output_type": "stream",
     "text": [
      "[dp] track/sliding/test window size: 1921, 1140, 380\n",
      "[dp] validation step is skipped\n"
     ]
    },
    {
     "name": "stdout",
     "output_type": "stream",
     "text": [
      "(2301, 25)\n"
     ]
    },
    {
     "name": "stderr",
     "output_type": "stream",
     "text": [
      "[dp] track/sliding/test window size: 24774, 14856, 4952\n",
      "[dp] validation step is skipped\n"
     ]
    },
    {
     "name": "stdout",
     "output_type": "stream",
     "text": [
      "(29726, 25)\n"
     ]
    },
    {
     "name": "stderr",
     "output_type": "stream",
     "text": [
      "[dp] track/sliding/test window size: 21523, 12912, 4304\n",
      "[dp] validation step is skipped\n"
     ]
    },
    {
     "name": "stdout",
     "output_type": "stream",
     "text": [
      "(25827, 25)\n"
     ]
    },
    {
     "name": "stderr",
     "output_type": "stream",
     "text": [
      "[dp] track/sliding/test window size: 946, 564, 188\n",
      "[dp] validation step is skipped\n"
     ]
    },
    {
     "name": "stdout",
     "output_type": "stream",
     "text": [
      "(1134, 25)\n"
     ]
    },
    {
     "name": "stderr",
     "output_type": "stream",
     "text": [
      "[dp] track/sliding/test window size: 2949, 1764, 588\n",
      "[dp] validation step is skipped\n"
     ]
    },
    {
     "name": "stdout",
     "output_type": "stream",
     "text": [
      "(3537, 25)\n"
     ]
    },
    {
     "name": "stderr",
     "output_type": "stream",
     "text": [
      "[dp] track/sliding/test window size: 22039, 13212, 4404\n",
      "[dp] validation step is skipped\n"
     ]
    },
    {
     "name": "stdout",
     "output_type": "stream",
     "text": [
      "(26443, 25)\n"
     ]
    },
    {
     "name": "stderr",
     "output_type": "stream",
     "text": [
      "[dp] track/sliding/test window size: 8567, 5136, 1712\n",
      "[dp] validation step is skipped\n"
     ]
    },
    {
     "name": "stdout",
     "output_type": "stream",
     "text": [
      "(10279, 25)\n"
     ]
    },
    {
     "name": "stderr",
     "output_type": "stream",
     "text": [
      "[dp] track/sliding/test window size: 14208, 8520, 2840\n",
      "[dp] validation step is skipped\n"
     ]
    },
    {
     "name": "stdout",
     "output_type": "stream",
     "text": [
      "(17048, 25)\n"
     ]
    },
    {
     "name": "stderr",
     "output_type": "stream",
     "text": [
      "[dp] track/sliding/test window size: 3187, 1908, 636\n",
      "[dp] validation step is skipped\n"
     ]
    },
    {
     "name": "stdout",
     "output_type": "stream",
     "text": [
      "(3823, 25)\n"
     ]
    },
    {
     "name": "stderr",
     "output_type": "stream",
     "text": [
      "[dp] track/sliding/test window size: 11833, 7092, 2364\n",
      "[dp] validation step is skipped\n"
     ]
    },
    {
     "name": "stdout",
     "output_type": "stream",
     "text": [
      "(14197, 25)\n"
     ]
    },
    {
     "name": "stderr",
     "output_type": "stream",
     "text": [
      "[dp] track/sliding/test window size: 1062, 636, 212\n",
      "[dp] validation step is skipped\n"
     ]
    },
    {
     "name": "stdout",
     "output_type": "stream",
     "text": [
      "(1274, 25)\n"
     ]
    },
    {
     "name": "stderr",
     "output_type": "stream",
     "text": [
      "[dp] track/sliding/test window size: 7622, 4572, 1524\n",
      "[dp] validation step is skipped\n"
     ]
    },
    {
     "name": "stdout",
     "output_type": "stream",
     "text": [
      "(9146, 25)\n"
     ]
    },
    {
     "name": "stderr",
     "output_type": "stream",
     "text": [
      "[dp] track/sliding/test window size: 18112, 10860, 3620\n",
      "[dp] validation step is skipped\n"
     ]
    },
    {
     "name": "stdout",
     "output_type": "stream",
     "text": [
      "(21732, 25)\n"
     ]
    },
    {
     "name": "stderr",
     "output_type": "stream",
     "text": [
      "[dp] track/sliding/test window size: 21273, 12756, 4252\n",
      "[dp] validation step is skipped\n"
     ]
    },
    {
     "name": "stdout",
     "output_type": "stream",
     "text": [
      "(25525, 25)\n"
     ]
    },
    {
     "name": "stderr",
     "output_type": "stream",
     "text": [
      "[dp] track/sliding/test window size: 995, 588, 196\n",
      "[dp] validation step is skipped\n"
     ]
    },
    {
     "name": "stdout",
     "output_type": "stream",
     "text": [
      "(1191, 25)\n"
     ]
    },
    {
     "name": "stderr",
     "output_type": "stream",
     "text": [
      "[dp] track/sliding/test window size: 4928, 2952, 984\n",
      "[dp] validation step is skipped\n"
     ]
    },
    {
     "name": "stdout",
     "output_type": "stream",
     "text": [
      "(5912, 25)\n"
     ]
    },
    {
     "name": "stderr",
     "output_type": "stream",
     "text": [
      "[dp] track/sliding/test window size: 15394, 9228, 3076\n",
      "[dp] validation step is skipped\n"
     ]
    },
    {
     "name": "stdout",
     "output_type": "stream",
     "text": [
      "(18470, 25)\n"
     ]
    },
    {
     "name": "stderr",
     "output_type": "stream",
     "text": [
      "[dp] track/sliding/test window size: 2389, 1428, 476\n",
      "[dp] validation step is skipped\n"
     ]
    },
    {
     "name": "stdout",
     "output_type": "stream",
     "text": [
      "(2865, 25)\n"
     ]
    },
    {
     "name": "stderr",
     "output_type": "stream",
     "text": [
      "[dp] track/sliding/test window size: 561, 324, 108\n",
      "[dp] validation step is skipped\n"
     ]
    },
    {
     "name": "stdout",
     "output_type": "stream",
     "text": [
      "(669, 25)\n"
     ]
    },
    {
     "name": "stderr",
     "output_type": "stream",
     "text": [
      "[dp] track/sliding/test window size: 10492, 6288, 2096\n",
      "[dp] validation step is skipped\n"
     ]
    },
    {
     "name": "stdout",
     "output_type": "stream",
     "text": [
      "(12588, 25)\n"
     ]
    },
    {
     "name": "stderr",
     "output_type": "stream",
     "text": [
      "[dp] track/sliding/test window size: 17422, 10440, 3480\n",
      "[dp] validation step is skipped\n"
     ]
    },
    {
     "name": "stdout",
     "output_type": "stream",
     "text": [
      "(20902, 25)\n"
     ]
    },
    {
     "name": "stderr",
     "output_type": "stream",
     "text": [
      "[dp] track/sliding/test window size: 4108, 2460, 820\n",
      "[dp] validation step is skipped\n"
     ]
    },
    {
     "name": "stdout",
     "output_type": "stream",
     "text": [
      "(4928, 25)\n"
     ]
    },
    {
     "name": "stderr",
     "output_type": "stream",
     "text": [
      "[dp] track/sliding/test window size: 763, 456, 152\n",
      "[dp] validation step is skipped\n"
     ]
    },
    {
     "name": "stdout",
     "output_type": "stream",
     "text": [
      "(915, 25)\n"
     ]
    },
    {
     "name": "stderr",
     "output_type": "stream",
     "text": [
      "[dp] track/sliding/test window size: 11052, 6624, 2208\n",
      "[dp] validation step is skipped\n"
     ]
    },
    {
     "name": "stdout",
     "output_type": "stream",
     "text": [
      "(13260, 25)\n"
     ]
    },
    {
     "name": "stderr",
     "output_type": "stream",
     "text": [
      "[dp] track/sliding/test window size: 6683, 4008, 1336\n",
      "[dp] validation step is skipped\n"
     ]
    },
    {
     "name": "stdout",
     "output_type": "stream",
     "text": [
      "(8019, 25)\n"
     ]
    },
    {
     "name": "stderr",
     "output_type": "stream",
     "text": [
      "[dp] track/sliding/test window size: 300, 168, 56\n",
      "[dp] validation step is skipped\n"
     ]
    },
    {
     "name": "stdout",
     "output_type": "stream",
     "text": [
      "(356, 25)\n"
     ]
    },
    {
     "name": "stderr",
     "output_type": "stream",
     "text": [
      "[dp] track/sliding/test window size: 14090, 8448, 2816\n",
      "[dp] validation step is skipped\n"
     ]
    },
    {
     "name": "stdout",
     "output_type": "stream",
     "text": [
      "(16906, 25)\n"
     ]
    },
    {
     "name": "stderr",
     "output_type": "stream",
     "text": [
      "[dp] track/sliding/test window size: 1614, 960, 320\n",
      "[dp] validation step is skipped\n"
     ]
    },
    {
     "name": "stdout",
     "output_type": "stream",
     "text": [
      "(1934, 25)\n"
     ]
    },
    {
     "data": {
      "image/png": "[encoded data removed]",
      "text/plain": [
       "<matplotlib.figure.Figure at 0x1cb8eef0ef0>"
      ]
     },
     "metadata": {},
     "output_type": "display_data"
    }
   ],
   "source": [
    "cluster_range = list(range(3,9))\n",
    "errors = measure_segments(['sold_price'], cluster_range)\n",
    "\n",
    "plt.figure()\n",
    "plt.title('clustering on sold price')\n",
    "plt.plot(cluster_range, errors)\n",
    "plt.show()"
   ]
  },
  {
   "cell_type": "markdown",
   "metadata": {},
   "source": [
    "### clustering on target 'sold_price'\n",
    "* assume we can know the cluster the test dataset belongs to with some voting method"
   ]
  },
  {
   "cell_type": "code",
   "execution_count": 70,
   "metadata": {},
   "outputs": [
    {
     "name": "stderr",
     "output_type": "stream",
     "text": [
      "[dp] track/sliding/test window size: 56018, 33600, 11200\n"
     ]
    },
    {
     "data": {
      "text/plain": [
       "344609.83818620554"
      ]
     },
     "execution_count": 70,
     "metadata": {},
     "output_type": "execute_result"
    }
   ],
   "source": [
    "monthly_volume = int(df_track.shape[0] / 24)\n",
    "test_size=monthly_volume*4\n",
    "sliding_window=monthly_volume*12\n",
    "\n",
    "features = use_features+['sold_price']\n",
    "feature_set = list(use_features)\n",
    "feature_set.remove('date')\n",
    "rf = MultiSegmentRegressor(n_clusters=3, feature_set=feature_set, cluster_features=['sold_price'], cluster_on_target=True)\n",
    "mm = ModelManager(df_track, features, rf, time_series=True)\n",
    "mm.run(sliding_window=sliding_window, test_size=test_size)"
   ]
  },
  {
   "cell_type": "code",
   "execution_count": 30,
   "metadata": {},
   "outputs": [
    {
     "data": {
      "text/html": [
       "<div>\n",
       "<style scoped>\n",
       "    .dataframe tbody tr th:only-of-type {\n",
       "        vertical-align: middle;\n",
       "    }\n",
       "\n",
       "    .dataframe tbody tr th {\n",
       "        vertical-align: top;\n",
       "    }\n",
       "\n",
       "    .dataframe thead th {\n",
       "        text-align: right;\n",
       "    }\n",
       "</style>\n",
       "<table border=\"1\" class=\"dataframe\">\n",
       "  <thead>\n",
       "    <tr style=\"text-align: right;\">\n",
       "      <th></th>\n",
       "      <th>predict0</th>\n",
       "      <th>predict1</th>\n",
       "      <th>predict2</th>\n",
       "      <th>cluster0</th>\n",
       "      <th>cluster1</th>\n",
       "      <th>cluster2</th>\n",
       "    </tr>\n",
       "  </thead>\n",
       "  <tbody>\n",
       "    <tr>\n",
       "      <th>0</th>\n",
       "      <td>505431.030670</td>\n",
       "      <td>1.385228e+06</td>\n",
       "      <td>1.018302e+06</td>\n",
       "      <td>0</td>\n",
       "      <td>1</td>\n",
       "      <td>2</td>\n",
       "    </tr>\n",
       "    <tr>\n",
       "      <th>1</th>\n",
       "      <td>501687.921834</td>\n",
       "      <td>1.286239e+06</td>\n",
       "      <td>6.485093e+05</td>\n",
       "      <td>0</td>\n",
       "      <td>1</td>\n",
       "      <td>2</td>\n",
       "    </tr>\n",
       "    <tr>\n",
       "      <th>2</th>\n",
       "      <td>518322.012936</td>\n",
       "      <td>1.225164e+06</td>\n",
       "      <td>6.459634e+05</td>\n",
       "      <td>0</td>\n",
       "      <td>1</td>\n",
       "      <td>2</td>\n",
       "    </tr>\n",
       "    <tr>\n",
       "      <th>3</th>\n",
       "      <td>408448.033276</td>\n",
       "      <td>1.268059e+06</td>\n",
       "      <td>6.243877e+05</td>\n",
       "      <td>0</td>\n",
       "      <td>1</td>\n",
       "      <td>2</td>\n",
       "    </tr>\n",
       "    <tr>\n",
       "      <th>4</th>\n",
       "      <td>436018.194143</td>\n",
       "      <td>1.242221e+06</td>\n",
       "      <td>6.068527e+05</td>\n",
       "      <td>0</td>\n",
       "      <td>1</td>\n",
       "      <td>2</td>\n",
       "    </tr>\n",
       "    <tr>\n",
       "      <th>5</th>\n",
       "      <td>530666.730916</td>\n",
       "      <td>1.418005e+06</td>\n",
       "      <td>6.528779e+05</td>\n",
       "      <td>0</td>\n",
       "      <td>1</td>\n",
       "      <td>2</td>\n",
       "    </tr>\n",
       "    <tr>\n",
       "      <th>6</th>\n",
       "      <td>531669.869534</td>\n",
       "      <td>1.261369e+06</td>\n",
       "      <td>6.050299e+05</td>\n",
       "      <td>0</td>\n",
       "      <td>1</td>\n",
       "      <td>2</td>\n",
       "    </tr>\n",
       "    <tr>\n",
       "      <th>7</th>\n",
       "      <td>453667.676141</td>\n",
       "      <td>1.275055e+06</td>\n",
       "      <td>6.037123e+05</td>\n",
       "      <td>0</td>\n",
       "      <td>1</td>\n",
       "      <td>2</td>\n",
       "    </tr>\n",
       "    <tr>\n",
       "      <th>8</th>\n",
       "      <td>433098.169985</td>\n",
       "      <td>1.260803e+06</td>\n",
       "      <td>6.073127e+05</td>\n",
       "      <td>0</td>\n",
       "      <td>1</td>\n",
       "      <td>2</td>\n",
       "    </tr>\n",
       "    <tr>\n",
       "      <th>9</th>\n",
       "      <td>189715.571829</td>\n",
       "      <td>1.246027e+06</td>\n",
       "      <td>6.069767e+05</td>\n",
       "      <td>0</td>\n",
       "      <td>1</td>\n",
       "      <td>2</td>\n",
       "    </tr>\n",
       "  </tbody>\n",
       "</table>\n",
       "</div>"
      ],
      "text/plain": [
       "        predict0      predict1      predict2  cluster0  cluster1  cluster2\n",
       "0  505431.030670  1.385228e+06  1.018302e+06         0         1         2\n",
       "1  501687.921834  1.286239e+06  6.485093e+05         0         1         2\n",
       "2  518322.012936  1.225164e+06  6.459634e+05         0         1         2\n",
       "3  408448.033276  1.268059e+06  6.243877e+05         0         1         2\n",
       "4  436018.194143  1.242221e+06  6.068527e+05         0         1         2\n",
       "5  530666.730916  1.418005e+06  6.528779e+05         0         1         2\n",
       "6  531669.869534  1.261369e+06  6.050299e+05         0         1         2\n",
       "7  453667.676141  1.275055e+06  6.037123e+05         0         1         2\n",
       "8  433098.169985  1.260803e+06  6.073127e+05         0         1         2\n",
       "9  189715.571829  1.246027e+06  6.069767e+05         0         1         2"
      ]
     },
     "execution_count": 30,
     "metadata": {},
     "output_type": "execute_result"
    }
   ],
   "source": [
    "r = mm.model.inspect()\n",
    "r[:10]"
   ]
  },
  {
   "cell_type": "code",
   "execution_count": 28,
   "metadata": {},
   "outputs": [
    {
     "data": {
      "image/png": "[encoded data removed]",
      "text/plain": [
       "<matplotlib.figure.Figure at 0x23e29f5a908>"
      ]
     },
     "metadata": {},
     "output_type": "display_data"
    }
   ],
   "source": [
    "plt.figure()\n",
    "plt.scatter(mm.model.X['sold_price'], mm.model.y_train_cluster, alpha=0.2)\n",
    "plt.show()"
   ]
  },
  {
   "cell_type": "code",
   "execution_count": 78,
   "metadata": {},
   "outputs": [
    {
     "name": "stderr",
     "output_type": "stream",
     "text": [
      "[dp] track/sliding/test window size: 56018, 33600, 11200\n",
      "[dp] track/sliding/test window size: 56018, 33600, 11200\n",
      "[dp] track/sliding/test window size: 56018, 33600, 11200\n",
      "[dp] track/sliding/test window size: 56018, 33600, 11200\n",
      "[dp] track/sliding/test window size: 56018, 33600, 11200\n",
      "[dp] track/sliding/test window size: 56018, 33600, 11200\n"
     ]
    }
   ],
   "source": [
    "import copy\n",
    "### cluster on eval\n",
    "monthly_volume = int(df_track.shape[0] / 24)\n",
    "test_size=monthly_volume*4\n",
    "sliding_window=monthly_volume*12\n",
    "\n",
    "features = use_features+['eval']\n",
    "feature_set = list(use_features)\n",
    "feature_set.remove('date')\n",
    "\n",
    "errors = []\n",
    "for n in range(3,9):\n",
    "    rf = MultiSegmentRegressor(n_clusters=3, feature_set=feature_set, cluster_features=['eval'])\n",
    "    mm = ModelManager(df_track, features, rf, time_series=True)\n",
    "    error = mm.run(sliding_window=sliding_window, test_size=test_size)\n",
    "    errors.append(error)"
   ]
  },
  {
   "cell_type": "code",
   "execution_count": 79,
   "metadata": {},
   "outputs": [
    {
     "data": {
      "image/png": "[encoded data removed]",
      "text/plain": [
       "<matplotlib.figure.Figure at 0x23e0713e630>"
      ]
     },
     "metadata": {},
     "output_type": "display_data"
    }
   ],
   "source": [
    "cluster_range = list(range(3,9))\n",
    "plt.figure()\n",
    "plt.title('evaluation on clustering')\n",
    "plt.plot(cluster_range, errors)\n",
    "plt.show()"
   ]
  },
  {
   "cell_type": "code",
   "execution_count": null,
   "metadata": {},
   "outputs": [],
   "source": []
  }
 ],
 "metadata": {
  "kernelspec": {
   "display_name": "Python 3",
   "language": "python",
   "name": "python3"
  },
  "language_info": {
   "codemirror_mode": {
    "name": "ipython",
    "version": 3
   },
   "file_extension": ".py",
   "mimetype": "text/x-python",
   "name": "python",
   "nbconvert_exporter": "python",
   "pygments_lexer": "ipython3",
   "version": "3.6.4"
  }
 },
 "nbformat": 4,
 "nbformat_minor": 2
}
