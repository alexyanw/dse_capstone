{
 "cells": [
  {
   "cell_type": "code",
   "execution_count": 1,
   "metadata": {},
   "outputs": [],
   "source": [
    "%load_ext autoreload\n",
    "# always reload modules marked with \"%aimport\"\n",
    "%autoreload 1\n",
    "\n",
    "import os,sys\n",
    "import numpy as np\n",
    "import pandas as pd\n",
    "\n",
    "# add the 'src' directory as one where we can import modules\n",
    "src_dir = os.path.join(os.getcwd(), '../..', 'src')\n",
    "sys.path.append(src_dir)\n",
    "\n",
    "%aimport plot_utils\n",
    "from plot_utils import *\n",
    "%aimport preprocessing\n",
    "from preprocessing import *\n",
    "%aimport data_source\n",
    "from data_source import *\n",
    "%aimport model_manage\n",
    "from model_manage import *\n",
    "%aimport model_regression\n",
    "from model_regression import *\n",
    "\n",
    "import logging\n",
    "from utils import *\n",
    "set_logger(logging.DEBUG)"
   ]
  },
  {
   "cell_type": "code",
   "execution_count": 2,
   "metadata": {},
   "outputs": [],
   "source": [
    "import pandas as pd\n",
    "import numpy as np\n",
    "\n",
    "from sklearn import linear_model\n",
    "from sklearn import model_selection\n",
    "from sklearn.ensemble import RandomForestRegressor\n",
    "from sklearn.model_selection import cross_val_score\n",
    "from sklearn.ensemble import GradientBoostingRegressor\n",
    "from sklearn.pipeline import make_pipeline, Pipeline\n",
    "from sklearn.preprocessing import StandardScaler\n",
    "from sklearn.linear_model import ElasticNet"
   ]
  },
  {
   "cell_type": "code",
   "execution_count": 3,
   "metadata": {},
   "outputs": [
    {
     "name": "stderr",
     "output_type": "stream",
     "text": [
      "[dp] connect to database postgresql://postgres:@localhost:5432/sdra\n",
      "[dp] supported views: ['properties', 'property_features', 'transactions', 'property_addresses', 'property_address_transactions', 'property_transaction_valid', 'property_address_school_transactions']\n"
     ]
    }
   ],
   "source": [
    "ds = DataSource(host='localhost',port=5432, username='postgres', password='', database='sdra')\n",
    "ds.show_views()\n",
    "#ds.update_views()"
   ]
  },
  {
   "cell_type": "code",
   "execution_count": 4,
   "metadata": {},
   "outputs": [
    {
     "name": "stdout",
     "output_type": "stream",
     "text": [
      "(1475109, 25)\n",
      "(709325, 22)\n"
     ]
    }
   ],
   "source": [
    "df_transaction = ds.get_view_df('property_address_transactions')\n",
    "df_property = ds.get_view_df('property_addresses')\n",
    "print(df_transaction.shape)\n",
    "print(df_property.shape)"
   ]
  },
  {
   "cell_type": "code",
   "execution_count": 5,
   "metadata": {},
   "outputs": [],
   "source": [
    "pp = Preprocess(df_transaction, df_property, target='sold_price')"
   ]
  },
  {
   "cell_type": "code",
   "execution_count": 6,
   "metadata": {},
   "outputs": [
    {
     "data": {
      "text/plain": [
       "['date',\n",
       " 'pool',\n",
       " 'num_bed',\n",
       " 'view',\n",
       " 'num_bath',\n",
       " 'impr_over_land',\n",
       " 'sqft',\n",
       " 'sold_price_zip_avg',\n",
       " 'sqft_price_zip_avg',\n",
       " 'sqft_over_zip_avg',\n",
       " 'sqft_zip_avg',\n",
       " 'eval_zip_avg',\n",
       " 'eval_over_zip_avg',\n",
       " 'lon',\n",
       " 'lat']"
      ]
     },
     "execution_count": 6,
     "metadata": {},
     "output_type": "execute_result"
    }
   ],
   "source": [
    "use_features = pp.get_feature_list()\n",
    "school_features = ['min_elem_distance', 'min_middle_distance', 'min_high_distance',\n",
    "                   'elem_rating', 'middle_rating', 'high_rating',\n",
    "                   'avg_elem_rating', 'avg_high_rating', 'avg_middle_rating']\n",
    "use_features_base = ['date', 'pool', 'num_bed', 'view', 'num_bath', 'impr_over_land', 'sqft',\n",
    "                     'sold_price_zip_avg', 'sqft_price_zip_avg', 'sqft_over_zip_avg', 'sqft_zip_avg', 'eval_zip_avg', 'eval_over_zip_avg', \n",
    "                     'lon', 'lat', ]\n",
    "use_features_base"
   ]
  },
  {
   "cell_type": "markdown",
   "metadata": {
    "collapsed": true
   },
   "source": [
    "### regression on dateset of all time long"
   ]
  },
  {
   "cell_type": "code",
   "execution_count": 10,
   "metadata": {},
   "outputs": [
    {
     "name": "stderr",
     "output_type": "stream",
     "text": [
      "[dp] transforming date\n",
      "[dp] transforming view\n",
      "[dp] transforming pool\n",
      "[dp] transforming impr_over_land\n",
      "[dp] transforming sold_year\n",
      "[dp] transforming sold_month\n",
      "[dp] transforming sold_age\n",
      "[dp] transforming eval\n",
      "[dp] transforming eval_sqft_price\n",
      "[dp] making sqft_zip_avg\n",
      "[dp] making sqft_over_zip_avg\n",
      "[dp] making sqft_price_zip_avg\n",
      "[dp] making sold_price_zip_avg\n",
      "[dp] making eval_zip_avg\n",
      "[dp] making eval_over_zip_avg\n",
      "[dp] making sale_count_zip\n",
      "[dp] cleaning on criteria: sold_price\n",
      "[dp] cleaning on criteria: sqft_price\n",
      "[dp] cleaning on criteria: sqft\n",
      "[dp] cleaning on criteria: num_bed\n",
      "[dp] cleaning on criteria: num_bath\n",
      "[dp] cleaning on criteria: lon\n"
     ]
    }
   ],
   "source": [
    "df_all = pp.dataset(feature='delivered', valid=True, date=('1985-10-01', '2017-10-01'))\n",
    "mr_full = ModelRegression(use_features_base, rf)"
   ]
  },
  {
   "cell_type": "code",
   "execution_count": 11,
   "metadata": {
    "scrolled": true
   },
   "outputs": [
    {
     "name": "stderr",
     "output_type": "stream",
     "text": [
      "[dp] prediction - data shape: (26051, 17), period: 1985-10-01 ~ 1986-05-30, sliding(in month): 4, test: 4\n",
      "[dp] track/sliding/test window size: 13403, 13403, 12648\n",
      "[dp] validation step is skipped\n",
      "[dp] training size: 13403\n",
      "[dp] prediction - data shape: (43749, 17), period: 1985-10-01 ~ 1986-09-30, sliding(in month): 8, test: 4\n",
      "[dp] track/sliding/test window size: 26051, 26051, 17698\n",
      "[dp] validation step is skipped\n",
      "[dp] training size: 26051\n",
      "[dp] prediction - data shape: (61867, 17), period: 1985-10-01 ~ 1987-01-30, sliding(in month): 12, test: 4\n",
      "[dp] track/sliding/test window size: 43749, 43749, 18118\n",
      "[dp] validation step is skipped\n",
      "[dp] training size: 43749\n",
      "[dp] prediction - data shape: (63207, 17), period: 1986-02-03 ~ 1987-05-29, sliding(in month): 12, test: 4\n",
      "[dp] track/sliding/test window size: 47724, 47724, 15483\n",
      "[dp] validation step is skipped\n",
      "[dp] training size: 47724\n",
      "[dp] prediction - data shape: (69151, 17), period: 1986-06-02 ~ 1987-09-30, sliding(in month): 12, test: 4\n",
      "[dp] track/sliding/test window size: 50944, 50944, 18207\n",
      "[dp] validation step is skipped\n",
      "[dp] training size: 50944\n",
      "[dp] prediction - data shape: (66467, 17), period: 1986-10-01 ~ 1988-01-31, sliding(in month): 12, test: 4\n",
      "[dp] track/sliding/test window size: 51453, 51453, 15014\n",
      "[dp] validation step is skipped\n",
      "[dp] training size: 51453\n",
      "[dp] prediction - data shape: (64030, 17), period: 1987-02-02 ~ 1988-05-31, sliding(in month): 12, test: 4\n",
      "[dp] track/sliding/test window size: 48349, 48349, 15681\n",
      "[dp] validation step is skipped\n",
      "[dp] training size: 48349\n",
      "[dp] prediction - data shape: (70511, 17), period: 1987-06-01 ~ 1988-09-30, sliding(in month): 12, test: 4\n",
      "[dp] track/sliding/test window size: 48652, 48652, 21859\n",
      "[dp] validation step is skipped\n",
      "[dp] training size: 48652\n",
      "[dp] prediction - data shape: (70801, 17), period: 1987-10-01 ~ 1989-01-31, sliding(in month): 12, test: 4\n",
      "[dp] track/sliding/test window size: 52304, 52304, 18497\n",
      "[dp] validation step is skipped\n",
      "[dp] training size: 52304\n",
      "[dp] prediction - data shape: (73012, 17), period: 1988-02-01 ~ 1989-05-31, sliding(in month): 12, test: 4\n",
      "[dp] track/sliding/test window size: 55787, 55787, 17225\n",
      "[dp] validation step is skipped\n",
      "[dp] training size: 55787\n",
      "[dp] prediction - data shape: (75388, 17), period: 1988-06-01 ~ 1989-09-29, sliding(in month): 12, test: 4\n",
      "[dp] track/sliding/test window size: 56811, 56811, 18577\n",
      "[dp] validation step is skipped\n",
      "[dp] training size: 56811\n",
      "[dp] prediction - data shape: (68965, 17), period: 1988-10-03 ~ 1990-01-31, sliding(in month): 12, test: 4\n",
      "[dp] track/sliding/test window size: 53779, 53779, 15186\n",
      "[dp] validation step is skipped\n",
      "[dp] training size: 53779\n",
      "[dp] prediction - data shape: (64090, 17), period: 1989-02-01 ~ 1990-05-31, sliding(in month): 12, test: 4\n",
      "[dp] track/sliding/test window size: 50468, 50468, 13622\n",
      "[dp] validation step is skipped\n",
      "[dp] training size: 50468\n",
      "[dp] prediction - data shape: (60234, 17), period: 1989-06-01 ~ 1990-09-28, sliding(in month): 12, test: 4\n",
      "[dp] track/sliding/test window size: 46277, 46277, 13957\n",
      "[dp] validation step is skipped\n",
      "[dp] training size: 46277\n",
      "[dp] prediction - data shape: (51395, 17), period: 1989-10-02 ~ 1991-01-31, sliding(in month): 12, test: 4\n",
      "[dp] track/sliding/test window size: 42177, 42177, 9218\n",
      "[dp] validation step is skipped\n",
      "[dp] training size: 42177\n",
      "[dp] prediction - data shape: (46539, 17), period: 1990-02-01 ~ 1991-05-31, sliding(in month): 12, test: 4\n",
      "[dp] track/sliding/test window size: 36209, 36209, 10330\n",
      "[dp] validation step is skipped\n",
      "[dp] training size: 36209\n",
      "[dp] prediction - data shape: (44473, 17), period: 1990-06-01 ~ 1991-09-30, sliding(in month): 12, test: 4\n",
      "[dp] track/sliding/test window size: 32478, 32478, 11995\n",
      "[dp] validation step is skipped\n",
      "[dp] training size: 32478\n",
      "[dp] prediction - data shape: (40253, 17), period: 1990-10-01 ~ 1992-01-31, sliding(in month): 12, test: 4\n",
      "[dp] track/sliding/test window size: 31104, 31104, 9149\n",
      "[dp] validation step is skipped\n",
      "[dp] training size: 31104\n",
      "[dp] prediction - data shape: (41140, 17), period: 1991-02-01 ~ 1992-05-29, sliding(in month): 12, test: 4\n",
      "[dp] track/sliding/test window size: 30716, 30716, 10424\n",
      "[dp] validation step is skipped\n",
      "[dp] training size: 30716\n",
      "[dp] prediction - data shape: (40879, 17), period: 1991-06-03 ~ 1992-09-30, sliding(in month): 12, test: 4\n",
      "[dp] track/sliding/test window size: 30810, 30810, 10069\n",
      "[dp] validation step is skipped\n",
      "[dp] training size: 30810\n",
      "[dp] prediction - data shape: (38491, 17), period: 1991-10-01 ~ 1993-01-30, sliding(in month): 12, test: 4\n",
      "[dp] track/sliding/test window size: 29323, 29323, 9168\n",
      "[dp] validation step is skipped\n",
      "[dp] training size: 29323\n",
      "[dp] prediction - data shape: (38261, 17), period: 1992-02-03 ~ 1993-05-28, sliding(in month): 12, test: 4\n",
      "[dp] track/sliding/test window size: 29104, 29104, 9157\n",
      "[dp] validation step is skipped\n",
      "[dp] training size: 29104\n",
      "[dp] prediction - data shape: (38900, 17), period: 1992-06-01 ~ 1993-09-30, sliding(in month): 12, test: 4\n",
      "[dp] track/sliding/test window size: 28156, 28156, 10744\n",
      "[dp] validation step is skipped\n",
      "[dp] training size: 28156\n",
      "[dp] prediction - data shape: (38778, 17), period: 1992-10-01 ~ 1994-01-31, sliding(in month): 12, test: 4\n",
      "[dp] track/sliding/test window size: 28831, 28831, 9947\n",
      "[dp] validation step is skipped\n",
      "[dp] training size: 28831\n",
      "[dp] prediction - data shape: (40973, 17), period: 1993-02-01 ~ 1994-05-31, sliding(in month): 12, test: 4\n",
      "[dp] track/sliding/test window size: 29610, 29610, 11363\n",
      "[dp] validation step is skipped\n",
      "[dp] training size: 29610\n",
      "[dp] prediction - data shape: (43789, 17), period: 1993-06-01 ~ 1994-09-30, sliding(in month): 12, test: 4\n",
      "[dp] track/sliding/test window size: 31825, 31825, 11964\n",
      "[dp] validation step is skipped\n",
      "[dp] training size: 31825\n",
      "[dp] prediction - data shape: (41593, 17), period: 1993-10-01 ~ 1995-01-31, sliding(in month): 12, test: 4\n",
      "[dp] track/sliding/test window size: 33045, 33045, 8548\n",
      "[dp] validation step is skipped\n",
      "[dp] training size: 33045\n",
      "[dp] prediction - data shape: (39855, 17), period: 1994-02-01 ~ 1995-05-31, sliding(in month): 12, test: 4\n",
      "[dp] track/sliding/test window size: 31646, 31646, 8209\n",
      "[dp] validation step is skipped\n",
      "[dp] training size: 31646\n",
      "[dp] prediction - data shape: (38749, 17), period: 1994-06-01 ~ 1995-09-29, sliding(in month): 12, test: 4\n",
      "[dp] track/sliding/test window size: 28098, 28098, 10651\n",
      "[dp] validation step is skipped\n",
      "[dp] training size: 28098\n",
      "[dp] prediction - data shape: (36012, 17), period: 1994-10-03 ~ 1996-01-31, sliding(in month): 12, test: 4\n",
      "[dp] track/sliding/test window size: 27014, 27014, 8998\n",
      "[dp] validation step is skipped\n",
      "[dp] training size: 27014\n",
      "[dp] prediction - data shape: (37993, 17), period: 1995-02-01 ~ 1996-05-31, sliding(in month): 12, test: 4\n",
      "[dp] track/sliding/test window size: 27464, 27464, 10529\n",
      "[dp] validation step is skipped\n",
      "[dp] training size: 27464\n",
      "[dp] prediction - data shape: (40956, 17), period: 1995-06-01 ~ 1996-09-30, sliding(in month): 12, test: 4\n",
      "[dp] track/sliding/test window size: 29349, 29349, 11607\n",
      "[dp] validation step is skipped\n",
      "[dp] training size: 29349\n",
      "[dp] prediction - data shape: (40845, 17), period: 1995-10-02 ~ 1997-01-31, sliding(in month): 12, test: 4\n",
      "[dp] track/sliding/test window size: 30699, 30699, 10146\n",
      "[dp] validation step is skipped\n",
      "[dp] training size: 30699\n",
      "[dp] prediction - data shape: (43150, 17), period: 1996-02-01 ~ 1997-05-30, sliding(in month): 12, test: 4\n",
      "[dp] track/sliding/test window size: 31546, 31546, 11604\n",
      "[dp] validation step is skipped\n",
      "[dp] training size: 31546\n",
      "[dp] prediction - data shape: (46697, 17), period: 1996-06-03 ~ 1997-09-30, sliding(in month): 12, test: 4\n",
      "[dp] track/sliding/test window size: 32621, 32621, 14076\n",
      "[dp] validation step is skipped\n",
      "[dp] training size: 32621\n",
      "[dp] prediction - data shape: (48252, 17), period: 1996-10-01 ~ 1998-01-30, sliding(in month): 12, test: 4\n",
      "[dp] track/sliding/test window size: 35525, 35525, 12727\n",
      "[dp] validation step is skipped\n",
      "[dp] training size: 35525\n",
      "[dp] prediction - data shape: (53030, 17), period: 1997-02-01 ~ 1998-05-29, sliding(in month): 12, test: 4\n",
      "[dp] track/sliding/test window size: 37728, 37728, 15302\n",
      "[dp] validation step is skipped\n",
      "[dp] training size: 37728\n"
     ]
    },
    {
     "name": "stderr",
     "output_type": "stream",
     "text": [
      "[dp] prediction - data shape: (59610, 17), period: 1997-06-02 ~ 1998-09-30, sliding(in month): 12, test: 4\n",
      "[dp] track/sliding/test window size: 41727, 41727, 17883\n",
      "[dp] validation step is skipped\n",
      "[dp] training size: 41727\n",
      "[dp] prediction - data shape: (59477, 17), period: 1997-10-01 ~ 1999-01-29, sliding(in month): 12, test: 4\n",
      "[dp] track/sliding/test window size: 45093, 45093, 14384\n",
      "[dp] validation step is skipped\n",
      "[dp] training size: 45093\n",
      "[dp] prediction - data shape: (63615, 17), period: 1998-02-02 ~ 1999-05-30, sliding(in month): 12, test: 4\n",
      "[dp] track/sliding/test window size: 46750, 46750, 16865\n",
      "[dp] validation step is skipped\n",
      "[dp] training size: 46750\n",
      "[dp] prediction - data shape: (67521, 17), period: 1998-06-01 ~ 1999-09-30, sliding(in month): 12, test: 4\n",
      "[dp] track/sliding/test window size: 48691, 48691, 18830\n",
      "[dp] validation step is skipped\n",
      "[dp] training size: 48691\n",
      "[dp] prediction - data shape: (64161, 17), period: 1998-10-01 ~ 2000-01-31, sliding(in month): 12, test: 4\n",
      "[dp] track/sliding/test window size: 49638, 49638, 14523\n",
      "[dp] validation step is skipped\n",
      "[dp] training size: 49638\n",
      "[dp] prediction - data shape: (66845, 17), period: 1999-02-01 ~ 2000-05-31, sliding(in month): 12, test: 4\n",
      "[dp] track/sliding/test window size: 50218, 50218, 16627\n",
      "[dp] validation step is skipped\n",
      "[dp] training size: 50218\n",
      "[dp] prediction - data shape: (67285, 17), period: 1999-06-01 ~ 2000-09-29, sliding(in month): 12, test: 4\n",
      "[dp] track/sliding/test window size: 49208, 49208, 18077\n",
      "[dp] validation step is skipped\n",
      "[dp] training size: 49208\n",
      "[dp] prediction - data shape: (63065, 17), period: 1999-10-01 ~ 2001-01-31, sliding(in month): 12, test: 4\n",
      "[dp] track/sliding/test window size: 48455, 48455, 14610\n",
      "[dp] validation step is skipped\n",
      "[dp] training size: 48455\n",
      "[dp] prediction - data shape: (63622, 17), period: 2000-02-01 ~ 2001-05-31, sliding(in month): 12, test: 4\n",
      "[dp] track/sliding/test window size: 48542, 48542, 15080\n",
      "[dp] validation step is skipped\n",
      "[dp] training size: 48542\n",
      "[dp] prediction - data shape: (64677, 17), period: 2000-06-01 ~ 2001-09-28, sliding(in month): 12, test: 4\n",
      "[dp] track/sliding/test window size: 46169, 46169, 18508\n",
      "[dp] validation step is skipped\n",
      "[dp] training size: 46169\n",
      "[dp] prediction - data shape: (61343, 17), period: 2000-10-02 ~ 2002-01-31, sliding(in month): 12, test: 4\n",
      "[dp] track/sliding/test window size: 47372, 47372, 13971\n",
      "[dp] validation step is skipped\n",
      "[dp] training size: 47372\n",
      "[dp] prediction - data shape: (65004, 17), period: 2001-02-01 ~ 2002-05-31, sliding(in month): 12, test: 4\n",
      "[dp] track/sliding/test window size: 46733, 46733, 18271\n",
      "[dp] validation step is skipped\n",
      "[dp] training size: 46733\n",
      "[dp] prediction - data shape: (68527, 17), period: 2001-06-01 ~ 2002-09-30, sliding(in month): 12, test: 4\n",
      "[dp] track/sliding/test window size: 49344, 49344, 19183\n",
      "[dp] validation step is skipped\n",
      "[dp] training size: 49344\n",
      "[dp] prediction - data shape: (66551, 17), period: 2001-10-01 ~ 2003-01-31, sliding(in month): 12, test: 4\n",
      "[dp] track/sliding/test window size: 50845, 50845, 15706\n",
      "[dp] validation step is skipped\n",
      "[dp] training size: 50845\n",
      "[dp] prediction - data shape: (69505, 17), period: 2002-02-01 ~ 2003-05-30, sliding(in month): 12, test: 4\n",
      "[dp] track/sliding/test window size: 52185, 52185, 17320\n",
      "[dp] validation step is skipped\n",
      "[dp] training size: 52185\n",
      "[dp] prediction - data shape: (72339, 17), period: 2002-06-03 ~ 2003-09-30, sliding(in month): 12, test: 4\n",
      "[dp] track/sliding/test window size: 51234, 51234, 21105\n",
      "[dp] validation step is skipped\n",
      "[dp] training size: 51234\n",
      "[dp] prediction - data shape: (71689, 17), period: 2002-10-01 ~ 2004-01-30, sliding(in month): 12, test: 4\n",
      "[dp] track/sliding/test window size: 53736, 53736, 17953\n",
      "[dp] validation step is skipped\n",
      "[dp] training size: 53736\n",
      "[dp] prediction - data shape: (75888, 17), period: 2003-02-03 ~ 2004-05-28, sliding(in month): 12, test: 4\n",
      "[dp] track/sliding/test window size: 55381, 55381, 20507\n",
      "[dp] validation step is skipped\n",
      "[dp] training size: 55381\n",
      "[dp] prediction - data shape: (80721, 17), period: 2003-06-02 ~ 2004-09-30, sliding(in month): 12, test: 4\n",
      "[dp] track/sliding/test window size: 58963, 58963, 21758\n",
      "[dp] validation step is skipped\n",
      "[dp] training size: 58963\n",
      "[dp] prediction - data shape: (76532, 17), period: 2003-10-01 ~ 2005-01-31, sliding(in month): 12, test: 4\n",
      "[dp] track/sliding/test window size: 59616, 59616, 16916\n",
      "[dp] validation step is skipped\n",
      "[dp] training size: 59616\n",
      "[dp] prediction - data shape: (76984, 17), period: 2004-02-02 ~ 2005-05-31, sliding(in month): 12, test: 4\n",
      "[dp] track/sliding/test window size: 58579, 58579, 18405\n",
      "[dp] validation step is skipped\n",
      "[dp] training size: 58579\n",
      "[dp] prediction - data shape: (77120, 17), period: 2004-06-01 ~ 2005-09-30, sliding(in month): 12, test: 4\n",
      "[dp] track/sliding/test window size: 56689, 56689, 20431\n",
      "[dp] validation step is skipped\n",
      "[dp] training size: 56689\n",
      "[dp] prediction - data shape: (69775, 17), period: 2004-10-01 ~ 2006-01-31, sliding(in month): 12, test: 4\n",
      "[dp] track/sliding/test window size: 55362, 55362, 14413\n",
      "[dp] validation step is skipped\n",
      "[dp] training size: 55362\n",
      "[dp] prediction - data shape: (66658, 17), period: 2005-02-01 ~ 2006-05-31, sliding(in month): 12, test: 4\n",
      "[dp] track/sliding/test window size: 52859, 52859, 13799\n",
      "[dp] validation step is skipped\n",
      "[dp] training size: 52859\n",
      "[dp] prediction - data shape: (61414, 17), period: 2005-06-01 ~ 2006-09-29, sliding(in month): 12, test: 4\n",
      "[dp] track/sliding/test window size: 47643, 47643, 13771\n",
      "[dp] validation step is skipped\n",
      "[dp] training size: 47643\n",
      "[dp] prediction - data shape: (52751, 17), period: 2005-10-03 ~ 2007-01-31, sliding(in month): 12, test: 4\n",
      "[dp] track/sliding/test window size: 41373, 41373, 11378\n",
      "[dp] validation step is skipped\n",
      "[dp] training size: 41373\n",
      "[dp] prediction - data shape: (49494, 17), period: 2006-02-01 ~ 2007-05-31, sliding(in month): 12, test: 4\n",
      "[dp] track/sliding/test window size: 38338, 38338, 11156\n",
      "[dp] validation step is skipped\n",
      "[dp] training size: 38338\n",
      "[dp] prediction - data shape: (45819, 17), period: 2006-06-01 ~ 2007-09-28, sliding(in month): 12, test: 4\n",
      "[dp] track/sliding/test window size: 35125, 35125, 10694\n",
      "[dp] validation step is skipped\n",
      "[dp] training size: 35125\n",
      "[dp] prediction - data shape: (39721, 17), period: 2006-10-02 ~ 2008-01-31, sliding(in month): 12, test: 4\n",
      "[dp] track/sliding/test window size: 32658, 32658, 7063\n",
      "[dp] validation step is skipped\n",
      "[dp] training size: 32658\n",
      "[dp] prediction - data shape: (36932, 17), period: 2007-02-01 ~ 2008-05-30, sliding(in month): 12, test: 4\n",
      "[dp] track/sliding/test window size: 28189, 28189, 8743\n",
      "[dp] validation step is skipped\n",
      "[dp] training size: 28189\n",
      "[dp] prediction - data shape: (37276, 17), period: 2007-06-01 ~ 2008-09-30, sliding(in month): 12, test: 4\n",
      "[dp] track/sliding/test window size: 25776, 25776, 11500\n",
      "[dp] validation step is skipped\n",
      "[dp] training size: 25776\n",
      "[dp] prediction - data shape: (37915, 17), period: 2007-10-01 ~ 2009-01-30, sliding(in month): 12, test: 4\n",
      "[dp] track/sliding/test window size: 27152, 27152, 10763\n",
      "[dp] validation step is skipped\n",
      "[dp] training size: 27152\n",
      "[dp] prediction - data shape: (41527, 17), period: 2008-02-01 ~ 2009-05-29, sliding(in month): 12, test: 4\n",
      "[dp] track/sliding/test window size: 30587, 30587, 10940\n",
      "[dp] validation step is skipped\n",
      "[dp] training size: 30587\n",
      "[dp] prediction - data shape: (45649, 17), period: 2008-06-02 ~ 2009-09-30, sliding(in month): 12, test: 4\n",
      "[dp] track/sliding/test window size: 32938, 32938, 12711\n",
      "[dp] validation step is skipped\n",
      "[dp] training size: 32938\n",
      "[dp] prediction - data shape: (45517, 17), period: 2008-10-01 ~ 2010-01-29, sliding(in month): 12, test: 4\n",
      "[dp] track/sliding/test window size: 33773, 33773, 11744\n",
      "[dp] validation step is skipped\n",
      "[dp] training size: 33773\n",
      "[dp] prediction - data shape: (46151, 17), period: 2009-02-02 ~ 2010-05-28, sliding(in month): 12, test: 4\n",
      "[dp] track/sliding/test window size: 34467, 34467, 11684\n",
      "[dp] validation step is skipped\n",
      "[dp] training size: 34467\n",
      "[dp] prediction - data shape: (46898, 17), period: 2009-06-01 ~ 2010-09-30, sliding(in month): 12, test: 4\n",
      "[dp] track/sliding/test window size: 35476, 35476, 11422\n",
      "[dp] validation step is skipped\n",
      "[dp] training size: 35476\n"
     ]
    },
    {
     "name": "stderr",
     "output_type": "stream",
     "text": [
      "[dp] prediction - data shape: (43678, 17), period: 2009-10-01 ~ 2011-01-31, sliding(in month): 12, test: 4\n",
      "[dp] track/sliding/test window size: 34187, 34187, 9491\n",
      "[dp] validation step is skipped\n",
      "[dp] training size: 34187\n",
      "[dp] prediction - data shape: (42597, 17), period: 2010-02-01 ~ 2011-05-31, sliding(in month): 12, test: 4\n",
      "[dp] track/sliding/test window size: 32310, 32310, 10287\n",
      "[dp] validation step is skipped\n",
      "[dp] training size: 32310\n",
      "[dp] prediction - data shape: (42345, 17), period: 2010-06-01 ~ 2011-09-30, sliding(in month): 12, test: 4\n",
      "[dp] track/sliding/test window size: 31021, 31021, 11324\n",
      "[dp] validation step is skipped\n",
      "[dp] training size: 31021\n",
      "[dp] prediction - data shape: (40660, 17), period: 2010-10-01 ~ 2012-01-31, sliding(in month): 12, test: 4\n",
      "[dp] track/sliding/test window size: 30923, 30923, 9737\n",
      "[dp] validation step is skipped\n",
      "[dp] training size: 30923\n",
      "[dp] prediction - data shape: (42554, 17), period: 2011-02-01 ~ 2012-05-31, sliding(in month): 12, test: 4\n",
      "[dp] track/sliding/test window size: 31169, 31169, 11385\n",
      "[dp] validation step is skipped\n",
      "[dp] training size: 31169\n",
      "[dp] prediction - data shape: (44922, 17), period: 2011-06-01 ~ 2012-09-28, sliding(in month): 12, test: 4\n",
      "[dp] track/sliding/test window size: 31653, 31653, 13269\n",
      "[dp] validation step is skipped\n",
      "[dp] training size: 31653\n",
      "[dp] prediction - data shape: (45393, 17), period: 2011-10-03 ~ 2013-01-31, sliding(in month): 12, test: 4\n",
      "[dp] track/sliding/test window size: 33777, 33777, 11616\n",
      "[dp] validation step is skipped\n",
      "[dp] training size: 33777\n",
      "[dp] prediction - data shape: (48173, 17), period: 2012-02-01 ~ 2013-05-31, sliding(in month): 12, test: 4\n",
      "[dp] track/sliding/test window size: 35656, 35656, 12517\n",
      "[dp] validation step is skipped\n",
      "[dp] training size: 35656\n",
      "[dp] prediction - data shape: (50162, 17), period: 2012-06-01 ~ 2013-09-30, sliding(in month): 12, test: 4\n",
      "[dp] track/sliding/test window size: 36484, 36484, 13678\n",
      "[dp] validation step is skipped\n",
      "[dp] training size: 36484\n",
      "[dp] prediction - data shape: (47592, 17), period: 2012-10-01 ~ 2014-01-31, sliding(in month): 12, test: 4\n",
      "[dp] track/sliding/test window size: 37507, 37507, 10085\n",
      "[dp] validation step is skipped\n",
      "[dp] training size: 37507\n",
      "[dp] prediction - data shape: (46470, 17), period: 2013-02-01 ~ 2014-05-30, sliding(in month): 12, test: 4\n",
      "[dp] track/sliding/test window size: 35779, 35779, 10691\n",
      "[dp] validation step is skipped\n",
      "[dp] training size: 35779\n",
      "[dp] prediction - data shape: (45186, 17), period: 2013-06-03 ~ 2014-09-30, sliding(in month): 12, test: 4\n",
      "[dp] track/sliding/test window size: 33953, 33953, 11233\n",
      "[dp] validation step is skipped\n",
      "[dp] training size: 33953\n",
      "[dp] prediction - data shape: (38559, 17), period: 2013-10-01 ~ 2015-01-30, sliding(in month): 12, test: 4\n",
      "[dp] track/sliding/test window size: 31812, 31812, 6747\n",
      "[dp] validation step is skipped\n",
      "[dp] training size: 31812\n",
      "[dp] prediction - data shape: (40070, 17), period: 2014-02-03 ~ 2015-05-29, sliding(in month): 12, test: 4\n",
      "[dp] track/sliding/test window size: 28303, 28303, 11767\n",
      "[dp] validation step is skipped\n",
      "[dp] training size: 28303\n",
      "[dp] prediction - data shape: (42924, 17), period: 2014-06-02 ~ 2015-09-30, sliding(in month): 12, test: 4\n",
      "[dp] track/sliding/test window size: 29576, 29576, 13348\n",
      "[dp] validation step is skipped\n",
      "[dp] training size: 29576\n",
      "[dp] prediction - data shape: (41444, 17), period: 2014-10-01 ~ 2016-01-29, sliding(in month): 12, test: 4\n",
      "[dp] track/sliding/test window size: 31470, 31470, 9974\n",
      "[dp] validation step is skipped\n",
      "[dp] training size: 31470\n",
      "[dp] prediction - data shape: (46431, 17), period: 2015-02-02 ~ 2016-05-31, sliding(in month): 12, test: 4\n",
      "[dp] track/sliding/test window size: 34697, 34697, 11734\n",
      "[dp] validation step is skipped\n",
      "[dp] training size: 34697\n",
      "[dp] prediction - data shape: (48063, 17), period: 2015-06-01 ~ 2016-09-30, sliding(in month): 12, test: 4\n",
      "[dp] track/sliding/test window size: 34582, 34582, 13481\n",
      "[dp] validation step is skipped\n",
      "[dp] training size: 34582\n",
      "[dp] prediction - data shape: (45134, 17), period: 2015-10-01 ~ 2017-01-31, sliding(in month): 12, test: 4\n",
      "[dp] track/sliding/test window size: 34715, 34715, 10419\n",
      "[dp] validation step is skipped\n",
      "[dp] training size: 34715\n",
      "[dp] prediction - data shape: (46866, 17), period: 2016-02-01 ~ 2017-05-31, sliding(in month): 12, test: 4\n",
      "[dp] track/sliding/test window size: 35381, 35381, 11485\n",
      "[dp] validation step is skipped\n",
      "[dp] training size: 35381\n",
      "[dp] prediction - data shape: (47419, 17), period: 2016-06-01 ~ 2017-09-27, sliding(in month): 12, test: 4\n",
      "[dp] track/sliding/test window size: 34643, 34643, 12776\n",
      "[dp] validation step is skipped\n",
      "[dp] training size: 34643\n"
     ]
    },
    {
     "data": {
      "text/plain": [
       "[43976.5131943247,\n",
       " 47258.108516511435,\n",
       " 51938.43130005981,\n",
       " 52697.61388399104,\n",
       " 52469.42535143521,\n",
       " 57828.14507432424,\n",
       " 65992.41967871466,\n",
       " 61310.74741638329,\n",
       " 67526.06607573776,\n",
       " 80438.44977031487,\n",
       " 86437.79605818572,\n",
       " 76353.24182930295,\n",
       " 73275.66718346505,\n",
       " 67321.28275376746,\n",
       " 68197.78611503095,\n",
       " 83027.85349115841,\n",
       " 69021.8530740052,\n",
       " 75067.97554234123,\n",
       " 69291.41096975534,\n",
       " 73070.83394323215,\n",
       " 70981.67684203073,\n",
       " 64229.412122328155,\n",
       " 70353.3771261755,\n",
       " 74487.02677503468,\n",
       " 67845.87885902674,\n",
       " 75533.88347148789,\n",
       " 77519.7135729078,\n",
       " 66025.6173919984,\n",
       " 74367.10625383297,\n",
       " 75471.51438888807,\n",
       " 73542.13355548852,\n",
       " 76345.40536627048,\n",
       " 83708.63052235862,\n",
       " 82330.75581368966,\n",
       " 83374.72473666971,\n",
       " 82801.52959543689,\n",
       " 90032.72021637701,\n",
       " 92556.27170145066,\n",
       " 85775.48145560206,\n",
       " 86737.68257640368,\n",
       " 89007.37284915875,\n",
       " 97354.82533282891,\n",
       " 109216.55934316186,\n",
       " 103161.93046414743,\n",
       " 109664.62544280181,\n",
       " 96044.99254010318,\n",
       " 92961.21241685605,\n",
       " 97132.75128609609,\n",
       " 100374.8257721562,\n",
       " 101894.35908631419,\n",
       " 105729.72542899924,\n",
       " 108438.34971513116,\n",
       " 111680.36330314624,\n",
       " 114444.06360685515,\n",
       " 147005.3690667406,\n",
       " 151336.7484352781,\n",
       " 133454.9628025959,\n",
       " 122324.51799508228,\n",
       " 127536.71586041233,\n",
       " 128239.71971534671,\n",
       " 123321.5824415546,\n",
       " 123988.97541632134,\n",
       " 127933.79210658863,\n",
       " 131860.42229210032,\n",
       " 132565.12816869415,\n",
       " 137375.52254581734,\n",
       " 143404.1690650599,\n",
       " 110126.88995684846,\n",
       " 114268.9162796148,\n",
       " 93278.38579269566,\n",
       " 93721.77173202053,\n",
       " 90513.032974322,\n",
       " 88829.15950239092,\n",
       " 85225.65633835696,\n",
       " 95552.46481748107,\n",
       " 99176.78121331491,\n",
       " 100776.0745162101,\n",
       " 96649.4223204212,\n",
       " 95571.10764626932,\n",
       " 95997.8268980599,\n",
       " 102996.50502081752,\n",
       " 108572.0718888925,\n",
       " 109358.94753972886,\n",
       " 104923.96357557792,\n",
       " 91424.22334828274,\n",
       " 91299.43049439369,\n",
       " 89070.2155153899,\n",
       " 89814.10040072269,\n",
       " 87474.86191939855,\n",
       " 80517.75864533285,\n",
       " 76365.23736724489,\n",
       " 69504.18566408806,\n",
       " 64146.64133998717,\n",
       " 78508.23840985147,\n",
       " 117034.43649005407]"
      ]
     },
     "execution_count": 11,
     "metadata": {},
     "output_type": "execute_result"
    }
   ],
   "source": [
    "### regress with 12-month sliding window\n",
    "mr_full.regress(df_all, sliding_window=12)"
   ]
  },
  {
   "cell_type": "code",
   "execution_count": 13,
   "metadata": {},
   "outputs": [
    {
     "name": "stderr",
     "output_type": "stream",
     "text": [
      "[dp] data range: 1985-10-01 - 2017-09-27\n",
      "[dp] sliding_windows: [4, 8, 12, 12, 12, 12, 12, 12, 12, 12, 12, 12, 12, 12, 12, 12, 12, 12, 12, 12, 12, 12, 12, 12, 12, 12, 12, 12, 12, 12, 12, 12, 12, 12, 12, 12, 12, 12, 12, 12, 12, 12, 12, 12, 12, 12, 12, 12, 12, 12, 12, 12, 12, 12, 12, 12, 12, 12, 12, 12, 12, 12, 12, 12, 12, 12, 12, 12, 12, 12, 12, 12, 12, 12, 12, 12, 12, 12, 12, 12, 12, 12, 12, 12, 12, 12, 12, 12, 12, 12, 12, 12, 12, 12, 12]\n",
      "[dp] errors: [43976.5131943247, 47258.108516511435, 51938.43130005981, 52697.61388399104, 52469.42535143521, 57828.14507432424, 65992.41967871466, 61310.74741638329, 67526.06607573776, 80438.44977031487, 86437.79605818572, 76353.24182930295, 73275.66718346505, 67321.28275376746, 68197.78611503095, 83027.85349115841, 69021.8530740052, 75067.97554234123, 69291.41096975534, 73070.83394323215, 70981.67684203073, 64229.412122328155, 70353.3771261755, 74487.02677503468, 67845.87885902674, 75533.88347148789, 77519.7135729078, 66025.6173919984, 74367.10625383297, 75471.51438888807, 73542.13355548852, 76345.40536627048, 83708.63052235862, 82330.75581368966, 83374.72473666971, 82801.52959543689, 90032.72021637701, 92556.27170145066, 85775.48145560206, 86737.68257640368, 89007.37284915875, 97354.82533282891, 109216.55934316186, 103161.93046414743, 109664.62544280181, 96044.99254010318, 92961.21241685605, 97132.75128609609, 100374.8257721562, 101894.35908631419, 105729.72542899924, 108438.34971513116, 111680.36330314624, 114444.06360685515, 147005.3690667406, 151336.7484352781, 133454.9628025959, 122324.51799508228, 127536.71586041233, 128239.71971534671, 123321.5824415546, 123988.97541632134, 127933.79210658863, 131860.42229210032, 132565.12816869415, 137375.52254581734, 143404.1690650599, 110126.88995684846, 114268.9162796148, 93278.38579269566, 93721.77173202053, 90513.032974322, 88829.15950239092, 85225.65633835696, 95552.46481748107, 99176.78121331491, 100776.0745162101, 96649.4223204212, 95571.10764626932, 95997.8268980599, 102996.50502081752, 108572.0718888925, 109358.94753972886, 104923.96357557792, 91424.22334828274, 91299.43049439369, 89070.2155153899, 89814.10040072269, 87474.86191939855, 80517.75864533285, 76365.23736724489, 69504.18566408806, 64146.64133998717, 78508.23840985147, 117034.43649005407]\n"
     ]
    },
    {
     "data": {
      "image/png": "[encoded data removed]",
      "text/plain": [
       "<matplotlib.figure.Figure at 0x234a83ee080>"
      ]
     },
     "metadata": {},
     "output_type": "display_data"
    }
   ],
   "source": [
    "df_sum_12 = mr_full.summary()\n",
    "plot_trends(df_sum_12, ['error'])"
   ]
  },
  {
   "cell_type": "code",
   "execution_count": 14,
   "metadata": {
    "scrolled": true
   },
   "outputs": [
    {
     "name": "stderr",
     "output_type": "stream",
     "text": [
      "[dp] prediction - data shape: (26051, 17), period: 1985-10-01 ~ 1986-05-30, sliding(in month): 4, test: 4\n",
      "[dp] track/sliding/test window size: 13403, 13403, 12648\n",
      "[dp] validation step is skipped\n",
      "[dp] training size: 13403\n",
      "[dp] prediction - data shape: (29961, 17), period: 1986-02-03 ~ 1986-09-30, sliding(in month): 4, test: 4\n",
      "[dp] track/sliding/test window size: 12263, 12263, 17698\n",
      "[dp] validation step is skipped\n",
      "[dp] training size: 12263\n",
      "[dp] prediction - data shape: (35816, 17), period: 1986-06-02 ~ 1987-01-30, sliding(in month): 4, test: 4\n",
      "[dp] track/sliding/test window size: 17698, 17698, 18118\n",
      "[dp] validation step is skipped\n",
      "[dp] training size: 17698\n",
      "[dp] prediction - data shape: (33246, 17), period: 1986-10-01 ~ 1987-05-29, sliding(in month): 4, test: 4\n",
      "[dp] track/sliding/test window size: 17763, 17763, 15483\n",
      "[dp] validation step is skipped\n",
      "[dp] training size: 17763\n",
      "[dp] prediction - data shape: (33335, 17), period: 1987-02-02 ~ 1987-09-30, sliding(in month): 4, test: 4\n",
      "[dp] track/sliding/test window size: 15128, 15128, 18207\n",
      "[dp] validation step is skipped\n",
      "[dp] training size: 15128\n",
      "[dp] prediction - data shape: (33221, 17), period: 1987-06-01 ~ 1988-01-31, sliding(in month): 4, test: 4\n",
      "[dp] track/sliding/test window size: 18207, 18207, 15014\n",
      "[dp] validation step is skipped\n",
      "[dp] training size: 18207\n",
      "[dp] prediction - data shape: (30695, 17), period: 1987-10-01 ~ 1988-05-31, sliding(in month): 4, test: 4\n",
      "[dp] track/sliding/test window size: 15014, 15014, 15681\n",
      "[dp] validation step is skipped\n",
      "[dp] training size: 15014\n",
      "[dp] prediction - data shape: (37290, 17), period: 1988-02-01 ~ 1988-09-30, sliding(in month): 4, test: 4\n",
      "[dp] track/sliding/test window size: 15431, 15431, 21859\n",
      "[dp] validation step is skipped\n",
      "[dp] training size: 15431\n",
      "[dp] prediction - data shape: (40106, 17), period: 1988-06-01 ~ 1989-01-31, sliding(in month): 4, test: 4\n",
      "[dp] track/sliding/test window size: 21609, 21609, 18497\n",
      "[dp] validation step is skipped\n",
      "[dp] training size: 21609\n",
      "[dp] prediction - data shape: (35722, 17), period: 1988-10-03 ~ 1989-05-31, sliding(in month): 4, test: 4\n",
      "[dp] track/sliding/test window size: 18497, 18497, 17225\n",
      "[dp] validation step is skipped\n",
      "[dp] training size: 18497\n",
      "[dp] prediction - data shape: (35282, 17), period: 1989-02-01 ~ 1989-09-29, sliding(in month): 4, test: 4\n",
      "[dp] track/sliding/test window size: 16705, 16705, 18577\n",
      "[dp] validation step is skipped\n",
      "[dp] training size: 16705\n",
      "[dp] prediction - data shape: (33243, 17), period: 1989-06-01 ~ 1990-01-31, sliding(in month): 4, test: 4\n",
      "[dp] track/sliding/test window size: 18057, 18057, 15186\n",
      "[dp] validation step is skipped\n",
      "[dp] training size: 18057\n",
      "[dp] prediction - data shape: (28808, 17), period: 1989-10-02 ~ 1990-05-31, sliding(in month): 4, test: 4\n",
      "[dp] track/sliding/test window size: 15186, 15186, 13622\n",
      "[dp] validation step is skipped\n",
      "[dp] training size: 15186\n",
      "[dp] prediction - data shape: (26991, 17), period: 1990-02-01 ~ 1990-09-28, sliding(in month): 4, test: 4\n",
      "[dp] track/sliding/test window size: 13034, 13034, 13957\n",
      "[dp] validation step is skipped\n",
      "[dp] training size: 13034\n",
      "[dp] prediction - data shape: (22587, 17), period: 1990-06-01 ~ 1991-01-31, sliding(in month): 4, test: 4\n",
      "[dp] track/sliding/test window size: 13369, 13369, 9218\n",
      "[dp] validation step is skipped\n",
      "[dp] training size: 13369\n",
      "[dp] prediction - data shape: (19548, 17), period: 1990-10-01 ~ 1991-05-31, sliding(in month): 4, test: 4\n",
      "[dp] track/sliding/test window size: 9218, 9218, 10330\n",
      "[dp] validation step is skipped\n",
      "[dp] training size: 9218\n",
      "[dp] prediction - data shape: (21886, 17), period: 1991-02-01 ~ 1991-09-30, sliding(in month): 4, test: 4\n",
      "[dp] track/sliding/test window size: 9891, 9891, 11995\n",
      "[dp] validation step is skipped\n",
      "[dp] training size: 9891\n",
      "[dp] prediction - data shape: (20705, 17), period: 1991-06-03 ~ 1992-01-31, sliding(in month): 4, test: 4\n",
      "[dp] track/sliding/test window size: 11556, 11556, 9149\n",
      "[dp] validation step is skipped\n",
      "[dp] training size: 11556\n",
      "[dp] prediction - data shape: (19254, 17), period: 1991-10-01 ~ 1992-05-29, sliding(in month): 4, test: 4\n",
      "[dp] track/sliding/test window size: 8830, 8830, 10424\n",
      "[dp] validation step is skipped\n",
      "[dp] training size: 8830\n",
      "[dp] prediction - data shape: (20174, 17), period: 1992-02-03 ~ 1992-09-30, sliding(in month): 4, test: 4\n",
      "[dp] track/sliding/test window size: 10105, 10105, 10069\n",
      "[dp] validation step is skipped\n",
      "[dp] training size: 10105\n",
      "[dp] prediction - data shape: (19237, 17), period: 1992-06-01 ~ 1993-01-30, sliding(in month): 4, test: 4\n",
      "[dp] track/sliding/test window size: 10069, 10069, 9168\n",
      "[dp] validation step is skipped\n",
      "[dp] training size: 10069\n",
      "[dp] prediction - data shape: (18087, 17), period: 1992-10-01 ~ 1993-05-28, sliding(in month): 4, test: 4\n",
      "[dp] track/sliding/test window size: 8930, 8930, 9157\n",
      "[dp] validation step is skipped\n",
      "[dp] training size: 8930\n",
      "[dp] prediction - data shape: (19663, 17), period: 1993-02-01 ~ 1993-09-30, sliding(in month): 4, test: 4\n",
      "[dp] track/sliding/test window size: 8919, 8919, 10744\n",
      "[dp] validation step is skipped\n",
      "[dp] training size: 8919\n",
      "[dp] prediction - data shape: (20691, 17), period: 1993-06-01 ~ 1994-01-31, sliding(in month): 4, test: 4\n",
      "[dp] track/sliding/test window size: 10744, 10744, 9947\n",
      "[dp] validation step is skipped\n",
      "[dp] training size: 10744\n",
      "[dp] prediction - data shape: (21310, 17), period: 1993-10-01 ~ 1994-05-31, sliding(in month): 4, test: 4\n",
      "[dp] track/sliding/test window size: 9947, 9947, 11363\n",
      "[dp] validation step is skipped\n",
      "[dp] training size: 9947\n",
      "[dp] prediction - data shape: (23098, 17), period: 1994-02-01 ~ 1994-09-30, sliding(in month): 4, test: 4\n",
      "[dp] track/sliding/test window size: 11134, 11134, 11964\n",
      "[dp] validation step is skipped\n",
      "[dp] training size: 11134\n",
      "[dp] prediction - data shape: (20283, 17), period: 1994-06-01 ~ 1995-01-31, sliding(in month): 4, test: 4\n",
      "[dp] track/sliding/test window size: 11735, 11735, 8548\n",
      "[dp] validation step is skipped\n",
      "[dp] training size: 11735\n",
      "[dp] prediction - data shape: (16757, 17), period: 1994-10-03 ~ 1995-05-31, sliding(in month): 4, test: 4\n",
      "[dp] track/sliding/test window size: 8548, 8548, 8209\n",
      "[dp] validation step is skipped\n",
      "[dp] training size: 8548\n",
      "[dp] prediction - data shape: (18466, 17), period: 1995-02-01 ~ 1995-09-29, sliding(in month): 4, test: 4\n",
      "[dp] track/sliding/test window size: 7815, 7815, 10651\n",
      "[dp] validation step is skipped\n",
      "[dp] training size: 7815\n",
      "[dp] prediction - data shape: (19255, 17), period: 1995-06-01 ~ 1996-01-31, sliding(in month): 4, test: 4\n",
      "[dp] track/sliding/test window size: 10257, 10257, 8998\n",
      "[dp] validation step is skipped\n",
      "[dp] training size: 10257\n",
      "[dp] prediction - data shape: (19527, 17), period: 1995-10-02 ~ 1996-05-31, sliding(in month): 4, test: 4\n",
      "[dp] track/sliding/test window size: 8998, 8998, 10529\n",
      "[dp] validation step is skipped\n",
      "[dp] training size: 8998\n",
      "[dp] prediction - data shape: (21701, 17), period: 1996-02-01 ~ 1996-09-30, sliding(in month): 4, test: 4\n",
      "[dp] track/sliding/test window size: 10094, 10094, 11607\n",
      "[dp] validation step is skipped\n",
      "[dp] training size: 10094\n",
      "[dp] prediction - data shape: (21318, 17), period: 1996-06-03 ~ 1997-01-31, sliding(in month): 4, test: 4\n",
      "[dp] track/sliding/test window size: 11172, 11172, 10146\n",
      "[dp] validation step is skipped\n",
      "[dp] training size: 11172\n",
      "[dp] prediction - data shape: (21449, 17), period: 1996-10-01 ~ 1997-05-30, sliding(in month): 4, test: 4\n",
      "[dp] track/sliding/test window size: 9845, 9845, 11604\n",
      "[dp] validation step is skipped\n",
      "[dp] training size: 9845\n",
      "[dp] prediction - data shape: (25379, 17), period: 1997-02-01 ~ 1997-09-30, sliding(in month): 4, test: 4\n",
      "[dp] track/sliding/test window size: 11303, 11303, 14076\n",
      "[dp] validation step is skipped\n",
      "[dp] training size: 11303\n",
      "[dp] prediction - data shape: (26803, 17), period: 1997-06-02 ~ 1998-01-30, sliding(in month): 4, test: 4\n",
      "[dp] track/sliding/test window size: 14076, 14076, 12727\n",
      "[dp] validation step is skipped\n",
      "[dp] training size: 14076\n",
      "[dp] prediction - data shape: (27651, 17), period: 1997-10-01 ~ 1998-05-29, sliding(in month): 4, test: 4\n",
      "[dp] track/sliding/test window size: 12349, 12349, 15302\n",
      "[dp] validation step is skipped\n",
      "[dp] training size: 12349\n",
      "[dp] prediction - data shape: (32807, 17), period: 1998-02-02 ~ 1998-09-30, sliding(in month): 4, test: 4\n"
     ]
    },
    {
     "name": "stderr",
     "output_type": "stream",
     "text": [
      "[dp] track/sliding/test window size: 14924, 14924, 17883\n",
      "[dp] validation step is skipped\n",
      "[dp] training size: 14924\n",
      "[dp] prediction - data shape: (31826, 17), period: 1998-06-01 ~ 1999-01-29, sliding(in month): 4, test: 4\n",
      "[dp] track/sliding/test window size: 17442, 17442, 14384\n",
      "[dp] validation step is skipped\n",
      "[dp] training size: 17442\n",
      "[dp] prediction - data shape: (30808, 17), period: 1998-10-01 ~ 1999-05-30, sliding(in month): 4, test: 4\n",
      "[dp] track/sliding/test window size: 13943, 13943, 16865\n",
      "[dp] validation step is skipped\n",
      "[dp] training size: 13943\n",
      "[dp] prediction - data shape: (35695, 17), period: 1999-02-01 ~ 1999-09-30, sliding(in month): 4, test: 4\n",
      "[dp] track/sliding/test window size: 16865, 16865, 18830\n",
      "[dp] validation step is skipped\n",
      "[dp] training size: 16865\n",
      "[dp] prediction - data shape: (33353, 17), period: 1999-06-01 ~ 2000-01-31, sliding(in month): 4, test: 4\n",
      "[dp] track/sliding/test window size: 18830, 18830, 14523\n",
      "[dp] validation step is skipped\n",
      "[dp] training size: 18830\n",
      "[dp] prediction - data shape: (31150, 17), period: 1999-10-01 ~ 2000-05-31, sliding(in month): 4, test: 4\n",
      "[dp] track/sliding/test window size: 14523, 14523, 16627\n",
      "[dp] validation step is skipped\n",
      "[dp] training size: 14523\n",
      "[dp] prediction - data shape: (33932, 17), period: 2000-02-01 ~ 2000-09-29, sliding(in month): 4, test: 4\n",
      "[dp] track/sliding/test window size: 15855, 15855, 18077\n",
      "[dp] validation step is skipped\n",
      "[dp] training size: 15855\n",
      "[dp] prediction - data shape: (31915, 17), period: 2000-06-01 ~ 2001-01-31, sliding(in month): 4, test: 4\n",
      "[dp] track/sliding/test window size: 17305, 17305, 14610\n",
      "[dp] validation step is skipped\n",
      "[dp] training size: 17305\n",
      "[dp] prediction - data shape: (29690, 17), period: 2000-10-02 ~ 2001-05-31, sliding(in month): 4, test: 4\n",
      "[dp] track/sliding/test window size: 14610, 14610, 15080\n",
      "[dp] validation step is skipped\n",
      "[dp] training size: 14610\n",
      "[dp] prediction - data shape: (32762, 17), period: 2001-02-01 ~ 2001-09-28, sliding(in month): 4, test: 4\n",
      "[dp] track/sliding/test window size: 14254, 14254, 18508\n",
      "[dp] validation step is skipped\n",
      "[dp] training size: 14254\n",
      "[dp] prediction - data shape: (31653, 17), period: 2001-06-01 ~ 2002-01-31, sliding(in month): 4, test: 4\n",
      "[dp] track/sliding/test window size: 17682, 17682, 13971\n",
      "[dp] validation step is skipped\n",
      "[dp] training size: 17682\n",
      "[dp] prediction - data shape: (32242, 17), period: 2001-10-01 ~ 2002-05-31, sliding(in month): 4, test: 4\n",
      "[dp] track/sliding/test window size: 13971, 13971, 18271\n",
      "[dp] validation step is skipped\n",
      "[dp] training size: 13971\n",
      "[dp] prediction - data shape: (36874, 17), period: 2002-02-01 ~ 2002-09-30, sliding(in month): 4, test: 4\n",
      "[dp] track/sliding/test window size: 17691, 17691, 19183\n",
      "[dp] validation step is skipped\n",
      "[dp] training size: 17691\n",
      "[dp] prediction - data shape: (34309, 17), period: 2002-06-03 ~ 2003-01-31, sliding(in month): 4, test: 4\n",
      "[dp] track/sliding/test window size: 18603, 18603, 15706\n",
      "[dp] validation step is skipped\n",
      "[dp] training size: 18603\n",
      "[dp] prediction - data shape: (32631, 17), period: 2002-10-01 ~ 2003-05-30, sliding(in month): 4, test: 4\n",
      "[dp] track/sliding/test window size: 15311, 15311, 17320\n",
      "[dp] validation step is skipped\n",
      "[dp] training size: 15311\n",
      "[dp] prediction - data shape: (38030, 17), period: 2003-02-03 ~ 2003-09-30, sliding(in month): 4, test: 4\n",
      "[dp] track/sliding/test window size: 16925, 16925, 21105\n",
      "[dp] validation step is skipped\n",
      "[dp] training size: 16925\n",
      "[dp] prediction - data shape: (39058, 17), period: 2003-06-02 ~ 2004-01-30, sliding(in month): 4, test: 4\n",
      "[dp] track/sliding/test window size: 21105, 21105, 17953\n",
      "[dp] validation step is skipped\n",
      "[dp] training size: 21105\n",
      "[dp] prediction - data shape: (37858, 17), period: 2003-10-01 ~ 2004-05-28, sliding(in month): 4, test: 4\n",
      "[dp] track/sliding/test window size: 17351, 17351, 20507\n",
      "[dp] validation step is skipped\n",
      "[dp] training size: 17351\n",
      "[dp] prediction - data shape: (41663, 17), period: 2004-02-02 ~ 2004-09-30, sliding(in month): 4, test: 4\n",
      "[dp] track/sliding/test window size: 19905, 19905, 21758\n",
      "[dp] validation step is skipped\n",
      "[dp] training size: 19905\n",
      "[dp] prediction - data shape: (38674, 17), period: 2004-06-01 ~ 2005-01-31, sliding(in month): 4, test: 4\n",
      "[dp] track/sliding/test window size: 21758, 21758, 16916\n",
      "[dp] validation step is skipped\n",
      "[dp] training size: 21758\n",
      "[dp] prediction - data shape: (35321, 17), period: 2004-10-01 ~ 2005-05-31, sliding(in month): 4, test: 4\n",
      "[dp] track/sliding/test window size: 16916, 16916, 18405\n",
      "[dp] validation step is skipped\n",
      "[dp] training size: 16916\n",
      "[dp] prediction - data shape: (38446, 17), period: 2005-02-01 ~ 2005-09-30, sliding(in month): 4, test: 4\n",
      "[dp] track/sliding/test window size: 18015, 18015, 20431\n",
      "[dp] validation step is skipped\n",
      "[dp] training size: 18015\n",
      "[dp] prediction - data shape: (34454, 17), period: 2005-06-01 ~ 2006-01-31, sliding(in month): 4, test: 4\n",
      "[dp] track/sliding/test window size: 20041, 20041, 14413\n",
      "[dp] validation step is skipped\n",
      "[dp] training size: 20041\n",
      "[dp] prediction - data shape: (28212, 17), period: 2005-10-03 ~ 2006-05-31, sliding(in month): 4, test: 4\n",
      "[dp] track/sliding/test window size: 14413, 14413, 13799\n",
      "[dp] validation step is skipped\n",
      "[dp] training size: 14413\n",
      "[dp] prediction - data shape: (26960, 17), period: 2006-02-01 ~ 2006-09-29, sliding(in month): 4, test: 4\n",
      "[dp] track/sliding/test window size: 13189, 13189, 13771\n",
      "[dp] validation step is skipped\n",
      "[dp] training size: 13189\n",
      "[dp] prediction - data shape: (24539, 17), period: 2006-06-01 ~ 2007-01-31, sliding(in month): 4, test: 4\n",
      "[dp] track/sliding/test window size: 13161, 13161, 11378\n",
      "[dp] validation step is skipped\n",
      "[dp] training size: 13161\n",
      "[dp] prediction - data shape: (22534, 17), period: 2006-10-02 ~ 2007-05-31, sliding(in month): 4, test: 4\n",
      "[dp] track/sliding/test window size: 11378, 11378, 11156\n",
      "[dp] validation step is skipped\n",
      "[dp] training size: 11378\n",
      "[dp] prediction - data shape: (21280, 17), period: 2007-02-01 ~ 2007-09-28, sliding(in month): 4, test: 4\n",
      "[dp] track/sliding/test window size: 10586, 10586, 10694\n",
      "[dp] validation step is skipped\n",
      "[dp] training size: 10586\n",
      "[dp] prediction - data shape: (17187, 17), period: 2007-06-01 ~ 2008-01-31, sliding(in month): 4, test: 4\n",
      "[dp] track/sliding/test window size: 10124, 10124, 7063\n",
      "[dp] validation step is skipped\n",
      "[dp] training size: 10124\n",
      "[dp] prediction - data shape: (15652, 17), period: 2007-10-01 ~ 2008-05-30, sliding(in month): 4, test: 4\n",
      "[dp] track/sliding/test window size: 6909, 6909, 8743\n",
      "[dp] validation step is skipped\n",
      "[dp] training size: 6909\n",
      "[dp] prediction - data shape: (20089, 17), period: 2008-02-01 ~ 2008-09-30, sliding(in month): 4, test: 4\n",
      "[dp] track/sliding/test window size: 8589, 8589, 11500\n",
      "[dp] validation step is skipped\n",
      "[dp] training size: 8589\n",
      "[dp] prediction - data shape: (22263, 17), period: 2008-06-02 ~ 2009-01-30, sliding(in month): 4, test: 4\n",
      "[dp] track/sliding/test window size: 11500, 11500, 10763\n",
      "[dp] validation step is skipped\n",
      "[dp] training size: 11500\n",
      "[dp] prediction - data shape: (21438, 17), period: 2008-10-01 ~ 2009-05-29, sliding(in month): 4, test: 4\n",
      "[dp] track/sliding/test window size: 10498, 10498, 10940\n",
      "[dp] validation step is skipped\n",
      "[dp] training size: 10498\n",
      "[dp] prediction - data shape: (23386, 17), period: 2009-02-02 ~ 2009-09-30, sliding(in month): 4, test: 4\n",
      "[dp] track/sliding/test window size: 10675, 10675, 12711\n",
      "[dp] validation step is skipped\n",
      "[dp] training size: 10675\n",
      "[dp] prediction - data shape: (24079, 17), period: 2009-06-01 ~ 2010-01-29, sliding(in month): 4, test: 4\n",
      "[dp] track/sliding/test window size: 12335, 12335, 11744\n",
      "[dp] validation step is skipped\n",
      "[dp] training size: 12335\n",
      "[dp] prediction - data shape: (22765, 17), period: 2009-10-01 ~ 2010-05-28, sliding(in month): 4, test: 4\n",
      "[dp] track/sliding/test window size: 11081, 11081, 11684\n",
      "[dp] validation step is skipped\n",
      "[dp] training size: 11081\n",
      "[dp] prediction - data shape: (22819, 17), period: 2010-02-01 ~ 2010-09-30, sliding(in month): 4, test: 4\n",
      "[dp] track/sliding/test window size: 11397, 11397, 11422\n",
      "[dp] validation step is skipped\n",
      "[dp] training size: 11397\n",
      "[dp] prediction - data shape: (20913, 17), period: 2010-06-01 ~ 2011-01-31, sliding(in month): 4, test: 4\n",
      "[dp] track/sliding/test window size: 11422, 11422, 9491\n"
     ]
    },
    {
     "name": "stderr",
     "output_type": "stream",
     "text": [
      "[dp] validation step is skipped\n",
      "[dp] training size: 11422\n",
      "[dp] prediction - data shape: (19778, 17), period: 2010-10-01 ~ 2011-05-31, sliding(in month): 4, test: 4\n",
      "[dp] track/sliding/test window size: 9491, 9491, 10287\n",
      "[dp] validation step is skipped\n",
      "[dp] training size: 9491\n",
      "[dp] prediction - data shape: (21432, 17), period: 2011-02-01 ~ 2011-09-30, sliding(in month): 4, test: 4\n",
      "[dp] track/sliding/test window size: 10108, 10108, 11324\n",
      "[dp] validation step is skipped\n",
      "[dp] training size: 10108\n",
      "[dp] prediction - data shape: (20882, 17), period: 2011-06-01 ~ 2012-01-31, sliding(in month): 4, test: 4\n",
      "[dp] track/sliding/test window size: 11145, 11145, 9737\n",
      "[dp] validation step is skipped\n",
      "[dp] training size: 11145\n",
      "[dp] prediction - data shape: (21122, 17), period: 2011-10-03 ~ 2012-05-31, sliding(in month): 4, test: 4\n",
      "[dp] track/sliding/test window size: 9737, 9737, 11385\n",
      "[dp] validation step is skipped\n",
      "[dp] training size: 9737\n",
      "[dp] prediction - data shape: (24040, 17), period: 2012-02-01 ~ 2012-09-28, sliding(in month): 4, test: 4\n",
      "[dp] track/sliding/test window size: 10771, 10771, 13269\n",
      "[dp] validation step is skipped\n",
      "[dp] training size: 10771\n",
      "[dp] prediction - data shape: (24271, 17), period: 2012-06-01 ~ 2013-01-31, sliding(in month): 4, test: 4\n",
      "[dp] track/sliding/test window size: 12655, 12655, 11616\n",
      "[dp] validation step is skipped\n",
      "[dp] training size: 12655\n",
      "[dp] prediction - data shape: (24133, 17), period: 2012-10-01 ~ 2013-05-31, sliding(in month): 4, test: 4\n",
      "[dp] track/sliding/test window size: 11616, 11616, 12517\n",
      "[dp] validation step is skipped\n",
      "[dp] training size: 11616\n",
      "[dp] prediction - data shape: (25891, 17), period: 2013-02-01 ~ 2013-09-30, sliding(in month): 4, test: 4\n",
      "[dp] track/sliding/test window size: 12213, 12213, 13678\n",
      "[dp] validation step is skipped\n",
      "[dp] training size: 12213\n",
      "[dp] prediction - data shape: (23459, 17), period: 2013-06-03 ~ 2014-01-31, sliding(in month): 4, test: 4\n",
      "[dp] track/sliding/test window size: 13374, 13374, 10085\n",
      "[dp] validation step is skipped\n",
      "[dp] training size: 13374\n",
      "[dp] prediction - data shape: (20579, 17), period: 2013-10-01 ~ 2014-05-30, sliding(in month): 4, test: 4\n",
      "[dp] track/sliding/test window size: 9888, 9888, 10691\n",
      "[dp] validation step is skipped\n",
      "[dp] training size: 9888\n",
      "[dp] prediction - data shape: (21727, 17), period: 2014-02-03 ~ 2014-09-30, sliding(in month): 4, test: 4\n",
      "[dp] track/sliding/test window size: 10494, 10494, 11233\n",
      "[dp] validation step is skipped\n",
      "[dp] training size: 10494\n",
      "[dp] prediction - data shape: (17980, 17), period: 2014-06-02 ~ 2015-01-30, sliding(in month): 4, test: 4\n",
      "[dp] track/sliding/test window size: 11233, 11233, 6747\n",
      "[dp] validation step is skipped\n",
      "[dp] training size: 11233\n",
      "[dp] prediction - data shape: (18343, 17), period: 2014-10-01 ~ 2015-05-29, sliding(in month): 4, test: 4\n",
      "[dp] track/sliding/test window size: 6576, 6576, 11767\n",
      "[dp] validation step is skipped\n",
      "[dp] training size: 6576\n",
      "[dp] prediction - data shape: (24944, 17), period: 2015-02-02 ~ 2015-09-30, sliding(in month): 4, test: 4\n",
      "[dp] track/sliding/test window size: 11596, 11596, 13348\n",
      "[dp] validation step is skipped\n",
      "[dp] training size: 11596\n",
      "[dp] prediction - data shape: (23101, 17), period: 2015-06-01 ~ 2016-01-29, sliding(in month): 4, test: 4\n",
      "[dp] track/sliding/test window size: 13127, 13127, 9974\n",
      "[dp] validation step is skipped\n",
      "[dp] training size: 13127\n",
      "[dp] prediction - data shape: (21487, 17), period: 2015-10-01 ~ 2016-05-31, sliding(in month): 4, test: 4\n",
      "[dp] track/sliding/test window size: 9753, 9753, 11734\n",
      "[dp] validation step is skipped\n",
      "[dp] training size: 9753\n",
      "[dp] prediction - data shape: (24962, 17), period: 2016-02-01 ~ 2016-09-30, sliding(in month): 4, test: 4\n",
      "[dp] track/sliding/test window size: 11481, 11481, 13481\n",
      "[dp] validation step is skipped\n",
      "[dp] training size: 11481\n",
      "[dp] prediction - data shape: (23647, 17), period: 2016-06-01 ~ 2017-01-31, sliding(in month): 4, test: 4\n",
      "[dp] track/sliding/test window size: 13228, 13228, 10419\n",
      "[dp] validation step is skipped\n",
      "[dp] training size: 13228\n",
      "[dp] prediction - data shape: (21904, 17), period: 2016-10-03 ~ 2017-05-31, sliding(in month): 4, test: 4\n",
      "[dp] track/sliding/test window size: 10419, 10419, 11485\n",
      "[dp] validation step is skipped\n",
      "[dp] training size: 10419\n",
      "[dp] prediction - data shape: (23772, 17), period: 2017-02-01 ~ 2017-09-27, sliding(in month): 4, test: 4\n",
      "[dp] track/sliding/test window size: 10996, 10996, 12776\n",
      "[dp] validation step is skipped\n",
      "[dp] training size: 10996\n"
     ]
    },
    {
     "data": {
      "text/plain": [
       "[43976.5131943247,\n",
       " 47022.894083921274,\n",
       " 54446.31280592243,\n",
       " 54364.88461667377,\n",
       " 52321.82649834702,\n",
       " 57934.318925339394,\n",
       " 66574.30728919824,\n",
       " 61475.26066468218,\n",
       " 65062.16406356966,\n",
       " 76730.80640345882,\n",
       " 79776.94889857368,\n",
       " 73416.24891611468,\n",
       " 72173.2996729165,\n",
       " 68451.73162090924,\n",
       " 70569.77328333906,\n",
       " 81794.13334772609,\n",
       " 72839.97454525618,\n",
       " 76447.53611943606,\n",
       " 77457.21196046029,\n",
       " 73399.23593784074,\n",
       " 72880.99909425605,\n",
       " 68743.93655741346,\n",
       " 73014.91205074801,\n",
       " 76545.35996071067,\n",
       " 70897.5266832006,\n",
       " 76299.02733106186,\n",
       " 78887.84187313438,\n",
       " 74492.62074704068,\n",
       " 76428.43357618847,\n",
       " 78007.29705132032,\n",
       " 73511.8092336708,\n",
       " 80105.05174287359,\n",
       " 84520.14203603512,\n",
       " 83067.34631246097,\n",
       " 83087.84064286425,\n",
       " 85988.87420844543,\n",
       " 92475.48159931831,\n",
       " 92573.17808162783,\n",
       " 84751.52969722183,\n",
       " 87414.71696669351,\n",
       " 90557.41307196312,\n",
       " 98472.9567765404,\n",
       " 108597.16560601482,\n",
       " 102104.55015713938,\n",
       " 108641.40946154356,\n",
       " 97314.38921164951,\n",
       " 93782.3785760298,\n",
       " 100264.56949627378,\n",
       " 104815.80675474979,\n",
       " 102743.00615350743,\n",
       " 105554.35497298429,\n",
       " 107673.30788234409,\n",
       " 111178.22950482006,\n",
       " 116672.72746001786,\n",
       " 139581.763303259,\n",
       " 130832.54089508383,\n",
       " 123379.52648264077,\n",
       " 121240.65231761547,\n",
       " 127033.25266527008,\n",
       " 130267.6635715747,\n",
       " 128540.95858349495,\n",
       " 125372.40282905957,\n",
       " 131504.33806696106,\n",
       " 141449.41217215967,\n",
       " 135336.07909006503,\n",
       " 138887.47085787865,\n",
       " 131114.5916394712,\n",
       " 98784.65661084825,\n",
       " 115540.37219983344,\n",
       " 95143.36485855989,\n",
       " 96537.53715958237,\n",
       " 91412.2405366352,\n",
       " 93746.42644480529,\n",
       " 89410.9464838424,\n",
       " 97852.5529555082,\n",
       " 100260.29723893381,\n",
       " 107866.5681949319,\n",
       " 97766.56723130248,\n",
       " 102806.43124063071,\n",
       " 98327.31398291817,\n",
       " 103948.93555888948,\n",
       " 114782.56532258178,\n",
       " 106676.9671749978,\n",
       " 107696.8120518285,\n",
       " 99347.95327460488,\n",
       " 95871.85505576458,\n",
       " 90921.34128635052,\n",
       " 93417.93310962681,\n",
       " 87635.55798250175,\n",
       " 79855.3577505584,\n",
       " 74564.16936809244,\n",
       " 66524.26555660352,\n",
       " 63814.87988706154,\n",
       " 81552.39478789763,\n",
       " 115157.95560385742]"
      ]
     },
     "execution_count": 14,
     "metadata": {},
     "output_type": "execute_result"
    }
   ],
   "source": [
    "### regress with 4-month sliding window\n",
    "mr_full.regress(df_all, sliding_window=4)"
   ]
  },
  {
   "cell_type": "code",
   "execution_count": 15,
   "metadata": {},
   "outputs": [
    {
     "name": "stderr",
     "output_type": "stream",
     "text": [
      "[dp] data range: 1985-10-01 - 2017-09-27\n",
      "[dp] sliding_windows: [4, 4, 4, 4, 4, 4, 4, 4, 4, 4, 4, 4, 4, 4, 4, 4, 4, 4, 4, 4, 4, 4, 4, 4, 4, 4, 4, 4, 4, 4, 4, 4, 4, 4, 4, 4, 4, 4, 4, 4, 4, 4, 4, 4, 4, 4, 4, 4, 4, 4, 4, 4, 4, 4, 4, 4, 4, 4, 4, 4, 4, 4, 4, 4, 4, 4, 4, 4, 4, 4, 4, 4, 4, 4, 4, 4, 4, 4, 4, 4, 4, 4, 4, 4, 4, 4, 4, 4, 4, 4, 4, 4, 4, 4, 4]\n",
      "[dp] errors: [43976.5131943247, 47022.894083921274, 54446.31280592243, 54364.88461667377, 52321.82649834702, 57934.318925339394, 66574.30728919824, 61475.26066468218, 65062.16406356966, 76730.80640345882, 79776.94889857368, 73416.24891611468, 72173.2996729165, 68451.73162090924, 70569.77328333906, 81794.13334772609, 72839.97454525618, 76447.53611943606, 77457.21196046029, 73399.23593784074, 72880.99909425605, 68743.93655741346, 73014.91205074801, 76545.35996071067, 70897.5266832006, 76299.02733106186, 78887.84187313438, 74492.62074704068, 76428.43357618847, 78007.29705132032, 73511.8092336708, 80105.05174287359, 84520.14203603512, 83067.34631246097, 83087.84064286425, 85988.87420844543, 92475.48159931831, 92573.17808162783, 84751.52969722183, 87414.71696669351, 90557.41307196312, 98472.9567765404, 108597.16560601482, 102104.55015713938, 108641.40946154356, 97314.38921164951, 93782.3785760298, 100264.56949627378, 104815.80675474979, 102743.00615350743, 105554.35497298429, 107673.30788234409, 111178.22950482006, 116672.72746001786, 139581.763303259, 130832.54089508383, 123379.52648264077, 121240.65231761547, 127033.25266527008, 130267.6635715747, 128540.95858349495, 125372.40282905957, 131504.33806696106, 141449.41217215967, 135336.07909006503, 138887.47085787865, 131114.5916394712, 98784.65661084825, 115540.37219983344, 95143.36485855989, 96537.53715958237, 91412.2405366352, 93746.42644480529, 89410.9464838424, 97852.5529555082, 100260.29723893381, 107866.5681949319, 97766.56723130248, 102806.43124063071, 98327.31398291817, 103948.93555888948, 114782.56532258178, 106676.9671749978, 107696.8120518285, 99347.95327460488, 95871.85505576458, 90921.34128635052, 93417.93310962681, 87635.55798250175, 79855.3577505584, 74564.16936809244, 66524.26555660352, 63814.87988706154, 81552.39478789763, 115157.95560385742]\n"
     ]
    },
    {
     "data": {
      "image/png": "[encoded data removed]",
      "text/plain": [
       "<matplotlib.figure.Figure at 0x234a0f84e80>"
      ]
     },
     "metadata": {},
     "output_type": "display_data"
    }
   ],
   "source": [
    "df_sum_4 = mr_full.summary()\n",
    "plot_trends(df_sum_4, ['error'])"
   ]
  },
  {
   "cell_type": "code",
   "execution_count": 19,
   "metadata": {
    "scrolled": true
   },
   "outputs": [
    {
     "name": "stderr",
     "output_type": "stream",
     "text": [
      "[dp] prediction - data shape: (26051, 17), period: 1985-10-01 ~ 1986-05-30, sliding(in month): 4, test: 4\n",
      "[dp] track/sliding/test window size: 13403, 13403, 12648\n",
      "[dp] validation step is skipped\n",
      "[dp] training size: 13403\n",
      "[dp] prediction - data shape: (43749, 17), period: 1985-10-01 ~ 1986-09-30, sliding(in month): 8, test: 4\n",
      "[dp] track/sliding/test window size: 26051, 26051, 17698\n",
      "[dp] validation step is skipped\n",
      "[dp] training size: 26051\n",
      "[dp] prediction - data shape: (61867, 17), period: 1985-10-01 ~ 1987-01-30, sliding(in month): 12, test: 4\n",
      "[dp] track/sliding/test window size: 43749, 43749, 18118\n",
      "[dp] validation step is skipped\n",
      "[dp] training size: 43749\n",
      "[dp] prediction - data shape: (63207, 17), period: 1986-02-03 ~ 1987-05-29, sliding(in month): 12, test: 4\n",
      "[dp] track/sliding/test window size: 47724, 47724, 15483\n",
      "[dp] validation step is skipped\n",
      "[dp] training size: 47724\n",
      "[dp] prediction - data shape: (69151, 17), period: 1986-06-02 ~ 1987-09-30, sliding(in month): 12, test: 4\n",
      "[dp] track/sliding/test window size: 50944, 50944, 18207\n",
      "[dp] validation step is skipped\n",
      "[dp] training size: 50944\n",
      "[dp] validation - data shape: (110216, 17), sliding(in month): 4, period: 1985-10-01 ~ 1988-01-31\n",
      "[dp] track/sliding/test window size: 95202, 13788, 15014\n",
      "[dp] walk-forward train:(13788,), test:(15014,), scope:0 ~ 28801\n",
      "[dp] walk-forward train:(13788,), test:(15014,), scope:15014 ~ 43815\n",
      "[dp] walk-forward train:(13788,), test:(15014,), scope:30028 ~ 58829\n",
      "[dp] walk-forward train:(13788,), test:(15014,), scope:45042 ~ 73843\n",
      "[dp] walk-forward train:(13788,), test:(15014,), scope:60056 ~ 88857\n",
      "[dp] training size: 95202\n"
     ]
    },
    {
     "name": "stdout",
     "output_type": "stream",
     "text": [
      "Fitting 5 folds for each of 1 candidates, totalling 5 fits\n"
     ]
    },
    {
     "name": "stderr",
     "output_type": "stream",
     "text": [
      "[Parallel(n_jobs=-1)]: Done   5 out of   5 | elapsed:    6.9s finished\n",
      "[dp] validation - sliding(in month):4, score: -2432692112.547437\n",
      "[dp] validation - data shape: (110216, 17), sliding(in month): 8, period: 1985-10-01 ~ 1988-01-31\n",
      "[dp] track/sliding/test window size: 95202, 26051, 15014\n",
      "[dp] walk-forward train:(26051,), test:(15014,), scope:0 ~ 41064\n",
      "[dp] walk-forward train:(26051,), test:(15014,), scope:15014 ~ 56078\n",
      "[dp] walk-forward train:(26051,), test:(15014,), scope:30028 ~ 71092\n",
      "[dp] walk-forward train:(26051,), test:(15014,), scope:45042 ~ 86106\n",
      "[dp] training size: 95202\n"
     ]
    },
    {
     "name": "stdout",
     "output_type": "stream",
     "text": [
      "Fitting 4 folds for each of 1 candidates, totalling 4 fits\n"
     ]
    },
    {
     "name": "stderr",
     "output_type": "stream",
     "text": [
      "[Parallel(n_jobs=-1)]: Done   2 out of   4 | elapsed:    8.5s remaining:    8.5s\n",
      "[Parallel(n_jobs=-1)]: Done   4 out of   4 | elapsed:    9.3s finished\n",
      "[dp] validation - sliding(in month):8, score: -2499199348.598236\n",
      "[dp] validation - data shape: (110216, 17), sliding(in month): 12, period: 1985-10-01 ~ 1988-01-31\n",
      "[dp] track/sliding/test window size: 95202, 43749, 15014\n",
      "[dp] walk-forward train:(43749,), test:(15014,), scope:0 ~ 58762\n",
      "[dp] walk-forward train:(43749,), test:(15014,), scope:15014 ~ 73776\n",
      "[dp] walk-forward train:(43749,), test:(15014,), scope:30028 ~ 88790\n",
      "[dp] training size: 95202\n"
     ]
    },
    {
     "name": "stdout",
     "output_type": "stream",
     "text": [
      "Fitting 3 folds for each of 1 candidates, totalling 3 fits\n"
     ]
    },
    {
     "name": "stderr",
     "output_type": "stream",
     "text": [
      "[Parallel(n_jobs=-1)]: Done   3 out of   3 | elapsed:   10.2s finished\n",
      "[dp] validation - sliding(in month):12, score: -2487935568.791562\n",
      "[dp] prediction - data shape: (33221, 17), period: 1987-06-01 ~ 1988-01-31, sliding(in month): 4, test: 4\n",
      "[dp] track/sliding/test window size: 18207, 18207, 15014\n",
      "[dp] validation step is skipped\n",
      "[dp] training size: 18207\n",
      "[dp] prediction - data shape: (30695, 17), period: 1987-10-01 ~ 1988-05-31, sliding(in month): 4, test: 4\n",
      "[dp] track/sliding/test window size: 15014, 15014, 15681\n",
      "[dp] validation step is skipped\n",
      "[dp] training size: 15014\n",
      "[dp] prediction - data shape: (37290, 17), period: 1988-02-01 ~ 1988-09-30, sliding(in month): 4, test: 4\n",
      "[dp] track/sliding/test window size: 15431, 15431, 21859\n",
      "[dp] validation step is skipped\n",
      "[dp] training size: 15431\n",
      "[dp] prediction - data shape: (40106, 17), period: 1988-06-01 ~ 1989-01-31, sliding(in month): 4, test: 4\n",
      "[dp] track/sliding/test window size: 21609, 21609, 18497\n",
      "[dp] validation step is skipped\n",
      "[dp] training size: 21609\n",
      "[dp] prediction - data shape: (35722, 17), period: 1988-10-03 ~ 1989-05-31, sliding(in month): 4, test: 4\n",
      "[dp] track/sliding/test window size: 18497, 18497, 17225\n",
      "[dp] validation step is skipped\n",
      "[dp] training size: 18497\n",
      "[dp] prediction - data shape: (35282, 17), period: 1989-02-01 ~ 1989-09-29, sliding(in month): 4, test: 4\n",
      "[dp] track/sliding/test window size: 16705, 16705, 18577\n",
      "[dp] validation step is skipped\n",
      "[dp] training size: 16705\n",
      "[dp] validation - data shape: (121269, 17), sliding(in month): 4, period: 1987-10-01 ~ 1990-01-31\n",
      "[dp] track/sliding/test window size: 106083, 15014, 15186\n",
      "[dp] walk-forward train:(15014,), test:(15186,), scope:0 ~ 30199\n",
      "[dp] walk-forward train:(15014,), test:(15186,), scope:15186 ~ 45385\n",
      "[dp] walk-forward train:(15014,), test:(15186,), scope:30372 ~ 60571\n",
      "[dp] walk-forward train:(15014,), test:(15186,), scope:45558 ~ 75757\n",
      "[dp] walk-forward train:(15014,), test:(15186,), scope:60744 ~ 90943\n",
      "[dp] training size: 106083\n"
     ]
    },
    {
     "name": "stdout",
     "output_type": "stream",
     "text": [
      "Fitting 5 folds for each of 1 candidates, totalling 5 fits\n"
     ]
    },
    {
     "name": "stderr",
     "output_type": "stream",
     "text": [
      "[Parallel(n_jobs=-1)]: Done   5 out of   5 | elapsed:    7.4s finished\n",
      "[dp] validation - sliding(in month):4, score: -4405127365.537791\n",
      "[dp] validation - data shape: (121269, 17), sliding(in month): 8, period: 1987-10-01 ~ 1990-01-31\n",
      "[dp] track/sliding/test window size: 106083, 30695, 15186\n",
      "[dp] walk-forward train:(30695,), test:(15186,), scope:0 ~ 45880\n",
      "[dp] walk-forward train:(30695,), test:(15186,), scope:15186 ~ 61066\n",
      "[dp] walk-forward train:(30695,), test:(15186,), scope:30372 ~ 76252\n",
      "[dp] walk-forward train:(30695,), test:(15186,), scope:45558 ~ 91438\n",
      "[dp] training size: 106083\n"
     ]
    },
    {
     "name": "stdout",
     "output_type": "stream",
     "text": [
      "Fitting 4 folds for each of 1 candidates, totalling 4 fits\n"
     ]
    },
    {
     "name": "stderr",
     "output_type": "stream",
     "text": [
      "[Parallel(n_jobs=-1)]: Done   2 out of   4 | elapsed:    9.1s remaining:    9.1s\n",
      "[Parallel(n_jobs=-1)]: Done   4 out of   4 | elapsed:    9.9s finished\n",
      "[dp] validation - sliding(in month):8, score: -4426638494.739366\n",
      "[dp] validation - data shape: (121269, 17), sliding(in month): 12, period: 1987-10-01 ~ 1990-01-31\n",
      "[dp] track/sliding/test window size: 106083, 52304, 15186\n",
      "[dp] walk-forward train:(52304,), test:(15186,), scope:0 ~ 67489\n",
      "[dp] walk-forward train:(52304,), test:(15186,), scope:15186 ~ 82675\n",
      "[dp] walk-forward train:(52304,), test:(15186,), scope:30372 ~ 97861\n",
      "[dp] training size: 106083\n"
     ]
    },
    {
     "name": "stdout",
     "output_type": "stream",
     "text": [
      "Fitting 3 folds for each of 1 candidates, totalling 3 fits\n"
     ]
    },
    {
     "name": "stderr",
     "output_type": "stream",
     "text": [
      "[Parallel(n_jobs=-1)]: Done   3 out of   3 | elapsed:   11.6s finished\n",
      "[dp] validation - sliding(in month):12, score: -5465440739.6275835\n",
      "[dp] prediction - data shape: (33243, 17), period: 1989-06-01 ~ 1990-01-31, sliding(in month): 4, test: 4\n",
      "[dp] track/sliding/test window size: 18057, 18057, 15186\n",
      "[dp] validation step is skipped\n",
      "[dp] training size: 18057\n",
      "[dp] prediction - data shape: (28808, 17), period: 1989-10-02 ~ 1990-05-31, sliding(in month): 4, test: 4\n",
      "[dp] track/sliding/test window size: 15186, 15186, 13622\n",
      "[dp] validation step is skipped\n",
      "[dp] training size: 15186\n",
      "[dp] prediction - data shape: (26991, 17), period: 1990-02-01 ~ 1990-09-28, sliding(in month): 4, test: 4\n",
      "[dp] track/sliding/test window size: 13034, 13034, 13957\n",
      "[dp] validation step is skipped\n",
      "[dp] training size: 13034\n",
      "[dp] prediction - data shape: (22587, 17), period: 1990-06-01 ~ 1991-01-31, sliding(in month): 4, test: 4\n",
      "[dp] track/sliding/test window size: 13369, 13369, 9218\n",
      "[dp] validation step is skipped\n",
      "[dp] training size: 13369\n",
      "[dp] prediction - data shape: (19548, 17), period: 1990-10-01 ~ 1991-05-31, sliding(in month): 4, test: 4\n",
      "[dp] track/sliding/test window size: 9218, 9218, 10330\n",
      "[dp] validation step is skipped\n",
      "[dp] training size: 9218\n",
      "[dp] prediction - data shape: (21886, 17), period: 1991-02-01 ~ 1991-09-30, sliding(in month): 4, test: 4\n",
      "[dp] track/sliding/test window size: 9891, 9891, 11995\n",
      "[dp] validation step is skipped\n",
      "[dp] training size: 9891\n",
      "[dp] validation - data shape: (82430, 17), sliding(in month): 4, period: 1989-10-02 ~ 1992-01-31\n",
      "[dp] track/sliding/test window size: 73281, 15359, 9149\n",
      "[dp] walk-forward train:(15359,), test:(9149,), scope:0 ~ 24507\n",
      "[dp] walk-forward train:(15359,), test:(9149,), scope:9149 ~ 33656\n",
      "[dp] walk-forward train:(15359,), test:(9149,), scope:18298 ~ 42805\n",
      "[dp] walk-forward train:(15359,), test:(9149,), scope:27447 ~ 51954\n",
      "[dp] walk-forward train:(15359,), test:(9149,), scope:36596 ~ 61103\n",
      "[dp] walk-forward train:(15359,), test:(9149,), scope:45745 ~ 70252\n",
      "[dp] training size: 73281\n"
     ]
    },
    {
     "name": "stdout",
     "output_type": "stream",
     "text": [
      "Fitting 6 folds for each of 1 candidates, totalling 6 fits\n"
     ]
    },
    {
     "name": "stderr",
     "output_type": "stream",
     "text": [
      "[Parallel(n_jobs=-1)]: Done   6 out of   6 | elapsed:    8.0s remaining:    0.0s\n",
      "[Parallel(n_jobs=-1)]: Done   6 out of   6 | elapsed:    8.0s finished\n",
      "[dp] validation - sliding(in month):4, score: -5251001880.892931\n",
      "[dp] validation - data shape: (82430, 17), sliding(in month): 8, period: 1989-10-02 ~ 1992-01-31\n",
      "[dp] track/sliding/test window size: 73281, 29122, 9149\n",
      "[dp] walk-forward train:(29122,), test:(9149,), scope:0 ~ 38270\n",
      "[dp] walk-forward train:(29122,), test:(9149,), scope:9149 ~ 47419\n",
      "[dp] walk-forward train:(29122,), test:(9149,), scope:18298 ~ 56568\n",
      "[dp] walk-forward train:(29122,), test:(9149,), scope:27447 ~ 65717\n",
      "[dp] training size: 73281\n"
     ]
    },
    {
     "name": "stdout",
     "output_type": "stream",
     "text": [
      "Fitting 4 folds for each of 1 candidates, totalling 4 fits\n"
     ]
    },
    {
     "name": "stderr",
     "output_type": "stream",
     "text": [
      "[Parallel(n_jobs=-1)]: Done   2 out of   4 | elapsed:    8.4s remaining:    8.4s\n",
      "[Parallel(n_jobs=-1)]: Done   4 out of   4 | elapsed:    9.3s finished\n",
      "[dp] validation - sliding(in month):8, score: -5264338768.136841\n",
      "[dp] validation - data shape: (82430, 17), sliding(in month): 12, period: 1989-10-02 ~ 1992-01-31\n",
      "[dp] track/sliding/test window size: 73281, 42313, 9149\n",
      "[dp] walk-forward train:(42313,), test:(9149,), scope:0 ~ 51461\n",
      "[dp] walk-forward train:(42313,), test:(9149,), scope:9149 ~ 60610\n",
      "[dp] walk-forward train:(42313,), test:(9149,), scope:18298 ~ 69759\n",
      "[dp] training size: 73281\n"
     ]
    },
    {
     "name": "stdout",
     "output_type": "stream",
     "text": [
      "Fitting 3 folds for each of 1 candidates, totalling 3 fits\n"
     ]
    },
    {
     "name": "stderr",
     "output_type": "stream",
     "text": [
      "[Parallel(n_jobs=-1)]: Done   3 out of   3 | elapsed:   10.8s finished\n",
      "[dp] validation - sliding(in month):12, score: -5407583685.051001\n",
      "[dp] prediction - data shape: (20705, 17), period: 1991-06-03 ~ 1992-01-31, sliding(in month): 4, test: 4\n",
      "[dp] track/sliding/test window size: 11556, 11556, 9149\n",
      "[dp] validation step is skipped\n",
      "[dp] training size: 11556\n",
      "[dp] prediction - data shape: (19254, 17), period: 1991-10-01 ~ 1992-05-29, sliding(in month): 4, test: 4\n",
      "[dp] track/sliding/test window size: 8830, 8830, 10424\n",
      "[dp] validation step is skipped\n",
      "[dp] training size: 8830\n",
      "[dp] prediction - data shape: (20174, 17), period: 1992-02-03 ~ 1992-09-30, sliding(in month): 4, test: 4\n",
      "[dp] track/sliding/test window size: 10105, 10105, 10069\n",
      "[dp] validation step is skipped\n",
      "[dp] training size: 10105\n",
      "[dp] prediction - data shape: (19237, 17), period: 1992-06-01 ~ 1993-01-30, sliding(in month): 4, test: 4\n",
      "[dp] track/sliding/test window size: 10069, 10069, 9168\n",
      "[dp] validation step is skipped\n",
      "[dp] training size: 10069\n",
      "[dp] prediction - data shape: (18087, 17), period: 1992-10-01 ~ 1993-05-28, sliding(in month): 4, test: 4\n",
      "[dp] track/sliding/test window size: 8930, 8930, 9157\n",
      "[dp] validation step is skipped\n",
      "[dp] training size: 8930\n",
      "[dp] prediction - data shape: (19663, 17), period: 1993-02-01 ~ 1993-09-30, sliding(in month): 4, test: 4\n",
      "[dp] track/sliding/test window size: 8919, 8919, 10744\n",
      "[dp] validation step is skipped\n",
      "[dp] training size: 8919\n",
      "[dp] validation - data shape: (68101, 17), sliding(in month): 4, period: 1991-10-01 ~ 1994-01-31\n",
      "[dp] track/sliding/test window size: 58154, 9149, 9947\n",
      "[dp] walk-forward train:(9149,), test:(9947,), scope:0 ~ 19095\n",
      "[dp] walk-forward train:(9149,), test:(9947,), scope:9947 ~ 29042\n",
      "[dp] walk-forward train:(9149,), test:(9947,), scope:19894 ~ 38989\n",
      "[dp] walk-forward train:(9149,), test:(9947,), scope:29841 ~ 48936\n",
      "[dp] training size: 58154\n"
     ]
    },
    {
     "name": "stdout",
     "output_type": "stream",
     "text": [
      "Fitting 4 folds for each of 1 candidates, totalling 4 fits\n"
     ]
    },
    {
     "name": "stderr",
     "output_type": "stream",
     "text": [
      "[Parallel(n_jobs=-1)]: Done   2 out of   4 | elapsed:    3.4s remaining:    3.4s\n",
      "[Parallel(n_jobs=-1)]: Done   4 out of   4 | elapsed:    5.3s finished\n",
      "[dp] validation - sliding(in month):4, score: -5505806291.310549\n",
      "[dp] validation - data shape: (68101, 17), sliding(in month): 8, period: 1991-10-01 ~ 1994-01-31\n",
      "[dp] track/sliding/test window size: 58154, 19254, 9947\n",
      "[dp] walk-forward train:(19254,), test:(9947,), scope:0 ~ 29200\n",
      "[dp] walk-forward train:(19254,), test:(9947,), scope:9947 ~ 39147\n",
      "[dp] walk-forward train:(19254,), test:(9947,), scope:19894 ~ 49094\n",
      "[dp] training size: 58154\n"
     ]
    },
    {
     "name": "stdout",
     "output_type": "stream",
     "text": [
      "Fitting 3 folds for each of 1 candidates, totalling 3 fits\n"
     ]
    },
    {
     "name": "stderr",
     "output_type": "stream",
     "text": [
      "[Parallel(n_jobs=-1)]: Done   3 out of   3 | elapsed:    5.7s finished\n",
      "[dp] validation - sliding(in month):8, score: -5340089678.263594\n",
      "[dp] validation - data shape: (68101, 17), sliding(in month): 12, period: 1991-10-01 ~ 1994-01-31\n",
      "[dp] track/sliding/test window size: 58154, 29323, 9947\n",
      "[dp] walk-forward train:(29323,), test:(9947,), scope:0 ~ 39269\n",
      "[dp] walk-forward train:(29323,), test:(9947,), scope:9947 ~ 49216\n",
      "[dp] training size: 58154\n"
     ]
    },
    {
     "name": "stdout",
     "output_type": "stream",
     "text": [
      "Fitting 2 folds for each of 1 candidates, totalling 2 fits\n"
     ]
    },
    {
     "name": "stderr",
     "output_type": "stream",
     "text": [
      "[Parallel(n_jobs=-1)]: Done   2 out of   2 | elapsed:    5.4s finished\n",
      "[dp] validation - sliding(in month):12, score: -4750515186.1239605\n",
      "[dp] prediction - data shape: (38778, 17), period: 1992-10-01 ~ 1994-01-31, sliding(in month): 12, test: 4\n",
      "[dp] track/sliding/test window size: 28831, 28831, 9947\n",
      "[dp] validation step is skipped\n",
      "[dp] training size: 28831\n",
      "[dp] prediction - data shape: (40973, 17), period: 1993-02-01 ~ 1994-05-31, sliding(in month): 12, test: 4\n",
      "[dp] track/sliding/test window size: 29610, 29610, 11363\n",
      "[dp] validation step is skipped\n",
      "[dp] training size: 29610\n",
      "[dp] prediction - data shape: (43789, 17), period: 1993-06-01 ~ 1994-09-30, sliding(in month): 12, test: 4\n",
      "[dp] track/sliding/test window size: 31825, 31825, 11964\n",
      "[dp] validation step is skipped\n",
      "[dp] training size: 31825\n",
      "[dp] prediction - data shape: (41593, 17), period: 1993-10-01 ~ 1995-01-31, sliding(in month): 12, test: 4\n",
      "[dp] track/sliding/test window size: 33045, 33045, 8548\n",
      "[dp] validation step is skipped\n",
      "[dp] training size: 33045\n",
      "[dp] prediction - data shape: (39855, 17), period: 1994-02-01 ~ 1995-05-31, sliding(in month): 12, test: 4\n",
      "[dp] track/sliding/test window size: 31646, 31646, 8209\n",
      "[dp] validation step is skipped\n",
      "[dp] training size: 31646\n",
      "[dp] prediction - data shape: (38749, 17), period: 1994-06-01 ~ 1995-09-29, sliding(in month): 12, test: 4\n",
      "[dp] track/sliding/test window size: 28098, 28098, 10651\n",
      "[dp] validation step is skipped\n",
      "[dp] training size: 28098\n",
      "[dp] validation - data shape: (69057, 17), sliding(in month): 4, period: 1993-10-01 ~ 1996-01-31\n",
      "[dp] track/sliding/test window size: 60059, 9947, 8998\n",
      "[dp] walk-forward train:(9947,), test:(8998,), scope:0 ~ 18944\n",
      "[dp] walk-forward train:(9947,), test:(8998,), scope:8998 ~ 27942\n",
      "[dp] walk-forward train:(9947,), test:(8998,), scope:17996 ~ 36940\n",
      "[dp] walk-forward train:(9947,), test:(8998,), scope:26994 ~ 45938\n",
      "[dp] walk-forward train:(9947,), test:(8998,), scope:35992 ~ 54936\n",
      "[dp] training size: 60059\n"
     ]
    },
    {
     "name": "stdout",
     "output_type": "stream",
     "text": [
      "Fitting 5 folds for each of 1 candidates, totalling 5 fits\n"
     ]
    },
    {
     "name": "stderr",
     "output_type": "stream",
     "text": [
      "[Parallel(n_jobs=-1)]: Done   5 out of   5 | elapsed:    6.3s finished\n",
      "[dp] validation - sliding(in month):4, score: -5620762575.599433\n",
      "[dp] validation - data shape: (69057, 17), sliding(in month): 8, period: 1993-10-01 ~ 1996-01-31\n",
      "[dp] track/sliding/test window size: 60059, 21310, 8998\n",
      "[dp] walk-forward train:(21310,), test:(8998,), scope:0 ~ 30307\n",
      "[dp] walk-forward train:(21310,), test:(8998,), scope:8998 ~ 39305\n",
      "[dp] walk-forward train:(21310,), test:(8998,), scope:17996 ~ 48303\n",
      "[dp] walk-forward train:(21310,), test:(8998,), scope:26994 ~ 57301\n",
      "[dp] training size: 60059\n"
     ]
    },
    {
     "name": "stdout",
     "output_type": "stream",
     "text": [
      "Fitting 4 folds for each of 1 candidates, totalling 4 fits\n"
     ]
    },
    {
     "name": "stderr",
     "output_type": "stream",
     "text": [
      "[Parallel(n_jobs=-1)]: Done   2 out of   4 | elapsed:    7.1s remaining:    7.1s\n",
      "[Parallel(n_jobs=-1)]: Done   4 out of   4 | elapsed:    8.0s finished\n",
      "[dp] validation - sliding(in month):8, score: -5432387645.044645\n",
      "[dp] validation - data shape: (69057, 17), sliding(in month): 12, period: 1993-10-01 ~ 1996-01-31\n",
      "[dp] track/sliding/test window size: 60059, 33045, 8998\n",
      "[dp] walk-forward train:(33045,), test:(8998,), scope:0 ~ 42042\n",
      "[dp] walk-forward train:(33045,), test:(8998,), scope:8998 ~ 51040\n",
      "[dp] walk-forward train:(33045,), test:(8998,), scope:17996 ~ 60038\n",
      "[dp] training size: 60059\n"
     ]
    },
    {
     "name": "stdout",
     "output_type": "stream",
     "text": [
      "Fitting 3 folds for each of 1 candidates, totalling 3 fits\n"
     ]
    },
    {
     "name": "stderr",
     "output_type": "stream",
     "text": [
      "[Parallel(n_jobs=-1)]: Done   3 out of   3 | elapsed:    9.1s finished\n",
      "[dp] validation - sliding(in month):12, score: -5205811286.390984\n",
      "[dp] prediction - data shape: (36012, 17), period: 1994-10-03 ~ 1996-01-31, sliding(in month): 12, test: 4\n",
      "[dp] track/sliding/test window size: 27014, 27014, 8998\n",
      "[dp] validation step is skipped\n",
      "[dp] training size: 27014\n",
      "[dp] prediction - data shape: (37993, 17), period: 1995-02-01 ~ 1996-05-31, sliding(in month): 12, test: 4\n",
      "[dp] track/sliding/test window size: 27464, 27464, 10529\n",
      "[dp] validation step is skipped\n",
      "[dp] training size: 27464\n",
      "[dp] prediction - data shape: (40956, 17), period: 1995-06-01 ~ 1996-09-30, sliding(in month): 12, test: 4\n",
      "[dp] track/sliding/test window size: 29349, 29349, 11607\n",
      "[dp] validation step is skipped\n",
      "[dp] training size: 29349\n",
      "[dp] prediction - data shape: (40845, 17), period: 1995-10-02 ~ 1997-01-31, sliding(in month): 12, test: 4\n",
      "[dp] track/sliding/test window size: 30699, 30699, 10146\n",
      "[dp] validation step is skipped\n",
      "[dp] training size: 30699\n",
      "[dp] prediction - data shape: (43150, 17), period: 1996-02-01 ~ 1997-05-30, sliding(in month): 12, test: 4\n",
      "[dp] track/sliding/test window size: 31546, 31546, 11604\n",
      "[dp] validation step is skipped\n",
      "[dp] training size: 31546\n",
      "[dp] prediction - data shape: (46697, 17), period: 1996-06-03 ~ 1997-09-30, sliding(in month): 12, test: 4\n",
      "[dp] track/sliding/test window size: 32621, 32621, 14076\n",
      "[dp] validation step is skipped\n",
      "[dp] training size: 32621\n",
      "[dp] validation - data shape: (78951, 17), sliding(in month): 4, period: 1995-10-02 ~ 1998-01-30\n",
      "[dp] track/sliding/test window size: 66224, 9078, 12727\n",
      "[dp] walk-forward train:(9078,), test:(12727,), scope:0 ~ 21804\n",
      "[dp] walk-forward train:(9078,), test:(12727,), scope:12727 ~ 34531\n",
      "[dp] walk-forward train:(9078,), test:(12727,), scope:25454 ~ 47258\n",
      "[dp] walk-forward train:(9078,), test:(12727,), scope:38181 ~ 59985\n",
      "[dp] training size: 66224\n"
     ]
    },
    {
     "name": "stdout",
     "output_type": "stream",
     "text": [
      "Fitting 4 folds for each of 1 candidates, totalling 4 fits\n"
     ]
    },
    {
     "name": "stderr",
     "output_type": "stream",
     "text": [
      "[Parallel(n_jobs=-1)]: Done   2 out of   4 | elapsed:    3.9s remaining:    3.9s\n",
      "[Parallel(n_jobs=-1)]: Done   4 out of   4 | elapsed:    5.8s finished\n",
      "[dp] validation - sliding(in month):4, score: -6569533966.73598\n",
      "[dp] validation - data shape: (78951, 17), sliding(in month): 8, period: 1995-10-02 ~ 1998-01-30\n",
      "[dp] track/sliding/test window size: 66224, 19527, 12727\n",
      "[dp] walk-forward train:(19527,), test:(12727,), scope:0 ~ 32253\n",
      "[dp] walk-forward train:(19527,), test:(12727,), scope:12727 ~ 44980\n",
      "[dp] walk-forward train:(19527,), test:(12727,), scope:25454 ~ 57707\n",
      "[dp] training size: 66224\n"
     ]
    },
    {
     "name": "stdout",
     "output_type": "stream",
     "text": [
      "Fitting 3 folds for each of 1 candidates, totalling 3 fits\n"
     ]
    },
    {
     "name": "stderr",
     "output_type": "stream",
     "text": [
      "[Parallel(n_jobs=-1)]: Done   3 out of   3 | elapsed:    6.0s finished\n",
      "[dp] validation - sliding(in month):8, score: -6727132952.745265\n",
      "[dp] validation - data shape: (78951, 17), sliding(in month): 12, period: 1995-10-02 ~ 1998-01-30\n",
      "[dp] track/sliding/test window size: 66224, 30819, 12727\n",
      "[dp] walk-forward train:(30819,), test:(12727,), scope:0 ~ 43545\n",
      "[dp] walk-forward train:(30819,), test:(12727,), scope:12727 ~ 56272\n",
      "[dp] training size: 66224\n"
     ]
    },
    {
     "name": "stdout",
     "output_type": "stream",
     "text": [
      "Fitting 2 folds for each of 1 candidates, totalling 2 fits\n"
     ]
    },
    {
     "name": "stderr",
     "output_type": "stream",
     "text": [
      "[Parallel(n_jobs=-1)]: Done   2 out of   2 | elapsed:    5.7s finished\n",
      "[dp] validation - sliding(in month):12, score: -6847220205.515295\n",
      "[dp] prediction - data shape: (26803, 17), period: 1997-06-02 ~ 1998-01-30, sliding(in month): 4, test: 4\n",
      "[dp] track/sliding/test window size: 14076, 14076, 12727\n",
      "[dp] validation step is skipped\n",
      "[dp] training size: 14076\n",
      "[dp] prediction - data shape: (27651, 17), period: 1997-10-01 ~ 1998-05-29, sliding(in month): 4, test: 4\n",
      "[dp] track/sliding/test window size: 12349, 12349, 15302\n",
      "[dp] validation step is skipped\n",
      "[dp] training size: 12349\n",
      "[dp] prediction - data shape: (32807, 17), period: 1998-02-02 ~ 1998-09-30, sliding(in month): 4, test: 4\n",
      "[dp] track/sliding/test window size: 14924, 14924, 17883\n",
      "[dp] validation step is skipped\n",
      "[dp] training size: 14924\n",
      "[dp] prediction - data shape: (31826, 17), period: 1998-06-01 ~ 1999-01-29, sliding(in month): 4, test: 4\n",
      "[dp] track/sliding/test window size: 17442, 17442, 14384\n",
      "[dp] validation step is skipped\n",
      "[dp] training size: 17442\n",
      "[dp] prediction - data shape: (30808, 17), period: 1998-10-01 ~ 1999-05-30, sliding(in month): 4, test: 4\n",
      "[dp] track/sliding/test window size: 13943, 13943, 16865\n",
      "[dp] validation step is skipped\n",
      "[dp] training size: 13943\n",
      "[dp] prediction - data shape: (35695, 17), period: 1999-02-01 ~ 1999-09-30, sliding(in month): 4, test: 4\n",
      "[dp] track/sliding/test window size: 16865, 16865, 18830\n",
      "[dp] validation step is skipped\n",
      "[dp] training size: 16865\n",
      "[dp] validation - data shape: (109695, 17), sliding(in month): 4, period: 1997-10-01 ~ 2000-01-31\n",
      "[dp] track/sliding/test window size: 95172, 12727, 14523\n",
      "[dp] walk-forward train:(12727,), test:(14523,), scope:0 ~ 27249\n",
      "[dp] walk-forward train:(12727,), test:(14523,), scope:14523 ~ 41772\n",
      "[dp] walk-forward train:(12727,), test:(14523,), scope:29046 ~ 56295\n",
      "[dp] walk-forward train:(12727,), test:(14523,), scope:43569 ~ 70818\n",
      "[dp] walk-forward train:(12727,), test:(14523,), scope:58092 ~ 85341\n",
      "[dp] training size: 95172\n"
     ]
    },
    {
     "name": "stdout",
     "output_type": "stream",
     "text": [
      "Fitting 5 folds for each of 1 candidates, totalling 5 fits\n"
     ]
    },
    {
     "name": "stderr",
     "output_type": "stream",
     "text": [
      "[Parallel(n_jobs=-1)]: Done   5 out of   5 | elapsed:    6.5s finished\n",
      "[dp] validation - sliding(in month):4, score: -8133203981.896853\n",
      "[dp] validation - data shape: (109695, 17), sliding(in month): 8, period: 1997-10-01 ~ 2000-01-31\n",
      "[dp] track/sliding/test window size: 95172, 27651, 14523\n",
      "[dp] walk-forward train:(27651,), test:(14523,), scope:0 ~ 42173\n",
      "[dp] walk-forward train:(27651,), test:(14523,), scope:14523 ~ 56696\n",
      "[dp] walk-forward train:(27651,), test:(14523,), scope:29046 ~ 71219\n",
      "[dp] walk-forward train:(27651,), test:(14523,), scope:43569 ~ 85742\n",
      "[dp] training size: 95172\n"
     ]
    },
    {
     "name": "stdout",
     "output_type": "stream",
     "text": [
      "Fitting 4 folds for each of 1 candidates, totalling 4 fits\n"
     ]
    },
    {
     "name": "stderr",
     "output_type": "stream",
     "text": [
      "[Parallel(n_jobs=-1)]: Done   2 out of   4 | elapsed:    8.4s remaining:    8.4s\n",
      "[Parallel(n_jobs=-1)]: Done   4 out of   4 | elapsed:    9.2s finished\n",
      "[dp] validation - sliding(in month):8, score: -7681540739.691169\n",
      "[dp] validation - data shape: (109695, 17), sliding(in month): 12, period: 1997-10-01 ~ 2000-01-31\n",
      "[dp] track/sliding/test window size: 95172, 45534, 14523\n",
      "[dp] walk-forward train:(45534,), test:(14523,), scope:0 ~ 60056\n",
      "[dp] walk-forward train:(45534,), test:(14523,), scope:14523 ~ 74579\n",
      "[dp] walk-forward train:(45534,), test:(14523,), scope:29046 ~ 89102\n",
      "[dp] training size: 95172\n"
     ]
    },
    {
     "name": "stdout",
     "output_type": "stream",
     "text": [
      "Fitting 3 folds for each of 1 candidates, totalling 3 fits\n"
     ]
    },
    {
     "name": "stderr",
     "output_type": "stream",
     "text": [
      "[Parallel(n_jobs=-1)]: Done   3 out of   3 | elapsed:   10.2s finished\n",
      "[dp] validation - sliding(in month):12, score: -7558450906.186707\n",
      "[dp] prediction - data shape: (64161, 17), period: 1998-10-01 ~ 2000-01-31, sliding(in month): 12, test: 4\n",
      "[dp] track/sliding/test window size: 49638, 49638, 14523\n",
      "[dp] validation step is skipped\n",
      "[dp] training size: 49638\n",
      "[dp] prediction - data shape: (66845, 17), period: 1999-02-01 ~ 2000-05-31, sliding(in month): 12, test: 4\n",
      "[dp] track/sliding/test window size: 50218, 50218, 16627\n",
      "[dp] validation step is skipped\n",
      "[dp] training size: 50218\n",
      "[dp] prediction - data shape: (67285, 17), period: 1999-06-01 ~ 2000-09-29, sliding(in month): 12, test: 4\n",
      "[dp] track/sliding/test window size: 49208, 49208, 18077\n",
      "[dp] validation step is skipped\n",
      "[dp] training size: 49208\n",
      "[dp] prediction - data shape: (63065, 17), period: 1999-10-01 ~ 2001-01-31, sliding(in month): 12, test: 4\n",
      "[dp] track/sliding/test window size: 48455, 48455, 14610\n",
      "[dp] validation step is skipped\n",
      "[dp] training size: 48455\n",
      "[dp] prediction - data shape: (63622, 17), period: 2000-02-01 ~ 2001-05-31, sliding(in month): 12, test: 4\n",
      "[dp] track/sliding/test window size: 48542, 48542, 15080\n",
      "[dp] validation step is skipped\n",
      "[dp] training size: 48542\n",
      "[dp] prediction - data shape: (64677, 17), period: 2000-06-01 ~ 2001-09-28, sliding(in month): 12, test: 4\n",
      "[dp] track/sliding/test window size: 46169, 46169, 18508\n",
      "[dp] validation step is skipped\n",
      "[dp] training size: 46169\n",
      "[dp] validation - data shape: (109798, 17), sliding(in month): 4, period: 1999-10-01 ~ 2002-01-31\n",
      "[dp] track/sliding/test window size: 95827, 14523, 13971\n",
      "[dp] walk-forward train:(14523,), test:(13971,), scope:0 ~ 28493\n",
      "[dp] walk-forward train:(14523,), test:(13971,), scope:13971 ~ 42464\n",
      "[dp] walk-forward train:(14523,), test:(13971,), scope:27942 ~ 56435\n",
      "[dp] walk-forward train:(14523,), test:(13971,), scope:41913 ~ 70406\n",
      "[dp] walk-forward train:(14523,), test:(13971,), scope:55884 ~ 84377\n",
      "[dp] training size: 95827\n"
     ]
    },
    {
     "name": "stdout",
     "output_type": "stream",
     "text": [
      "Fitting 5 folds for each of 1 candidates, totalling 5 fits\n"
     ]
    },
    {
     "name": "stderr",
     "output_type": "stream",
     "text": [
      "[Parallel(n_jobs=-1)]: Done   5 out of   5 | elapsed:    6.7s finished\n",
      "[dp] validation - sliding(in month):4, score: -10500196802.068167\n",
      "[dp] validation - data shape: (109798, 17), sliding(in month): 8, period: 1999-10-01 ~ 2002-01-31\n",
      "[dp] track/sliding/test window size: 95827, 31150, 13971\n",
      "[dp] walk-forward train:(31150,), test:(13971,), scope:0 ~ 45120\n",
      "[dp] walk-forward train:(31150,), test:(13971,), scope:13971 ~ 59091\n",
      "[dp] walk-forward train:(31150,), test:(13971,), scope:27942 ~ 73062\n",
      "[dp] walk-forward train:(31150,), test:(13971,), scope:41913 ~ 87033\n",
      "[dp] training size: 95827\n"
     ]
    },
    {
     "name": "stdout",
     "output_type": "stream",
     "text": [
      "Fitting 4 folds for each of 1 candidates, totalling 4 fits\n"
     ]
    },
    {
     "name": "stderr",
     "output_type": "stream",
     "text": [
      "[Parallel(n_jobs=-1)]: Done   2 out of   4 | elapsed:    8.5s remaining:    8.5s\n",
      "[Parallel(n_jobs=-1)]: Done   4 out of   4 | elapsed:    9.5s finished\n",
      "[dp] validation - sliding(in month):8, score: -9787180070.676273\n",
      "[dp] validation - data shape: (109798, 17), sliding(in month): 12, period: 1999-10-01 ~ 2002-01-31\n",
      "[dp] track/sliding/test window size: 95827, 48455, 13971\n",
      "[dp] walk-forward train:(48455,), test:(13971,), scope:0 ~ 62425\n",
      "[dp] walk-forward train:(48455,), test:(13971,), scope:13971 ~ 76396\n",
      "[dp] walk-forward train:(48455,), test:(13971,), scope:27942 ~ 90367\n",
      "[dp] training size: 95827\n"
     ]
    },
    {
     "name": "stdout",
     "output_type": "stream",
     "text": [
      "Fitting 3 folds for each of 1 candidates, totalling 3 fits\n"
     ]
    },
    {
     "name": "stderr",
     "output_type": "stream",
     "text": [
      "[Parallel(n_jobs=-1)]: Done   3 out of   3 | elapsed:   10.5s finished\n",
      "[dp] validation - sliding(in month):12, score: -9778797945.495476\n",
      "[dp] prediction - data shape: (61343, 17), period: 2000-10-02 ~ 2002-01-31, sliding(in month): 12, test: 4\n",
      "[dp] track/sliding/test window size: 47372, 47372, 13971\n",
      "[dp] validation step is skipped\n",
      "[dp] training size: 47372\n",
      "[dp] prediction - data shape: (65004, 17), period: 2001-02-01 ~ 2002-05-31, sliding(in month): 12, test: 4\n",
      "[dp] track/sliding/test window size: 46733, 46733, 18271\n",
      "[dp] validation step is skipped\n",
      "[dp] training size: 46733\n",
      "[dp] prediction - data shape: (68527, 17), period: 2001-06-01 ~ 2002-09-30, sliding(in month): 12, test: 4\n",
      "[dp] track/sliding/test window size: 49344, 49344, 19183\n",
      "[dp] validation step is skipped\n",
      "[dp] training size: 49344\n",
      "[dp] prediction - data shape: (66551, 17), period: 2001-10-01 ~ 2003-01-31, sliding(in month): 12, test: 4\n",
      "[dp] track/sliding/test window size: 50845, 50845, 15706\n",
      "[dp] validation step is skipped\n",
      "[dp] training size: 50845\n",
      "[dp] prediction - data shape: (69505, 17), period: 2002-02-01 ~ 2003-05-30, sliding(in month): 12, test: 4\n",
      "[dp] track/sliding/test window size: 52185, 52185, 17320\n",
      "[dp] validation step is skipped\n",
      "[dp] training size: 52185\n",
      "[dp] prediction - data shape: (72339, 17), period: 2002-06-03 ~ 2003-09-30, sliding(in month): 12, test: 4\n",
      "[dp] track/sliding/test window size: 51234, 51234, 21105\n",
      "[dp] validation step is skipped\n",
      "[dp] training size: 51234\n",
      "[dp] validation - data shape: (122534, 17), sliding(in month): 4, period: 2001-10-01 ~ 2004-01-30\n",
      "[dp] track/sliding/test window size: 104581, 13971, 17953\n",
      "[dp] walk-forward train:(13971,), test:(17953,), scope:0 ~ 31923\n",
      "[dp] walk-forward train:(13971,), test:(17953,), scope:17953 ~ 49876\n",
      "[dp] walk-forward train:(13971,), test:(17953,), scope:35906 ~ 67829\n",
      "[dp] walk-forward train:(13971,), test:(17953,), scope:53859 ~ 85782\n",
      "[dp] walk-forward train:(13971,), test:(17953,), scope:71812 ~ 103735\n",
      "[dp] training size: 104581\n"
     ]
    },
    {
     "name": "stdout",
     "output_type": "stream",
     "text": [
      "Fitting 5 folds for each of 1 candidates, totalling 5 fits\n"
     ]
    },
    {
     "name": "stderr",
     "output_type": "stream",
     "text": [
      "[Parallel(n_jobs=-1)]: Done   5 out of   5 | elapsed:    6.5s finished\n",
      "[dp] validation - sliding(in month):4, score: -11519097812.62254\n",
      "[dp] validation - data shape: (122534, 17), sliding(in month): 8, period: 2001-10-01 ~ 2004-01-30\n",
      "[dp] track/sliding/test window size: 104581, 32242, 17953\n",
      "[dp] walk-forward train:(32242,), test:(17953,), scope:0 ~ 50194\n",
      "[dp] walk-forward train:(32242,), test:(17953,), scope:17953 ~ 68147\n",
      "[dp] walk-forward train:(32242,), test:(17953,), scope:35906 ~ 86100\n",
      "[dp] walk-forward train:(32242,), test:(17953,), scope:53859 ~ 104053\n",
      "[dp] training size: 104581\n"
     ]
    },
    {
     "name": "stdout",
     "output_type": "stream",
     "text": [
      "Fitting 4 folds for each of 1 candidates, totalling 4 fits\n"
     ]
    },
    {
     "name": "stderr",
     "output_type": "stream",
     "text": [
      "[Parallel(n_jobs=-1)]: Done   2 out of   4 | elapsed:    9.6s remaining:    9.6s\n",
      "[Parallel(n_jobs=-1)]: Done   4 out of   4 | elapsed:   10.1s finished\n",
      "[dp] validation - sliding(in month):8, score: -10824381599.348461\n",
      "[dp] validation - data shape: (122534, 17), sliding(in month): 12, period: 2001-10-01 ~ 2004-01-30\n",
      "[dp] track/sliding/test window size: 104581, 50845, 17953\n",
      "[dp] walk-forward train:(50845,), test:(17953,), scope:0 ~ 68797\n",
      "[dp] walk-forward train:(50845,), test:(17953,), scope:17953 ~ 86750\n",
      "[dp] training size: 104581\n"
     ]
    },
    {
     "name": "stdout",
     "output_type": "stream",
     "text": [
      "Fitting 2 folds for each of 1 candidates, totalling 2 fits\n"
     ]
    },
    {
     "name": "stderr",
     "output_type": "stream",
     "text": [
      "[Parallel(n_jobs=-1)]: Done   2 out of   2 | elapsed:    8.1s finished\n",
      "[dp] validation - sliding(in month):12, score: -11376507580.318525\n",
      "[dp] prediction - data shape: (55983, 17), period: 2003-02-03 ~ 2004-01-30, sliding(in month): 8, test: 4\n",
      "[dp] track/sliding/test window size: 38030, 38030, 17953\n",
      "[dp] validation step is skipped\n",
      "[dp] training size: 38030\n",
      "[dp] prediction - data shape: (58963, 17), period: 2003-06-02 ~ 2004-05-28, sliding(in month): 8, test: 4\n",
      "[dp] track/sliding/test window size: 38456, 38456, 20507\n",
      "[dp] validation step is skipped\n",
      "[dp] training size: 38456\n",
      "[dp] prediction - data shape: (59616, 17), period: 2003-10-01 ~ 2004-09-30, sliding(in month): 8, test: 4\n",
      "[dp] track/sliding/test window size: 37858, 37858, 21758\n",
      "[dp] validation step is skipped\n",
      "[dp] training size: 37858\n",
      "[dp] prediction - data shape: (58579, 17), period: 2004-02-02 ~ 2005-01-31, sliding(in month): 8, test: 4\n",
      "[dp] track/sliding/test window size: 41663, 41663, 16916\n",
      "[dp] validation step is skipped\n",
      "[dp] training size: 41663\n",
      "[dp] prediction - data shape: (57079, 17), period: 2004-06-01 ~ 2005-05-31, sliding(in month): 8, test: 4\n",
      "[dp] track/sliding/test window size: 38674, 38674, 18405\n",
      "[dp] validation step is skipped\n",
      "[dp] training size: 38674\n",
      "[dp] prediction - data shape: (55362, 17), period: 2004-10-01 ~ 2005-09-30, sliding(in month): 8, test: 4\n",
      "[dp] track/sliding/test window size: 34931, 34931, 20431\n",
      "[dp] validation step is skipped\n",
      "[dp] training size: 34931\n",
      "[dp] validation - data shape: (129391, 17), sliding(in month): 4, period: 2003-10-01 ~ 2006-01-31\n",
      "[dp] track/sliding/test window size: 114978, 17953, 14413\n",
      "[dp] walk-forward train:(17953,), test:(14413,), scope:0 ~ 32365\n",
      "[dp] walk-forward train:(17953,), test:(14413,), scope:14413 ~ 46778\n",
      "[dp] walk-forward train:(17953,), test:(14413,), scope:28826 ~ 61191\n",
      "[dp] walk-forward train:(17953,), test:(14413,), scope:43239 ~ 75604\n",
      "[dp] walk-forward train:(17953,), test:(14413,), scope:57652 ~ 90017\n",
      "[dp] walk-forward train:(17953,), test:(14413,), scope:72065 ~ 104430\n",
      "[dp] training size: 114978\n"
     ]
    },
    {
     "name": "stdout",
     "output_type": "stream",
     "text": [
      "Fitting 6 folds for each of 1 candidates, totalling 6 fits\n"
     ]
    },
    {
     "name": "stderr",
     "output_type": "stream",
     "text": [
      "[Parallel(n_jobs=-1)]: Done   6 out of   6 | elapsed:    8.3s remaining:    0.0s\n",
      "[Parallel(n_jobs=-1)]: Done   6 out of   6 | elapsed:    8.3s finished\n",
      "[dp] validation - sliding(in month):4, score: -16115252179.178034\n",
      "[dp] validation - data shape: (129391, 17), sliding(in month): 8, period: 2003-10-01 ~ 2006-01-31\n",
      "[dp] track/sliding/test window size: 114978, 37858, 14413\n",
      "[dp] walk-forward train:(37858,), test:(14413,), scope:0 ~ 52270\n",
      "[dp] walk-forward train:(37858,), test:(14413,), scope:14413 ~ 66683\n",
      "[dp] walk-forward train:(37858,), test:(14413,), scope:28826 ~ 81096\n",
      "[dp] walk-forward train:(37858,), test:(14413,), scope:43239 ~ 95509\n",
      "[dp] walk-forward train:(37858,), test:(14413,), scope:57652 ~ 109922\n",
      "[dp] training size: 114978\n"
     ]
    },
    {
     "name": "stdout",
     "output_type": "stream",
     "text": [
      "Fitting 5 folds for each of 1 candidates, totalling 5 fits\n"
     ]
    },
    {
     "name": "stderr",
     "output_type": "stream",
     "text": [
      "[Parallel(n_jobs=-1)]: Done   5 out of   5 | elapsed:   14.4s finished\n",
      "[dp] validation - sliding(in month):8, score: -15608053166.152826\n",
      "[dp] validation - data shape: (129391, 17), sliding(in month): 12, period: 2003-10-01 ~ 2006-01-31\n",
      "[dp] track/sliding/test window size: 114978, 59616, 14413\n",
      "[dp] walk-forward train:(59616,), test:(14413,), scope:0 ~ 74028\n",
      "[dp] walk-forward train:(59616,), test:(14413,), scope:14413 ~ 88441\n",
      "[dp] walk-forward train:(59616,), test:(14413,), scope:28826 ~ 102854\n",
      "[dp] training size: 114978\n"
     ]
    },
    {
     "name": "stdout",
     "output_type": "stream",
     "text": [
      "Fitting 3 folds for each of 1 candidates, totalling 3 fits\n"
     ]
    },
    {
     "name": "stderr",
     "output_type": "stream",
     "text": [
      "[Parallel(n_jobs=-1)]: Done   3 out of   3 | elapsed:   12.5s finished\n",
      "[dp] validation - sliding(in month):12, score: -15814731723.567589\n",
      "[dp] prediction - data shape: (52859, 17), period: 2005-02-01 ~ 2006-01-31, sliding(in month): 8, test: 4\n",
      "[dp] track/sliding/test window size: 38446, 38446, 14413\n",
      "[dp] validation step is skipped\n",
      "[dp] training size: 38446\n",
      "[dp] prediction - data shape: (48253, 17), period: 2005-06-01 ~ 2006-05-31, sliding(in month): 8, test: 4\n",
      "[dp] track/sliding/test window size: 34454, 34454, 13799\n",
      "[dp] validation step is skipped\n",
      "[dp] training size: 34454\n",
      "[dp] prediction - data shape: (41373, 17), period: 2005-10-03 ~ 2006-09-29, sliding(in month): 8, test: 4\n",
      "[dp] track/sliding/test window size: 27602, 27602, 13771\n",
      "[dp] validation step is skipped\n",
      "[dp] training size: 27602\n",
      "[dp] prediction - data shape: (38338, 17), period: 2006-02-01 ~ 2007-01-31, sliding(in month): 8, test: 4\n",
      "[dp] track/sliding/test window size: 26960, 26960, 11378\n",
      "[dp] validation step is skipped\n",
      "[dp] training size: 26960\n",
      "[dp] prediction - data shape: (35695, 17), period: 2006-06-01 ~ 2007-05-31, sliding(in month): 8, test: 4\n",
      "[dp] track/sliding/test window size: 24539, 24539, 11156\n",
      "[dp] validation step is skipped\n",
      "[dp] training size: 24539\n",
      "[dp] prediction - data shape: (32658, 17), period: 2006-10-02 ~ 2007-09-28, sliding(in month): 8, test: 4\n",
      "[dp] track/sliding/test window size: 21964, 21964, 10694\n",
      "[dp] validation step is skipped\n",
      "[dp] training size: 21964\n",
      "[dp] validation - data shape: (81094, 17), sliding(in month): 4, period: 2005-10-03 ~ 2008-01-31\n",
      "[dp] track/sliding/test window size: 74031, 14626, 7063\n",
      "[dp] walk-forward train:(14626,), test:(7063,), scope:0 ~ 21688\n",
      "[dp] walk-forward train:(14626,), test:(7063,), scope:7063 ~ 28751\n",
      "[dp] walk-forward train:(14626,), test:(7063,), scope:14126 ~ 35814\n",
      "[dp] walk-forward train:(14626,), test:(7063,), scope:21189 ~ 42877\n",
      "[dp] walk-forward train:(14626,), test:(7063,), scope:28252 ~ 49940\n",
      "[dp] walk-forward train:(14626,), test:(7063,), scope:35315 ~ 57003\n",
      "[dp] walk-forward train:(14626,), test:(7063,), scope:42378 ~ 64066\n",
      "[dp] walk-forward train:(14626,), test:(7063,), scope:49441 ~ 71129\n",
      "[dp] training size: 74031\n"
     ]
    },
    {
     "name": "stdout",
     "output_type": "stream",
     "text": [
      "Fitting 8 folds for each of 1 candidates, totalling 8 fits\n"
     ]
    },
    {
     "name": "stderr",
     "output_type": "stream",
     "text": [
      "[Parallel(n_jobs=-1)]: Done   8 out of   8 | elapsed:    9.6s finished\n",
      "[dp] validation - sliding(in month):4, score: -16367157379.22181\n",
      "[dp] validation - data shape: (81094, 17), sliding(in month): 8, period: 2005-10-03 ~ 2008-01-31\n",
      "[dp] track/sliding/test window size: 74031, 28581, 7063\n",
      "[dp] walk-forward train:(28581,), test:(7063,), scope:0 ~ 35643\n",
      "[dp] walk-forward train:(28581,), test:(7063,), scope:7063 ~ 42706\n",
      "[dp] walk-forward train:(28581,), test:(7063,), scope:14126 ~ 49769\n",
      "[dp] walk-forward train:(28581,), test:(7063,), scope:21189 ~ 56832\n",
      "[dp] walk-forward train:(28581,), test:(7063,), scope:28252 ~ 63895\n",
      "[dp] walk-forward train:(28581,), test:(7063,), scope:35315 ~ 70958\n",
      "[dp] training size: 74031\n"
     ]
    },
    {
     "name": "stdout",
     "output_type": "stream",
     "text": [
      "Fitting 6 folds for each of 1 candidates, totalling 6 fits\n"
     ]
    },
    {
     "name": "stderr",
     "output_type": "stream",
     "text": [
      "[Parallel(n_jobs=-1)]: Done   6 out of   6 | elapsed:   12.3s remaining:    0.0s\n",
      "[Parallel(n_jobs=-1)]: Done   6 out of   6 | elapsed:   12.3s finished\n",
      "[dp] validation - sliding(in month):8, score: -15901246721.471523\n",
      "[dp] validation - data shape: (81094, 17), sliding(in month): 12, period: 2005-10-03 ~ 2008-01-31\n",
      "[dp] track/sliding/test window size: 74031, 41486, 7063\n",
      "[dp] walk-forward train:(41486,), test:(7063,), scope:0 ~ 48548\n",
      "[dp] walk-forward train:(41486,), test:(7063,), scope:7063 ~ 55611\n",
      "[dp] walk-forward train:(41486,), test:(7063,), scope:14126 ~ 62674\n",
      "[dp] walk-forward train:(41486,), test:(7063,), scope:21189 ~ 69737\n",
      "[dp] training size: 74031\n"
     ]
    },
    {
     "name": "stdout",
     "output_type": "stream",
     "text": [
      "Fitting 4 folds for each of 1 candidates, totalling 4 fits\n"
     ]
    },
    {
     "name": "stderr",
     "output_type": "stream",
     "text": [
      "[Parallel(n_jobs=-1)]: Done   2 out of   4 | elapsed:   11.0s remaining:   11.0s\n",
      "[Parallel(n_jobs=-1)]: Done   4 out of   4 | elapsed:   12.2s finished\n",
      "[dp] validation - sliding(in month):12, score: -15824383401.321547\n",
      "[dp] prediction - data shape: (39721, 17), period: 2006-10-02 ~ 2008-01-31, sliding(in month): 12, test: 4\n",
      "[dp] track/sliding/test window size: 32658, 32658, 7063\n",
      "[dp] validation step is skipped\n",
      "[dp] training size: 32658\n",
      "[dp] prediction - data shape: (36932, 17), period: 2007-02-01 ~ 2008-05-30, sliding(in month): 12, test: 4\n",
      "[dp] track/sliding/test window size: 28189, 28189, 8743\n",
      "[dp] validation step is skipped\n",
      "[dp] training size: 28189\n",
      "[dp] prediction - data shape: (37276, 17), period: 2007-06-01 ~ 2008-09-30, sliding(in month): 12, test: 4\n",
      "[dp] track/sliding/test window size: 25776, 25776, 11500\n",
      "[dp] validation step is skipped\n",
      "[dp] training size: 25776\n",
      "[dp] prediction - data shape: (37915, 17), period: 2007-10-01 ~ 2009-01-30, sliding(in month): 12, test: 4\n",
      "[dp] track/sliding/test window size: 27152, 27152, 10763\n",
      "[dp] validation step is skipped\n",
      "[dp] training size: 27152\n",
      "[dp] prediction - data shape: (41527, 17), period: 2008-02-01 ~ 2009-05-29, sliding(in month): 12, test: 4\n",
      "[dp] track/sliding/test window size: 30587, 30587, 10940\n",
      "[dp] validation step is skipped\n",
      "[dp] training size: 30587\n",
      "[dp] prediction - data shape: (45649, 17), period: 2008-06-02 ~ 2009-09-30, sliding(in month): 12, test: 4\n",
      "[dp] track/sliding/test window size: 32938, 32938, 12711\n",
      "[dp] validation step is skipped\n",
      "[dp] training size: 32938\n",
      "[dp] validation - data shape: (72669, 17), sliding(in month): 4, period: 2007-10-01 ~ 2010-01-29\n",
      "[dp] track/sliding/test window size: 60925, 7063, 11744\n",
      "[dp] walk-forward train:(7063,), test:(11744,), scope:0 ~ 18806\n",
      "[dp] walk-forward train:(7063,), test:(11744,), scope:11744 ~ 30550\n",
      "[dp] walk-forward train:(7063,), test:(11744,), scope:23488 ~ 42294\n",
      "[dp] walk-forward train:(7063,), test:(11744,), scope:35232 ~ 54038\n",
      "[dp] training size: 60925\n"
     ]
    },
    {
     "name": "stdout",
     "output_type": "stream",
     "text": [
      "Fitting 4 folds for each of 1 candidates, totalling 4 fits\n"
     ]
    },
    {
     "name": "stderr",
     "output_type": "stream",
     "text": [
      "[Parallel(n_jobs=-1)]: Done   2 out of   4 | elapsed:    3.3s remaining:    3.3s\n",
      "[Parallel(n_jobs=-1)]: Done   4 out of   4 | elapsed:    5.1s finished\n",
      "[dp] validation - sliding(in month):4, score: -11145061944.640957\n",
      "[dp] validation - data shape: (72669, 17), sliding(in month): 8, period: 2007-10-01 ~ 2010-01-29\n",
      "[dp] track/sliding/test window size: 60925, 15652, 11744\n",
      "[dp] walk-forward train:(15652,), test:(11744,), scope:0 ~ 27395\n",
      "[dp] walk-forward train:(15652,), test:(11744,), scope:11744 ~ 39139\n",
      "[dp] walk-forward train:(15652,), test:(11744,), scope:23488 ~ 50883\n",
      "[dp] training size: 60925\n"
     ]
    },
    {
     "name": "stdout",
     "output_type": "stream",
     "text": [
      "Fitting 3 folds for each of 1 candidates, totalling 3 fits\n"
     ]
    },
    {
     "name": "stderr",
     "output_type": "stream",
     "text": [
      "[Parallel(n_jobs=-1)]: Done   3 out of   3 | elapsed:    5.1s finished\n",
      "[dp] validation - sliding(in month):8, score: -10560928675.378391\n",
      "[dp] validation - data shape: (72669, 17), sliding(in month): 12, period: 2007-10-01 ~ 2010-01-29\n",
      "[dp] track/sliding/test window size: 60925, 27152, 11744\n",
      "[dp] walk-forward train:(27152,), test:(11744,), scope:0 ~ 38895\n",
      "[dp] walk-forward train:(27152,), test:(11744,), scope:11744 ~ 50639\n",
      "[dp] training size: 60925\n"
     ]
    },
    {
     "name": "stdout",
     "output_type": "stream",
     "text": [
      "Fitting 2 folds for each of 1 candidates, totalling 2 fits\n"
     ]
    },
    {
     "name": "stderr",
     "output_type": "stream",
     "text": [
      "[Parallel(n_jobs=-1)]: Done   2 out of   2 | elapsed:    5.1s finished\n",
      "[dp] validation - sliding(in month):12, score: -10615346053.885647\n",
      "[dp] prediction - data shape: (34754, 17), period: 2009-02-02 ~ 2010-01-29, sliding(in month): 8, test: 4\n",
      "[dp] track/sliding/test window size: 23010, 23010, 11744\n",
      "[dp] validation step is skipped\n",
      "[dp] training size: 23010\n",
      "[dp] prediction - data shape: (35476, 17), period: 2009-06-01 ~ 2010-05-28, sliding(in month): 8, test: 4\n",
      "[dp] track/sliding/test window size: 23792, 23792, 11684\n",
      "[dp] validation step is skipped\n",
      "[dp] training size: 23792\n",
      "[dp] prediction - data shape: (34187, 17), period: 2009-10-01 ~ 2010-09-30, sliding(in month): 8, test: 4\n",
      "[dp] track/sliding/test window size: 22765, 22765, 11422\n",
      "[dp] validation step is skipped\n",
      "[dp] training size: 22765\n",
      "[dp] prediction - data shape: (32310, 17), period: 2010-02-01 ~ 2011-01-31, sliding(in month): 8, test: 4\n",
      "[dp] track/sliding/test window size: 22819, 22819, 9491\n",
      "[dp] validation step is skipped\n",
      "[dp] training size: 22819\n",
      "[dp] prediction - data shape: (31200, 17), period: 2010-06-01 ~ 2011-05-31, sliding(in month): 8, test: 4\n",
      "[dp] track/sliding/test window size: 20913, 20913, 10287\n",
      "[dp] validation step is skipped\n",
      "[dp] training size: 20913\n",
      "[dp] prediction - data shape: (30923, 17), period: 2010-10-01 ~ 2011-09-30, sliding(in month): 8, test: 4\n",
      "[dp] track/sliding/test window size: 19599, 19599, 11324\n",
      "[dp] validation step is skipped\n",
      "[dp] training size: 19599\n",
      "[dp] validation - data shape: (74847, 17), sliding(in month): 4, period: 2009-10-01 ~ 2012-01-31\n",
      "[dp] track/sliding/test window size: 65110, 11368, 9737\n",
      "[dp] walk-forward train:(11368,), test:(9737,), scope:0 ~ 21104\n",
      "[dp] walk-forward train:(11368,), test:(9737,), scope:9737 ~ 30841\n",
      "[dp] walk-forward train:(11368,), test:(9737,), scope:19474 ~ 40578\n",
      "[dp] walk-forward train:(11368,), test:(9737,), scope:29211 ~ 50315\n",
      "[dp] walk-forward train:(11368,), test:(9737,), scope:38948 ~ 60052\n",
      "[dp] training size: 65110\n"
     ]
    },
    {
     "name": "stdout",
     "output_type": "stream",
     "text": [
      "Fitting 5 folds for each of 1 candidates, totalling 5 fits\n"
     ]
    },
    {
     "name": "stderr",
     "output_type": "stream",
     "text": [
      "[Parallel(n_jobs=-1)]: Done   5 out of   5 | elapsed:    6.4s finished\n",
      "[dp] validation - sliding(in month):4, score: -9141203402.051676\n",
      "[dp] validation - data shape: (74847, 17), sliding(in month): 8, period: 2009-10-01 ~ 2012-01-31\n",
      "[dp] track/sliding/test window size: 65110, 22765, 9737\n",
      "[dp] walk-forward train:(22765,), test:(9737,), scope:0 ~ 32501\n",
      "[dp] walk-forward train:(22765,), test:(9737,), scope:9737 ~ 42238\n",
      "[dp] walk-forward train:(22765,), test:(9737,), scope:19474 ~ 51975\n",
      "[dp] walk-forward train:(22765,), test:(9737,), scope:29211 ~ 61712\n",
      "[dp] training size: 65110\n"
     ]
    },
    {
     "name": "stdout",
     "output_type": "stream",
     "text": [
      "Fitting 4 folds for each of 1 candidates, totalling 4 fits\n"
     ]
    },
    {
     "name": "stderr",
     "output_type": "stream",
     "text": [
      "[Parallel(n_jobs=-1)]: Done   2 out of   4 | elapsed:    7.1s remaining:    7.1s\n",
      "[Parallel(n_jobs=-1)]: Done   4 out of   4 | elapsed:    7.9s finished\n",
      "[dp] validation - sliding(in month):8, score: -8892488630.297173\n",
      "[dp] validation - data shape: (74847, 17), sliding(in month): 12, period: 2009-10-01 ~ 2012-01-31\n",
      "[dp] track/sliding/test window size: 65110, 34187, 9737\n",
      "[dp] walk-forward train:(34187,), test:(9737,), scope:0 ~ 43923\n",
      "[dp] walk-forward train:(34187,), test:(9737,), scope:9737 ~ 53660\n",
      "[dp] walk-forward train:(34187,), test:(9737,), scope:19474 ~ 63397\n",
      "[dp] training size: 65110\n"
     ]
    },
    {
     "name": "stdout",
     "output_type": "stream",
     "text": [
      "Fitting 3 folds for each of 1 candidates, totalling 3 fits\n"
     ]
    },
    {
     "name": "stderr",
     "output_type": "stream",
     "text": [
      "[Parallel(n_jobs=-1)]: Done   3 out of   3 | elapsed:    8.3s finished\n",
      "[dp] validation - sliding(in month):12, score: -9469092571.403784\n",
      "[dp] prediction - data shape: (31169, 17), period: 2011-02-01 ~ 2012-01-31, sliding(in month): 8, test: 4\n",
      "[dp] track/sliding/test window size: 21432, 21432, 9737\n",
      "[dp] validation step is skipped\n",
      "[dp] training size: 21432\n",
      "[dp] prediction - data shape: (32267, 17), period: 2011-06-01 ~ 2012-05-31, sliding(in month): 8, test: 4\n",
      "[dp] track/sliding/test window size: 20882, 20882, 11385\n",
      "[dp] validation step is skipped\n",
      "[dp] training size: 20882\n",
      "[dp] prediction - data shape: (33777, 17), period: 2011-10-03 ~ 2012-09-28, sliding(in month): 8, test: 4\n",
      "[dp] track/sliding/test window size: 20508, 20508, 13269\n",
      "[dp] validation step is skipped\n",
      "[dp] training size: 20508\n",
      "[dp] prediction - data shape: (35656, 17), period: 2012-02-01 ~ 2013-01-31, sliding(in month): 8, test: 4\n",
      "[dp] track/sliding/test window size: 24040, 24040, 11616\n",
      "[dp] validation step is skipped\n",
      "[dp] training size: 24040\n",
      "[dp] prediction - data shape: (36788, 17), period: 2012-06-01 ~ 2013-05-31, sliding(in month): 8, test: 4\n",
      "[dp] track/sliding/test window size: 24271, 24271, 12517\n",
      "[dp] validation step is skipped\n",
      "[dp] training size: 24271\n",
      "[dp] prediction - data shape: (37507, 17), period: 2012-10-01 ~ 2013-09-30, sliding(in month): 8, test: 4\n",
      "[dp] track/sliding/test window size: 23829, 23829, 13678\n",
      "[dp] validation step is skipped\n",
      "[dp] training size: 23829\n",
      "[dp] validation - data shape: (81369, 17), sliding(in month): 4, period: 2011-10-03 ~ 2014-01-31\n",
      "[dp] track/sliding/test window size: 71284, 9880, 10085\n",
      "[dp] walk-forward train:(9880,), test:(10085,), scope:0 ~ 19964\n",
      "[dp] walk-forward train:(9880,), test:(10085,), scope:10085 ~ 30049\n",
      "[dp] walk-forward train:(9880,), test:(10085,), scope:20170 ~ 40134\n",
      "[dp] walk-forward train:(9880,), test:(10085,), scope:30255 ~ 50219\n",
      "[dp] walk-forward train:(9880,), test:(10085,), scope:40340 ~ 60304\n",
      "[dp] walk-forward train:(9880,), test:(10085,), scope:50425 ~ 70389\n",
      "[dp] training size: 71284\n"
     ]
    },
    {
     "name": "stdout",
     "output_type": "stream",
     "text": [
      "Fitting 6 folds for each of 1 candidates, totalling 6 fits\n"
     ]
    },
    {
     "name": "stderr",
     "output_type": "stream",
     "text": [
      "[Parallel(n_jobs=-1)]: Done   6 out of   6 | elapsed:    6.4s remaining:    0.0s\n",
      "[Parallel(n_jobs=-1)]: Done   6 out of   6 | elapsed:    6.4s finished\n",
      "[dp] validation - sliding(in month):4, score: -11160134930.701014\n",
      "[dp] validation - data shape: (81369, 17), sliding(in month): 8, period: 2011-10-03 ~ 2014-01-31\n",
      "[dp] track/sliding/test window size: 71284, 21315, 10085\n",
      "[dp] walk-forward train:(21315,), test:(10085,), scope:0 ~ 31399\n",
      "[dp] walk-forward train:(21315,), test:(10085,), scope:10085 ~ 41484\n",
      "[dp] walk-forward train:(21315,), test:(10085,), scope:20170 ~ 51569\n",
      "[dp] walk-forward train:(21315,), test:(10085,), scope:30255 ~ 61654\n",
      "[dp] training size: 71284\n"
     ]
    },
    {
     "name": "stdout",
     "output_type": "stream",
     "text": [
      "Fitting 4 folds for each of 1 candidates, totalling 4 fits\n"
     ]
    },
    {
     "name": "stderr",
     "output_type": "stream",
     "text": [
      "[Parallel(n_jobs=-1)]: Done   2 out of   4 | elapsed:    6.8s remaining:    6.8s\n",
      "[Parallel(n_jobs=-1)]: Done   4 out of   4 | elapsed:    7.9s finished\n",
      "[dp] validation - sliding(in month):8, score: -10566510102.11086\n",
      "[dp] validation - data shape: (81369, 17), sliding(in month): 12, period: 2011-10-03 ~ 2014-01-31\n",
      "[dp] track/sliding/test window size: 71284, 33990, 10085\n",
      "[dp] walk-forward train:(33990,), test:(10085,), scope:0 ~ 44074\n",
      "[dp] walk-forward train:(33990,), test:(10085,), scope:10085 ~ 54159\n",
      "[dp] walk-forward train:(33990,), test:(10085,), scope:20170 ~ 64244\n",
      "[dp] training size: 71284\n"
     ]
    },
    {
     "name": "stdout",
     "output_type": "stream",
     "text": [
      "Fitting 3 folds for each of 1 candidates, totalling 3 fits\n"
     ]
    },
    {
     "name": "stderr",
     "output_type": "stream",
     "text": [
      "[Parallel(n_jobs=-1)]: Done   3 out of   3 | elapsed:    8.2s finished\n",
      "[dp] validation - sliding(in month):12, score: -10956346529.197857\n",
      "[dp] prediction - data shape: (35976, 17), period: 2013-02-01 ~ 2014-01-31, sliding(in month): 8, test: 4\n",
      "[dp] track/sliding/test window size: 25891, 25891, 10085\n",
      "[dp] validation step is skipped\n",
      "[dp] training size: 25891\n",
      "[dp] prediction - data shape: (33953, 17), period: 2013-06-03 ~ 2014-05-30, sliding(in month): 8, test: 4\n",
      "[dp] track/sliding/test window size: 23262, 23262, 10691\n",
      "[dp] validation step is skipped\n",
      "[dp] training size: 23262\n",
      "[dp] prediction - data shape: (31812, 17), period: 2013-10-01 ~ 2014-09-30, sliding(in month): 8, test: 4\n",
      "[dp] track/sliding/test window size: 20579, 20579, 11233\n",
      "[dp] validation step is skipped\n",
      "[dp] training size: 20579\n",
      "[dp] prediction - data shape: (28474, 17), period: 2014-02-03 ~ 2015-01-30, sliding(in month): 8, test: 4\n",
      "[dp] track/sliding/test window size: 21727, 21727, 6747\n",
      "[dp] validation step is skipped\n",
      "[dp] training size: 21727\n",
      "[dp] prediction - data shape: (29576, 17), period: 2014-06-02 ~ 2015-05-29, sliding(in month): 8, test: 4\n",
      "[dp] track/sliding/test window size: 17809, 17809, 11767\n",
      "[dp] validation step is skipped\n",
      "[dp] training size: 17809\n",
      "[dp] prediction - data shape: (31691, 17), period: 2014-10-01 ~ 2015-09-30, sliding(in month): 8, test: 4\n",
      "[dp] track/sliding/test window size: 18343, 18343, 13348\n",
      "[dp] validation step is skipped\n",
      "[dp] training size: 18343\n",
      "[dp] validation - data shape: (73256, 17), sliding(in month): 4, period: 2013-10-01 ~ 2016-01-29\n",
      "[dp] track/sliding/test window size: 63282, 10085, 9974\n",
      "[dp] walk-forward train:(10085,), test:(9974,), scope:0 ~ 20058\n",
      "[dp] walk-forward train:(10085,), test:(9974,), scope:9974 ~ 30032\n",
      "[dp] walk-forward train:(10085,), test:(9974,), scope:19948 ~ 40006\n",
      "[dp] walk-forward train:(10085,), test:(9974,), scope:29922 ~ 49980\n",
      "[dp] walk-forward train:(10085,), test:(9974,), scope:39896 ~ 59954\n",
      "[dp] training size: 63282\n"
     ]
    },
    {
     "name": "stdout",
     "output_type": "stream",
     "text": [
      "Fitting 5 folds for each of 1 candidates, totalling 5 fits\n"
     ]
    },
    {
     "name": "stderr",
     "output_type": "stream",
     "text": [
      "[Parallel(n_jobs=-1)]: Done   5 out of   5 | elapsed:    6.1s finished\n",
      "[dp] validation - sliding(in month):4, score: -8807544938.820114\n",
      "[dp] validation - data shape: (73256, 17), sliding(in month): 8, period: 2013-10-01 ~ 2016-01-29\n",
      "[dp] track/sliding/test window size: 63282, 20579, 9974\n",
      "[dp] walk-forward train:(20579,), test:(9974,), scope:0 ~ 30552\n",
      "[dp] walk-forward train:(20579,), test:(9974,), scope:9974 ~ 40526\n",
      "[dp] walk-forward train:(20579,), test:(9974,), scope:19948 ~ 50500\n",
      "[dp] walk-forward train:(20579,), test:(9974,), scope:29922 ~ 60474\n",
      "[dp] training size: 63282\n"
     ]
    },
    {
     "name": "stdout",
     "output_type": "stream",
     "text": [
      "Fitting 4 folds for each of 1 candidates, totalling 4 fits\n"
     ]
    },
    {
     "name": "stderr",
     "output_type": "stream",
     "text": [
      "[Parallel(n_jobs=-1)]: Done   2 out of   4 | elapsed:    6.3s remaining:    6.3s\n",
      "[Parallel(n_jobs=-1)]: Done   4 out of   4 | elapsed:    7.2s finished\n",
      "[dp] validation - sliding(in month):8, score: -8008362753.740054\n",
      "[dp] validation - data shape: (73256, 17), sliding(in month): 12, period: 2013-10-01 ~ 2016-01-29\n",
      "[dp] track/sliding/test window size: 63282, 31812, 9974\n",
      "[dp] walk-forward train:(31812,), test:(9974,), scope:0 ~ 41785\n",
      "[dp] walk-forward train:(31812,), test:(9974,), scope:9974 ~ 51759\n",
      "[dp] walk-forward train:(31812,), test:(9974,), scope:19948 ~ 61733\n",
      "[dp] training size: 63282\n"
     ]
    },
    {
     "name": "stdout",
     "output_type": "stream",
     "text": [
      "Fitting 3 folds for each of 1 candidates, totalling 3 fits\n"
     ]
    },
    {
     "name": "stderr",
     "output_type": "stream",
     "text": [
      "[Parallel(n_jobs=-1)]: Done   3 out of   3 | elapsed:    7.9s finished\n",
      "[dp] validation - sliding(in month):12, score: -7723068585.66082\n",
      "[dp] prediction - data shape: (41444, 17), period: 2014-10-01 ~ 2016-01-29, sliding(in month): 12, test: 4\n",
      "[dp] track/sliding/test window size: 31470, 31470, 9974\n",
      "[dp] validation step is skipped\n",
      "[dp] training size: 31470\n",
      "[dp] prediction - data shape: (46431, 17), period: 2015-02-02 ~ 2016-05-31, sliding(in month): 12, test: 4\n",
      "[dp] track/sliding/test window size: 34697, 34697, 11734\n",
      "[dp] validation step is skipped\n",
      "[dp] training size: 34697\n",
      "[dp] prediction - data shape: (48063, 17), period: 2015-06-01 ~ 2016-09-30, sliding(in month): 12, test: 4\n",
      "[dp] track/sliding/test window size: 34582, 34582, 13481\n",
      "[dp] validation step is skipped\n",
      "[dp] training size: 34582\n",
      "[dp] prediction - data shape: (45134, 17), period: 2015-10-01 ~ 2017-01-31, sliding(in month): 12, test: 4\n",
      "[dp] track/sliding/test window size: 34715, 34715, 10419\n",
      "[dp] validation step is skipped\n",
      "[dp] training size: 34715\n",
      "[dp] prediction - data shape: (46866, 17), period: 2016-02-01 ~ 2017-05-31, sliding(in month): 12, test: 4\n",
      "[dp] track/sliding/test window size: 35381, 35381, 11485\n",
      "[dp] validation step is skipped\n",
      "[dp] training size: 35381\n",
      "[dp] prediction - data shape: (47419, 17), period: 2016-06-01 ~ 2017-09-27, sliding(in month): 12, test: 4\n",
      "[dp] track/sliding/test window size: 34643, 34643, 12776\n",
      "[dp] validation step is skipped\n",
      "[dp] training size: 34643\n"
     ]
    },
    {
     "data": {
      "text/plain": [
       "[43976.5131943247,\n",
       " 47258.108516511435,\n",
       " 51938.43130005982,\n",
       " 52697.61388399104,\n",
       " 52469.42535143521,\n",
       " 57546.51762204806,\n",
       " 66574.30728919824,\n",
       " 61475.26066468218,\n",
       " 65062.16406356966,\n",
       " 76730.80640345882,\n",
       " 79776.94889857368,\n",
       " 72143.3532896779,\n",
       " 72173.2996729165,\n",
       " 68451.73162090922,\n",
       " 70569.77328333906,\n",
       " 81794.13334772609,\n",
       " 72839.97454525618,\n",
       " 76310.32054399865,\n",
       " 77457.21196046029,\n",
       " 73399.23593784074,\n",
       " 72880.99909425605,\n",
       " 68743.93655741346,\n",
       " 73014.91205074801,\n",
       " 74284.23330501227,\n",
       " 67845.87885902674,\n",
       " 75533.88347148789,\n",
       " 77519.7135729078,\n",
       " 66025.6173919984,\n",
       " 74367.10625383297,\n",
       " 74691.61670982368,\n",
       " 73542.13355548852,\n",
       " 76345.40536627048,\n",
       " 83708.63052235862,\n",
       " 82330.75581368966,\n",
       " 83374.72473666971,\n",
       " 84976.10667023038,\n",
       " 92475.48159931831,\n",
       " 92573.17808162783,\n",
       " 84751.52969722183,\n",
       " 87414.71696669351,\n",
       " 90557.41307196312,\n",
       " 95728.509079206,\n",
       " 109216.55934316186,\n",
       " 103161.93046414742,\n",
       " 109664.62544280181,\n",
       " 96044.99254010318,\n",
       " 92961.21241685604,\n",
       " 96003.6733095036,\n",
       " 100374.8257721562,\n",
       " 101894.35908631417,\n",
       " 105729.72542899924,\n",
       " 108438.34971513116,\n",
       " 111680.36330314624,\n",
       " 111416.09231963189,\n",
       " 141837.0075415073,\n",
       " 142025.11304388935,\n",
       " 125111.90896098188,\n",
       " 116960.04006943748,\n",
       " 125093.66291561036,\n",
       " 127572.75817091353,\n",
       " 122936.87844600502,\n",
       " 124469.25248223552,\n",
       " 130760.23716543622,\n",
       " 134856.35506791202,\n",
       " 131559.39187549773,\n",
       " 135670.1613574328,\n",
       " 143404.1690650599,\n",
       " 110126.88995684846,\n",
       " 114268.9162796148,\n",
       " 93278.38579269566,\n",
       " 93721.77173202053,\n",
       " 90780.2816559614,\n",
       " 91054.87809632863,\n",
       " 86217.74170251926,\n",
       " 99471.29772243692,\n",
       " 97159.53244149731,\n",
       " 102592.14463615608,\n",
       " 96325.0107134862,\n",
       " 96013.03041581732,\n",
       " 98341.91534210971,\n",
       " 102025.06015613473,\n",
       " 107942.45253396808,\n",
       " 106669.92674890837,\n",
       " 106264.13159447206,\n",
       " 93579.8818698356,\n",
       " 92040.04721729059,\n",
       " 89743.07431876652,\n",
       " 89487.3491401379,\n",
       " 85380.0313668769,\n",
       " 79793.00181744945,\n",
       " 76365.23736724489,\n",
       " 69504.18566408806,\n",
       " 64146.64133998717,\n",
       " 78508.23840985147,\n",
       " 117034.43649005407]"
      ]
     },
     "execution_count": 19,
     "metadata": {},
     "output_type": "execute_result"
    }
   ],
   "source": [
    "### validate sliding_window\n",
    "mr_full.regress(df_all, param_grid=parameters, GridSearchCV={'verbose':True, 'n_jobs':-1})"
   ]
  },
  {
   "cell_type": "code",
   "execution_count": 20,
   "metadata": {},
   "outputs": [
    {
     "name": "stderr",
     "output_type": "stream",
     "text": [
      "[dp] data range: 1985-10-01 - 2017-09-27\n",
      "[dp] sliding_windows: [4, 8, 12, 12, 12, 4, 4, 4, 4, 4, 4, 4, 4, 4, 4, 4, 4, 4, 4, 4, 4, 4, 4, 12, 12, 12, 12, 12, 12, 12, 12, 12, 12, 12, 12, 4, 4, 4, 4, 4, 4, 12, 12, 12, 12, 12, 12, 12, 12, 12, 12, 12, 12, 8, 8, 8, 8, 8, 8, 8, 8, 8, 8, 8, 8, 12, 12, 12, 12, 12, 12, 8, 8, 8, 8, 8, 8, 8, 8, 8, 8, 8, 8, 8, 8, 8, 8, 8, 8, 12, 12, 12, 12, 12, 12]\n",
      "[dp] errors: [43976.5131943247, 47258.108516511435, 51938.43130005982, 52697.61388399104, 52469.42535143521, 57546.51762204806, 66574.30728919824, 61475.26066468218, 65062.16406356966, 76730.80640345882, 79776.94889857368, 72143.3532896779, 72173.2996729165, 68451.73162090922, 70569.77328333906, 81794.13334772609, 72839.97454525618, 76310.32054399865, 77457.21196046029, 73399.23593784074, 72880.99909425605, 68743.93655741346, 73014.91205074801, 74284.23330501227, 67845.87885902674, 75533.88347148789, 77519.7135729078, 66025.6173919984, 74367.10625383297, 74691.61670982368, 73542.13355548852, 76345.40536627048, 83708.63052235862, 82330.75581368966, 83374.72473666971, 84976.10667023038, 92475.48159931831, 92573.17808162783, 84751.52969722183, 87414.71696669351, 90557.41307196312, 95728.509079206, 109216.55934316186, 103161.93046414742, 109664.62544280181, 96044.99254010318, 92961.21241685604, 96003.6733095036, 100374.8257721562, 101894.35908631417, 105729.72542899924, 108438.34971513116, 111680.36330314624, 111416.09231963189, 141837.0075415073, 142025.11304388935, 125111.90896098188, 116960.04006943748, 125093.66291561036, 127572.75817091353, 122936.87844600502, 124469.25248223552, 130760.23716543622, 134856.35506791202, 131559.39187549773, 135670.1613574328, 143404.1690650599, 110126.88995684846, 114268.9162796148, 93278.38579269566, 93721.77173202053, 90780.2816559614, 91054.87809632863, 86217.74170251926, 99471.29772243692, 97159.53244149731, 102592.14463615608, 96325.0107134862, 96013.03041581732, 98341.91534210971, 102025.06015613473, 107942.45253396808, 106669.92674890837, 106264.13159447206, 93579.8818698356, 92040.04721729059, 89743.07431876652, 89487.3491401379, 85380.0313668769, 79793.00181744945, 76365.23736724489, 69504.18566408806, 64146.64133998717, 78508.23840985147, 117034.43649005407]\n"
     ]
    },
    {
     "data": {
      "image/png": "[encoded data removed]",
      "text/plain": [
       "<matplotlib.figure.Figure at 0x23410370668>"
      ]
     },
     "metadata": {},
     "output_type": "display_data"
    }
   ],
   "source": [
    "df_sum_auto = mr_full.summary()\n",
    "plot_trends(df_sum_auto, ['error'])"
   ]
  },
  {
   "cell_type": "code",
   "execution_count": 18,
   "metadata": {},
   "outputs": [
    {
     "data": {
      "image/png": "[encoded data removed]",
      "text/plain": [
       "<matplotlib.figure.Figure at 0x2340d3116a0>"
      ]
     },
     "metadata": {},
     "output_type": "display_data"
    }
   ],
   "source": [
    "plot_trends(df_sum_auto, ['sliding_windows'])"
   ]
  },
  {
   "cell_type": "code",
   "execution_count": 21,
   "metadata": {},
   "outputs": [
    {
     "data": {
      "image/png": "[encoded data removed]",
      "text/plain": [
       "<matplotlib.figure.Figure at 0x2347f4a3e80>"
      ]
     },
     "metadata": {},
     "output_type": "display_data"
    }
   ],
   "source": [
    "plot_trends(df_sum_auto, ['sliding_windows'])"
   ]
  },
  {
   "cell_type": "code",
   "execution_count": 22,
   "metadata": {},
   "outputs": [
    {
     "name": "stderr",
     "output_type": "stream",
     "text": [
      "[dp] transforming date\n",
      "[dp] transforming view\n",
      "[dp] transforming pool\n",
      "[dp] transforming impr_over_land\n",
      "[dp] transforming sold_year\n",
      "[dp] transforming sold_month\n",
      "[dp] transforming sold_age\n",
      "[dp] transforming eval\n",
      "[dp] transforming eval_sqft_price\n",
      "[dp] making sqft_zip_avg\n",
      "[dp] making sqft_over_zip_avg\n",
      "[dp] making sqft_price_zip_avg\n",
      "[dp] making sold_price_zip_avg\n",
      "[dp] making eval_zip_avg\n",
      "[dp] making eval_over_zip_avg\n",
      "[dp] making sale_count_zip\n",
      "[dp] cleaning on criteria: sold_price\n",
      "[dp] cleaning on criteria: sqft_price\n",
      "[dp] cleaning on criteria: sqft\n",
      "[dp] cleaning on criteria: num_bed\n",
      "[dp] cleaning on criteria: num_bath\n",
      "[dp] cleaning on criteria: lon\n",
      "[dp] prediction - data shape: (25885, 17), period: 1985-10-01 ~ 1986-05-30, sliding(in month): 4, test: 4\n",
      "[dp] track/sliding/test window size: 13312, 13312, 12573\n",
      "[dp] validation step is skipped\n",
      "[dp] training size: 13312\n",
      "[dp] prediction - data shape: (29809, 17), period: 1986-02-03 ~ 1986-09-30, sliding(in month): 4, test: 4\n",
      "[dp] track/sliding/test window size: 12189, 12189, 17620\n",
      "[dp] validation step is skipped\n",
      "[dp] training size: 12189\n",
      "[dp] prediction - data shape: (35680, 17), period: 1986-06-02 ~ 1987-01-30, sliding(in month): 4, test: 4\n",
      "[dp] track/sliding/test window size: 17620, 17620, 18060\n",
      "[dp] validation step is skipped\n",
      "[dp] training size: 17620\n",
      "[dp] prediction - data shape: (33155, 17), period: 1986-10-01 ~ 1987-05-29, sliding(in month): 4, test: 4\n",
      "[dp] track/sliding/test window size: 17705, 17705, 15450\n",
      "[dp] validation step is skipped\n",
      "[dp] training size: 17705\n",
      "[dp] prediction - data shape: (33259, 17), period: 1987-02-02 ~ 1987-09-30, sliding(in month): 4, test: 4\n",
      "[dp] track/sliding/test window size: 15095, 15095, 18164\n",
      "[dp] validation step is skipped\n",
      "[dp] training size: 15095\n",
      "[dp] prediction - data shape: (33138, 17), period: 1987-06-01 ~ 1988-01-31, sliding(in month): 4, test: 4\n",
      "[dp] track/sliding/test window size: 18164, 18164, 14974\n",
      "[dp] validation step is skipped\n",
      "[dp] training size: 18164\n",
      "[dp] prediction - data shape: (30597, 17), period: 1987-10-01 ~ 1988-05-31, sliding(in month): 4, test: 4\n",
      "[dp] track/sliding/test window size: 14974, 14974, 15623\n",
      "[dp] validation step is skipped\n",
      "[dp] training size: 14974\n",
      "[dp] prediction - data shape: (37169, 17), period: 1988-02-01 ~ 1988-09-30, sliding(in month): 4, test: 4\n",
      "[dp] track/sliding/test window size: 15373, 15373, 21796\n",
      "[dp] validation step is skipped\n",
      "[dp] training size: 15373\n",
      "[dp] prediction - data shape: (39963, 17), period: 1988-06-01 ~ 1989-01-31, sliding(in month): 4, test: 4\n",
      "[dp] track/sliding/test window size: 21546, 21546, 18417\n",
      "[dp] validation step is skipped\n",
      "[dp] training size: 21546\n",
      "[dp] prediction - data shape: (35483, 17), period: 1988-10-03 ~ 1989-05-31, sliding(in month): 4, test: 4\n",
      "[dp] track/sliding/test window size: 18417, 18417, 17066\n",
      "[dp] validation step is skipped\n",
      "[dp] training size: 18417\n",
      "[dp] prediction - data shape: (35041, 17), period: 1989-02-01 ~ 1989-09-29, sliding(in month): 4, test: 4\n",
      "[dp] track/sliding/test window size: 16552, 16552, 18489\n",
      "[dp] validation step is skipped\n",
      "[dp] training size: 16552\n",
      "[dp] prediction - data shape: (33089, 17), period: 1989-06-01 ~ 1990-01-31, sliding(in month): 4, test: 4\n",
      "[dp] track/sliding/test window size: 17975, 17975, 15114\n",
      "[dp] validation step is skipped\n",
      "[dp] training size: 17975\n",
      "[dp] prediction - data shape: (28680, 17), period: 1989-10-02 ~ 1990-05-31, sliding(in month): 4, test: 4\n",
      "[dp] track/sliding/test window size: 15114, 15114, 13566\n",
      "[dp] validation step is skipped\n",
      "[dp] training size: 15114\n",
      "[dp] prediction - data shape: (26901, 17), period: 1990-02-01 ~ 1990-09-28, sliding(in month): 4, test: 4\n",
      "[dp] track/sliding/test window size: 12980, 12980, 13921\n",
      "[dp] validation step is skipped\n",
      "[dp] training size: 12980\n",
      "[dp] prediction - data shape: (22535, 17), period: 1990-06-01 ~ 1991-01-31, sliding(in month): 4, test: 4\n",
      "[dp] track/sliding/test window size: 13335, 13335, 9200\n",
      "[dp] validation step is skipped\n",
      "[dp] training size: 13335\n",
      "[dp] prediction - data shape: (19498, 17), period: 1990-10-01 ~ 1991-05-31, sliding(in month): 4, test: 4\n",
      "[dp] track/sliding/test window size: 9200, 9200, 10298\n",
      "[dp] validation step is skipped\n",
      "[dp] training size: 9200\n",
      "[dp] prediction - data shape: (21826, 17), period: 1991-02-01 ~ 1991-09-30, sliding(in month): 4, test: 4\n",
      "[dp] track/sliding/test window size: 9859, 9859, 11967\n",
      "[dp] validation step is skipped\n",
      "[dp] training size: 9859\n",
      "[dp] prediction - data shape: (20652, 17), period: 1991-06-03 ~ 1992-01-31, sliding(in month): 4, test: 4\n",
      "[dp] track/sliding/test window size: 11528, 11528, 9124\n",
      "[dp] validation step is skipped\n",
      "[dp] training size: 11528\n",
      "[dp] prediction - data shape: (19194, 17), period: 1991-10-01 ~ 1992-05-29, sliding(in month): 4, test: 4\n",
      "[dp] track/sliding/test window size: 8807, 8807, 10387\n",
      "[dp] validation step is skipped\n",
      "[dp] training size: 8807\n",
      "[dp] prediction - data shape: (20113, 17), period: 1992-02-03 ~ 1992-09-30, sliding(in month): 4, test: 4\n",
      "[dp] track/sliding/test window size: 10070, 10070, 10043\n",
      "[dp] validation step is skipped\n",
      "[dp] training size: 10070\n",
      "[dp] prediction - data shape: (19154, 17), period: 1992-06-01 ~ 1993-01-30, sliding(in month): 4, test: 4\n",
      "[dp] track/sliding/test window size: 10043, 10043, 9111\n",
      "[dp] validation step is skipped\n",
      "[dp] training size: 10043\n",
      "[dp] prediction - data shape: (17991, 17), period: 1992-10-01 ~ 1993-05-28, sliding(in month): 4, test: 4\n",
      "[dp] track/sliding/test window size: 8874, 8874, 9117\n",
      "[dp] validation step is skipped\n",
      "[dp] training size: 8874\n",
      "[dp] prediction - data shape: (19590, 17), period: 1993-02-01 ~ 1993-09-30, sliding(in month): 4, test: 4\n",
      "[dp] track/sliding/test window size: 8880, 8880, 10710\n",
      "[dp] validation step is skipped\n",
      "[dp] training size: 8880\n",
      "[dp] prediction - data shape: (20620, 17), period: 1993-06-01 ~ 1994-01-31, sliding(in month): 4, test: 4\n",
      "[dp] track/sliding/test window size: 10710, 10710, 9910\n",
      "[dp] validation step is skipped\n",
      "[dp] training size: 10710\n",
      "[dp] prediction - data shape: (21240, 17), period: 1993-10-01 ~ 1994-05-31, sliding(in month): 4, test: 4\n",
      "[dp] track/sliding/test window size: 9910, 9910, 11330\n",
      "[dp] validation step is skipped\n",
      "[dp] training size: 9910\n",
      "[dp] prediction - data shape: (23032, 17), period: 1994-02-01 ~ 1994-09-30, sliding(in month): 4, test: 4\n",
      "[dp] track/sliding/test window size: 11101, 11101, 11931\n",
      "[dp] validation step is skipped\n",
      "[dp] training size: 11101\n",
      "[dp] prediction - data shape: (20218, 17), period: 1994-06-01 ~ 1995-01-31, sliding(in month): 4, test: 4\n",
      "[dp] track/sliding/test window size: 11702, 11702, 8516\n",
      "[dp] validation step is skipped\n",
      "[dp] training size: 11702\n",
      "[dp] prediction - data shape: (16689, 17), period: 1994-10-03 ~ 1995-05-31, sliding(in month): 4, test: 4\n",
      "[dp] track/sliding/test window size: 8516, 8516, 8173\n",
      "[dp] validation step is skipped\n",
      "[dp] training size: 8516\n",
      "[dp] prediction - data shape: (18397, 17), period: 1995-02-01 ~ 1995-09-29, sliding(in month): 4, test: 4\n",
      "[dp] track/sliding/test window size: 7783, 7783, 10614\n",
      "[dp] validation step is skipped\n",
      "[dp] training size: 7783\n",
      "[dp] prediction - data shape: (19179, 17), period: 1995-06-01 ~ 1996-01-31, sliding(in month): 4, test: 4\n",
      "[dp] track/sliding/test window size: 10224, 10224, 8955\n",
      "[dp] validation step is skipped\n",
      "[dp] training size: 10224\n",
      "[dp] prediction - data shape: (19439, 17), period: 1995-10-02 ~ 1996-05-31, sliding(in month): 4, test: 4\n",
      "[dp] track/sliding/test window size: 8955, 8955, 10484\n",
      "[dp] validation step is skipped\n",
      "[dp] training size: 8955\n",
      "[dp] prediction - data shape: (21616, 17), period: 1996-02-01 ~ 1996-09-30, sliding(in month): 4, test: 4\n",
      "[dp] track/sliding/test window size: 10050, 10050, 11566\n",
      "[dp] validation step is skipped\n",
      "[dp] training size: 10050\n",
      "[dp] prediction - data shape: (21243, 17), period: 1996-06-03 ~ 1997-01-31, sliding(in month): 4, test: 4\n",
      "[dp] track/sliding/test window size: 11132, 11132, 10111\n",
      "[dp] validation step is skipped\n",
      "[dp] training size: 11132\n",
      "[dp] prediction - data shape: (21362, 17), period: 1996-10-01 ~ 1997-05-30, sliding(in month): 4, test: 4\n",
      "[dp] track/sliding/test window size: 9811, 9811, 11551\n",
      "[dp] validation step is skipped\n",
      "[dp] training size: 9811\n",
      "[dp] prediction - data shape: (25277, 17), period: 1997-02-01 ~ 1997-09-30, sliding(in month): 4, test: 4\n"
     ]
    },
    {
     "name": "stderr",
     "output_type": "stream",
     "text": [
      "[dp] track/sliding/test window size: 11251, 11251, 14026\n",
      "[dp] validation step is skipped\n",
      "[dp] training size: 11251\n",
      "[dp] prediction - data shape: (26696, 17), period: 1997-06-02 ~ 1998-01-30, sliding(in month): 4, test: 4\n",
      "[dp] track/sliding/test window size: 14026, 14026, 12670\n",
      "[dp] validation step is skipped\n",
      "[dp] training size: 14026\n",
      "[dp] prediction - data shape: (27538, 17), period: 1997-10-01 ~ 1998-05-29, sliding(in month): 4, test: 4\n",
      "[dp] track/sliding/test window size: 12295, 12295, 15243\n",
      "[dp] validation step is skipped\n",
      "[dp] training size: 12295\n",
      "[dp] prediction - data shape: (32691, 17), period: 1998-02-02 ~ 1998-09-30, sliding(in month): 4, test: 4\n",
      "[dp] track/sliding/test window size: 14868, 14868, 17823\n",
      "[dp] validation step is skipped\n",
      "[dp] training size: 14868\n",
      "[dp] prediction - data shape: (31739, 17), period: 1998-06-01 ~ 1999-01-29, sliding(in month): 4, test: 4\n",
      "[dp] track/sliding/test window size: 17383, 17383, 14356\n",
      "[dp] validation step is skipped\n",
      "[dp] training size: 17383\n",
      "[dp] prediction - data shape: (30743, 17), period: 1998-10-01 ~ 1999-05-30, sliding(in month): 4, test: 4\n",
      "[dp] track/sliding/test window size: 13916, 13916, 16827\n",
      "[dp] validation step is skipped\n",
      "[dp] training size: 13916\n",
      "[dp] prediction - data shape: (35596, 17), period: 1999-02-01 ~ 1999-09-30, sliding(in month): 4, test: 4\n",
      "[dp] track/sliding/test window size: 16827, 16827, 18769\n",
      "[dp] validation step is skipped\n",
      "[dp] training size: 16827\n",
      "[dp] prediction - data shape: (33260, 17), period: 1999-06-01 ~ 2000-01-31, sliding(in month): 4, test: 4\n",
      "[dp] track/sliding/test window size: 18769, 18769, 14491\n",
      "[dp] validation step is skipped\n",
      "[dp] training size: 18769\n",
      "[dp] prediction - data shape: (31086, 17), period: 1999-10-01 ~ 2000-05-31, sliding(in month): 4, test: 4\n",
      "[dp] track/sliding/test window size: 14491, 14491, 16595\n",
      "[dp] validation step is skipped\n",
      "[dp] training size: 14491\n",
      "[dp] prediction - data shape: (33875, 17), period: 2000-02-01 ~ 2000-09-29, sliding(in month): 4, test: 4\n",
      "[dp] track/sliding/test window size: 15825, 15825, 18050\n",
      "[dp] validation step is skipped\n",
      "[dp] training size: 15825\n",
      "[dp] prediction - data shape: (31847, 17), period: 2000-06-01 ~ 2001-01-31, sliding(in month): 4, test: 4\n",
      "[dp] track/sliding/test window size: 17280, 17280, 14567\n",
      "[dp] validation step is skipped\n",
      "[dp] training size: 17280\n",
      "[dp] prediction - data shape: (29600, 17), period: 2000-10-02 ~ 2001-05-31, sliding(in month): 4, test: 4\n",
      "[dp] track/sliding/test window size: 14567, 14567, 15033\n",
      "[dp] validation step is skipped\n",
      "[dp] training size: 14567\n",
      "[dp] prediction - data shape: (32668, 17), period: 2001-02-01 ~ 2001-09-28, sliding(in month): 4, test: 4\n",
      "[dp] track/sliding/test window size: 14207, 14207, 18461\n",
      "[dp] validation step is skipped\n",
      "[dp] training size: 14207\n",
      "[dp] prediction - data shape: (31554, 17), period: 2001-06-01 ~ 2002-01-31, sliding(in month): 4, test: 4\n",
      "[dp] track/sliding/test window size: 17635, 17635, 13919\n",
      "[dp] validation step is skipped\n",
      "[dp] training size: 17635\n",
      "[dp] prediction - data shape: (32119, 17), period: 2001-10-01 ~ 2002-05-31, sliding(in month): 4, test: 4\n",
      "[dp] track/sliding/test window size: 13919, 13919, 18200\n",
      "[dp] validation step is skipped\n",
      "[dp] training size: 13919\n",
      "[dp] prediction - data shape: (36673, 17), period: 2002-02-01 ~ 2002-09-30, sliding(in month): 4, test: 4\n",
      "[dp] track/sliding/test window size: 17622, 17622, 19051\n",
      "[dp] validation step is skipped\n",
      "[dp] training size: 17622\n",
      "[dp] prediction - data shape: (34062, 17), period: 2002-06-03 ~ 2003-01-31, sliding(in month): 4, test: 4\n",
      "[dp] track/sliding/test window size: 18473, 18473, 15589\n",
      "[dp] validation step is skipped\n",
      "[dp] training size: 18473\n",
      "[dp] prediction - data shape: (32308, 17), period: 2002-10-01 ~ 2003-05-30, sliding(in month): 4, test: 4\n",
      "[dp] track/sliding/test window size: 15197, 15197, 17111\n",
      "[dp] validation step is skipped\n",
      "[dp] training size: 15197\n",
      "[dp] prediction - data shape: (37374, 17), period: 2003-02-03 ~ 2003-09-30, sliding(in month): 4, test: 4\n",
      "[dp] track/sliding/test window size: 16719, 16719, 20655\n",
      "[dp] validation step is skipped\n",
      "[dp] training size: 16719\n",
      "[dp] prediction - data shape: (37905, 17), period: 2003-06-02 ~ 2004-01-30, sliding(in month): 4, test: 4\n",
      "[dp] track/sliding/test window size: 20655, 20655, 17250\n",
      "[dp] validation step is skipped\n",
      "[dp] training size: 20655\n",
      "[dp] prediction - data shape: (34989, 17), period: 2003-10-01 ~ 2004-05-28, sliding(in month): 4, test: 4\n",
      "[dp] track/sliding/test window size: 16673, 16673, 18316\n",
      "[dp] validation step is skipped\n",
      "[dp] training size: 16673\n",
      "[dp] prediction - data shape: (34679, 17), period: 2004-02-02 ~ 2004-09-30, sliding(in month): 4, test: 4\n",
      "[dp] track/sliding/test window size: 17739, 17739, 16940\n",
      "[dp] validation step is skipped\n",
      "[dp] training size: 17739\n",
      "[dp] prediction - data shape: (29752, 17), period: 2004-06-01 ~ 2005-01-31, sliding(in month): 4, test: 4\n",
      "[dp] track/sliding/test window size: 16940, 16940, 12812\n",
      "[dp] validation step is skipped\n",
      "[dp] training size: 16940\n",
      "[dp] prediction - data shape: (25896, 17), period: 2004-10-01 ~ 2005-05-31, sliding(in month): 4, test: 4\n",
      "[dp] track/sliding/test window size: 12812, 12812, 13084\n",
      "[dp] validation step is skipped\n",
      "[dp] training size: 12812\n",
      "[dp] prediction - data shape: (26457, 17), period: 2005-02-01 ~ 2005-09-30, sliding(in month): 4, test: 4\n",
      "[dp] track/sliding/test window size: 12812, 12812, 13645\n",
      "[dp] validation step is skipped\n",
      "[dp] training size: 12812\n",
      "[dp] prediction - data shape: (23393, 17), period: 2005-06-01 ~ 2006-01-31, sliding(in month): 4, test: 4\n",
      "[dp] track/sliding/test window size: 13373, 13373, 10020\n",
      "[dp] validation step is skipped\n",
      "[dp] training size: 13373\n",
      "[dp] prediction - data shape: (19806, 17), period: 2005-10-03 ~ 2006-05-31, sliding(in month): 4, test: 4\n",
      "[dp] track/sliding/test window size: 10020, 10020, 9786\n",
      "[dp] validation step is skipped\n",
      "[dp] training size: 10020\n",
      "[dp] prediction - data shape: (19149, 17), period: 2006-02-01 ~ 2006-09-29, sliding(in month): 4, test: 4\n",
      "[dp] track/sliding/test window size: 9365, 9365, 9784\n",
      "[dp] validation step is skipped\n",
      "[dp] training size: 9365\n",
      "[dp] prediction - data shape: (18225, 17), period: 2006-06-01 ~ 2007-01-31, sliding(in month): 4, test: 4\n",
      "[dp] track/sliding/test window size: 9363, 9363, 8862\n",
      "[dp] validation step is skipped\n",
      "[dp] training size: 9363\n",
      "[dp] prediction - data shape: (17825, 17), period: 2006-10-02 ~ 2007-05-31, sliding(in month): 4, test: 4\n",
      "[dp] track/sliding/test window size: 8862, 8862, 8963\n",
      "[dp] validation step is skipped\n",
      "[dp] training size: 8862\n",
      "[dp] prediction - data shape: (17380, 17), period: 2007-02-01 ~ 2007-09-28, sliding(in month): 4, test: 4\n",
      "[dp] track/sliding/test window size: 8481, 8481, 8899\n",
      "[dp] validation step is skipped\n",
      "[dp] training size: 8481\n",
      "[dp] prediction - data shape: (14753, 17), period: 2007-06-01 ~ 2008-01-31, sliding(in month): 4, test: 4\n",
      "[dp] track/sliding/test window size: 8417, 8417, 6336\n",
      "[dp] validation step is skipped\n",
      "[dp] training size: 8417\n",
      "[dp] prediction - data shape: (14428, 17), period: 2007-10-01 ~ 2008-05-30, sliding(in month): 4, test: 4\n",
      "[dp] track/sliding/test window size: 6203, 6203, 8225\n",
      "[dp] validation step is skipped\n",
      "[dp] training size: 6203\n",
      "[dp] prediction - data shape: (19153, 17), period: 2008-02-01 ~ 2008-09-30, sliding(in month): 4, test: 4\n",
      "[dp] track/sliding/test window size: 8092, 8092, 11061\n",
      "[dp] validation step is skipped\n",
      "[dp] training size: 8092\n",
      "[dp] prediction - data shape: (21632, 17), period: 2008-06-02 ~ 2009-01-30, sliding(in month): 4, test: 4\n",
      "[dp] track/sliding/test window size: 11061, 11061, 10571\n",
      "[dp] validation step is skipped\n",
      "[dp] training size: 11061\n",
      "[dp] prediction - data shape: (21109, 17), period: 2008-10-01 ~ 2009-05-29, sliding(in month): 4, test: 4\n",
      "[dp] track/sliding/test window size: 10308, 10308, 10801\n",
      "[dp] validation step is skipped\n",
      "[dp] training size: 10308\n",
      "[dp] prediction - data shape: (23027, 17), period: 2009-02-02 ~ 2009-09-30, sliding(in month): 4, test: 4\n",
      "[dp] track/sliding/test window size: 10538, 10538, 12489\n",
      "[dp] validation step is skipped\n",
      "[dp] training size: 10538\n",
      "[dp] prediction - data shape: (23686, 17), period: 2009-06-01 ~ 2010-01-29, sliding(in month): 4, test: 4\n",
      "[dp] track/sliding/test window size: 12117, 12117, 11569\n"
     ]
    },
    {
     "name": "stderr",
     "output_type": "stream",
     "text": [
      "[dp] validation step is skipped\n",
      "[dp] training size: 12117\n",
      "[dp] prediction - data shape: (22405, 17), period: 2009-10-01 ~ 2010-05-28, sliding(in month): 4, test: 4\n",
      "[dp] track/sliding/test window size: 10913, 10913, 11492\n",
      "[dp] validation step is skipped\n",
      "[dp] training size: 10913\n",
      "[dp] prediction - data shape: (22487, 17), period: 2010-02-01 ~ 2010-09-30, sliding(in month): 4, test: 4\n",
      "[dp] track/sliding/test window size: 11208, 11208, 11279\n",
      "[dp] validation step is skipped\n",
      "[dp] training size: 11208\n",
      "[dp] prediction - data shape: (20649, 17), period: 2010-06-01 ~ 2011-01-31, sliding(in month): 4, test: 4\n",
      "[dp] track/sliding/test window size: 11279, 11279, 9370\n",
      "[dp] validation step is skipped\n",
      "[dp] training size: 11279\n",
      "[dp] prediction - data shape: (19523, 17), period: 2010-10-01 ~ 2011-05-31, sliding(in month): 4, test: 4\n",
      "[dp] track/sliding/test window size: 9370, 9370, 10153\n",
      "[dp] validation step is skipped\n",
      "[dp] training size: 9370\n",
      "[dp] prediction - data shape: (21153, 17), period: 2011-02-01 ~ 2011-09-30, sliding(in month): 4, test: 4\n",
      "[dp] track/sliding/test window size: 9978, 9978, 11175\n",
      "[dp] validation step is skipped\n",
      "[dp] training size: 9978\n",
      "[dp] prediction - data shape: (20654, 17), period: 2011-06-01 ~ 2012-01-31, sliding(in month): 4, test: 4\n",
      "[dp] track/sliding/test window size: 11000, 11000, 9654\n",
      "[dp] validation step is skipped\n",
      "[dp] training size: 11000\n",
      "[dp] prediction - data shape: (20895, 17), period: 2011-10-03 ~ 2012-05-31, sliding(in month): 4, test: 4\n",
      "[dp] track/sliding/test window size: 9654, 9654, 11241\n",
      "[dp] validation step is skipped\n",
      "[dp] training size: 9654\n",
      "[dp] prediction - data shape: (23719, 17), period: 2012-02-01 ~ 2012-09-28, sliding(in month): 4, test: 4\n",
      "[dp] track/sliding/test window size: 10629, 10629, 13090\n",
      "[dp] validation step is skipped\n",
      "[dp] training size: 10629\n",
      "[dp] prediction - data shape: (23901, 17), period: 2012-06-01 ~ 2013-01-31, sliding(in month): 4, test: 4\n",
      "[dp] track/sliding/test window size: 12478, 12478, 11423\n",
      "[dp] validation step is skipped\n",
      "[dp] training size: 12478\n",
      "[dp] prediction - data shape: (23557, 17), period: 2012-10-01 ~ 2013-05-31, sliding(in month): 4, test: 4\n",
      "[dp] track/sliding/test window size: 11423, 11423, 12134\n",
      "[dp] validation step is skipped\n",
      "[dp] training size: 11423\n",
      "[dp] prediction - data shape: (24778, 17), period: 2013-02-01 ~ 2013-09-30, sliding(in month): 4, test: 4\n",
      "[dp] track/sliding/test window size: 11846, 11846, 12932\n",
      "[dp] validation step is skipped\n",
      "[dp] training size: 11846\n",
      "[dp] prediction - data shape: (22136, 17), period: 2013-06-03 ~ 2014-01-31, sliding(in month): 4, test: 4\n",
      "[dp] track/sliding/test window size: 12644, 12644, 9492\n",
      "[dp] validation step is skipped\n",
      "[dp] training size: 12644\n",
      "[dp] prediction - data shape: (19161, 17), period: 2013-10-01 ~ 2014-05-30, sliding(in month): 4, test: 4\n",
      "[dp] track/sliding/test window size: 9308, 9308, 9853\n",
      "[dp] validation step is skipped\n",
      "[dp] training size: 9308\n",
      "[dp] prediction - data shape: (19887, 17), period: 2014-02-03 ~ 2014-09-30, sliding(in month): 4, test: 4\n",
      "[dp] track/sliding/test window size: 9669, 9669, 10218\n",
      "[dp] validation step is skipped\n",
      "[dp] training size: 9669\n",
      "[dp] prediction - data shape: (16356, 17), period: 2014-06-02 ~ 2015-01-30, sliding(in month): 4, test: 4\n",
      "[dp] track/sliding/test window size: 10218, 10218, 6138\n",
      "[dp] validation step is skipped\n",
      "[dp] training size: 10218\n",
      "[dp] prediction - data shape: (16433, 17), period: 2014-10-01 ~ 2015-05-29, sliding(in month): 4, test: 4\n",
      "[dp] track/sliding/test window size: 5980, 5980, 10453\n",
      "[dp] validation step is skipped\n",
      "[dp] training size: 5980\n",
      "[dp] prediction - data shape: (21748, 17), period: 2015-02-02 ~ 2015-09-30, sliding(in month): 4, test: 4\n",
      "[dp] track/sliding/test window size: 10295, 10295, 11453\n",
      "[dp] validation step is skipped\n",
      "[dp] training size: 10295\n",
      "[dp] prediction - data shape: (19745, 17), period: 2015-06-01 ~ 2016-01-29, sliding(in month): 4, test: 4\n",
      "[dp] track/sliding/test window size: 11262, 11262, 8483\n",
      "[dp] validation step is skipped\n",
      "[dp] training size: 11262\n",
      "[dp] prediction - data shape: (17809, 17), period: 2015-10-01 ~ 2016-05-31, sliding(in month): 4, test: 4\n",
      "[dp] track/sliding/test window size: 8292, 8292, 9517\n",
      "[dp] validation step is skipped\n",
      "[dp] training size: 8292\n",
      "[dp] prediction - data shape: (19919, 17), period: 2016-02-01 ~ 2016-09-30, sliding(in month): 4, test: 4\n",
      "[dp] track/sliding/test window size: 9305, 9305, 10614\n",
      "[dp] validation step is skipped\n",
      "[dp] training size: 9305\n",
      "[dp] prediction - data shape: (18374, 17), period: 2016-06-01 ~ 2017-01-31, sliding(in month): 4, test: 4\n",
      "[dp] track/sliding/test window size: 10402, 10402, 7972\n",
      "[dp] validation step is skipped\n",
      "[dp] training size: 10402\n",
      "[dp] prediction - data shape: (16077, 17), period: 2016-10-03 ~ 2017-05-31, sliding(in month): 4, test: 4\n",
      "[dp] track/sliding/test window size: 7972, 7972, 8105\n",
      "[dp] validation step is skipped\n",
      "[dp] training size: 7972\n",
      "[dp] prediction - data shape: (16099, 17), period: 2017-02-01 ~ 2017-09-27, sliding(in month): 4, test: 4\n",
      "[dp] track/sliding/test window size: 7767, 7767, 8332\n",
      "[dp] validation step is skipped\n",
      "[dp] training size: 7767\n"
     ]
    },
    {
     "data": {
      "text/plain": [
       "[43525.49703139017,\n",
       " 45052.97597375978,\n",
       " 51544.01002324705,\n",
       " 53415.79622510092,\n",
       " 52032.59513444781,\n",
       " 57226.791691073566,\n",
       " 63797.658889168175,\n",
       " 59427.174031740375,\n",
       " 65001.9819437894,\n",
       " 75408.84524248615,\n",
       " 76764.75091876065,\n",
       " 70180.62187691731,\n",
       " 67943.62614715332,\n",
       " 66895.21791085096,\n",
       " 69874.8584038614,\n",
       " 77721.6727563139,\n",
       " 71511.57488162002,\n",
       " 76270.51922156055,\n",
       " 73609.5405700518,\n",
       " 72410.40896915953,\n",
       " 67605.59864710513,\n",
       " 67096.71790265787,\n",
       " 73023.85290589092,\n",
       " 74328.143219514,\n",
       " 69186.79894032647,\n",
       " 72177.32395857871,\n",
       " 76494.66276998825,\n",
       " 71751.18539547447,\n",
       " 74268.69053912393,\n",
       " 77045.14673491959,\n",
       " 74890.04851629736,\n",
       " 76564.79017930811,\n",
       " 81778.9804139082,\n",
       " 83205.2844335864,\n",
       " 81119.15529872624,\n",
       " 81717.66411638871,\n",
       " 92061.01671211811,\n",
       " 90474.5697480682,\n",
       " 83816.42350416687,\n",
       " 85454.44332251808,\n",
       " 88113.5263657823,\n",
       " 94071.32852300946,\n",
       " 105110.53589650869,\n",
       " 98864.98053347858,\n",
       " 100557.76495097751,\n",
       " 94076.71997922222,\n",
       " 91637.83133782234,\n",
       " 91238.30973268251,\n",
       " 100440.17620675977,\n",
       " 98759.31399218288,\n",
       " 98754.5212323585,\n",
       " 98705.99637669673,\n",
       " 101477.66170027792,\n",
       " 109861.8890566634,\n",
       " 127494.51571153657,\n",
       " 121614.11562308554,\n",
       " 119878.12313411997,\n",
       " 116231.47102205441,\n",
       " 111811.89867557165,\n",
       " 111164.47833093625,\n",
       " 106294.09052306834,\n",
       " 105450.95085582283,\n",
       " 109489.91549772321,\n",
       " 112494.14561619151,\n",
       " 110084.65579775452,\n",
       " 117817.9143039128,\n",
       " 108472.85504113905,\n",
       " 84757.50647597304,\n",
       " 95756.15869366375,\n",
       " 81653.14182847488,\n",
       " 85381.13398411585,\n",
       " 80533.86522822407,\n",
       " 83374.2733555101,\n",
       " 83193.12518475263,\n",
       " 90310.87687924528,\n",
       " 94740.5786916812,\n",
       " 101552.29186071001,\n",
       " 89763.28463027146,\n",
       " 93788.24840177949,\n",
       " 89610.94982883244,\n",
       " 94647.65540576633,\n",
       " 103468.86944898289,\n",
       " 98956.68043257002,\n",
       " 98978.32590828033,\n",
       " 89307.40662486662,\n",
       " 89979.91628935895,\n",
       " 87570.76899929949,\n",
       " 89293.23818394713,\n",
       " 83061.81028569954,\n",
       " 75353.077617414,\n",
       " 76904.94745446551,\n",
       " 68128.8138713823,\n",
       " 68489.9759289492,\n",
       " 67257.99136097675,\n",
       " 86355.04013448917]"
      ]
     },
     "execution_count": 22,
     "metadata": {},
     "output_type": "execute_result"
    }
   ],
   "source": [
    "df_all_clean = pp.dataset(feature='delivered', valid=True, clean=True, date=('1985-10-01', '2017-10-01'))\n",
    "mr_full.regress(df_all_clean, sliding_window=4)"
   ]
  },
  {
   "cell_type": "code",
   "execution_count": 25,
   "metadata": {},
   "outputs": [
    {
     "name": "stderr",
     "output_type": "stream",
     "text": [
      "[dp] data range: 1985-10-01 - 2017-09-27\n",
      "[dp] sliding_windows: [4, 4, 4, 4, 4, 4, 4, 4, 4, 4, 4, 4, 4, 4, 4, 4, 4, 4, 4, 4, 4, 4, 4, 4, 4, 4, 4, 4, 4, 4, 4, 4, 4, 4, 4, 4, 4, 4, 4, 4, 4, 4, 4, 4, 4, 4, 4, 4, 4, 4, 4, 4, 4, 4, 4, 4, 4, 4, 4, 4, 4, 4, 4, 4, 4, 4, 4, 4, 4, 4, 4, 4, 4, 4, 4, 4, 4, 4, 4, 4, 4, 4, 4, 4, 4, 4, 4, 4, 4, 4, 4, 4, 4, 4, 4]\n",
      "[dp] errors: [43525.49703139017, 45052.97597375978, 51544.01002324705, 53415.79622510092, 52032.59513444781, 57226.791691073566, 63797.658889168175, 59427.174031740375, 65001.9819437894, 75408.84524248615, 76764.75091876065, 70180.62187691731, 67943.62614715332, 66895.21791085096, 69874.8584038614, 77721.6727563139, 71511.57488162002, 76270.51922156055, 73609.5405700518, 72410.40896915953, 67605.59864710513, 67096.71790265787, 73023.85290589092, 74328.143219514, 69186.79894032647, 72177.32395857871, 76494.66276998825, 71751.18539547447, 74268.69053912393, 77045.14673491959, 74890.04851629736, 76564.79017930811, 81778.9804139082, 83205.2844335864, 81119.15529872624, 81717.66411638871, 92061.01671211811, 90474.5697480682, 83816.42350416687, 85454.44332251808, 88113.5263657823, 94071.32852300946, 105110.53589650869, 98864.98053347858, 100557.76495097751, 94076.71997922222, 91637.83133782234, 91238.30973268251, 100440.17620675977, 98759.31399218288, 98754.5212323585, 98705.99637669673, 101477.66170027792, 109861.8890566634, 127494.51571153657, 121614.11562308554, 119878.12313411997, 116231.47102205441, 111811.89867557165, 111164.47833093625, 106294.09052306834, 105450.95085582283, 109489.91549772321, 112494.14561619151, 110084.65579775452, 117817.9143039128, 108472.85504113905, 84757.50647597304, 95756.15869366375, 81653.14182847488, 85381.13398411585, 80533.86522822407, 83374.2733555101, 83193.12518475263, 90310.87687924528, 94740.5786916812, 101552.29186071001, 89763.28463027146, 93788.24840177949, 89610.94982883244, 94647.65540576633, 103468.86944898289, 98956.68043257002, 98978.32590828033, 89307.40662486662, 89979.91628935895, 87570.76899929949, 89293.23818394713, 83061.81028569954, 75353.077617414, 76904.94745446551, 68128.8138713823, 68489.9759289492, 67257.99136097675, 86355.04013448917]\n"
     ]
    },
    {
     "data": {
      "image/png": "[encoded data removed]",
      "text/plain": [
       "<matplotlib.figure.Figure at 0x2348b7a87f0>"
      ]
     },
     "metadata": {},
     "output_type": "display_data"
    }
   ],
   "source": [
    "df_sum_4_clean = mr_full.summary()\n",
    "plot_trends(df_sum_4_clean, ['error'], title='RMSE over time - clean data with 4-months sliding')"
   ]
  },
  {
   "cell_type": "code",
   "execution_count": 32,
   "metadata": {},
   "outputs": [
    {
     "name": "stderr",
     "output_type": "stream",
     "text": [
      "[dp] prediction - data shape: (25885, 17), period: 1985-10-01 ~ 1986-05-30, sliding(in month): 4, test: 4\n",
      "[dp] track/sliding/test window size: 13312, 13312, 12573\n",
      "[dp] training size: 13312\n",
      "[dp] prediction - data shape: (43505, 17), period: 1985-10-01 ~ 1986-09-30, sliding(in month): 8, test: 4\n",
      "[dp] track/sliding/test window size: 25885, 25885, 17620\n",
      "[dp] training size: 25885\n",
      "[dp] prediction - data shape: (61565, 17), period: 1985-10-01 ~ 1987-01-30, sliding(in month): 12, test: 4\n",
      "[dp] track/sliding/test window size: 43505, 43505, 18060\n",
      "[dp] training size: 43505\n",
      "[dp] prediction - data shape: (62964, 17), period: 1986-02-03 ~ 1987-05-29, sliding(in month): 12, test: 4\n",
      "[dp] track/sliding/test window size: 47514, 47514, 15450\n",
      "[dp] training size: 47514\n",
      "[dp] prediction - data shape: (68939, 17), period: 1986-06-02 ~ 1987-09-30, sliding(in month): 12, test: 4\n",
      "[dp] track/sliding/test window size: 50775, 50775, 18164\n",
      "[dp] training size: 50775\n",
      "[dp] validation - data shape: (109798, 17), sliding(in month): 4, period: 1985-10-01 ~ 1988-01-31\n",
      "[dp] track/sliding/test window size: 94824, 13696, 14974\n",
      "[dp] walk-forward train:(13696,), test:(14974,), scope:0 ~ 28669\n",
      "[dp] walk-forward train:(13696,), test:(14974,), scope:14974 ~ 43643\n",
      "[dp] walk-forward train:(13696,), test:(14974,), scope:29948 ~ 58617\n",
      "[dp] walk-forward train:(13696,), test:(14974,), scope:44922 ~ 73591\n",
      "[dp] walk-forward train:(13696,), test:(14974,), scope:59896 ~ 88565\n",
      "[dp] training size: 94824\n"
     ]
    },
    {
     "name": "stdout",
     "output_type": "stream",
     "text": [
      "Fitting 5 folds for each of 1 candidates, totalling 5 fits\n"
     ]
    },
    {
     "name": "stderr",
     "output_type": "stream",
     "text": [
      "[Parallel(n_jobs=-1)]: Done   5 out of   5 | elapsed:    7.1s finished\n",
      "[dp] validation - sliding(in month):4, score: -2285405173.0279784\n",
      "[dp] validation - data shape: (109798, 17), sliding(in month): 8, period: 1985-10-01 ~ 1988-01-31\n",
      "[dp] track/sliding/test window size: 94824, 25885, 14974\n",
      "[dp] walk-forward train:(25885,), test:(14974,), scope:0 ~ 40858\n",
      "[dp] walk-forward train:(25885,), test:(14974,), scope:14974 ~ 55832\n",
      "[dp] walk-forward train:(25885,), test:(14974,), scope:29948 ~ 70806\n",
      "[dp] walk-forward train:(25885,), test:(14974,), scope:44922 ~ 85780\n",
      "[dp] training size: 94824\n"
     ]
    },
    {
     "name": "stdout",
     "output_type": "stream",
     "text": [
      "Fitting 4 folds for each of 1 candidates, totalling 4 fits\n"
     ]
    },
    {
     "name": "stderr",
     "output_type": "stream",
     "text": [
      "[Parallel(n_jobs=-1)]: Done   2 out of   4 | elapsed:    7.5s remaining:    7.5s\n",
      "[Parallel(n_jobs=-1)]: Done   4 out of   4 | elapsed:    8.2s finished\n",
      "[dp] validation - sliding(in month):8, score: -2339094722.5148735\n",
      "[dp] validation - data shape: (109798, 17), sliding(in month): 12, period: 1985-10-01 ~ 1988-01-31\n",
      "[dp] track/sliding/test window size: 94824, 43505, 14974\n",
      "[dp] walk-forward train:(43505,), test:(14974,), scope:0 ~ 58478\n",
      "[dp] walk-forward train:(43505,), test:(14974,), scope:14974 ~ 73452\n",
      "[dp] walk-forward train:(43505,), test:(14974,), scope:29948 ~ 88426\n",
      "[dp] training size: 94824\n"
     ]
    },
    {
     "name": "stdout",
     "output_type": "stream",
     "text": [
      "Fitting 3 folds for each of 1 candidates, totalling 3 fits\n"
     ]
    },
    {
     "name": "stderr",
     "output_type": "stream",
     "text": [
      "[Parallel(n_jobs=-1)]: Done   3 out of   3 | elapsed:    9.5s finished\n",
      "[dp] validation - sliding(in month):12, score: -2288469269.5623026\n",
      "[dp] prediction - data shape: (33138, 17), period: 1987-06-01 ~ 1988-01-31, sliding(in month): 4, test: 4\n",
      "[dp] track/sliding/test window size: 18164, 18164, 14974\n",
      "[dp] training size: 18164\n",
      "[dp] prediction - data shape: (30597, 17), period: 1987-10-01 ~ 1988-05-31, sliding(in month): 4, test: 4\n",
      "[dp] track/sliding/test window size: 14974, 14974, 15623\n",
      "[dp] training size: 14974\n",
      "[dp] prediction - data shape: (37169, 17), period: 1988-02-01 ~ 1988-09-30, sliding(in month): 4, test: 4\n",
      "[dp] track/sliding/test window size: 15373, 15373, 21796\n",
      "[dp] training size: 15373\n",
      "[dp] prediction - data shape: (39963, 17), period: 1988-06-01 ~ 1989-01-31, sliding(in month): 4, test: 4\n",
      "[dp] track/sliding/test window size: 21546, 21546, 18417\n",
      "[dp] training size: 21546\n",
      "[dp] prediction - data shape: (35483, 17), period: 1988-10-03 ~ 1989-05-31, sliding(in month): 4, test: 4\n",
      "[dp] track/sliding/test window size: 18417, 18417, 17066\n",
      "[dp] training size: 18417\n",
      "[dp] prediction - data shape: (35041, 17), period: 1989-02-01 ~ 1989-09-29, sliding(in month): 4, test: 4\n",
      "[dp] track/sliding/test window size: 16552, 16552, 18489\n",
      "[dp] training size: 16552\n",
      "[dp] validation - data shape: (120715, 17), sliding(in month): 4, period: 1987-10-01 ~ 1990-01-31\n",
      "[dp] track/sliding/test window size: 105601, 14974, 15114\n",
      "[dp] walk-forward train:(14974,), test:(15114,), scope:0 ~ 30087\n",
      "[dp] walk-forward train:(14974,), test:(15114,), scope:15114 ~ 45201\n",
      "[dp] walk-forward train:(14974,), test:(15114,), scope:30228 ~ 60315\n",
      "[dp] walk-forward train:(14974,), test:(15114,), scope:45342 ~ 75429\n",
      "[dp] walk-forward train:(14974,), test:(15114,), scope:60456 ~ 90543\n",
      "[dp] training size: 105601\n"
     ]
    },
    {
     "name": "stdout",
     "output_type": "stream",
     "text": [
      "Fitting 5 folds for each of 1 candidates, totalling 5 fits\n"
     ]
    },
    {
     "name": "stderr",
     "output_type": "stream",
     "text": [
      "[Parallel(n_jobs=-1)]: Done   5 out of   5 | elapsed:    6.8s finished\n",
      "[dp] validation - sliding(in month):4, score: -4291688883.490527\n",
      "[dp] validation - data shape: (120715, 17), sliding(in month): 8, period: 1987-10-01 ~ 1990-01-31\n",
      "[dp] track/sliding/test window size: 105601, 30597, 15114\n",
      "[dp] walk-forward train:(30597,), test:(15114,), scope:0 ~ 45710\n",
      "[dp] walk-forward train:(30597,), test:(15114,), scope:15114 ~ 60824\n",
      "[dp] walk-forward train:(30597,), test:(15114,), scope:30228 ~ 75938\n",
      "[dp] walk-forward train:(30597,), test:(15114,), scope:45342 ~ 91052\n",
      "[dp] training size: 105601\n"
     ]
    },
    {
     "name": "stdout",
     "output_type": "stream",
     "text": [
      "Fitting 4 folds for each of 1 candidates, totalling 4 fits\n"
     ]
    },
    {
     "name": "stderr",
     "output_type": "stream",
     "text": [
      "[Parallel(n_jobs=-1)]: Done   2 out of   4 | elapsed:    8.2s remaining:    8.2s\n",
      "[Parallel(n_jobs=-1)]: Done   4 out of   4 | elapsed:    9.4s finished\n",
      "[dp] validation - sliding(in month):8, score: -4249049166.7012467\n",
      "[dp] validation - data shape: (120715, 17), sliding(in month): 12, period: 1987-10-01 ~ 1990-01-31\n",
      "[dp] track/sliding/test window size: 105601, 52143, 15114\n",
      "[dp] walk-forward train:(52143,), test:(15114,), scope:0 ~ 67256\n",
      "[dp] walk-forward train:(52143,), test:(15114,), scope:15114 ~ 82370\n",
      "[dp] walk-forward train:(52143,), test:(15114,), scope:30228 ~ 97484\n",
      "[dp] training size: 105601\n"
     ]
    },
    {
     "name": "stdout",
     "output_type": "stream",
     "text": [
      "Fitting 3 folds for each of 1 candidates, totalling 3 fits\n"
     ]
    },
    {
     "name": "stderr",
     "output_type": "stream",
     "text": [
      "[Parallel(n_jobs=-1)]: Done   3 out of   3 | elapsed:   11.5s finished\n",
      "[dp] validation - sliding(in month):12, score: -5348924464.440082\n",
      "[dp] prediction - data shape: (50155, 17), period: 1989-02-01 ~ 1990-01-31, sliding(in month): 8, test: 4\n",
      "[dp] track/sliding/test window size: 35041, 35041, 15114\n",
      "[dp] training size: 35041\n",
      "[dp] prediction - data shape: (46655, 17), period: 1989-06-01 ~ 1990-05-31, sliding(in month): 8, test: 4\n",
      "[dp] track/sliding/test window size: 33089, 33089, 13566\n",
      "[dp] training size: 33089\n",
      "[dp] prediction - data shape: (42015, 17), period: 1989-10-02 ~ 1990-09-28, sliding(in month): 8, test: 4\n",
      "[dp] track/sliding/test window size: 28094, 28094, 13921\n",
      "[dp] training size: 28094\n",
      "[dp] prediction - data shape: (36101, 17), period: 1990-02-01 ~ 1991-01-31, sliding(in month): 8, test: 4\n",
      "[dp] track/sliding/test window size: 26901, 26901, 9200\n",
      "[dp] training size: 26901\n",
      "[dp] prediction - data shape: (32833, 17), period: 1990-06-01 ~ 1991-05-31, sliding(in month): 8, test: 4\n",
      "[dp] track/sliding/test window size: 22535, 22535, 10298\n",
      "[dp] training size: 22535\n",
      "[dp] prediction - data shape: (31026, 17), period: 1990-10-01 ~ 1991-09-30, sliding(in month): 8, test: 4\n",
      "[dp] track/sliding/test window size: 19059, 19059, 11967\n",
      "[dp] training size: 19059\n",
      "[dp] validation - data shape: (82165, 17), sliding(in month): 4, period: 1989-10-02 ~ 1992-01-31\n",
      "[dp] track/sliding/test window size: 73041, 15287, 9124\n",
      "[dp] walk-forward train:(15287,), test:(9124,), scope:0 ~ 24410\n",
      "[dp] walk-forward train:(15287,), test:(9124,), scope:9124 ~ 33534\n",
      "[dp] walk-forward train:(15287,), test:(9124,), scope:18248 ~ 42658\n",
      "[dp] walk-forward train:(15287,), test:(9124,), scope:27372 ~ 51782\n",
      "[dp] walk-forward train:(15287,), test:(9124,), scope:36496 ~ 60906\n",
      "[dp] walk-forward train:(15287,), test:(9124,), scope:45620 ~ 70030\n",
      "[dp] training size: 73041\n"
     ]
    },
    {
     "name": "stdout",
     "output_type": "stream",
     "text": [
      "Fitting 6 folds for each of 1 candidates, totalling 6 fits\n"
     ]
    },
    {
     "name": "stderr",
     "output_type": "stream",
     "text": [
      "[Parallel(n_jobs=-1)]: Done   6 out of   6 | elapsed:    7.6s remaining:    0.0s\n",
      "[Parallel(n_jobs=-1)]: Done   6 out of   6 | elapsed:    7.6s finished\n",
      "[dp] validation - sliding(in month):4, score: -4837019475.825619\n",
      "[dp] validation - data shape: (82165, 17), sliding(in month): 8, period: 1989-10-02 ~ 1992-01-31\n",
      "[dp] track/sliding/test window size: 73041, 28994, 9124\n",
      "[dp] walk-forward train:(28994,), test:(9124,), scope:0 ~ 38117\n",
      "[dp] walk-forward train:(28994,), test:(9124,), scope:9124 ~ 47241\n",
      "[dp] walk-forward train:(28994,), test:(9124,), scope:18248 ~ 56365\n",
      "[dp] walk-forward train:(28994,), test:(9124,), scope:27372 ~ 65489\n",
      "[dp] training size: 73041\n"
     ]
    },
    {
     "name": "stdout",
     "output_type": "stream",
     "text": [
      "Fitting 4 folds for each of 1 candidates, totalling 4 fits\n"
     ]
    },
    {
     "name": "stderr",
     "output_type": "stream",
     "text": [
      "[Parallel(n_jobs=-1)]: Done   2 out of   4 | elapsed:    8.0s remaining:    8.0s\n",
      "[Parallel(n_jobs=-1)]: Done   4 out of   4 | elapsed:    8.8s finished\n",
      "[dp] validation - sliding(in month):8, score: -5010249152.140048\n",
      "[dp] validation - data shape: (82165, 17), sliding(in month): 12, period: 1989-10-02 ~ 1992-01-31\n",
      "[dp] track/sliding/test window size: 73041, 42150, 9124\n",
      "[dp] walk-forward train:(42150,), test:(9124,), scope:0 ~ 51273\n",
      "[dp] walk-forward train:(42150,), test:(9124,), scope:9124 ~ 60397\n",
      "[dp] walk-forward train:(42150,), test:(9124,), scope:18248 ~ 69521\n",
      "[dp] training size: 73041\n"
     ]
    },
    {
     "name": "stdout",
     "output_type": "stream",
     "text": [
      "Fitting 3 folds for each of 1 candidates, totalling 3 fits\n"
     ]
    },
    {
     "name": "stderr",
     "output_type": "stream",
     "text": [
      "[Parallel(n_jobs=-1)]: Done   3 out of   3 | elapsed:    9.4s finished\n",
      "[dp] validation - sliding(in month):12, score: -5053272534.049315\n",
      "[dp] prediction - data shape: (20652, 17), period: 1991-06-03 ~ 1992-01-31, sliding(in month): 4, test: 4\n",
      "[dp] track/sliding/test window size: 11528, 11528, 9124\n",
      "[dp] training size: 11528\n",
      "[dp] prediction - data shape: (19194, 17), period: 1991-10-01 ~ 1992-05-29, sliding(in month): 4, test: 4\n",
      "[dp] track/sliding/test window size: 8807, 8807, 10387\n",
      "[dp] training size: 8807\n",
      "[dp] prediction - data shape: (20113, 17), period: 1992-02-03 ~ 1992-09-30, sliding(in month): 4, test: 4\n",
      "[dp] track/sliding/test window size: 10070, 10070, 10043\n",
      "[dp] training size: 10070\n",
      "[dp] prediction - data shape: (19154, 17), period: 1992-06-01 ~ 1993-01-30, sliding(in month): 4, test: 4\n",
      "[dp] track/sliding/test window size: 10043, 10043, 9111\n",
      "[dp] training size: 10043\n",
      "[dp] prediction - data shape: (17991, 17), period: 1992-10-01 ~ 1993-05-28, sliding(in month): 4, test: 4\n",
      "[dp] track/sliding/test window size: 8874, 8874, 9117\n",
      "[dp] training size: 8874\n",
      "[dp] prediction - data shape: (19590, 17), period: 1993-02-01 ~ 1993-09-30, sliding(in month): 4, test: 4\n",
      "[dp] track/sliding/test window size: 8880, 8880, 10710\n",
      "[dp] training size: 8880\n",
      "[dp] validation - data shape: (67848, 17), sliding(in month): 4, period: 1991-10-01 ~ 1994-01-31\n",
      "[dp] track/sliding/test window size: 57938, 9124, 9910\n",
      "[dp] walk-forward train:(9124,), test:(9910,), scope:0 ~ 19033\n",
      "[dp] walk-forward train:(9124,), test:(9910,), scope:9910 ~ 28943\n",
      "[dp] walk-forward train:(9124,), test:(9910,), scope:19820 ~ 38853\n",
      "[dp] walk-forward train:(9124,), test:(9910,), scope:29730 ~ 48763\n",
      "[dp] training size: 57938\n"
     ]
    },
    {
     "name": "stdout",
     "output_type": "stream",
     "text": [
      "Fitting 4 folds for each of 1 candidates, totalling 4 fits\n"
     ]
    },
    {
     "name": "stderr",
     "output_type": "stream",
     "text": [
      "[Parallel(n_jobs=-1)]: Done   2 out of   4 | elapsed:    3.4s remaining:    3.4s\n",
      "[Parallel(n_jobs=-1)]: Done   4 out of   4 | elapsed:    5.2s finished\n",
      "[dp] validation - sliding(in month):4, score: -4984041778.278324\n",
      "[dp] validation - data shape: (67848, 17), sliding(in month): 8, period: 1991-10-01 ~ 1994-01-31\n",
      "[dp] track/sliding/test window size: 57938, 19194, 9910\n",
      "[dp] walk-forward train:(19194,), test:(9910,), scope:0 ~ 29103\n",
      "[dp] walk-forward train:(19194,), test:(9910,), scope:9910 ~ 39013\n",
      "[dp] walk-forward train:(19194,), test:(9910,), scope:19820 ~ 48923\n",
      "[dp] training size: 57938\n"
     ]
    },
    {
     "name": "stdout",
     "output_type": "stream",
     "text": [
      "Fitting 3 folds for each of 1 candidates, totalling 3 fits\n"
     ]
    },
    {
     "name": "stderr",
     "output_type": "stream",
     "text": [
      "[Parallel(n_jobs=-1)]: Done   3 out of   3 | elapsed:    5.6s finished\n",
      "[dp] validation - sliding(in month):8, score: -4861970670.172389\n",
      "[dp] validation - data shape: (67848, 17), sliding(in month): 12, period: 1991-10-01 ~ 1994-01-31\n",
      "[dp] track/sliding/test window size: 57938, 29237, 9910\n",
      "[dp] walk-forward train:(29237,), test:(9910,), scope:0 ~ 39146\n",
      "[dp] walk-forward train:(29237,), test:(9910,), scope:9910 ~ 49056\n",
      "[dp] training size: 57938\n"
     ]
    },
    {
     "name": "stdout",
     "output_type": "stream",
     "text": [
      "Fitting 2 folds for each of 1 candidates, totalling 2 fits\n"
     ]
    },
    {
     "name": "stderr",
     "output_type": "stream",
     "text": [
      "[Parallel(n_jobs=-1)]: Done   2 out of   2 | elapsed:    5.3s finished\n",
      "[dp] validation - sliding(in month):12, score: -4258502484.5734854\n",
      "[dp] prediction - data shape: (38611, 17), period: 1992-10-01 ~ 1994-01-31, sliding(in month): 12, test: 4\n",
      "[dp] track/sliding/test window size: 28701, 28701, 9910\n",
      "[dp] training size: 28701\n",
      "[dp] prediction - data shape: (40830, 17), period: 1993-02-01 ~ 1994-05-31, sliding(in month): 12, test: 4\n",
      "[dp] track/sliding/test window size: 29500, 29500, 11330\n",
      "[dp] training size: 29500\n",
      "[dp] prediction - data shape: (43652, 17), period: 1993-06-01 ~ 1994-09-30, sliding(in month): 12, test: 4\n",
      "[dp] track/sliding/test window size: 31721, 31721, 11931\n",
      "[dp] training size: 31721\n",
      "[dp] prediction - data shape: (41458, 17), period: 1993-10-01 ~ 1995-01-31, sliding(in month): 12, test: 4\n",
      "[dp] track/sliding/test window size: 32942, 32942, 8516\n",
      "[dp] training size: 32942\n",
      "[dp] prediction - data shape: (39721, 17), period: 1994-02-01 ~ 1995-05-31, sliding(in month): 12, test: 4\n",
      "[dp] track/sliding/test window size: 31548, 31548, 8173\n",
      "[dp] training size: 31548\n",
      "[dp] prediction - data shape: (38615, 17), period: 1994-06-01 ~ 1995-09-29, sliding(in month): 12, test: 4\n",
      "[dp] track/sliding/test window size: 28001, 28001, 10614\n",
      "[dp] training size: 28001\n",
      "[dp] validation - data shape: (68810, 17), sliding(in month): 4, period: 1993-10-01 ~ 1996-01-31\n",
      "[dp] track/sliding/test window size: 59855, 9910, 8955\n",
      "[dp] walk-forward train:(9910,), test:(8955,), scope:0 ~ 18864\n",
      "[dp] walk-forward train:(9910,), test:(8955,), scope:8955 ~ 27819\n",
      "[dp] walk-forward train:(9910,), test:(8955,), scope:17910 ~ 36774\n",
      "[dp] walk-forward train:(9910,), test:(8955,), scope:26865 ~ 45729\n",
      "[dp] walk-forward train:(9910,), test:(8955,), scope:35820 ~ 54684\n",
      "[dp] training size: 59855\n"
     ]
    },
    {
     "name": "stdout",
     "output_type": "stream",
     "text": [
      "Fitting 5 folds for each of 1 candidates, totalling 5 fits\n"
     ]
    },
    {
     "name": "stderr",
     "output_type": "stream",
     "text": [
      "[Parallel(n_jobs=-1)]: Done   5 out of   5 | elapsed:    5.7s finished\n",
      "[dp] validation - sliding(in month):4, score: -5096039747.370519\n",
      "[dp] validation - data shape: (68810, 17), sliding(in month): 8, period: 1993-10-01 ~ 1996-01-31\n",
      "[dp] track/sliding/test window size: 59855, 21240, 8955\n",
      "[dp] walk-forward train:(21240,), test:(8955,), scope:0 ~ 30194\n",
      "[dp] walk-forward train:(21240,), test:(8955,), scope:8955 ~ 39149\n",
      "[dp] walk-forward train:(21240,), test:(8955,), scope:17910 ~ 48104\n",
      "[dp] walk-forward train:(21240,), test:(8955,), scope:26865 ~ 57059\n",
      "[dp] training size: 59855\n"
     ]
    },
    {
     "name": "stdout",
     "output_type": "stream",
     "text": [
      "Fitting 4 folds for each of 1 candidates, totalling 4 fits\n"
     ]
    },
    {
     "name": "stderr",
     "output_type": "stream",
     "text": [
      "[Parallel(n_jobs=-1)]: Done   2 out of   4 | elapsed:    6.4s remaining:    6.4s\n",
      "[Parallel(n_jobs=-1)]: Done   4 out of   4 | elapsed:    7.3s finished\n",
      "[dp] validation - sliding(in month):8, score: -4993882494.581641\n",
      "[dp] validation - data shape: (68810, 17), sliding(in month): 12, period: 1993-10-01 ~ 1996-01-31\n",
      "[dp] track/sliding/test window size: 59855, 32942, 8955\n",
      "[dp] walk-forward train:(32942,), test:(8955,), scope:0 ~ 41896\n",
      "[dp] walk-forward train:(32942,), test:(8955,), scope:8955 ~ 50851\n",
      "[dp] walk-forward train:(32942,), test:(8955,), scope:17910 ~ 59806\n",
      "[dp] training size: 59855\n"
     ]
    },
    {
     "name": "stdout",
     "output_type": "stream",
     "text": [
      "Fitting 3 folds for each of 1 candidates, totalling 3 fits\n"
     ]
    },
    {
     "name": "stderr",
     "output_type": "stream",
     "text": [
      "[Parallel(n_jobs=-1)]: Done   3 out of   3 | elapsed:    7.8s finished\n",
      "[dp] validation - sliding(in month):12, score: -4944261695.331376\n",
      "[dp] prediction - data shape: (35868, 17), period: 1994-10-03 ~ 1996-01-31, sliding(in month): 12, test: 4\n",
      "[dp] track/sliding/test window size: 26913, 26913, 8955\n",
      "[dp] training size: 26913\n",
      "[dp] prediction - data shape: (37836, 17), period: 1995-02-01 ~ 1996-05-31, sliding(in month): 12, test: 4\n",
      "[dp] track/sliding/test window size: 27352, 27352, 10484\n",
      "[dp] training size: 27352\n",
      "[dp] prediction - data shape: (40795, 17), period: 1995-06-01 ~ 1996-09-30, sliding(in month): 12, test: 4\n",
      "[dp] track/sliding/test window size: 29229, 29229, 11566\n",
      "[dp] training size: 29229\n",
      "[dp] prediction - data shape: (40682, 17), period: 1995-10-02 ~ 1997-01-31, sliding(in month): 12, test: 4\n",
      "[dp] track/sliding/test window size: 30571, 30571, 10111\n",
      "[dp] training size: 30571\n",
      "[dp] prediction - data shape: (42978, 17), period: 1996-02-01 ~ 1997-05-30, sliding(in month): 12, test: 4\n",
      "[dp] track/sliding/test window size: 31427, 31427, 11551\n",
      "[dp] training size: 31427\n",
      "[dp] prediction - data shape: (46520, 17), period: 1996-06-03 ~ 1997-09-30, sliding(in month): 12, test: 4\n",
      "[dp] track/sliding/test window size: 32494, 32494, 14026\n",
      "[dp] training size: 32494\n",
      "[dp] validation - data shape: (78629, 17), sliding(in month): 4, period: 1995-10-02 ~ 1998-01-30\n",
      "[dp] track/sliding/test window size: 65959, 9032, 12670\n",
      "[dp] walk-forward train:(9032,), test:(12670,), scope:0 ~ 21701\n",
      "[dp] walk-forward train:(9032,), test:(12670,), scope:12670 ~ 34371\n",
      "[dp] walk-forward train:(9032,), test:(12670,), scope:25340 ~ 47041\n",
      "[dp] walk-forward train:(9032,), test:(12670,), scope:38010 ~ 59711\n",
      "[dp] training size: 65959\n"
     ]
    },
    {
     "name": "stdout",
     "output_type": "stream",
     "text": [
      "Fitting 4 folds for each of 1 candidates, totalling 4 fits\n"
     ]
    },
    {
     "name": "stderr",
     "output_type": "stream",
     "text": [
      "[Parallel(n_jobs=-1)]: Done   2 out of   4 | elapsed:    3.4s remaining:    3.4s\n",
      "[Parallel(n_jobs=-1)]: Done   4 out of   4 | elapsed:    5.3s finished\n",
      "[dp] validation - sliding(in month):4, score: -6461371484.049432\n",
      "[dp] validation - data shape: (78629, 17), sliding(in month): 8, period: 1995-10-02 ~ 1998-01-30\n",
      "[dp] track/sliding/test window size: 65959, 19439, 12670\n",
      "[dp] walk-forward train:(19439,), test:(12670,), scope:0 ~ 32108\n",
      "[dp] walk-forward train:(19439,), test:(12670,), scope:12670 ~ 44778\n",
      "[dp] walk-forward train:(19439,), test:(12670,), scope:25340 ~ 57448\n",
      "[dp] training size: 65959\n"
     ]
    },
    {
     "name": "stdout",
     "output_type": "stream",
     "text": [
      "Fitting 3 folds for each of 1 candidates, totalling 3 fits\n"
     ]
    },
    {
     "name": "stderr",
     "output_type": "stream",
     "text": [
      "[Parallel(n_jobs=-1)]: Done   3 out of   3 | elapsed:    5.6s finished\n",
      "[dp] validation - sliding(in month):8, score: -6614285230.094624\n",
      "[dp] validation - data shape: (78629, 17), sliding(in month): 12, period: 1995-10-02 ~ 1998-01-30\n",
      "[dp] track/sliding/test window size: 65959, 30690, 12670\n",
      "[dp] walk-forward train:(30690,), test:(12670,), scope:0 ~ 43359\n",
      "[dp] walk-forward train:(30690,), test:(12670,), scope:12670 ~ 56029\n",
      "[dp] training size: 65959\n"
     ]
    },
    {
     "name": "stdout",
     "output_type": "stream",
     "text": [
      "Fitting 2 folds for each of 1 candidates, totalling 2 fits\n"
     ]
    },
    {
     "name": "stderr",
     "output_type": "stream",
     "text": [
      "[Parallel(n_jobs=-1)]: Done   2 out of   2 | elapsed:    6.0s finished\n",
      "[dp] validation - sliding(in month):12, score: -6709171857.423345\n",
      "[dp] prediction - data shape: (26696, 17), period: 1997-06-02 ~ 1998-01-30, sliding(in month): 4, test: 4\n",
      "[dp] track/sliding/test window size: 14026, 14026, 12670\n",
      "[dp] training size: 14026\n",
      "[dp] prediction - data shape: (27538, 17), period: 1997-10-01 ~ 1998-05-29, sliding(in month): 4, test: 4\n",
      "[dp] track/sliding/test window size: 12295, 12295, 15243\n",
      "[dp] training size: 12295\n",
      "[dp] prediction - data shape: (32691, 17), period: 1998-02-02 ~ 1998-09-30, sliding(in month): 4, test: 4\n",
      "[dp] track/sliding/test window size: 14868, 14868, 17823\n",
      "[dp] training size: 14868\n",
      "[dp] prediction - data shape: (31739, 17), period: 1998-06-01 ~ 1999-01-29, sliding(in month): 4, test: 4\n",
      "[dp] track/sliding/test window size: 17383, 17383, 14356\n",
      "[dp] training size: 17383\n",
      "[dp] prediction - data shape: (30743, 17), period: 1998-10-01 ~ 1999-05-30, sliding(in month): 4, test: 4\n",
      "[dp] track/sliding/test window size: 13916, 13916, 16827\n",
      "[dp] training size: 13916\n",
      "[dp] prediction - data shape: (35596, 17), period: 1999-02-01 ~ 1999-09-30, sliding(in month): 4, test: 4\n",
      "[dp] track/sliding/test window size: 16827, 16827, 18769\n",
      "[dp] training size: 16827\n",
      "[dp] validation - data shape: (109364, 17), sliding(in month): 4, period: 1997-10-01 ~ 2000-01-31\n",
      "[dp] track/sliding/test window size: 94873, 12670, 14491\n",
      "[dp] walk-forward train:(12670,), test:(14491,), scope:0 ~ 27160\n",
      "[dp] walk-forward train:(12670,), test:(14491,), scope:14491 ~ 41651\n",
      "[dp] walk-forward train:(12670,), test:(14491,), scope:28982 ~ 56142\n",
      "[dp] walk-forward train:(12670,), test:(14491,), scope:43473 ~ 70633\n",
      "[dp] walk-forward train:(12670,), test:(14491,), scope:57964 ~ 85124\n",
      "[dp] training size: 94873\n"
     ]
    },
    {
     "name": "stdout",
     "output_type": "stream",
     "text": [
      "Fitting 5 folds for each of 1 candidates, totalling 5 fits\n"
     ]
    },
    {
     "name": "stderr",
     "output_type": "stream",
     "text": [
      "[Parallel(n_jobs=-1)]: Done   5 out of   5 | elapsed:    6.4s finished\n",
      "[dp] validation - sliding(in month):4, score: -7699219418.849942\n",
      "[dp] validation - data shape: (109364, 17), sliding(in month): 8, period: 1997-10-01 ~ 2000-01-31\n",
      "[dp] track/sliding/test window size: 94873, 27538, 14491\n",
      "[dp] walk-forward train:(27538,), test:(14491,), scope:0 ~ 42028\n",
      "[dp] walk-forward train:(27538,), test:(14491,), scope:14491 ~ 56519\n",
      "[dp] walk-forward train:(27538,), test:(14491,), scope:28982 ~ 71010\n",
      "[dp] walk-forward train:(27538,), test:(14491,), scope:43473 ~ 85501\n",
      "[dp] training size: 94873\n"
     ]
    },
    {
     "name": "stdout",
     "output_type": "stream",
     "text": [
      "Fitting 4 folds for each of 1 candidates, totalling 4 fits\n"
     ]
    },
    {
     "name": "stderr",
     "output_type": "stream",
     "text": [
      "[Parallel(n_jobs=-1)]: Done   2 out of   4 | elapsed:    7.8s remaining:    7.8s\n",
      "[Parallel(n_jobs=-1)]: Done   4 out of   4 | elapsed:    8.6s finished\n",
      "[dp] validation - sliding(in month):8, score: -7277596849.341095\n",
      "[dp] validation - data shape: (109364, 17), sliding(in month): 12, period: 1997-10-01 ~ 2000-01-31\n",
      "[dp] track/sliding/test window size: 94873, 45361, 14491\n",
      "[dp] walk-forward train:(45361,), test:(14491,), scope:0 ~ 59851\n",
      "[dp] walk-forward train:(45361,), test:(14491,), scope:14491 ~ 74342\n",
      "[dp] walk-forward train:(45361,), test:(14491,), scope:28982 ~ 88833\n",
      "[dp] training size: 94873\n"
     ]
    },
    {
     "name": "stdout",
     "output_type": "stream",
     "text": [
      "Fitting 3 folds for each of 1 candidates, totalling 3 fits\n"
     ]
    },
    {
     "name": "stderr",
     "output_type": "stream",
     "text": [
      "[Parallel(n_jobs=-1)]: Done   3 out of   3 | elapsed:   10.2s finished\n",
      "[dp] validation - sliding(in month):12, score: -7172987963.785784\n",
      "[dp] prediction - data shape: (64003, 17), period: 1998-10-01 ~ 2000-01-31, sliding(in month): 12, test: 4\n",
      "[dp] track/sliding/test window size: 49512, 49512, 14491\n",
      "[dp] training size: 49512\n",
      "[dp] prediction - data shape: (66682, 17), period: 1999-02-01 ~ 2000-05-31, sliding(in month): 12, test: 4\n",
      "[dp] track/sliding/test window size: 50087, 50087, 16595\n",
      "[dp] training size: 50087\n",
      "[dp] prediction - data shape: (67135, 17), period: 1999-06-01 ~ 2000-09-29, sliding(in month): 12, test: 4\n",
      "[dp] track/sliding/test window size: 49085, 49085, 18050\n",
      "[dp] training size: 49085\n",
      "[dp] prediction - data shape: (62933, 17), period: 1999-10-01 ~ 2001-01-31, sliding(in month): 12, test: 4\n",
      "[dp] track/sliding/test window size: 48366, 48366, 14567\n",
      "[dp] training size: 48366\n",
      "[dp] prediction - data shape: (63475, 17), period: 2000-02-01 ~ 2001-05-31, sliding(in month): 12, test: 4\n",
      "[dp] track/sliding/test window size: 48442, 48442, 15033\n",
      "[dp] training size: 48442\n",
      "[dp] prediction - data shape: (64515, 17), period: 2000-06-01 ~ 2001-09-28, sliding(in month): 12, test: 4\n",
      "[dp] track/sliding/test window size: 46054, 46054, 18461\n",
      "[dp] training size: 46054\n",
      "[dp] validation - data shape: (109520, 17), sliding(in month): 4, period: 1999-10-01 ~ 2002-01-31\n",
      "[dp] track/sliding/test window size: 95601, 14491, 13919\n",
      "[dp] walk-forward train:(14491,), test:(13919,), scope:0 ~ 28409\n",
      "[dp] walk-forward train:(14491,), test:(13919,), scope:13919 ~ 42328\n",
      "[dp] walk-forward train:(14491,), test:(13919,), scope:27838 ~ 56247\n",
      "[dp] walk-forward train:(14491,), test:(13919,), scope:41757 ~ 70166\n",
      "[dp] walk-forward train:(14491,), test:(13919,), scope:55676 ~ 84085\n",
      "[dp] training size: 95601\n"
     ]
    },
    {
     "name": "stdout",
     "output_type": "stream",
     "text": [
      "Fitting 5 folds for each of 1 candidates, totalling 5 fits\n"
     ]
    },
    {
     "name": "stderr",
     "output_type": "stream",
     "text": [
      "[Parallel(n_jobs=-1)]: Done   5 out of   5 | elapsed:    7.1s finished\n",
      "[dp] validation - sliding(in month):4, score: -9546016951.803679\n",
      "[dp] validation - data shape: (109520, 17), sliding(in month): 8, period: 1999-10-01 ~ 2002-01-31\n",
      "[dp] track/sliding/test window size: 95601, 31086, 13919\n",
      "[dp] walk-forward train:(31086,), test:(13919,), scope:0 ~ 45004\n",
      "[dp] walk-forward train:(31086,), test:(13919,), scope:13919 ~ 58923\n",
      "[dp] walk-forward train:(31086,), test:(13919,), scope:27838 ~ 72842\n",
      "[dp] walk-forward train:(31086,), test:(13919,), scope:41757 ~ 86761\n",
      "[dp] training size: 95601\n"
     ]
    },
    {
     "name": "stdout",
     "output_type": "stream",
     "text": [
      "Fitting 4 folds for each of 1 candidates, totalling 4 fits\n"
     ]
    },
    {
     "name": "stderr",
     "output_type": "stream",
     "text": [
      "[Parallel(n_jobs=-1)]: Done   2 out of   4 | elapsed:    9.9s remaining:    9.9s\n",
      "[Parallel(n_jobs=-1)]: Done   4 out of   4 | elapsed:   10.5s finished\n",
      "[dp] validation - sliding(in month):8, score: -8938408887.659948\n",
      "[dp] validation - data shape: (109520, 17), sliding(in month): 12, period: 1999-10-01 ~ 2002-01-31\n",
      "[dp] track/sliding/test window size: 95601, 48366, 13919\n",
      "[dp] walk-forward train:(48366,), test:(13919,), scope:0 ~ 62284\n",
      "[dp] walk-forward train:(48366,), test:(13919,), scope:13919 ~ 76203\n",
      "[dp] walk-forward train:(48366,), test:(13919,), scope:27838 ~ 90122\n",
      "[dp] training size: 95601\n"
     ]
    },
    {
     "name": "stdout",
     "output_type": "stream",
     "text": [
      "Fitting 3 folds for each of 1 candidates, totalling 3 fits\n"
     ]
    },
    {
     "name": "stderr",
     "output_type": "stream",
     "text": [
      "[Parallel(n_jobs=-1)]: Done   3 out of   3 | elapsed:   11.0s finished\n",
      "[dp] validation - sliding(in month):12, score: -8792793604.335726\n",
      "[dp] prediction - data shape: (61154, 17), period: 2000-10-02 ~ 2002-01-31, sliding(in month): 12, test: 4\n",
      "[dp] track/sliding/test window size: 47235, 47235, 13919\n",
      "[dp] training size: 47235\n",
      "[dp] prediction - data shape: (64787, 17), period: 2001-02-01 ~ 2002-05-31, sliding(in month): 12, test: 4\n",
      "[dp] track/sliding/test window size: 46587, 46587, 18200\n",
      "[dp] training size: 46587\n",
      "[dp] prediction - data shape: (68227, 17), period: 2001-06-01 ~ 2002-09-30, sliding(in month): 12, test: 4\n",
      "[dp] track/sliding/test window size: 49176, 49176, 19051\n",
      "[dp] training size: 49176\n",
      "[dp] prediction - data shape: (66181, 17), period: 2001-10-01 ~ 2003-01-31, sliding(in month): 12, test: 4\n",
      "[dp] track/sliding/test window size: 50592, 50592, 15589\n",
      "[dp] training size: 50592\n",
      "[dp] prediction - data shape: (68981, 17), period: 2002-02-01 ~ 2003-05-30, sliding(in month): 12, test: 4\n",
      "[dp] track/sliding/test window size: 51870, 51870, 17111\n",
      "[dp] training size: 51870\n",
      "[dp] prediction - data shape: (71436, 17), period: 2002-06-03 ~ 2003-09-30, sliding(in month): 12, test: 4\n",
      "[dp] track/sliding/test window size: 50781, 50781, 20655\n",
      "[dp] training size: 50781\n",
      "[dp] validation - data shape: (120805, 17), sliding(in month): 4, period: 2001-10-01 ~ 2004-01-30\n",
      "[dp] track/sliding/test window size: 103555, 13919, 17250\n",
      "[dp] walk-forward train:(13919,), test:(17250,), scope:0 ~ 31168\n",
      "[dp] walk-forward train:(13919,), test:(17250,), scope:17250 ~ 48418\n",
      "[dp] walk-forward train:(13919,), test:(17250,), scope:34500 ~ 65668\n",
      "[dp] walk-forward train:(13919,), test:(17250,), scope:51750 ~ 82918\n",
      "[dp] walk-forward train:(13919,), test:(17250,), scope:69000 ~ 100168\n",
      "[dp] training size: 103555\n"
     ]
    },
    {
     "name": "stdout",
     "output_type": "stream",
     "text": [
      "Fitting 5 folds for each of 1 candidates, totalling 5 fits\n"
     ]
    },
    {
     "name": "stderr",
     "output_type": "stream",
     "text": [
      "[Parallel(n_jobs=-1)]: Done   5 out of   5 | elapsed:    6.6s finished\n",
      "[dp] validation - sliding(in month):4, score: -9996528764.866741\n",
      "[dp] validation - data shape: (120805, 17), sliding(in month): 8, period: 2001-10-01 ~ 2004-01-30\n",
      "[dp] track/sliding/test window size: 103555, 32119, 17250\n",
      "[dp] walk-forward train:(32119,), test:(17250,), scope:0 ~ 49368\n",
      "[dp] walk-forward train:(32119,), test:(17250,), scope:17250 ~ 66618\n",
      "[dp] walk-forward train:(32119,), test:(17250,), scope:34500 ~ 83868\n",
      "[dp] walk-forward train:(32119,), test:(17250,), scope:51750 ~ 101118\n",
      "[dp] training size: 103555\n"
     ]
    },
    {
     "name": "stdout",
     "output_type": "stream",
     "text": [
      "Fitting 4 folds for each of 1 candidates, totalling 4 fits\n"
     ]
    },
    {
     "name": "stderr",
     "output_type": "stream",
     "text": [
      "[Parallel(n_jobs=-1)]: Done   2 out of   4 | elapsed:    8.7s remaining:    8.7s\n",
      "[Parallel(n_jobs=-1)]: Done   4 out of   4 | elapsed:    9.5s finished\n",
      "[dp] validation - sliding(in month):8, score: -9736793040.225136\n",
      "[dp] validation - data shape: (120805, 17), sliding(in month): 12, period: 2001-10-01 ~ 2004-01-30\n",
      "[dp] track/sliding/test window size: 103555, 50592, 17250\n",
      "[dp] walk-forward train:(50592,), test:(17250,), scope:0 ~ 67841\n",
      "[dp] walk-forward train:(50592,), test:(17250,), scope:17250 ~ 85091\n",
      "[dp] walk-forward train:(50592,), test:(17250,), scope:34500 ~ 102341\n",
      "[dp] training size: 103555\n"
     ]
    },
    {
     "name": "stdout",
     "output_type": "stream",
     "text": [
      "Fitting 3 folds for each of 1 candidates, totalling 3 fits\n"
     ]
    },
    {
     "name": "stderr",
     "output_type": "stream",
     "text": [
      "[Parallel(n_jobs=-1)]: Done   3 out of   3 | elapsed:   10.8s finished\n",
      "[dp] validation - sliding(in month):12, score: -10142714967.258253\n",
      "[dp] prediction - data shape: (54624, 17), period: 2003-02-03 ~ 2004-01-30, sliding(in month): 8, test: 4\n",
      "[dp] track/sliding/test window size: 37374, 37374, 17250\n",
      "[dp] training size: 37374\n",
      "[dp] prediction - data shape: (55644, 17), period: 2003-06-02 ~ 2004-05-28, sliding(in month): 8, test: 4\n",
      "[dp] track/sliding/test window size: 37328, 37328, 18316\n",
      "[dp] training size: 37328\n",
      "[dp] prediction - data shape: (51929, 17), period: 2003-10-01 ~ 2004-09-30, sliding(in month): 8, test: 4\n",
      "[dp] track/sliding/test window size: 34989, 34989, 16940\n",
      "[dp] training size: 34989\n",
      "[dp] prediction - data shape: (47491, 17), period: 2004-02-02 ~ 2005-01-31, sliding(in month): 8, test: 4\n",
      "[dp] track/sliding/test window size: 34679, 34679, 12812\n",
      "[dp] training size: 34679\n",
      "[dp] prediction - data shape: (42836, 17), period: 2004-06-01 ~ 2005-05-31, sliding(in month): 8, test: 4\n",
      "[dp] track/sliding/test window size: 29752, 29752, 13084\n",
      "[dp] training size: 29752\n",
      "[dp] prediction - data shape: (39269, 17), period: 2004-10-01 ~ 2005-09-30, sliding(in month): 8, test: 4\n",
      "[dp] track/sliding/test window size: 25624, 25624, 13645\n",
      "[dp] training size: 25624\n",
      "[dp] validation - data shape: (101218, 17), sliding(in month): 4, period: 2003-10-01 ~ 2006-01-31\n",
      "[dp] track/sliding/test window size: 91198, 17250, 10020\n",
      "[dp] walk-forward train:(17250,), test:(10020,), scope:0 ~ 27269\n",
      "[dp] walk-forward train:(17250,), test:(10020,), scope:10020 ~ 37289\n",
      "[dp] walk-forward train:(17250,), test:(10020,), scope:20040 ~ 47309\n",
      "[dp] walk-forward train:(17250,), test:(10020,), scope:30060 ~ 57329\n",
      "[dp] walk-forward train:(17250,), test:(10020,), scope:40080 ~ 67349\n",
      "[dp] walk-forward train:(17250,), test:(10020,), scope:50100 ~ 77369\n",
      "[dp] walk-forward train:(17250,), test:(10020,), scope:60120 ~ 87389\n",
      "[dp] training size: 91198\n"
     ]
    },
    {
     "name": "stdout",
     "output_type": "stream",
     "text": [
      "Fitting 7 folds for each of 1 candidates, totalling 7 fits\n"
     ]
    },
    {
     "name": "stderr",
     "output_type": "stream",
     "text": [
      "[Parallel(n_jobs=-1)]: Done   7 out of   7 | elapsed:    8.7s finished\n",
      "[dp] validation - sliding(in month):4, score: -13656367593.732706\n",
      "[dp] validation - data shape: (101218, 17), sliding(in month): 8, period: 2003-10-01 ~ 2006-01-31\n",
      "[dp] track/sliding/test window size: 91198, 34989, 10020\n",
      "[dp] walk-forward train:(34989,), test:(10020,), scope:0 ~ 45008\n",
      "[dp] walk-forward train:(34989,), test:(10020,), scope:10020 ~ 55028\n",
      "[dp] walk-forward train:(34989,), test:(10020,), scope:20040 ~ 65048\n",
      "[dp] walk-forward train:(34989,), test:(10020,), scope:30060 ~ 75068\n",
      "[dp] walk-forward train:(34989,), test:(10020,), scope:40080 ~ 85088\n",
      "[dp] training size: 91198\n"
     ]
    },
    {
     "name": "stdout",
     "output_type": "stream",
     "text": [
      "Fitting 5 folds for each of 1 candidates, totalling 5 fits\n"
     ]
    },
    {
     "name": "stderr",
     "output_type": "stream",
     "text": [
      "[Parallel(n_jobs=-1)]: Done   5 out of   5 | elapsed:   11.7s finished\n",
      "[dp] validation - sliding(in month):8, score: -13503173184.141243\n",
      "[dp] validation - data shape: (101218, 17), sliding(in month): 12, period: 2003-10-01 ~ 2006-01-31\n",
      "[dp] track/sliding/test window size: 91198, 51929, 10020\n",
      "[dp] walk-forward train:(51929,), test:(10020,), scope:0 ~ 61948\n",
      "[dp] walk-forward train:(51929,), test:(10020,), scope:10020 ~ 71968\n",
      "[dp] walk-forward train:(51929,), test:(10020,), scope:20040 ~ 81988\n",
      "[dp] training size: 91198\n"
     ]
    },
    {
     "name": "stdout",
     "output_type": "stream",
     "text": [
      "Fitting 3 folds for each of 1 candidates, totalling 3 fits\n"
     ]
    },
    {
     "name": "stderr",
     "output_type": "stream",
     "text": [
      "[Parallel(n_jobs=-1)]: Done   3 out of   3 | elapsed:   10.8s finished\n",
      "[dp] validation - sliding(in month):12, score: -13859096295.489223\n",
      "[dp] prediction - data shape: (36477, 17), period: 2005-02-01 ~ 2006-01-31, sliding(in month): 8, test: 4\n",
      "[dp] track/sliding/test window size: 26457, 26457, 10020\n",
      "[dp] training size: 26457\n",
      "[dp] prediction - data shape: (33179, 17), period: 2005-06-01 ~ 2006-05-31, sliding(in month): 8, test: 4\n",
      "[dp] track/sliding/test window size: 23393, 23393, 9786\n",
      "[dp] training size: 23393\n",
      "[dp] prediction - data shape: (29169, 17), period: 2005-10-03 ~ 2006-09-29, sliding(in month): 8, test: 4\n",
      "[dp] track/sliding/test window size: 19385, 19385, 9784\n",
      "[dp] training size: 19385\n",
      "[dp] prediction - data shape: (28011, 17), period: 2006-02-01 ~ 2007-01-31, sliding(in month): 8, test: 4\n",
      "[dp] track/sliding/test window size: 19149, 19149, 8862\n",
      "[dp] training size: 19149\n",
      "[dp] prediction - data shape: (27188, 17), period: 2006-06-01 ~ 2007-05-31, sliding(in month): 8, test: 4\n",
      "[dp] track/sliding/test window size: 18225, 18225, 8963\n",
      "[dp] training size: 18225\n",
      "[dp] prediction - data shape: (26242, 17), period: 2006-10-02 ~ 2007-09-28, sliding(in month): 8, test: 4\n",
      "[dp] track/sliding/test window size: 17343, 17343, 8899\n",
      "[dp] training size: 17343\n",
      "[dp] validation - data shape: (61747, 17), sliding(in month): 4, period: 2005-10-03 ~ 2008-01-31\n",
      "[dp] track/sliding/test window size: 55411, 10156, 6336\n",
      "[dp] walk-forward train:(10156,), test:(6336,), scope:0 ~ 16491\n",
      "[dp] walk-forward train:(10156,), test:(6336,), scope:6336 ~ 22827\n",
      "[dp] walk-forward train:(10156,), test:(6336,), scope:12672 ~ 29163\n",
      "[dp] walk-forward train:(10156,), test:(6336,), scope:19008 ~ 35499\n",
      "[dp] walk-forward train:(10156,), test:(6336,), scope:25344 ~ 41835\n",
      "[dp] walk-forward train:(10156,), test:(6336,), scope:31680 ~ 48171\n",
      "[dp] walk-forward train:(10156,), test:(6336,), scope:38016 ~ 54507\n",
      "[dp] training size: 55411\n"
     ]
    },
    {
     "name": "stdout",
     "output_type": "stream",
     "text": [
      "Fitting 7 folds for each of 1 candidates, totalling 7 fits\n"
     ]
    },
    {
     "name": "stderr",
     "output_type": "stream",
     "text": [
      "[Parallel(n_jobs=-1)]: Done   7 out of   7 | elapsed:    6.6s finished\n",
      "[dp] validation - sliding(in month):4, score: -11667476404.507235\n",
      "[dp] validation - data shape: (61747, 17), sliding(in month): 8, period: 2005-10-03 ~ 2008-01-31\n",
      "[dp] track/sliding/test window size: 55411, 20055, 6336\n",
      "[dp] walk-forward train:(20055,), test:(6336,), scope:0 ~ 26390\n",
      "[dp] walk-forward train:(20055,), test:(6336,), scope:6336 ~ 32726\n",
      "[dp] walk-forward train:(20055,), test:(6336,), scope:12672 ~ 39062\n",
      "[dp] walk-forward train:(20055,), test:(6336,), scope:19008 ~ 45398\n",
      "[dp] walk-forward train:(20055,), test:(6336,), scope:25344 ~ 51734\n",
      "[dp] training size: 55411\n"
     ]
    },
    {
     "name": "stdout",
     "output_type": "stream",
     "text": [
      "Fitting 5 folds for each of 1 candidates, totalling 5 fits\n"
     ]
    },
    {
     "name": "stderr",
     "output_type": "stream",
     "text": [
      "[Parallel(n_jobs=-1)]: Done   5 out of   5 | elapsed:    7.6s finished\n",
      "[dp] validation - sliding(in month):8, score: -11327140108.266266\n",
      "[dp] validation - data shape: (61747, 17), sliding(in month): 12, period: 2005-10-03 ~ 2008-01-31\n",
      "[dp] track/sliding/test window size: 55411, 29253, 6336\n",
      "[dp] walk-forward train:(29253,), test:(6336,), scope:0 ~ 35588\n",
      "[dp] walk-forward train:(29253,), test:(6336,), scope:6336 ~ 41924\n",
      "[dp] walk-forward train:(29253,), test:(6336,), scope:12672 ~ 48260\n",
      "[dp] walk-forward train:(29253,), test:(6336,), scope:19008 ~ 54596\n",
      "[dp] training size: 55411\n"
     ]
    },
    {
     "name": "stdout",
     "output_type": "stream",
     "text": [
      "Fitting 4 folds for each of 1 candidates, totalling 4 fits\n"
     ]
    },
    {
     "name": "stderr",
     "output_type": "stream",
     "text": [
      "[Parallel(n_jobs=-1)]: Done   2 out of   4 | elapsed:    7.7s remaining:    7.7s\n",
      "[Parallel(n_jobs=-1)]: Done   4 out of   4 | elapsed:    8.6s finished\n",
      "[dp] validation - sliding(in month):12, score: -11503556688.7181\n",
      "[dp] prediction - data shape: (23716, 17), period: 2007-02-01 ~ 2008-01-31, sliding(in month): 8, test: 4\n",
      "[dp] track/sliding/test window size: 17380, 17380, 6336\n",
      "[dp] training size: 17380\n",
      "[dp] prediction - data shape: (22845, 17), period: 2007-06-01 ~ 2008-05-30, sliding(in month): 8, test: 4\n",
      "[dp] track/sliding/test window size: 14620, 14620, 8225\n",
      "[dp] training size: 14620\n",
      "[dp] prediction - data shape: (25489, 17), period: 2007-10-01 ~ 2008-09-30, sliding(in month): 8, test: 4\n",
      "[dp] track/sliding/test window size: 14428, 14428, 11061\n",
      "[dp] training size: 14428\n",
      "[dp] prediction - data shape: (29724, 17), period: 2008-02-01 ~ 2009-01-30, sliding(in month): 8, test: 4\n",
      "[dp] track/sliding/test window size: 19153, 19153, 10571\n",
      "[dp] training size: 19153\n",
      "[dp] prediction - data shape: (32170, 17), period: 2008-06-02 ~ 2009-05-29, sliding(in month): 8, test: 4\n",
      "[dp] track/sliding/test window size: 21369, 21369, 10801\n",
      "[dp] training size: 21369\n",
      "[dp] prediction - data shape: (33598, 17), period: 2008-10-01 ~ 2009-09-30, sliding(in month): 8, test: 4\n",
      "[dp] track/sliding/test window size: 21109, 21109, 12489\n",
      "[dp] training size: 21109\n",
      "[dp] validation - data shape: (70284, 17), sliding(in month): 4, period: 2007-10-01 ~ 2010-01-29\n",
      "[dp] track/sliding/test window size: 58715, 6336, 11569\n",
      "[dp] walk-forward train:(6336,), test:(11569,), scope:0 ~ 17904\n",
      "[dp] walk-forward train:(6336,), test:(11569,), scope:11569 ~ 29473\n",
      "[dp] walk-forward train:(6336,), test:(11569,), scope:23138 ~ 41042\n",
      "[dp] walk-forward train:(6336,), test:(11569,), scope:34707 ~ 52611\n",
      "[dp] training size: 58715\n"
     ]
    },
    {
     "name": "stdout",
     "output_type": "stream",
     "text": [
      "Fitting 4 folds for each of 1 candidates, totalling 4 fits\n"
     ]
    },
    {
     "name": "stderr",
     "output_type": "stream",
     "text": [
      "[Parallel(n_jobs=-1)]: Done   2 out of   4 | elapsed:    3.3s remaining:    3.3s\n",
      "[Parallel(n_jobs=-1)]: Done   4 out of   4 | elapsed:    5.0s finished\n",
      "[dp] validation - sliding(in month):4, score: -8392593482.721354\n",
      "[dp] validation - data shape: (70284, 17), sliding(in month): 8, period: 2007-10-01 ~ 2010-01-29\n",
      "[dp] track/sliding/test window size: 58715, 14428, 11569\n",
      "[dp] walk-forward train:(14428,), test:(11569,), scope:0 ~ 25996\n",
      "[dp] walk-forward train:(14428,), test:(11569,), scope:11569 ~ 37565\n",
      "[dp] walk-forward train:(14428,), test:(11569,), scope:23138 ~ 49134\n",
      "[dp] training size: 58715\n"
     ]
    },
    {
     "name": "stdout",
     "output_type": "stream",
     "text": [
      "Fitting 3 folds for each of 1 candidates, totalling 3 fits\n"
     ]
    },
    {
     "name": "stderr",
     "output_type": "stream",
     "text": [
      "[Parallel(n_jobs=-1)]: Done   3 out of   3 | elapsed:    4.8s finished\n",
      "[dp] validation - sliding(in month):8, score: -7957208188.423142\n",
      "[dp] validation - data shape: (70284, 17), sliding(in month): 12, period: 2007-10-01 ~ 2010-01-29\n",
      "[dp] track/sliding/test window size: 58715, 25489, 11569\n",
      "[dp] walk-forward train:(25489,), test:(11569,), scope:0 ~ 37057\n",
      "[dp] walk-forward train:(25489,), test:(11569,), scope:11569 ~ 48626\n",
      "[dp] training size: 58715\n"
     ]
    },
    {
     "name": "stdout",
     "output_type": "stream",
     "text": [
      "Fitting 2 folds for each of 1 candidates, totalling 2 fits\n"
     ]
    },
    {
     "name": "stderr",
     "output_type": "stream",
     "text": [
      "[Parallel(n_jobs=-1)]: Done   2 out of   2 | elapsed:    4.9s finished\n",
      "[dp] validation - sliding(in month):12, score: -8037776866.888703\n",
      "[dp] prediction - data shape: (34224, 17), period: 2009-02-02 ~ 2010-01-29, sliding(in month): 8, test: 4\n",
      "[dp] track/sliding/test window size: 22655, 22655, 11569\n",
      "[dp] training size: 22655\n",
      "[dp] prediction - data shape: (34894, 17), period: 2009-06-01 ~ 2010-05-28, sliding(in month): 8, test: 4\n",
      "[dp] track/sliding/test window size: 23402, 23402, 11492\n",
      "[dp] training size: 23402\n",
      "[dp] prediction - data shape: (33684, 17), period: 2009-10-01 ~ 2010-09-30, sliding(in month): 8, test: 4\n",
      "[dp] track/sliding/test window size: 22405, 22405, 11279\n",
      "[dp] training size: 22405\n",
      "[dp] prediction - data shape: (31857, 17), period: 2010-02-01 ~ 2011-01-31, sliding(in month): 8, test: 4\n",
      "[dp] track/sliding/test window size: 22487, 22487, 9370\n",
      "[dp] training size: 22487\n",
      "[dp] prediction - data shape: (30802, 17), period: 2010-06-01 ~ 2011-05-31, sliding(in month): 8, test: 4\n",
      "[dp] track/sliding/test window size: 20649, 20649, 10153\n",
      "[dp] training size: 20649\n",
      "[dp] prediction - data shape: (30523, 17), period: 2010-10-01 ~ 2011-09-30, sliding(in month): 8, test: 4\n",
      "[dp] track/sliding/test window size: 19348, 19348, 11175\n",
      "[dp] training size: 19348\n",
      "[dp] validation - data shape: (73861, 17), sliding(in month): 4, period: 2009-10-01 ~ 2012-01-31\n",
      "[dp] track/sliding/test window size: 64207, 11197, 9654\n",
      "[dp] walk-forward train:(11197,), test:(9654,), scope:0 ~ 20850\n",
      "[dp] walk-forward train:(11197,), test:(9654,), scope:9654 ~ 30504\n",
      "[dp] walk-forward train:(11197,), test:(9654,), scope:19308 ~ 40158\n",
      "[dp] walk-forward train:(11197,), test:(9654,), scope:28962 ~ 49812\n",
      "[dp] walk-forward train:(11197,), test:(9654,), scope:38616 ~ 59466\n",
      "[dp] training size: 64207\n"
     ]
    },
    {
     "name": "stdout",
     "output_type": "stream",
     "text": [
      "Fitting 5 folds for each of 1 candidates, totalling 5 fits\n"
     ]
    },
    {
     "name": "stderr",
     "output_type": "stream",
     "text": [
      "[Parallel(n_jobs=-1)]: Done   5 out of   5 | elapsed:    6.0s finished\n",
      "[dp] validation - sliding(in month):4, score: -7600618890.647798\n",
      "[dp] validation - data shape: (73861, 17), sliding(in month): 8, period: 2009-10-01 ~ 2012-01-31\n",
      "[dp] track/sliding/test window size: 64207, 22405, 9654\n",
      "[dp] walk-forward train:(22405,), test:(9654,), scope:0 ~ 32058\n",
      "[dp] walk-forward train:(22405,), test:(9654,), scope:9654 ~ 41712\n",
      "[dp] walk-forward train:(22405,), test:(9654,), scope:19308 ~ 51366\n",
      "[dp] walk-forward train:(22405,), test:(9654,), scope:28962 ~ 61020\n",
      "[dp] training size: 64207\n"
     ]
    },
    {
     "name": "stdout",
     "output_type": "stream",
     "text": [
      "Fitting 4 folds for each of 1 candidates, totalling 4 fits\n"
     ]
    },
    {
     "name": "stderr",
     "output_type": "stream",
     "text": [
      "[Parallel(n_jobs=-1)]: Done   2 out of   4 | elapsed:    6.8s remaining:    6.8s\n",
      "[Parallel(n_jobs=-1)]: Done   4 out of   4 | elapsed:    7.7s finished\n",
      "[dp] validation - sliding(in month):8, score: -7645745419.4956\n",
      "[dp] validation - data shape: (73861, 17), sliding(in month): 12, period: 2009-10-01 ~ 2012-01-31\n",
      "[dp] track/sliding/test window size: 64207, 33684, 9654\n",
      "[dp] walk-forward train:(33684,), test:(9654,), scope:0 ~ 43337\n",
      "[dp] walk-forward train:(33684,), test:(9654,), scope:9654 ~ 52991\n",
      "[dp] walk-forward train:(33684,), test:(9654,), scope:19308 ~ 62645\n",
      "[dp] training size: 64207\n"
     ]
    },
    {
     "name": "stdout",
     "output_type": "stream",
     "text": [
      "Fitting 3 folds for each of 1 candidates, totalling 3 fits\n"
     ]
    },
    {
     "name": "stderr",
     "output_type": "stream",
     "text": [
      "[Parallel(n_jobs=-1)]: Done   3 out of   3 | elapsed:    7.9s finished\n",
      "[dp] validation - sliding(in month):12, score: -7927590134.46018\n",
      "[dp] prediction - data shape: (20654, 17), period: 2011-06-01 ~ 2012-01-31, sliding(in month): 4, test: 4\n",
      "[dp] track/sliding/test window size: 11000, 11000, 9654\n",
      "[dp] training size: 11000\n",
      "[dp] prediction - data shape: (20895, 17), period: 2011-10-03 ~ 2012-05-31, sliding(in month): 4, test: 4\n",
      "[dp] track/sliding/test window size: 9654, 9654, 11241\n",
      "[dp] training size: 9654\n",
      "[dp] prediction - data shape: (23719, 17), period: 2012-02-01 ~ 2012-09-28, sliding(in month): 4, test: 4\n",
      "[dp] track/sliding/test window size: 10629, 10629, 13090\n",
      "[dp] training size: 10629\n",
      "[dp] prediction - data shape: (23901, 17), period: 2012-06-01 ~ 2013-01-31, sliding(in month): 4, test: 4\n",
      "[dp] track/sliding/test window size: 12478, 12478, 11423\n",
      "[dp] training size: 12478\n",
      "[dp] prediction - data shape: (23557, 17), period: 2012-10-01 ~ 2013-05-31, sliding(in month): 4, test: 4\n",
      "[dp] track/sliding/test window size: 11423, 11423, 12134\n",
      "[dp] training size: 11423\n",
      "[dp] prediction - data shape: (24778, 17), period: 2013-02-01 ~ 2013-09-30, sliding(in month): 4, test: 4\n",
      "[dp] track/sliding/test window size: 11846, 11846, 12932\n",
      "[dp] training size: 11846\n",
      "[dp] validation - data shape: (79066, 17), sliding(in month): 4, period: 2011-10-03 ~ 2014-01-31\n",
      "[dp] track/sliding/test window size: 69574, 9795, 9492\n",
      "[dp] walk-forward train:(9795,), test:(9492,), scope:0 ~ 19286\n",
      "[dp] walk-forward train:(9795,), test:(9492,), scope:9492 ~ 28778\n",
      "[dp] walk-forward train:(9795,), test:(9492,), scope:18984 ~ 38270\n",
      "[dp] walk-forward train:(9795,), test:(9492,), scope:28476 ~ 47762\n",
      "[dp] walk-forward train:(9795,), test:(9492,), scope:37968 ~ 57254\n",
      "[dp] walk-forward train:(9795,), test:(9492,), scope:47460 ~ 66746\n",
      "[dp] training size: 69574\n"
     ]
    },
    {
     "name": "stdout",
     "output_type": "stream",
     "text": [
      "Fitting 6 folds for each of 1 candidates, totalling 6 fits\n"
     ]
    },
    {
     "name": "stderr",
     "output_type": "stream",
     "text": [
      "[Parallel(n_jobs=-1)]: Done   6 out of   6 | elapsed:    6.4s remaining:    0.0s\n",
      "[Parallel(n_jobs=-1)]: Done   6 out of   6 | elapsed:    6.4s finished\n",
      "[dp] validation - sliding(in month):4, score: -8964666900.81459\n",
      "[dp] validation - data shape: (79066, 17), sliding(in month): 8, period: 2011-10-03 ~ 2014-01-31\n",
      "[dp] track/sliding/test window size: 69574, 21086, 9492\n",
      "[dp] walk-forward train:(21086,), test:(9492,), scope:0 ~ 30577\n",
      "[dp] walk-forward train:(21086,), test:(9492,), scope:9492 ~ 40069\n",
      "[dp] walk-forward train:(21086,), test:(9492,), scope:18984 ~ 49561\n",
      "[dp] walk-forward train:(21086,), test:(9492,), scope:28476 ~ 59053\n",
      "[dp] walk-forward train:(21086,), test:(9492,), scope:37968 ~ 68545\n",
      "[dp] training size: 69574\n"
     ]
    },
    {
     "name": "stdout",
     "output_type": "stream",
     "text": [
      "Fitting 5 folds for each of 1 candidates, totalling 5 fits\n"
     ]
    },
    {
     "name": "stderr",
     "output_type": "stream",
     "text": [
      "[Parallel(n_jobs=-1)]: Done   5 out of   5 | elapsed:    8.2s finished\n",
      "[dp] validation - sliding(in month):8, score: -8733028270.442951\n",
      "[dp] validation - data shape: (79066, 17), sliding(in month): 12, period: 2011-10-03 ~ 2014-01-31\n",
      "[dp] track/sliding/test window size: 69574, 33580, 9492\n",
      "[dp] walk-forward train:(33580,), test:(9492,), scope:0 ~ 43071\n",
      "[dp] walk-forward train:(33580,), test:(9492,), scope:9492 ~ 52563\n",
      "[dp] walk-forward train:(33580,), test:(9492,), scope:18984 ~ 62055\n",
      "[dp] training size: 69574\n"
     ]
    },
    {
     "name": "stdout",
     "output_type": "stream",
     "text": [
      "Fitting 3 folds for each of 1 candidates, totalling 3 fits\n"
     ]
    },
    {
     "name": "stderr",
     "output_type": "stream",
     "text": [
      "[Parallel(n_jobs=-1)]: Done   3 out of   3 | elapsed:    8.0s finished\n",
      "[dp] validation - sliding(in month):12, score: -8935996169.673128\n",
      "[dp] prediction - data shape: (34270, 17), period: 2013-02-01 ~ 2014-01-31, sliding(in month): 8, test: 4\n",
      "[dp] track/sliding/test window size: 24778, 24778, 9492\n",
      "[dp] training size: 24778\n",
      "[dp] prediction - data shape: (31805, 17), period: 2013-06-03 ~ 2014-05-30, sliding(in month): 8, test: 4\n",
      "[dp] track/sliding/test window size: 21952, 21952, 9853\n",
      "[dp] training size: 21952\n",
      "[dp] prediction - data shape: (29379, 17), period: 2013-10-01 ~ 2014-09-30, sliding(in month): 8, test: 4\n",
      "[dp] track/sliding/test window size: 19161, 19161, 10218\n",
      "[dp] training size: 19161\n",
      "[dp] prediction - data shape: (26025, 17), period: 2014-02-03 ~ 2015-01-30, sliding(in month): 8, test: 4\n",
      "[dp] track/sliding/test window size: 19887, 19887, 6138\n",
      "[dp] training size: 19887\n",
      "[dp] prediction - data shape: (26651, 17), period: 2014-06-02 ~ 2015-05-29, sliding(in month): 8, test: 4\n",
      "[dp] track/sliding/test window size: 16198, 16198, 10453\n",
      "[dp] training size: 16198\n",
      "[dp] prediction - data shape: (27886, 17), period: 2014-10-01 ~ 2015-09-30, sliding(in month): 8, test: 4\n",
      "[dp] track/sliding/test window size: 16433, 16433, 11453\n",
      "[dp] training size: 16433\n",
      "[dp] validation - data shape: (65557, 17), sliding(in month): 4, period: 2013-10-01 ~ 2016-01-29\n",
      "[dp] track/sliding/test window size: 57074, 9492, 8483\n",
      "[dp] walk-forward train:(9492,), test:(8483,), scope:0 ~ 17974\n",
      "[dp] walk-forward train:(9492,), test:(8483,), scope:8483 ~ 26457\n",
      "[dp] walk-forward train:(9492,), test:(8483,), scope:16966 ~ 34940\n",
      "[dp] walk-forward train:(9492,), test:(8483,), scope:25449 ~ 43423\n",
      "[dp] walk-forward train:(9492,), test:(8483,), scope:33932 ~ 51906\n",
      "[dp] training size: 57074\n"
     ]
    },
    {
     "name": "stdout",
     "output_type": "stream",
     "text": [
      "Fitting 5 folds for each of 1 candidates, totalling 5 fits\n"
     ]
    },
    {
     "name": "stderr",
     "output_type": "stream",
     "text": [
      "[Parallel(n_jobs=-1)]: Done   5 out of   5 | elapsed:    5.8s finished\n",
      "[dp] validation - sliding(in month):4, score: -7396270210.553548\n",
      "[dp] validation - data shape: (65557, 17), sliding(in month): 8, period: 2013-10-01 ~ 2016-01-29\n",
      "[dp] track/sliding/test window size: 57074, 19161, 8483\n",
      "[dp] walk-forward train:(19161,), test:(8483,), scope:0 ~ 27643\n",
      "[dp] walk-forward train:(19161,), test:(8483,), scope:8483 ~ 36126\n",
      "[dp] walk-forward train:(19161,), test:(8483,), scope:16966 ~ 44609\n",
      "[dp] walk-forward train:(19161,), test:(8483,), scope:25449 ~ 53092\n",
      "[dp] training size: 57074\n"
     ]
    },
    {
     "name": "stdout",
     "output_type": "stream",
     "text": [
      "Fitting 4 folds for each of 1 candidates, totalling 4 fits\n"
     ]
    },
    {
     "name": "stderr",
     "output_type": "stream",
     "text": [
      "[Parallel(n_jobs=-1)]: Done   2 out of   4 | elapsed:    5.8s remaining:    5.8s\n",
      "[Parallel(n_jobs=-1)]: Done   4 out of   4 | elapsed:    6.9s finished\n",
      "[dp] validation - sliding(in month):8, score: -6629349140.592743\n",
      "[dp] validation - data shape: (65557, 17), sliding(in month): 12, period: 2013-10-01 ~ 2016-01-29\n",
      "[dp] track/sliding/test window size: 57074, 29379, 8483\n",
      "[dp] walk-forward train:(29379,), test:(8483,), scope:0 ~ 37861\n",
      "[dp] walk-forward train:(29379,), test:(8483,), scope:8483 ~ 46344\n",
      "[dp] walk-forward train:(29379,), test:(8483,), scope:16966 ~ 54827\n",
      "[dp] training size: 57074\n"
     ]
    },
    {
     "name": "stdout",
     "output_type": "stream",
     "text": [
      "Fitting 3 folds for each of 1 candidates, totalling 3 fits\n"
     ]
    },
    {
     "name": "stderr",
     "output_type": "stream",
     "text": [
      "[Parallel(n_jobs=-1)]: Done   3 out of   3 | elapsed:    7.0s finished\n",
      "[dp] validation - sliding(in month):12, score: -6544756230.317308\n",
      "[dp] prediction - data shape: (36178, 17), period: 2014-10-01 ~ 2016-01-29, sliding(in month): 12, test: 4\n",
      "[dp] track/sliding/test window size: 27695, 27695, 8483\n",
      "[dp] training size: 27695\n",
      "[dp] prediction - data shape: (39557, 17), period: 2015-02-02 ~ 2016-05-31, sliding(in month): 12, test: 4\n",
      "[dp] track/sliding/test window size: 30040, 30040, 9517\n",
      "[dp] training size: 30040\n",
      "[dp] prediction - data shape: (39664, 17), period: 2015-06-01 ~ 2016-09-30, sliding(in month): 12, test: 4\n",
      "[dp] track/sliding/test window size: 29050, 29050, 10614\n",
      "[dp] training size: 29050\n",
      "[dp] prediction - data shape: (36183, 17), period: 2015-10-01 ~ 2017-01-31, sliding(in month): 12, test: 4\n",
      "[dp] track/sliding/test window size: 28211, 28211, 7972\n",
      "[dp] training size: 28211\n",
      "[dp] prediction - data shape: (35996, 17), period: 2016-02-01 ~ 2017-05-31, sliding(in month): 12, test: 4\n",
      "[dp] track/sliding/test window size: 27891, 27891, 8105\n",
      "[dp] training size: 27891\n",
      "[dp] prediction - data shape: (34473, 17), period: 2016-06-01 ~ 2017-09-27, sliding(in month): 12, test: 4\n",
      "[dp] track/sliding/test window size: 26141, 26141, 8332\n",
      "[dp] training size: 26141\n"
     ]
    },
    {
     "data": {
      "text/plain": [
       "[43525.49703139017,\n",
       " 45315.665373956865,\n",
       " 48331.61680153888,\n",
       " 51650.10113775407,\n",
       " 51694.91824763615,\n",
       " 57033.672714675165,\n",
       " 63797.658889168175,\n",
       " 59427.174031740375,\n",
       " 65001.9819437894,\n",
       " 75408.84524248615,\n",
       " 76764.75091876065,\n",
       " 72217.04885101972,\n",
       " 67444.72233791587,\n",
       " 65563.11292270105,\n",
       " 66202.27585109498,\n",
       " 78838.31790733949,\n",
       " 67235.82516150699,\n",
       " 75517.85714564122,\n",
       " 73609.5405700518,\n",
       " 72410.40896915951,\n",
       " 67605.59864710513,\n",
       " 67096.71790265787,\n",
       " 73023.85290589092,\n",
       " 71975.2956851799,\n",
       " 66929.34083783667,\n",
       " 72255.72214077087,\n",
       " 76397.85724461565,\n",
       " 64897.43541727657,\n",
       " 72992.23814031004,\n",
       " 72699.35193132756,\n",
       " 72531.98674517125,\n",
       " 75260.16394911087,\n",
       " 81552.52292001375,\n",
       " 83311.27336635615,\n",
       " 80557.54915541084,\n",
       " 81359.51576192486,\n",
       " 92061.01671211811,\n",
       " 90474.56974806818,\n",
       " 83816.42350416687,\n",
       " 85454.44332251808,\n",
       " 88113.5263657823,\n",
       " 91444.70422853265,\n",
       " 105314.75501124612,\n",
       " 99755.8803302338,\n",
       " 101803.07097539367,\n",
       " 91794.00673433318,\n",
       " 90323.46491917841,\n",
       " 90696.38531563044,\n",
       " 96461.39735720008,\n",
       " 98619.46873928267,\n",
       " 102949.41810745285,\n",
       " 102896.57572790323,\n",
       " 101810.97334099463,\n",
       " 106071.49480289817,\n",
       " 130397.75666543235,\n",
       " 131304.9415630734,\n",
       " 119882.61849133983,\n",
       " 110238.75342981884,\n",
       " 111657.28313976785,\n",
       " 107820.83967432045,\n",
       " 103943.32050814034,\n",
       " 106421.62125155567,\n",
       " 108731.08341410189,\n",
       " 110704.80670720761,\n",
       " 110811.43302081745,\n",
       " 108850.67353552164,\n",
       " 112873.67469637244,\n",
       " 89807.38348354743,\n",
       " 96554.64639069504,\n",
       " 81276.1560909985,\n",
       " 85930.86795289829,\n",
       " 79585.49331664355,\n",
       " 83752.7974392528,\n",
       " 81723.5886251901,\n",
       " 89229.25142215188,\n",
       " 89502.23680800603,\n",
       " 94259.82958099603,\n",
       " 89663.29490621635,\n",
       " 93788.24840177949,\n",
       " 89610.94982883242,\n",
       " 94647.65540576633,\n",
       " 103468.86944898289,\n",
       " 98956.68043257002,\n",
       " 92951.89744182887,\n",
       " 84558.95284914717,\n",
       " 86371.2960519105,\n",
       " 86932.9623667661,\n",
       " 82213.59088293728,\n",
       " 80428.89445245247,\n",
       " 73942.66790218875,\n",
       " 74758.02448422275,\n",
       " 68080.14543266097,\n",
       " 66628.87431579799,\n",
       " 64097.218091561095,\n",
       " 85636.16791598542]"
      ]
     },
     "execution_count": 32,
     "metadata": {},
     "output_type": "execute_result"
    }
   ],
   "source": [
    "mr_full.regress(df_all_clean, param_grid=parameters, GridSearchCV={'verbose':True, 'n_jobs':-1})"
   ]
  },
  {
   "cell_type": "code",
   "execution_count": 28,
   "metadata": {},
   "outputs": [
    {
     "name": "stderr",
     "output_type": "stream",
     "text": [
      "[dp] data range: 1985-10-01 - 2017-09-27\n",
      "[dp] sliding_windows: [4, 8, 12, 12, 12, 4, 4, 4, 4, 4, 4, 8, 8, 8, 8, 8, 8, 4, 4, 4, 4, 4, 4, 12, 12, 12, 12, 12, 12, 12, 12, 12, 12, 12, 12, 4, 4, 4, 4, 4, 4, 12, 12, 12, 12, 12, 12, 12, 12, 12, 12, 12, 12, 8, 8, 8, 8, 8, 8, 8, 8, 8, 8, 8, 8, 8, 8, 8, 8, 8, 8, 8, 8, 8, 8, 8, 8, 4, 4, 4, 4, 4, 4, 8, 8, 8, 8, 8, 8, 12, 12, 12, 12, 12, 12]\n",
      "[dp] errors: [43525.49703139017, 45315.665373956865, 48331.61680153888, 51650.10113775407, 51694.91824763615, 57033.672714675165, 63797.658889168175, 59427.174031740375, 65001.9819437894, 75408.84524248615, 76764.75091876065, 72217.04885101972, 67444.72233791587, 65563.11292270105, 66202.27585109498, 78838.31790733949, 67235.82516150699, 75517.85714564122, 73609.5405700518, 72410.40896915951, 67605.59864710513, 67096.71790265787, 73023.85290589092, 71975.2956851799, 66929.34083783667, 72255.72214077087, 76397.85724461565, 64897.43541727657, 72992.23814031004, 72699.35193132756, 72531.98674517125, 75260.16394911087, 81552.52292001375, 83311.27336635615, 80557.54915541084, 81359.51576192486, 92061.01671211811, 90474.56974806818, 83816.42350416687, 85454.44332251808, 88113.5263657823, 91444.70422853265, 105314.75501124612, 99755.8803302338, 101803.07097539367, 91794.00673433316, 90323.46491917841, 90696.38531563045, 96461.39735720008, 98619.46873928267, 102949.41810745285, 102896.57572790323, 101810.97334099462, 106071.49480289817, 130397.75666543235, 131304.94156307343, 119882.61849133983, 110238.75342981884, 111657.28313976785, 107820.83967432045, 103943.32050814034, 106421.62125155567, 108731.08341410189, 110704.80670720761, 110811.43302081745, 108850.67353552164, 112873.67469637244, 89807.38348354743, 96554.64639069505, 81276.1560909985, 85930.86795289829, 79585.49331664357, 83752.7974392528, 81723.58862519008, 89229.25142215188, 89502.23680800603, 94259.82958099603, 89663.29490621635, 93788.24840177949, 89610.94982883244, 94647.65540576633, 103468.86944898288, 98956.68043257002, 92951.89744182887, 84558.95284914717, 86371.2960519105, 86932.9623667661, 82213.59088293728, 80428.89445245247, 73942.66790218877, 74758.02448422275, 68080.14543266097, 66628.874315798, 64097.21809156109, 85636.16791598542]\n"
     ]
    },
    {
     "data": {
      "image/png": "[encoded data removed]",
      "text/plain": [
       "<matplotlib.figure.Figure at 0x2340c40f6d8>"
      ]
     },
     "metadata": {},
     "output_type": "display_data"
    }
   ],
   "source": [
    "df_sum_auto_clean = mr_full.summary()\n",
    "plot_trends(df_sum_auto_clean, ['error'], title='RMSE over time - clean data with auto sliding window')"
   ]
  },
  {
   "cell_type": "code",
   "execution_count": 29,
   "metadata": {},
   "outputs": [
    {
     "data": {
      "image/png": "[encoded data removed]",
      "text/plain": [
       "<matplotlib.figure.Figure at 0x2340c40fd68>"
      ]
     },
     "metadata": {},
     "output_type": "display_data"
    }
   ],
   "source": [
    "plot_trends(df_sum_auto_clean, ['sliding_windows'], title='sliding_window over time - clean data with auto sliding window')"
   ]
  }
 ],
 "metadata": {
  "kernelspec": {
   "display_name": "Python 3",
   "language": "python",
   "name": "python3"
  },
  "language_info": {
   "codemirror_mode": {
    "name": "ipython",
    "version": 3
   },
   "file_extension": ".py",
   "mimetype": "text/x-python",
   "name": "python",
   "nbconvert_exporter": "python",
   "pygments_lexer": "ipython3",
   "version": "3.6.4"
  }
 },
 "nbformat": 4,
 "nbformat_minor": 2
}
