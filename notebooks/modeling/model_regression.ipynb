{
 "cells": [
  {
   "cell_type": "code",
   "execution_count": 1,
   "metadata": {},
   "outputs": [],
   "source": [
    "%load_ext autoreload\n",
    "# always reload modules marked with \"%aimport\"\n",
    "%autoreload 1\n",
    "\n",
    "import os,sys\n",
    "import numpy as np\n",
    "import pandas as pd\n",
    "\n",
    "# add the 'src' directory as one where we can import modules\n",
    "src_dir = os.path.join(os.getcwd(), '../..', 'src')\n",
    "sys.path.append(src_dir)\n",
    "\n",
    "%aimport plot_utils\n",
    "from plot_utils import *\n",
    "%aimport preprocessing\n",
    "from preprocessing import *\n",
    "%aimport data_source\n",
    "from data_source import *\n",
    "%aimport model_manage\n",
    "from model_manage import *\n",
    "%aimport model_regression\n",
    "from model_regression import *\n",
    "\n",
    "import logging\n",
    "from utils import *\n",
    "set_logger(logging.DEBUG)"
   ]
  },
  {
   "cell_type": "code",
   "execution_count": 2,
   "metadata": {},
   "outputs": [],
   "source": [
    "import pandas as pd\n",
    "import numpy as np\n",
    "\n",
    "from sklearn import linear_model\n",
    "from sklearn import model_selection\n",
    "from sklearn.ensemble import RandomForestRegressor\n",
    "from sklearn.model_selection import cross_val_score\n",
    "from sklearn.ensemble import GradientBoostingRegressor\n",
    "from sklearn.pipeline import make_pipeline, Pipeline\n",
    "from sklearn.preprocessing import StandardScaler\n",
    "from sklearn.linear_model import ElasticNet"
   ]
  },
  {
   "cell_type": "code",
   "execution_count": 3,
   "metadata": {},
   "outputs": [
    {
     "name": "stderr",
     "output_type": "stream",
     "text": [
      "[dp] connect to database postgresql://postgres:@localhost:5432/sdra\n",
      "[dp] supported views: ['properties', 'property_features', 'transactions', 'property_addresses', 'property_address_transactions', 'property_transaction_valid', 'property_address_school_transactions']\n"
     ]
    }
   ],
   "source": [
    "ds = DataSource(host='localhost',port=5432, username='postgres', password='', database='sdra')\n",
    "ds.show_views()\n",
    "#ds.update_views()"
   ]
  },
  {
   "cell_type": "code",
   "execution_count": 4,
   "metadata": {},
   "outputs": [
    {
     "name": "stdout",
     "output_type": "stream",
     "text": [
      "(1475109, 25)\n",
      "(709325, 22)\n"
     ]
    }
   ],
   "source": [
    "df_transaction = ds.get_view_df('property_address_transactions')\n",
    "df_property = ds.get_view_df('property_addresses')\n",
    "print(df_transaction.shape)\n",
    "print(df_property.shape)"
   ]
  },
  {
   "cell_type": "code",
   "execution_count": 5,
   "metadata": {},
   "outputs": [],
   "source": [
    "pp = Preprocess(df_transaction, df_property, target='sold_price')"
   ]
  },
  {
   "cell_type": "code",
   "execution_count": 6,
   "metadata": {},
   "outputs": [
    {
     "data": {
      "text/plain": [
       "['date',\n",
       " 'pool',\n",
       " 'num_bed',\n",
       " 'view',\n",
       " 'num_bath',\n",
       " 'impr_over_land',\n",
       " 'sqft',\n",
       " 'sold_price_zip_avg',\n",
       " 'sqft_price_zip_avg',\n",
       " 'sqft_over_zip_avg',\n",
       " 'sqft_zip_avg',\n",
       " 'eval_zip_avg',\n",
       " 'eval_over_zip_avg',\n",
       " 'lon',\n",
       " 'lat']"
      ]
     },
     "execution_count": 6,
     "metadata": {},
     "output_type": "execute_result"
    }
   ],
   "source": [
    "use_features = pp.get_feature_list()\n",
    "school_features = ['min_elem_distance', 'min_middle_distance', 'min_high_distance',\n",
    "                   'elem_rating', 'middle_rating', 'high_rating',\n",
    "                   'avg_elem_rating', 'avg_high_rating', 'avg_middle_rating']\n",
    "use_features_base = ['date', 'pool', 'num_bed', 'view', 'num_bath', 'impr_over_land', 'sqft',\n",
    "                     'sold_price_zip_avg', 'sqft_price_zip_avg', 'sqft_over_zip_avg', 'sqft_zip_avg', 'eval_zip_avg', 'eval_over_zip_avg', \n",
    "                     'lon', 'lat', ]\n",
    "use_features_base"
   ]
  },
  {
   "cell_type": "code",
   "execution_count": 8,
   "metadata": {},
   "outputs": [
    {
     "name": "stderr",
     "output_type": "stream",
     "text": [
      "[dp] transforming date\n",
      "[dp] transforming view\n",
      "[dp] transforming pool\n",
      "[dp] transforming impr_over_land\n",
      "[dp] transforming sold_year\n",
      "[dp] transforming sold_month\n",
      "[dp] transforming sold_age\n",
      "[dp] transforming eval\n",
      "[dp] transforming eval_sqft_price\n",
      "[dp] making sqft_zip_avg\n",
      "[dp] making sqft_over_zip_avg\n",
      "[dp] making sqft_price_zip_avg\n",
      "[dp] making sold_price_zip_avg\n",
      "[dp] making eval_zip_avg\n",
      "[dp] making eval_over_zip_avg\n",
      "[dp] making sale_count_zip\n",
      "[dp] cleaning on criteria: sold_price\n",
      "[dp] cleaning on criteria: sqft_price\n",
      "[dp] cleaning on criteria: sqft\n",
      "[dp] cleaning on criteria: num_bed\n",
      "[dp] cleaning on criteria: num_bath\n",
      "[dp] cleaning on criteria: lon\n"
     ]
    },
    {
     "name": "stdout",
     "output_type": "stream",
     "text": [
      "(132409, 17)\n"
     ]
    },
    {
     "data": {
      "text/html": [
       "<div>\n",
       "<style scoped>\n",
       "    .dataframe tbody tr th:only-of-type {\n",
       "        vertical-align: middle;\n",
       "    }\n",
       "\n",
       "    .dataframe tbody tr th {\n",
       "        vertical-align: top;\n",
       "    }\n",
       "\n",
       "    .dataframe thead th {\n",
       "        text-align: right;\n",
       "    }\n",
       "</style>\n",
       "<table border=\"1\" class=\"dataframe\">\n",
       "  <thead>\n",
       "    <tr style=\"text-align: right;\">\n",
       "      <th></th>\n",
       "      <th>sqft_price_zip_avg</th>\n",
       "      <th>sold_price</th>\n",
       "      <th>pool</th>\n",
       "      <th>impr_over_land</th>\n",
       "      <th>view</th>\n",
       "      <th>id</th>\n",
       "      <th>sqft</th>\n",
       "      <th>lat</th>\n",
       "      <th>num_bed</th>\n",
       "      <th>eval_over_zip_avg</th>\n",
       "      <th>num_bath</th>\n",
       "      <th>lon</th>\n",
       "      <th>eval_zip_avg</th>\n",
       "      <th>sqft_over_zip_avg</th>\n",
       "      <th>sold_price_zip_avg</th>\n",
       "      <th>sqft_zip_avg</th>\n",
       "      <th>date</th>\n",
       "    </tr>\n",
       "  </thead>\n",
       "  <tbody>\n",
       "    <tr>\n",
       "      <th>0</th>\n",
       "      <td>509.574024</td>\n",
       "      <td>430000</td>\n",
       "      <td>0</td>\n",
       "      <td>2.071439</td>\n",
       "      <td>0</td>\n",
       "      <td>1317161</td>\n",
       "      <td>1116</td>\n",
       "      <td>32.70949</td>\n",
       "      <td>2.0</td>\n",
       "      <td>0.770870</td>\n",
       "      <td>2.0</td>\n",
       "      <td>-117.15430</td>\n",
       "      <td>611104.270065</td>\n",
       "      <td>1.028692</td>\n",
       "      <td>565455.531453</td>\n",
       "      <td>1084.872831</td>\n",
       "      <td>2013-10-01</td>\n",
       "    </tr>\n",
       "    <tr>\n",
       "      <th>123505</th>\n",
       "      <td>226.977778</td>\n",
       "      <td>212000</td>\n",
       "      <td>0</td>\n",
       "      <td>1.585380</td>\n",
       "      <td>0</td>\n",
       "      <td>1317274</td>\n",
       "      <td>916</td>\n",
       "      <td>32.73340</td>\n",
       "      <td>2.0</td>\n",
       "      <td>0.624384</td>\n",
       "      <td>2.0</td>\n",
       "      <td>-116.96029</td>\n",
       "      <td>414168.244444</td>\n",
       "      <td>0.543757</td>\n",
       "      <td>360923.333333</td>\n",
       "      <td>1684.575556</td>\n",
       "      <td>2013-10-01</td>\n",
       "    </tr>\n",
       "    <tr>\n",
       "      <th>79898</th>\n",
       "      <td>248.747210</td>\n",
       "      <td>557000</td>\n",
       "      <td>0</td>\n",
       "      <td>1.226441</td>\n",
       "      <td>0</td>\n",
       "      <td>1317211</td>\n",
       "      <td>2608</td>\n",
       "      <td>33.15760</td>\n",
       "      <td>3.0</td>\n",
       "      <td>1.189223</td>\n",
       "      <td>2.0</td>\n",
       "      <td>-117.19599</td>\n",
       "      <td>494368.200873</td>\n",
       "      <td>1.374783</td>\n",
       "      <td>450904.657933</td>\n",
       "      <td>1897.026201</td>\n",
       "      <td>2013-10-01</td>\n",
       "    </tr>\n",
       "    <tr>\n",
       "      <th>79899</th>\n",
       "      <td>248.747210</td>\n",
       "      <td>339000</td>\n",
       "      <td>0</td>\n",
       "      <td>1.600006</td>\n",
       "      <td>0</td>\n",
       "      <td>1317288</td>\n",
       "      <td>1354</td>\n",
       "      <td>33.14983</td>\n",
       "      <td>4.0</td>\n",
       "      <td>0.724288</td>\n",
       "      <td>2.0</td>\n",
       "      <td>-117.15191</td>\n",
       "      <td>494368.200873</td>\n",
       "      <td>0.713749</td>\n",
       "      <td>450904.657933</td>\n",
       "      <td>1897.026201</td>\n",
       "      <td>2013-10-01</td>\n",
       "    </tr>\n",
       "    <tr>\n",
       "      <th>39727</th>\n",
       "      <td>312.467037</td>\n",
       "      <td>595000</td>\n",
       "      <td>0</td>\n",
       "      <td>1.085008</td>\n",
       "      <td>0</td>\n",
       "      <td>1317242</td>\n",
       "      <td>2127</td>\n",
       "      <td>32.94014</td>\n",
       "      <td>4.0</td>\n",
       "      <td>0.838233</td>\n",
       "      <td>3.0</td>\n",
       "      <td>-117.06459</td>\n",
       "      <td>749747.010723</td>\n",
       "      <td>0.932618</td>\n",
       "      <td>680984.114376</td>\n",
       "      <td>2280.677522</td>\n",
       "      <td>2013-10-01</td>\n",
       "    </tr>\n",
       "  </tbody>\n",
       "</table>\n",
       "</div>"
      ],
      "text/plain": [
       "        sqft_price_zip_avg  sold_price  pool  impr_over_land  view       id  \\\n",
       "0               509.574024      430000     0        2.071439     0  1317161   \n",
       "123505          226.977778      212000     0        1.585380     0  1317274   \n",
       "79898           248.747210      557000     0        1.226441     0  1317211   \n",
       "79899           248.747210      339000     0        1.600006     0  1317288   \n",
       "39727           312.467037      595000     0        1.085008     0  1317242   \n",
       "\n",
       "        sqft       lat  num_bed  eval_over_zip_avg  num_bath        lon  \\\n",
       "0       1116  32.70949      2.0           0.770870       2.0 -117.15430   \n",
       "123505   916  32.73340      2.0           0.624384       2.0 -116.96029   \n",
       "79898   2608  33.15760      3.0           1.189223       2.0 -117.19599   \n",
       "79899   1354  33.14983      4.0           0.724288       2.0 -117.15191   \n",
       "39727   2127  32.94014      4.0           0.838233       3.0 -117.06459   \n",
       "\n",
       "         eval_zip_avg  sqft_over_zip_avg  sold_price_zip_avg  sqft_zip_avg  \\\n",
       "0       611104.270065           1.028692       565455.531453   1084.872831   \n",
       "123505  414168.244444           0.543757       360923.333333   1684.575556   \n",
       "79898   494368.200873           1.374783       450904.657933   1897.026201   \n",
       "79899   494368.200873           0.713749       450904.657933   1897.026201   \n",
       "39727   749747.010723           0.932618       680984.114376   2280.677522   \n",
       "\n",
       "             date  \n",
       "0      2013-10-01  \n",
       "123505 2013-10-01  \n",
       "79898  2013-10-01  \n",
       "79899  2013-10-01  \n",
       "39727  2013-10-01  "
      ]
     },
     "execution_count": 8,
     "metadata": {},
     "output_type": "execute_result"
    }
   ],
   "source": [
    "# records of last 4 years\n",
    "#use_features = ['sqft', 'num_bed', 'num_bath', 'view', 'pool', 'sqft_zip_avg', 'sqft_price_zip_avg', 'sold_price_zip_avg', 'impr_over_land']\n",
    "df_track = pp.dataset(feature='delivered', valid=True, date=('2013-10-01', '2017-10-01'))\n",
    "print(df_track.shape)\n",
    "df_track.head()"
   ]
  },
  {
   "cell_type": "markdown",
   "metadata": {},
   "source": [
    "### validate sliding_window with dataset of last 4 months"
   ]
  },
  {
   "cell_type": "code",
   "execution_count": 26,
   "metadata": {},
   "outputs": [
    {
     "name": "stderr",
     "output_type": "stream",
     "text": [
      "[dp] track/sliding/test window size: 110341, 66204, 22068\n",
      "[dp] validation step is skipped\n",
      "[dp] training size: 66204\n"
     ]
    },
    {
     "data": {
      "text/plain": [
       "110365.24179770438"
      ]
     },
     "execution_count": 26,
     "metadata": {},
     "output_type": "execute_result"
    }
   ],
   "source": [
    "### baseline\n",
    "rf = RandomForestRegressor(n_estimators=100, max_depth=14, n_jobs=-1, random_state=17)\n",
    "mm = ModelManager(df_track, use_features_base, rf, target='sold_price', time_series=True)\n",
    "monthly_volume = int(df_track.shape[0] / 24)\n",
    "mm.run(sliding_window=monthly_volume*12, test_size=monthly_volume*4)"
   ]
  },
  {
   "cell_type": "code",
   "execution_count": 27,
   "metadata": {},
   "outputs": [
    {
     "name": "stderr",
     "output_type": "stream",
     "text": [
      "[dp] prediction - data shape: (20579, 17), period: 2013-10-01 ~ 2014-05-30, sliding(in month): 4, test: 4\n",
      "[dp] track/sliding/test window size: 9888, 9888, 10691\n",
      "[dp] validation step is skipped\n",
      "[dp] training size: 9888\n",
      "[dp] prediction - data shape: (31812, 17), period: 2013-10-01 ~ 2014-09-30, sliding(in month): 8, test: 4\n",
      "[dp] track/sliding/test window size: 20579, 20579, 11233\n",
      "[dp] validation step is skipped\n",
      "[dp] training size: 20579\n",
      "[dp] prediction - data shape: (38559, 17), period: 2013-10-01 ~ 2015-01-30, sliding(in month): 12, test: 4\n",
      "[dp] track/sliding/test window size: 31812, 31812, 6747\n",
      "[dp] validation step is skipped\n",
      "[dp] training size: 31812\n",
      "[dp] prediction - data shape: (40070, 17), period: 2014-02-03 ~ 2015-05-29, sliding(in month): 12, test: 4\n",
      "[dp] track/sliding/test window size: 28303, 28303, 11767\n",
      "[dp] validation step is skipped\n",
      "[dp] training size: 28303\n",
      "[dp] prediction - data shape: (42924, 17), period: 2014-06-02 ~ 2015-09-30, sliding(in month): 12, test: 4\n",
      "[dp] track/sliding/test window size: 29576, 29576, 13348\n",
      "[dp] validation step is skipped\n",
      "[dp] training size: 29576\n",
      "[dp] prediction - data shape: (41444, 17), period: 2014-10-01 ~ 2016-01-29, sliding(in month): 12, test: 4\n",
      "[dp] track/sliding/test window size: 31470, 31470, 9974\n",
      "[dp] validation step is skipped\n",
      "[dp] training size: 31470\n",
      "[dp] prediction - data shape: (46431, 17), period: 2015-02-02 ~ 2016-05-31, sliding(in month): 12, test: 4\n",
      "[dp] track/sliding/test window size: 34697, 34697, 11734\n",
      "[dp] validation step is skipped\n",
      "[dp] training size: 34697\n",
      "[dp] prediction - data shape: (48063, 17), period: 2015-06-01 ~ 2016-09-30, sliding(in month): 12, test: 4\n",
      "[dp] track/sliding/test window size: 34582, 34582, 13481\n",
      "[dp] validation step is skipped\n",
      "[dp] training size: 34582\n",
      "[dp] prediction - data shape: (45134, 17), period: 2015-10-01 ~ 2017-01-31, sliding(in month): 12, test: 4\n",
      "[dp] track/sliding/test window size: 34715, 34715, 10419\n",
      "[dp] validation step is skipped\n",
      "[dp] training size: 34715\n",
      "[dp] prediction - data shape: (46866, 17), period: 2016-02-01 ~ 2017-05-31, sliding(in month): 12, test: 4\n",
      "[dp] track/sliding/test window size: 35381, 35381, 11485\n",
      "[dp] validation step is skipped\n",
      "[dp] training size: 35381\n",
      "[dp] prediction - data shape: (47419, 17), period: 2016-06-01 ~ 2017-09-27, sliding(in month): 12, test: 4\n",
      "[dp] track/sliding/test window size: 34643, 34643, 12776\n",
      "[dp] validation step is skipped\n",
      "[dp] training size: 34643\n"
     ]
    }
   ],
   "source": [
    "### regress whole data with fixed sliding_window: 12\n",
    "### no validation\n",
    "rf = RandomForestRegressor(n_estimators=100, max_depth=14, n_jobs=-1, random_state=17)\n",
    "mr = ModelRegression(use_features_base, rf)\n",
    "errors = mr.regress(df_track, time_series=True, sliding_window=12)"
   ]
  },
  {
   "cell_type": "markdown",
   "metadata": {},
   "source": [
    "### regress with validation for optimized sliding window"
   ]
  },
  {
   "cell_type": "code",
   "execution_count": 14,
   "metadata": {
    "scrolled": false
   },
   "outputs": [
    {
     "name": "stderr",
     "output_type": "stream",
     "text": [
      "[dp] prediction - data shape: (20579, 17), period: 2013-10-01 ~ 2014-05-30, sliding(in month): 4, test: 4\n",
      "[dp] track/sliding/test window size: 9888, 0, 10691\n",
      "[dp] training size: 9888\n",
      "[dp] prediction - data shape: (31812, 17), period: 2013-10-01 ~ 2014-09-30, sliding(in month): 8, test: 4\n",
      "[dp] track/sliding/test window size: 20579, 9888, 11233\n",
      "[dp] training size: 20579\n",
      "[dp] prediction - data shape: (38559, 17), period: 2013-10-01 ~ 2015-01-30, sliding(in month): 12, test: 4\n",
      "[dp] track/sliding/test window size: 31812, 20579, 6747\n",
      "[dp] training size: 31812\n",
      "[dp] prediction - data shape: (40070, 17), period: 2014-02-03 ~ 2015-05-29, sliding(in month): 12, test: 4\n",
      "[dp] track/sliding/test window size: 28303, 21525, 11767\n",
      "[dp] training size: 28303\n",
      "[dp] prediction - data shape: (42924, 17), period: 2014-06-02 ~ 2015-09-30, sliding(in month): 12, test: 4\n",
      "[dp] track/sliding/test window size: 29576, 17809, 13348\n",
      "[dp] training size: 29576\n",
      "[dp] validation - data shape: (73256, 17), sliding(in month): 4, period: 2013-10-01 ~ 2016-01-29\n",
      "[dp] track/sliding/test window size: 63282, 11767, 9974\n",
      "[dp] walk-forward train:(11767,), test:(9974,), scope:0 ~ 21740\n",
      "[dp] walk-forward train:(11767,), test:(9974,), scope:9974 ~ 31714\n",
      "[dp] walk-forward train:(11767,), test:(9974,), scope:19948 ~ 41688\n",
      "[dp] walk-forward train:(11767,), test:(9974,), scope:29922 ~ 51662\n",
      "[dp] walk-forward train:(11767,), test:(9974,), scope:39896 ~ 61636\n",
      "[dp] training size: 63282\n"
     ]
    },
    {
     "name": "stdout",
     "output_type": "stream",
     "text": [
      "Fitting 5 folds for each of 1 candidates, totalling 5 fits\n"
     ]
    },
    {
     "name": "stderr",
     "output_type": "stream",
     "text": [
      "[Parallel(n_jobs=-1)]: Done   5 out of   5 | elapsed:    5.8s finished\n",
      "[dp] validation - sliding(in month):4, score: -8724544572.959164\n",
      "[dp] validation - data shape: (73256, 17), sliding(in month): 8, period: 2013-10-01 ~ 2016-01-29\n",
      "[dp] track/sliding/test window size: 63282, 18545, 9974\n",
      "[dp] walk-forward train:(18545,), test:(9974,), scope:0 ~ 28518\n",
      "[dp] walk-forward train:(18545,), test:(9974,), scope:9974 ~ 38492\n",
      "[dp] walk-forward train:(18545,), test:(9974,), scope:19948 ~ 48466\n",
      "[dp] walk-forward train:(18545,), test:(9974,), scope:29922 ~ 58440\n",
      "[dp] training size: 63282\n"
     ]
    },
    {
     "name": "stdout",
     "output_type": "stream",
     "text": [
      "Fitting 4 folds for each of 1 candidates, totalling 4 fits\n"
     ]
    },
    {
     "name": "stderr",
     "output_type": "stream",
     "text": [
      "[Parallel(n_jobs=-1)]: Done   2 out of   4 | elapsed:    4.2s remaining:    4.2s\n",
      "[Parallel(n_jobs=-1)]: Done   4 out of   4 | elapsed:    5.4s finished\n",
      "[dp] validation - sliding(in month):8, score: -8205625810.311242\n",
      "[dp] validation - data shape: (73256, 17), sliding(in month): 12, period: 2013-10-01 ~ 2016-01-29\n",
      "[dp] track/sliding/test window size: 63282, 29892, 9974\n",
      "[dp] walk-forward train:(29892,), test:(9974,), scope:0 ~ 39865\n",
      "[dp] walk-forward train:(29892,), test:(9974,), scope:9974 ~ 49839\n",
      "[dp] walk-forward train:(29892,), test:(9974,), scope:19948 ~ 59813\n",
      "[dp] training size: 63282\n"
     ]
    },
    {
     "name": "stdout",
     "output_type": "stream",
     "text": [
      "Fitting 3 folds for each of 1 candidates, totalling 3 fits\n"
     ]
    },
    {
     "name": "stderr",
     "output_type": "stream",
     "text": [
      "[Parallel(n_jobs=-1)]: Done   3 out of   3 | elapsed:    5.8s finished\n",
      "[dp] validation - sliding(in month):12, score: -7796880370.948868\n",
      "[dp] prediction - data shape: (41444, 17), period: 2014-10-01 ~ 2016-01-29, sliding(in month): 12, test: 4\n",
      "[dp] track/sliding/test window size: 31470, 18343, 9974\n",
      "[dp] training size: 31470\n",
      "[dp] prediction - data shape: (46431, 17), period: 2015-02-02 ~ 2016-05-31, sliding(in month): 12, test: 4\n",
      "[dp] track/sliding/test window size: 34697, 24723, 11734\n",
      "[dp] training size: 34697\n",
      "[dp] prediction - data shape: (48063, 17), period: 2015-06-01 ~ 2016-09-30, sliding(in month): 12, test: 4\n",
      "[dp] track/sliding/test window size: 34582, 22790, 13481\n",
      "[dp] training size: 34582\n",
      "[dp] prediction - data shape: (45134, 17), period: 2015-10-01 ~ 2017-01-31, sliding(in month): 12, test: 4\n",
      "[dp] track/sliding/test window size: 34715, 21234, 10419\n",
      "[dp] training size: 34715\n",
      "[dp] prediction - data shape: (46866, 17), period: 2016-02-01 ~ 2017-05-31, sliding(in month): 12, test: 4\n",
      "[dp] track/sliding/test window size: 35381, 24962, 11485\n",
      "[dp] training size: 35381\n",
      "[dp] prediction - data shape: (47419, 17), period: 2016-06-01 ~ 2017-09-27, sliding(in month): 12, test: 4\n",
      "[dp] track/sliding/test window size: 34643, 23207, 12776\n",
      "[dp] training size: 34643\n"
     ]
    }
   ],
   "source": [
    "rf = RandomForestRegressor(n_estimators=20, max_depth=9, n_jobs=-1, random_state=17)\n",
    "ntrees = np.arange(20,30,40)\n",
    "depths = np.arange(12,13)\n",
    "parameters = { 'n_estimators': ntrees, 'max_depth': depths}\n",
    "\n",
    "mr = ModelRegression(use_features_base, rf)\n",
    "errors = mr.regress(df_track, param_grid=parameters, GridSearchCV={'verbose':True, 'n_jobs':-1})"
   ]
  },
  {
   "cell_type": "code",
   "execution_count": 15,
   "metadata": {},
   "outputs": [
    {
     "data": {
      "text/plain": [
       "[100256.95178002786,\n",
       " 92716.80300517974,\n",
       " 89688.99359478887,\n",
       " 91942.74621470789,\n",
       " 88014.2004806545,\n",
       " 80914.81954441719,\n",
       " 73139.3866088831,\n",
       " 66882.54138528834,\n",
       " 63754.84431664817,\n",
       " 75917.21074045192,\n",
       " 117830.85780206378]"
      ]
     },
     "execution_count": 15,
     "metadata": {},
     "output_type": "execute_result"
    }
   ],
   "source": [
    "errors"
   ]
  },
  {
   "cell_type": "code",
   "execution_count": 25,
   "metadata": {},
   "outputs": [
    {
     "name": "stderr",
     "output_type": "stream",
     "text": [
      "[dp] prediction - data shape: (20579, 17), period: 2013-10-01 ~ 2014-05-30, sliding(in month): 4, test: 4\n",
      "[dp] track/sliding/test window size: 9888, 0, 10691\n",
      "[dp] training size: 9888\n",
      "[dp] prediction - data shape: (31812, 17), period: 2013-10-01 ~ 2014-09-30, sliding(in month): 8, test: 4\n",
      "[dp] track/sliding/test window size: 20579, 9888, 11233\n",
      "[dp] training size: 20579\n",
      "[dp] prediction - data shape: (38559, 17), period: 2013-10-01 ~ 2015-01-30, sliding(in month): 12, test: 4\n",
      "[dp] track/sliding/test window size: 31812, 20579, 6747\n",
      "[dp] training size: 31812\n",
      "[dp] prediction - data shape: (40070, 17), period: 2014-02-03 ~ 2015-05-29, sliding(in month): 12, test: 4\n",
      "[dp] track/sliding/test window size: 28303, 21525, 11767\n",
      "[dp] training size: 28303\n",
      "[dp] prediction - data shape: (42924, 17), period: 2014-06-02 ~ 2015-09-30, sliding(in month): 12, test: 4\n",
      "[dp] track/sliding/test window size: 29576, 17809, 13348\n",
      "[dp] training size: 29576\n",
      "[dp] validation - data shape: (73256, 17), sliding(in month): 4, period: 2013-10-01 ~ 2016-01-29\n",
      "[dp] track/sliding/test window size: 63282, 11767, 9974\n",
      "[dp] validation - sliding(in month):4, score: -86132.33269911185\n",
      "[dp] validation - data shape: (73256, 17), sliding(in month): 8, period: 2013-10-01 ~ 2016-01-29\n",
      "[dp] track/sliding/test window size: 63282, 18545, 9974\n",
      "[dp] validation - sliding(in month):8, score: -82585.04378630607\n",
      "[dp] validation - data shape: (73256, 17), sliding(in month): 12, period: 2013-10-01 ~ 2016-01-29\n",
      "[dp] track/sliding/test window size: 63282, 29892, 9974\n",
      "[dp] validation - sliding(in month):12, score: -85412.89252935731\n",
      "[dp] prediction - data shape: (34697, 17), period: 2015-02-02 ~ 2016-01-29, sliding(in month): 8, test: 4\n",
      "[dp] track/sliding/test window size: 24723, 11596, 9974\n",
      "[dp] training size: 24723\n",
      "[dp] prediction - data shape: (34835, 17), period: 2015-06-01 ~ 2016-05-31, sliding(in month): 8, test: 4\n",
      "[dp] track/sliding/test window size: 23101, 13127, 11734\n",
      "[dp] training size: 23101\n",
      "[dp] prediction - data shape: (34715, 17), period: 2015-10-01 ~ 2016-09-30, sliding(in month): 8, test: 4\n",
      "[dp] track/sliding/test window size: 21234, 9442, 13481\n",
      "[dp] training size: 21234\n",
      "[dp] prediction - data shape: (35381, 17), period: 2016-02-01 ~ 2017-01-31, sliding(in month): 8, test: 4\n",
      "[dp] track/sliding/test window size: 24962, 11481, 10419\n",
      "[dp] training size: 24962\n",
      "[dp] prediction - data shape: (35132, 17), period: 2016-06-01 ~ 2017-05-31, sliding(in month): 8, test: 4\n",
      "[dp] track/sliding/test window size: 23647, 13228, 11485\n",
      "[dp] training size: 23647\n",
      "[dp] prediction - data shape: (34191, 17), period: 2016-10-03 ~ 2017-09-27, sliding(in month): 8, test: 4\n",
      "[dp] track/sliding/test window size: 21415, 9979, 12776\n",
      "[dp] training size: 21415\n"
     ]
    }
   ],
   "source": [
    "rf = RandomForestRegressor(n_estimators=20, max_depth=9, n_jobs=-1, random_state=17)\n",
    "ntrees = np.arange(20,30,40)\n",
    "depths = np.arange(12,13)\n",
    "parameters = { 'n_estimators': ntrees, 'max_depth': depths}\n",
    "\n",
    "mr = ModelRegression(use_features_base, rf)\n",
    "errors = mr.regress(df_track, param_grid=parameters)"
   ]
  },
  {
   "cell_type": "code",
   "execution_count": 24,
   "metadata": {},
   "outputs": [
    {
     "data": {
      "text/plain": [
       "[100256.95178002786,\n",
       " 92716.80300517974,\n",
       " 89688.99359478887,\n",
       " 91942.74621470789,\n",
       " 88014.2004806545,\n",
       " 77690.1393691508,\n",
       " 72639.06457120177,\n",
       " 65745.49336866837,\n",
       " 62592.18900352895,\n",
       " 74964.97859907943,\n",
       " 116874.90911042152]"
      ]
     },
     "execution_count": 24,
     "metadata": {},
     "output_type": "execute_result"
    }
   ],
   "source": [
    "errors"
   ]
  },
  {
   "cell_type": "markdown",
   "metadata": {
    "collapsed": true
   },
   "source": [
    "### regression on dateset of all time long"
   ]
  },
  {
   "cell_type": "code",
   "execution_count": 26,
   "metadata": {},
   "outputs": [
    {
     "name": "stderr",
     "output_type": "stream",
     "text": [
      "[dp] transforming date\n",
      "[dp] transforming view\n",
      "[dp] transforming pool\n",
      "[dp] transforming impr_over_land\n",
      "[dp] transforming sold_year\n",
      "[dp] transforming sold_month\n",
      "[dp] transforming sold_age\n",
      "[dp] transforming eval\n",
      "[dp] transforming eval_sqft_price\n",
      "[dp] making sqft_zip_avg\n",
      "[dp] making sqft_over_zip_avg\n",
      "[dp] making sqft_price_zip_avg\n",
      "[dp] making sold_price_zip_avg\n",
      "[dp] making eval_zip_avg\n",
      "[dp] making eval_over_zip_avg\n",
      "[dp] making sale_count_zip\n",
      "[dp] cleaning on criteria: sold_price\n",
      "[dp] cleaning on criteria: sqft_price\n",
      "[dp] cleaning on criteria: sqft\n",
      "[dp] cleaning on criteria: num_bed\n",
      "[dp] cleaning on criteria: num_bath\n",
      "[dp] cleaning on criteria: lon\n"
     ]
    }
   ],
   "source": [
    "df_all = pp.dataset(feature='delivered', valid=True, date=('1985-10-01', '2017-10-01'))\n",
    "mr_full = ModelRegression(use_features_base, rf)"
   ]
  },
  {
   "cell_type": "code",
   "execution_count": 11,
   "metadata": {
    "collapsed": true
   },
   "outputs": [
    {
     "name": "stderr",
     "output_type": "stream",
     "text": [
      "[dp] prediction - data shape: (26051, 17), period: 1985-10-01 ~ 1986-05-30, sliding(in month): 4, test: 4\n",
      "[dp] track/sliding/test window size: 13403, 13403, 12648\n",
      "[dp] validation step is skipped\n",
      "[dp] training size: 13403\n",
      "[dp] prediction - data shape: (43749, 17), period: 1985-10-01 ~ 1986-09-30, sliding(in month): 8, test: 4\n",
      "[dp] track/sliding/test window size: 26051, 26051, 17698\n",
      "[dp] validation step is skipped\n",
      "[dp] training size: 26051\n",
      "[dp] prediction - data shape: (61867, 17), period: 1985-10-01 ~ 1987-01-30, sliding(in month): 12, test: 4\n",
      "[dp] track/sliding/test window size: 43749, 43749, 18118\n",
      "[dp] validation step is skipped\n",
      "[dp] training size: 43749\n",
      "[dp] prediction - data shape: (63207, 17), period: 1986-02-03 ~ 1987-05-29, sliding(in month): 12, test: 4\n",
      "[dp] track/sliding/test window size: 47724, 47724, 15483\n",
      "[dp] validation step is skipped\n",
      "[dp] training size: 47724\n",
      "[dp] prediction - data shape: (69151, 17), period: 1986-06-02 ~ 1987-09-30, sliding(in month): 12, test: 4\n",
      "[dp] track/sliding/test window size: 50944, 50944, 18207\n",
      "[dp] validation step is skipped\n",
      "[dp] training size: 50944\n",
      "[dp] prediction - data shape: (66467, 17), period: 1986-10-01 ~ 1988-01-31, sliding(in month): 12, test: 4\n",
      "[dp] track/sliding/test window size: 51453, 51453, 15014\n",
      "[dp] validation step is skipped\n",
      "[dp] training size: 51453\n",
      "[dp] prediction - data shape: (64030, 17), period: 1987-02-02 ~ 1988-05-31, sliding(in month): 12, test: 4\n",
      "[dp] track/sliding/test window size: 48349, 48349, 15681\n",
      "[dp] validation step is skipped\n",
      "[dp] training size: 48349\n",
      "[dp] prediction - data shape: (70511, 17), period: 1987-06-01 ~ 1988-09-30, sliding(in month): 12, test: 4\n",
      "[dp] track/sliding/test window size: 48652, 48652, 21859\n",
      "[dp] validation step is skipped\n",
      "[dp] training size: 48652\n",
      "[dp] prediction - data shape: (70801, 17), period: 1987-10-01 ~ 1989-01-31, sliding(in month): 12, test: 4\n",
      "[dp] track/sliding/test window size: 52304, 52304, 18497\n",
      "[dp] validation step is skipped\n",
      "[dp] training size: 52304\n",
      "[dp] prediction - data shape: (73012, 17), period: 1988-02-01 ~ 1989-05-31, sliding(in month): 12, test: 4\n",
      "[dp] track/sliding/test window size: 55787, 55787, 17225\n",
      "[dp] validation step is skipped\n",
      "[dp] training size: 55787\n",
      "[dp] prediction - data shape: (75388, 17), period: 1988-06-01 ~ 1989-09-29, sliding(in month): 12, test: 4\n",
      "[dp] track/sliding/test window size: 56811, 56811, 18577\n",
      "[dp] validation step is skipped\n",
      "[dp] training size: 56811\n",
      "[dp] prediction - data shape: (68965, 17), period: 1988-10-03 ~ 1990-01-31, sliding(in month): 12, test: 4\n",
      "[dp] track/sliding/test window size: 53779, 53779, 15186\n",
      "[dp] validation step is skipped\n",
      "[dp] training size: 53779\n",
      "[dp] prediction - data shape: (64090, 17), period: 1989-02-01 ~ 1990-05-31, sliding(in month): 12, test: 4\n",
      "[dp] track/sliding/test window size: 50468, 50468, 13622\n",
      "[dp] validation step is skipped\n",
      "[dp] training size: 50468\n",
      "[dp] prediction - data shape: (60234, 17), period: 1989-06-01 ~ 1990-09-28, sliding(in month): 12, test: 4\n",
      "[dp] track/sliding/test window size: 46277, 46277, 13957\n",
      "[dp] validation step is skipped\n",
      "[dp] training size: 46277\n",
      "[dp] prediction - data shape: (51395, 17), period: 1989-10-02 ~ 1991-01-31, sliding(in month): 12, test: 4\n",
      "[dp] track/sliding/test window size: 42177, 42177, 9218\n",
      "[dp] validation step is skipped\n",
      "[dp] training size: 42177\n",
      "[dp] prediction - data shape: (46539, 17), period: 1990-02-01 ~ 1991-05-31, sliding(in month): 12, test: 4\n",
      "[dp] track/sliding/test window size: 36209, 36209, 10330\n",
      "[dp] validation step is skipped\n",
      "[dp] training size: 36209\n",
      "[dp] prediction - data shape: (44473, 17), period: 1990-06-01 ~ 1991-09-30, sliding(in month): 12, test: 4\n",
      "[dp] track/sliding/test window size: 32478, 32478, 11995\n",
      "[dp] validation step is skipped\n",
      "[dp] training size: 32478\n",
      "[dp] prediction - data shape: (40253, 17), period: 1990-10-01 ~ 1992-01-31, sliding(in month): 12, test: 4\n",
      "[dp] track/sliding/test window size: 31104, 31104, 9149\n",
      "[dp] validation step is skipped\n",
      "[dp] training size: 31104\n",
      "[dp] prediction - data shape: (41140, 17), period: 1991-02-01 ~ 1992-05-29, sliding(in month): 12, test: 4\n",
      "[dp] track/sliding/test window size: 30716, 30716, 10424\n",
      "[dp] validation step is skipped\n",
      "[dp] training size: 30716\n",
      "[dp] prediction - data shape: (40879, 17), period: 1991-06-03 ~ 1992-09-30, sliding(in month): 12, test: 4\n",
      "[dp] track/sliding/test window size: 30810, 30810, 10069\n",
      "[dp] validation step is skipped\n",
      "[dp] training size: 30810\n",
      "[dp] prediction - data shape: (38491, 17), period: 1991-10-01 ~ 1993-01-30, sliding(in month): 12, test: 4\n",
      "[dp] track/sliding/test window size: 29323, 29323, 9168\n",
      "[dp] validation step is skipped\n",
      "[dp] training size: 29323\n",
      "[dp] prediction - data shape: (38261, 17), period: 1992-02-03 ~ 1993-05-28, sliding(in month): 12, test: 4\n",
      "[dp] track/sliding/test window size: 29104, 29104, 9157\n",
      "[dp] validation step is skipped\n",
      "[dp] training size: 29104\n",
      "[dp] prediction - data shape: (38900, 17), period: 1992-06-01 ~ 1993-09-30, sliding(in month): 12, test: 4\n",
      "[dp] track/sliding/test window size: 28156, 28156, 10744\n",
      "[dp] validation step is skipped\n",
      "[dp] training size: 28156\n",
      "[dp] prediction - data shape: (38778, 17), period: 1992-10-01 ~ 1994-01-31, sliding(in month): 12, test: 4\n",
      "[dp] track/sliding/test window size: 28831, 28831, 9947\n",
      "[dp] validation step is skipped\n",
      "[dp] training size: 28831\n",
      "[dp] prediction - data shape: (40973, 17), period: 1993-02-01 ~ 1994-05-31, sliding(in month): 12, test: 4\n",
      "[dp] track/sliding/test window size: 29610, 29610, 11363\n",
      "[dp] validation step is skipped\n",
      "[dp] training size: 29610\n",
      "[dp] prediction - data shape: (43789, 17), period: 1993-06-01 ~ 1994-09-30, sliding(in month): 12, test: 4\n",
      "[dp] track/sliding/test window size: 31825, 31825, 11964\n",
      "[dp] validation step is skipped\n",
      "[dp] training size: 31825\n",
      "[dp] prediction - data shape: (41593, 17), period: 1993-10-01 ~ 1995-01-31, sliding(in month): 12, test: 4\n",
      "[dp] track/sliding/test window size: 33045, 33045, 8548\n",
      "[dp] validation step is skipped\n",
      "[dp] training size: 33045\n",
      "[dp] prediction - data shape: (39855, 17), period: 1994-02-01 ~ 1995-05-31, sliding(in month): 12, test: 4\n",
      "[dp] track/sliding/test window size: 31646, 31646, 8209\n",
      "[dp] validation step is skipped\n",
      "[dp] training size: 31646\n",
      "[dp] prediction - data shape: (38749, 17), period: 1994-06-01 ~ 1995-09-29, sliding(in month): 12, test: 4\n",
      "[dp] track/sliding/test window size: 28098, 28098, 10651\n",
      "[dp] validation step is skipped\n",
      "[dp] training size: 28098\n",
      "[dp] prediction - data shape: (36012, 17), period: 1994-10-03 ~ 1996-01-31, sliding(in month): 12, test: 4\n",
      "[dp] track/sliding/test window size: 27014, 27014, 8998\n",
      "[dp] validation step is skipped\n",
      "[dp] training size: 27014\n",
      "[dp] prediction - data shape: (37993, 17), period: 1995-02-01 ~ 1996-05-31, sliding(in month): 12, test: 4\n",
      "[dp] track/sliding/test window size: 27464, 27464, 10529\n",
      "[dp] validation step is skipped\n",
      "[dp] training size: 27464\n",
      "[dp] prediction - data shape: (40956, 17), period: 1995-06-01 ~ 1996-09-30, sliding(in month): 12, test: 4\n",
      "[dp] track/sliding/test window size: 29349, 29349, 11607\n",
      "[dp] validation step is skipped\n",
      "[dp] training size: 29349\n",
      "[dp] prediction - data shape: (40845, 17), period: 1995-10-02 ~ 1997-01-31, sliding(in month): 12, test: 4\n",
      "[dp] track/sliding/test window size: 30699, 30699, 10146\n",
      "[dp] validation step is skipped\n",
      "[dp] training size: 30699\n",
      "[dp] prediction - data shape: (43150, 17), period: 1996-02-01 ~ 1997-05-30, sliding(in month): 12, test: 4\n",
      "[dp] track/sliding/test window size: 31546, 31546, 11604\n",
      "[dp] validation step is skipped\n",
      "[dp] training size: 31546\n",
      "[dp] prediction - data shape: (46697, 17), period: 1996-06-03 ~ 1997-09-30, sliding(in month): 12, test: 4\n",
      "[dp] track/sliding/test window size: 32621, 32621, 14076\n",
      "[dp] validation step is skipped\n",
      "[dp] training size: 32621\n",
      "[dp] prediction - data shape: (48252, 17), period: 1996-10-01 ~ 1998-01-30, sliding(in month): 12, test: 4\n",
      "[dp] track/sliding/test window size: 35525, 35525, 12727\n",
      "[dp] validation step is skipped\n",
      "[dp] training size: 35525\n",
      "[dp] prediction - data shape: (53030, 17), period: 1997-02-01 ~ 1998-05-29, sliding(in month): 12, test: 4\n",
      "[dp] track/sliding/test window size: 37728, 37728, 15302\n",
      "[dp] validation step is skipped\n",
      "[dp] training size: 37728\n"
     ]
    },
    {
     "name": "stderr",
     "output_type": "stream",
     "text": [
      "[dp] prediction - data shape: (59610, 17), period: 1997-06-02 ~ 1998-09-30, sliding(in month): 12, test: 4\n",
      "[dp] track/sliding/test window size: 41727, 41727, 17883\n",
      "[dp] validation step is skipped\n",
      "[dp] training size: 41727\n",
      "[dp] prediction - data shape: (59477, 17), period: 1997-10-01 ~ 1999-01-29, sliding(in month): 12, test: 4\n",
      "[dp] track/sliding/test window size: 45093, 45093, 14384\n",
      "[dp] validation step is skipped\n",
      "[dp] training size: 45093\n",
      "[dp] prediction - data shape: (63615, 17), period: 1998-02-02 ~ 1999-05-30, sliding(in month): 12, test: 4\n",
      "[dp] track/sliding/test window size: 46750, 46750, 16865\n",
      "[dp] validation step is skipped\n",
      "[dp] training size: 46750\n",
      "[dp] prediction - data shape: (67521, 17), period: 1998-06-01 ~ 1999-09-30, sliding(in month): 12, test: 4\n",
      "[dp] track/sliding/test window size: 48691, 48691, 18830\n",
      "[dp] validation step is skipped\n",
      "[dp] training size: 48691\n",
      "[dp] prediction - data shape: (64161, 17), period: 1998-10-01 ~ 2000-01-31, sliding(in month): 12, test: 4\n",
      "[dp] track/sliding/test window size: 49638, 49638, 14523\n",
      "[dp] validation step is skipped\n",
      "[dp] training size: 49638\n",
      "[dp] prediction - data shape: (66845, 17), period: 1999-02-01 ~ 2000-05-31, sliding(in month): 12, test: 4\n",
      "[dp] track/sliding/test window size: 50218, 50218, 16627\n",
      "[dp] validation step is skipped\n",
      "[dp] training size: 50218\n",
      "[dp] prediction - data shape: (67285, 17), period: 1999-06-01 ~ 2000-09-29, sliding(in month): 12, test: 4\n",
      "[dp] track/sliding/test window size: 49208, 49208, 18077\n",
      "[dp] validation step is skipped\n",
      "[dp] training size: 49208\n",
      "[dp] prediction - data shape: (63065, 17), period: 1999-10-01 ~ 2001-01-31, sliding(in month): 12, test: 4\n",
      "[dp] track/sliding/test window size: 48455, 48455, 14610\n",
      "[dp] validation step is skipped\n",
      "[dp] training size: 48455\n",
      "[dp] prediction - data shape: (63622, 17), period: 2000-02-01 ~ 2001-05-31, sliding(in month): 12, test: 4\n",
      "[dp] track/sliding/test window size: 48542, 48542, 15080\n",
      "[dp] validation step is skipped\n",
      "[dp] training size: 48542\n",
      "[dp] prediction - data shape: (64677, 17), period: 2000-06-01 ~ 2001-09-28, sliding(in month): 12, test: 4\n",
      "[dp] track/sliding/test window size: 46169, 46169, 18508\n",
      "[dp] validation step is skipped\n",
      "[dp] training size: 46169\n",
      "[dp] prediction - data shape: (61343, 17), period: 2000-10-02 ~ 2002-01-31, sliding(in month): 12, test: 4\n",
      "[dp] track/sliding/test window size: 47372, 47372, 13971\n",
      "[dp] validation step is skipped\n",
      "[dp] training size: 47372\n",
      "[dp] prediction - data shape: (65004, 17), period: 2001-02-01 ~ 2002-05-31, sliding(in month): 12, test: 4\n",
      "[dp] track/sliding/test window size: 46733, 46733, 18271\n",
      "[dp] validation step is skipped\n",
      "[dp] training size: 46733\n",
      "[dp] prediction - data shape: (68527, 17), period: 2001-06-01 ~ 2002-09-30, sliding(in month): 12, test: 4\n",
      "[dp] track/sliding/test window size: 49344, 49344, 19183\n",
      "[dp] validation step is skipped\n",
      "[dp] training size: 49344\n",
      "[dp] prediction - data shape: (66551, 17), period: 2001-10-01 ~ 2003-01-31, sliding(in month): 12, test: 4\n",
      "[dp] track/sliding/test window size: 50845, 50845, 15706\n",
      "[dp] validation step is skipped\n",
      "[dp] training size: 50845\n",
      "[dp] prediction - data shape: (69505, 17), period: 2002-02-01 ~ 2003-05-30, sliding(in month): 12, test: 4\n",
      "[dp] track/sliding/test window size: 52185, 52185, 17320\n",
      "[dp] validation step is skipped\n",
      "[dp] training size: 52185\n",
      "[dp] prediction - data shape: (72339, 17), period: 2002-06-03 ~ 2003-09-30, sliding(in month): 12, test: 4\n",
      "[dp] track/sliding/test window size: 51234, 51234, 21105\n",
      "[dp] validation step is skipped\n",
      "[dp] training size: 51234\n",
      "[dp] prediction - data shape: (71689, 17), period: 2002-10-01 ~ 2004-01-30, sliding(in month): 12, test: 4\n",
      "[dp] track/sliding/test window size: 53736, 53736, 17953\n",
      "[dp] validation step is skipped\n",
      "[dp] training size: 53736\n",
      "[dp] prediction - data shape: (75888, 17), period: 2003-02-03 ~ 2004-05-28, sliding(in month): 12, test: 4\n",
      "[dp] track/sliding/test window size: 55381, 55381, 20507\n",
      "[dp] validation step is skipped\n",
      "[dp] training size: 55381\n",
      "[dp] prediction - data shape: (80721, 17), period: 2003-06-02 ~ 2004-09-30, sliding(in month): 12, test: 4\n",
      "[dp] track/sliding/test window size: 58963, 58963, 21758\n",
      "[dp] validation step is skipped\n",
      "[dp] training size: 58963\n",
      "[dp] prediction - data shape: (76532, 17), period: 2003-10-01 ~ 2005-01-31, sliding(in month): 12, test: 4\n",
      "[dp] track/sliding/test window size: 59616, 59616, 16916\n",
      "[dp] validation step is skipped\n",
      "[dp] training size: 59616\n",
      "[dp] prediction - data shape: (76984, 17), period: 2004-02-02 ~ 2005-05-31, sliding(in month): 12, test: 4\n",
      "[dp] track/sliding/test window size: 58579, 58579, 18405\n",
      "[dp] validation step is skipped\n",
      "[dp] training size: 58579\n",
      "[dp] prediction - data shape: (77120, 17), period: 2004-06-01 ~ 2005-09-30, sliding(in month): 12, test: 4\n",
      "[dp] track/sliding/test window size: 56689, 56689, 20431\n",
      "[dp] validation step is skipped\n",
      "[dp] training size: 56689\n",
      "[dp] prediction - data shape: (69775, 17), period: 2004-10-01 ~ 2006-01-31, sliding(in month): 12, test: 4\n",
      "[dp] track/sliding/test window size: 55362, 55362, 14413\n",
      "[dp] validation step is skipped\n",
      "[dp] training size: 55362\n",
      "[dp] prediction - data shape: (66658, 17), period: 2005-02-01 ~ 2006-05-31, sliding(in month): 12, test: 4\n",
      "[dp] track/sliding/test window size: 52859, 52859, 13799\n",
      "[dp] validation step is skipped\n",
      "[dp] training size: 52859\n",
      "[dp] prediction - data shape: (61414, 17), period: 2005-06-01 ~ 2006-09-29, sliding(in month): 12, test: 4\n",
      "[dp] track/sliding/test window size: 47643, 47643, 13771\n",
      "[dp] validation step is skipped\n",
      "[dp] training size: 47643\n",
      "[dp] prediction - data shape: (52751, 17), period: 2005-10-03 ~ 2007-01-31, sliding(in month): 12, test: 4\n",
      "[dp] track/sliding/test window size: 41373, 41373, 11378\n",
      "[dp] validation step is skipped\n",
      "[dp] training size: 41373\n",
      "[dp] prediction - data shape: (49494, 17), period: 2006-02-01 ~ 2007-05-31, sliding(in month): 12, test: 4\n",
      "[dp] track/sliding/test window size: 38338, 38338, 11156\n",
      "[dp] validation step is skipped\n",
      "[dp] training size: 38338\n",
      "[dp] prediction - data shape: (45819, 17), period: 2006-06-01 ~ 2007-09-28, sliding(in month): 12, test: 4\n",
      "[dp] track/sliding/test window size: 35125, 35125, 10694\n",
      "[dp] validation step is skipped\n",
      "[dp] training size: 35125\n",
      "[dp] prediction - data shape: (39721, 17), period: 2006-10-02 ~ 2008-01-31, sliding(in month): 12, test: 4\n",
      "[dp] track/sliding/test window size: 32658, 32658, 7063\n",
      "[dp] validation step is skipped\n",
      "[dp] training size: 32658\n",
      "[dp] prediction - data shape: (36932, 17), period: 2007-02-01 ~ 2008-05-30, sliding(in month): 12, test: 4\n",
      "[dp] track/sliding/test window size: 28189, 28189, 8743\n",
      "[dp] validation step is skipped\n",
      "[dp] training size: 28189\n",
      "[dp] prediction - data shape: (37276, 17), period: 2007-06-01 ~ 2008-09-30, sliding(in month): 12, test: 4\n",
      "[dp] track/sliding/test window size: 25776, 25776, 11500\n",
      "[dp] validation step is skipped\n",
      "[dp] training size: 25776\n",
      "[dp] prediction - data shape: (37915, 17), period: 2007-10-01 ~ 2009-01-30, sliding(in month): 12, test: 4\n",
      "[dp] track/sliding/test window size: 27152, 27152, 10763\n",
      "[dp] validation step is skipped\n",
      "[dp] training size: 27152\n",
      "[dp] prediction - data shape: (41527, 17), period: 2008-02-01 ~ 2009-05-29, sliding(in month): 12, test: 4\n",
      "[dp] track/sliding/test window size: 30587, 30587, 10940\n",
      "[dp] validation step is skipped\n",
      "[dp] training size: 30587\n",
      "[dp] prediction - data shape: (45649, 17), period: 2008-06-02 ~ 2009-09-30, sliding(in month): 12, test: 4\n",
      "[dp] track/sliding/test window size: 32938, 32938, 12711\n",
      "[dp] validation step is skipped\n",
      "[dp] training size: 32938\n",
      "[dp] prediction - data shape: (45517, 17), period: 2008-10-01 ~ 2010-01-29, sliding(in month): 12, test: 4\n",
      "[dp] track/sliding/test window size: 33773, 33773, 11744\n",
      "[dp] validation step is skipped\n",
      "[dp] training size: 33773\n",
      "[dp] prediction - data shape: (46151, 17), period: 2009-02-02 ~ 2010-05-28, sliding(in month): 12, test: 4\n",
      "[dp] track/sliding/test window size: 34467, 34467, 11684\n",
      "[dp] validation step is skipped\n",
      "[dp] training size: 34467\n",
      "[dp] prediction - data shape: (46898, 17), period: 2009-06-01 ~ 2010-09-30, sliding(in month): 12, test: 4\n",
      "[dp] track/sliding/test window size: 35476, 35476, 11422\n",
      "[dp] validation step is skipped\n",
      "[dp] training size: 35476\n"
     ]
    },
    {
     "name": "stderr",
     "output_type": "stream",
     "text": [
      "[dp] prediction - data shape: (43678, 17), period: 2009-10-01 ~ 2011-01-31, sliding(in month): 12, test: 4\n",
      "[dp] track/sliding/test window size: 34187, 34187, 9491\n",
      "[dp] validation step is skipped\n",
      "[dp] training size: 34187\n",
      "[dp] prediction - data shape: (42597, 17), period: 2010-02-01 ~ 2011-05-31, sliding(in month): 12, test: 4\n",
      "[dp] track/sliding/test window size: 32310, 32310, 10287\n",
      "[dp] validation step is skipped\n",
      "[dp] training size: 32310\n",
      "[dp] prediction - data shape: (42345, 17), period: 2010-06-01 ~ 2011-09-30, sliding(in month): 12, test: 4\n",
      "[dp] track/sliding/test window size: 31021, 31021, 11324\n",
      "[dp] validation step is skipped\n",
      "[dp] training size: 31021\n",
      "[dp] prediction - data shape: (40660, 17), period: 2010-10-01 ~ 2012-01-31, sliding(in month): 12, test: 4\n",
      "[dp] track/sliding/test window size: 30923, 30923, 9737\n",
      "[dp] validation step is skipped\n",
      "[dp] training size: 30923\n",
      "[dp] prediction - data shape: (42554, 17), period: 2011-02-01 ~ 2012-05-31, sliding(in month): 12, test: 4\n",
      "[dp] track/sliding/test window size: 31169, 31169, 11385\n",
      "[dp] validation step is skipped\n",
      "[dp] training size: 31169\n",
      "[dp] prediction - data shape: (44922, 17), period: 2011-06-01 ~ 2012-09-28, sliding(in month): 12, test: 4\n",
      "[dp] track/sliding/test window size: 31653, 31653, 13269\n",
      "[dp] validation step is skipped\n",
      "[dp] training size: 31653\n",
      "[dp] prediction - data shape: (45393, 17), period: 2011-10-03 ~ 2013-01-31, sliding(in month): 12, test: 4\n",
      "[dp] track/sliding/test window size: 33777, 33777, 11616\n",
      "[dp] validation step is skipped\n",
      "[dp] training size: 33777\n",
      "[dp] prediction - data shape: (48173, 17), period: 2012-02-01 ~ 2013-05-31, sliding(in month): 12, test: 4\n",
      "[dp] track/sliding/test window size: 35656, 35656, 12517\n",
      "[dp] validation step is skipped\n",
      "[dp] training size: 35656\n",
      "[dp] prediction - data shape: (50162, 17), period: 2012-06-01 ~ 2013-09-30, sliding(in month): 12, test: 4\n",
      "[dp] track/sliding/test window size: 36484, 36484, 13678\n",
      "[dp] validation step is skipped\n",
      "[dp] training size: 36484\n",
      "[dp] prediction - data shape: (47592, 17), period: 2012-10-01 ~ 2014-01-31, sliding(in month): 12, test: 4\n",
      "[dp] track/sliding/test window size: 37507, 37507, 10085\n",
      "[dp] validation step is skipped\n",
      "[dp] training size: 37507\n",
      "[dp] prediction - data shape: (46470, 17), period: 2013-02-01 ~ 2014-05-30, sliding(in month): 12, test: 4\n",
      "[dp] track/sliding/test window size: 35779, 35779, 10691\n",
      "[dp] validation step is skipped\n",
      "[dp] training size: 35779\n",
      "[dp] prediction - data shape: (45186, 17), period: 2013-06-03 ~ 2014-09-30, sliding(in month): 12, test: 4\n",
      "[dp] track/sliding/test window size: 33953, 33953, 11233\n",
      "[dp] validation step is skipped\n",
      "[dp] training size: 33953\n",
      "[dp] prediction - data shape: (38559, 17), period: 2013-10-01 ~ 2015-01-30, sliding(in month): 12, test: 4\n",
      "[dp] track/sliding/test window size: 31812, 31812, 6747\n",
      "[dp] validation step is skipped\n",
      "[dp] training size: 31812\n",
      "[dp] prediction - data shape: (40070, 17), period: 2014-02-03 ~ 2015-05-29, sliding(in month): 12, test: 4\n",
      "[dp] track/sliding/test window size: 28303, 28303, 11767\n",
      "[dp] validation step is skipped\n",
      "[dp] training size: 28303\n",
      "[dp] prediction - data shape: (42924, 17), period: 2014-06-02 ~ 2015-09-30, sliding(in month): 12, test: 4\n",
      "[dp] track/sliding/test window size: 29576, 29576, 13348\n",
      "[dp] validation step is skipped\n",
      "[dp] training size: 29576\n",
      "[dp] prediction - data shape: (41444, 17), period: 2014-10-01 ~ 2016-01-29, sliding(in month): 12, test: 4\n",
      "[dp] track/sliding/test window size: 31470, 31470, 9974\n",
      "[dp] validation step is skipped\n",
      "[dp] training size: 31470\n",
      "[dp] prediction - data shape: (46431, 17), period: 2015-02-02 ~ 2016-05-31, sliding(in month): 12, test: 4\n",
      "[dp] track/sliding/test window size: 34697, 34697, 11734\n",
      "[dp] validation step is skipped\n",
      "[dp] training size: 34697\n",
      "[dp] prediction - data shape: (48063, 17), period: 2015-06-01 ~ 2016-09-30, sliding(in month): 12, test: 4\n",
      "[dp] track/sliding/test window size: 34582, 34582, 13481\n",
      "[dp] validation step is skipped\n",
      "[dp] training size: 34582\n",
      "[dp] prediction - data shape: (45134, 17), period: 2015-10-01 ~ 2017-01-31, sliding(in month): 12, test: 4\n",
      "[dp] track/sliding/test window size: 34715, 34715, 10419\n",
      "[dp] validation step is skipped\n",
      "[dp] training size: 34715\n",
      "[dp] prediction - data shape: (46866, 17), period: 2016-02-01 ~ 2017-05-31, sliding(in month): 12, test: 4\n",
      "[dp] track/sliding/test window size: 35381, 35381, 11485\n",
      "[dp] validation step is skipped\n",
      "[dp] training size: 35381\n",
      "[dp] prediction - data shape: (47419, 17), period: 2016-06-01 ~ 2017-09-27, sliding(in month): 12, test: 4\n",
      "[dp] track/sliding/test window size: 34643, 34643, 12776\n",
      "[dp] validation step is skipped\n",
      "[dp] training size: 34643\n"
     ]
    },
    {
     "data": {
      "text/plain": [
       "[43976.5131943247,\n",
       " 47258.108516511435,\n",
       " 51938.43130005981,\n",
       " 52697.61388399104,\n",
       " 52469.42535143521,\n",
       " 57828.14507432424,\n",
       " 65992.41967871466,\n",
       " 61310.74741638329,\n",
       " 67526.06607573776,\n",
       " 80438.44977031487,\n",
       " 86437.79605818572,\n",
       " 76353.24182930295,\n",
       " 73275.66718346505,\n",
       " 67321.28275376746,\n",
       " 68197.78611503095,\n",
       " 83027.85349115841,\n",
       " 69021.8530740052,\n",
       " 75067.97554234123,\n",
       " 69291.41096975534,\n",
       " 73070.83394323215,\n",
       " 70981.67684203073,\n",
       " 64229.412122328155,\n",
       " 70353.3771261755,\n",
       " 74487.02677503468,\n",
       " 67845.87885902674,\n",
       " 75533.88347148789,\n",
       " 77519.7135729078,\n",
       " 66025.6173919984,\n",
       " 74367.10625383297,\n",
       " 75471.51438888807,\n",
       " 73542.13355548852,\n",
       " 76345.40536627048,\n",
       " 83708.63052235862,\n",
       " 82330.75581368966,\n",
       " 83374.72473666971,\n",
       " 82801.52959543689,\n",
       " 90032.72021637701,\n",
       " 92556.27170145066,\n",
       " 85775.48145560206,\n",
       " 86737.68257640368,\n",
       " 89007.37284915875,\n",
       " 97354.82533282891,\n",
       " 109216.55934316186,\n",
       " 103161.93046414743,\n",
       " 109664.62544280181,\n",
       " 96044.99254010318,\n",
       " 92961.21241685605,\n",
       " 97132.75128609609,\n",
       " 100374.8257721562,\n",
       " 101894.35908631419,\n",
       " 105729.72542899924,\n",
       " 108438.34971513116,\n",
       " 111680.36330314624,\n",
       " 114444.06360685515,\n",
       " 147005.3690667406,\n",
       " 151336.7484352781,\n",
       " 133454.9628025959,\n",
       " 122324.51799508228,\n",
       " 127536.71586041233,\n",
       " 128239.71971534671,\n",
       " 123321.5824415546,\n",
       " 123988.97541632134,\n",
       " 127933.79210658863,\n",
       " 131860.42229210032,\n",
       " 132565.12816869415,\n",
       " 137375.52254581734,\n",
       " 143404.1690650599,\n",
       " 110126.88995684846,\n",
       " 114268.9162796148,\n",
       " 93278.38579269566,\n",
       " 93721.77173202053,\n",
       " 90513.032974322,\n",
       " 88829.15950239092,\n",
       " 85225.65633835696,\n",
       " 95552.46481748107,\n",
       " 99176.78121331491,\n",
       " 100776.0745162101,\n",
       " 96649.4223204212,\n",
       " 95571.10764626932,\n",
       " 95997.8268980599,\n",
       " 102996.50502081752,\n",
       " 108572.0718888925,\n",
       " 109358.94753972886,\n",
       " 104923.96357557792,\n",
       " 91424.22334828274,\n",
       " 91299.43049439369,\n",
       " 89070.2155153899,\n",
       " 89814.10040072269,\n",
       " 87474.86191939855,\n",
       " 80517.75864533285,\n",
       " 76365.23736724489,\n",
       " 69504.18566408806,\n",
       " 64146.64133998717,\n",
       " 78508.23840985147,\n",
       " 117034.43649005407]"
      ]
     },
     "execution_count": 11,
     "metadata": {},
     "output_type": "execute_result"
    }
   ],
   "source": [
    "### regress with 12-month sliding window\n",
    "mr_full.regress(df_all, sliding_window=12)"
   ]
  },
  {
   "cell_type": "code",
   "execution_count": 13,
   "metadata": {},
   "outputs": [
    {
     "name": "stderr",
     "output_type": "stream",
     "text": [
      "[dp] data range: 1985-10-01 - 2017-09-27\n",
      "[dp] sliding_windows: [4, 8, 12, 12, 12, 12, 12, 12, 12, 12, 12, 12, 12, 12, 12, 12, 12, 12, 12, 12, 12, 12, 12, 12, 12, 12, 12, 12, 12, 12, 12, 12, 12, 12, 12, 12, 12, 12, 12, 12, 12, 12, 12, 12, 12, 12, 12, 12, 12, 12, 12, 12, 12, 12, 12, 12, 12, 12, 12, 12, 12, 12, 12, 12, 12, 12, 12, 12, 12, 12, 12, 12, 12, 12, 12, 12, 12, 12, 12, 12, 12, 12, 12, 12, 12, 12, 12, 12, 12, 12, 12, 12, 12, 12, 12]\n",
      "[dp] errors: [43976.5131943247, 47258.108516511435, 51938.43130005981, 52697.61388399104, 52469.42535143521, 57828.14507432424, 65992.41967871466, 61310.74741638329, 67526.06607573776, 80438.44977031487, 86437.79605818572, 76353.24182930295, 73275.66718346505, 67321.28275376746, 68197.78611503095, 83027.85349115841, 69021.8530740052, 75067.97554234123, 69291.41096975534, 73070.83394323215, 70981.67684203073, 64229.412122328155, 70353.3771261755, 74487.02677503468, 67845.87885902674, 75533.88347148789, 77519.7135729078, 66025.6173919984, 74367.10625383297, 75471.51438888807, 73542.13355548852, 76345.40536627048, 83708.63052235862, 82330.75581368966, 83374.72473666971, 82801.52959543689, 90032.72021637701, 92556.27170145066, 85775.48145560206, 86737.68257640368, 89007.37284915875, 97354.82533282891, 109216.55934316186, 103161.93046414743, 109664.62544280181, 96044.99254010318, 92961.21241685605, 97132.75128609609, 100374.8257721562, 101894.35908631419, 105729.72542899924, 108438.34971513116, 111680.36330314624, 114444.06360685515, 147005.3690667406, 151336.7484352781, 133454.9628025959, 122324.51799508228, 127536.71586041233, 128239.71971534671, 123321.5824415546, 123988.97541632134, 127933.79210658863, 131860.42229210032, 132565.12816869415, 137375.52254581734, 143404.1690650599, 110126.88995684846, 114268.9162796148, 93278.38579269566, 93721.77173202053, 90513.032974322, 88829.15950239092, 85225.65633835696, 95552.46481748107, 99176.78121331491, 100776.0745162101, 96649.4223204212, 95571.10764626932, 95997.8268980599, 102996.50502081752, 108572.0718888925, 109358.94753972886, 104923.96357557792, 91424.22334828274, 91299.43049439369, 89070.2155153899, 89814.10040072269, 87474.86191939855, 80517.75864533285, 76365.23736724489, 69504.18566408806, 64146.64133998717, 78508.23840985147, 117034.43649005407]\n"
     ]
    },
    {
     "data": {
      "image/png": "[encoded data removed]",
      "text/plain": [
       "<matplotlib.figure.Figure at 0x234a83ee080>"
      ]
     },
     "metadata": {},
     "output_type": "display_data"
    }
   ],
   "source": [
    "df_sum_12 = mr_full.summary()\n",
    "plot_trends(df_sum_12, ['error'])"
   ]
  },
  {
   "cell_type": "code",
   "execution_count": 14,
   "metadata": {
    "collapsed": true
   },
   "outputs": [
    {
     "name": "stderr",
     "output_type": "stream",
     "text": [
      "[dp] prediction - data shape: (26051, 17), period: 1985-10-01 ~ 1986-05-30, sliding(in month): 4, test: 4\n",
      "[dp] track/sliding/test window size: 13403, 13403, 12648\n",
      "[dp] validation step is skipped\n",
      "[dp] training size: 13403\n",
      "[dp] prediction - data shape: (29961, 17), period: 1986-02-03 ~ 1986-09-30, sliding(in month): 4, test: 4\n",
      "[dp] track/sliding/test window size: 12263, 12263, 17698\n",
      "[dp] validation step is skipped\n",
      "[dp] training size: 12263\n",
      "[dp] prediction - data shape: (35816, 17), period: 1986-06-02 ~ 1987-01-30, sliding(in month): 4, test: 4\n",
      "[dp] track/sliding/test window size: 17698, 17698, 18118\n",
      "[dp] validation step is skipped\n",
      "[dp] training size: 17698\n",
      "[dp] prediction - data shape: (33246, 17), period: 1986-10-01 ~ 1987-05-29, sliding(in month): 4, test: 4\n",
      "[dp] track/sliding/test window size: 17763, 17763, 15483\n",
      "[dp] validation step is skipped\n",
      "[dp] training size: 17763\n",
      "[dp] prediction - data shape: (33335, 17), period: 1987-02-02 ~ 1987-09-30, sliding(in month): 4, test: 4\n",
      "[dp] track/sliding/test window size: 15128, 15128, 18207\n",
      "[dp] validation step is skipped\n",
      "[dp] training size: 15128\n",
      "[dp] prediction - data shape: (33221, 17), period: 1987-06-01 ~ 1988-01-31, sliding(in month): 4, test: 4\n",
      "[dp] track/sliding/test window size: 18207, 18207, 15014\n",
      "[dp] validation step is skipped\n",
      "[dp] training size: 18207\n",
      "[dp] prediction - data shape: (30695, 17), period: 1987-10-01 ~ 1988-05-31, sliding(in month): 4, test: 4\n",
      "[dp] track/sliding/test window size: 15014, 15014, 15681\n",
      "[dp] validation step is skipped\n",
      "[dp] training size: 15014\n",
      "[dp] prediction - data shape: (37290, 17), period: 1988-02-01 ~ 1988-09-30, sliding(in month): 4, test: 4\n",
      "[dp] track/sliding/test window size: 15431, 15431, 21859\n",
      "[dp] validation step is skipped\n",
      "[dp] training size: 15431\n",
      "[dp] prediction - data shape: (40106, 17), period: 1988-06-01 ~ 1989-01-31, sliding(in month): 4, test: 4\n",
      "[dp] track/sliding/test window size: 21609, 21609, 18497\n",
      "[dp] validation step is skipped\n",
      "[dp] training size: 21609\n",
      "[dp] prediction - data shape: (35722, 17), period: 1988-10-03 ~ 1989-05-31, sliding(in month): 4, test: 4\n",
      "[dp] track/sliding/test window size: 18497, 18497, 17225\n",
      "[dp] validation step is skipped\n",
      "[dp] training size: 18497\n",
      "[dp] prediction - data shape: (35282, 17), period: 1989-02-01 ~ 1989-09-29, sliding(in month): 4, test: 4\n",
      "[dp] track/sliding/test window size: 16705, 16705, 18577\n",
      "[dp] validation step is skipped\n",
      "[dp] training size: 16705\n",
      "[dp] prediction - data shape: (33243, 17), period: 1989-06-01 ~ 1990-01-31, sliding(in month): 4, test: 4\n",
      "[dp] track/sliding/test window size: 18057, 18057, 15186\n",
      "[dp] validation step is skipped\n",
      "[dp] training size: 18057\n",
      "[dp] prediction - data shape: (28808, 17), period: 1989-10-02 ~ 1990-05-31, sliding(in month): 4, test: 4\n",
      "[dp] track/sliding/test window size: 15186, 15186, 13622\n",
      "[dp] validation step is skipped\n",
      "[dp] training size: 15186\n",
      "[dp] prediction - data shape: (26991, 17), period: 1990-02-01 ~ 1990-09-28, sliding(in month): 4, test: 4\n",
      "[dp] track/sliding/test window size: 13034, 13034, 13957\n",
      "[dp] validation step is skipped\n",
      "[dp] training size: 13034\n",
      "[dp] prediction - data shape: (22587, 17), period: 1990-06-01 ~ 1991-01-31, sliding(in month): 4, test: 4\n",
      "[dp] track/sliding/test window size: 13369, 13369, 9218\n",
      "[dp] validation step is skipped\n",
      "[dp] training size: 13369\n",
      "[dp] prediction - data shape: (19548, 17), period: 1990-10-01 ~ 1991-05-31, sliding(in month): 4, test: 4\n",
      "[dp] track/sliding/test window size: 9218, 9218, 10330\n",
      "[dp] validation step is skipped\n",
      "[dp] training size: 9218\n",
      "[dp] prediction - data shape: (21886, 17), period: 1991-02-01 ~ 1991-09-30, sliding(in month): 4, test: 4\n",
      "[dp] track/sliding/test window size: 9891, 9891, 11995\n",
      "[dp] validation step is skipped\n",
      "[dp] training size: 9891\n",
      "[dp] prediction - data shape: (20705, 17), period: 1991-06-03 ~ 1992-01-31, sliding(in month): 4, test: 4\n",
      "[dp] track/sliding/test window size: 11556, 11556, 9149\n",
      "[dp] validation step is skipped\n",
      "[dp] training size: 11556\n",
      "[dp] prediction - data shape: (19254, 17), period: 1991-10-01 ~ 1992-05-29, sliding(in month): 4, test: 4\n",
      "[dp] track/sliding/test window size: 8830, 8830, 10424\n",
      "[dp] validation step is skipped\n",
      "[dp] training size: 8830\n",
      "[dp] prediction - data shape: (20174, 17), period: 1992-02-03 ~ 1992-09-30, sliding(in month): 4, test: 4\n",
      "[dp] track/sliding/test window size: 10105, 10105, 10069\n",
      "[dp] validation step is skipped\n",
      "[dp] training size: 10105\n",
      "[dp] prediction - data shape: (19237, 17), period: 1992-06-01 ~ 1993-01-30, sliding(in month): 4, test: 4\n",
      "[dp] track/sliding/test window size: 10069, 10069, 9168\n",
      "[dp] validation step is skipped\n",
      "[dp] training size: 10069\n",
      "[dp] prediction - data shape: (18087, 17), period: 1992-10-01 ~ 1993-05-28, sliding(in month): 4, test: 4\n",
      "[dp] track/sliding/test window size: 8930, 8930, 9157\n",
      "[dp] validation step is skipped\n",
      "[dp] training size: 8930\n",
      "[dp] prediction - data shape: (19663, 17), period: 1993-02-01 ~ 1993-09-30, sliding(in month): 4, test: 4\n",
      "[dp] track/sliding/test window size: 8919, 8919, 10744\n",
      "[dp] validation step is skipped\n",
      "[dp] training size: 8919\n",
      "[dp] prediction - data shape: (20691, 17), period: 1993-06-01 ~ 1994-01-31, sliding(in month): 4, test: 4\n",
      "[dp] track/sliding/test window size: 10744, 10744, 9947\n",
      "[dp] validation step is skipped\n",
      "[dp] training size: 10744\n",
      "[dp] prediction - data shape: (21310, 17), period: 1993-10-01 ~ 1994-05-31, sliding(in month): 4, test: 4\n",
      "[dp] track/sliding/test window size: 9947, 9947, 11363\n",
      "[dp] validation step is skipped\n",
      "[dp] training size: 9947\n",
      "[dp] prediction - data shape: (23098, 17), period: 1994-02-01 ~ 1994-09-30, sliding(in month): 4, test: 4\n",
      "[dp] track/sliding/test window size: 11134, 11134, 11964\n",
      "[dp] validation step is skipped\n",
      "[dp] training size: 11134\n",
      "[dp] prediction - data shape: (20283, 17), period: 1994-06-01 ~ 1995-01-31, sliding(in month): 4, test: 4\n",
      "[dp] track/sliding/test window size: 11735, 11735, 8548\n",
      "[dp] validation step is skipped\n",
      "[dp] training size: 11735\n",
      "[dp] prediction - data shape: (16757, 17), period: 1994-10-03 ~ 1995-05-31, sliding(in month): 4, test: 4\n",
      "[dp] track/sliding/test window size: 8548, 8548, 8209\n",
      "[dp] validation step is skipped\n",
      "[dp] training size: 8548\n",
      "[dp] prediction - data shape: (18466, 17), period: 1995-02-01 ~ 1995-09-29, sliding(in month): 4, test: 4\n",
      "[dp] track/sliding/test window size: 7815, 7815, 10651\n",
      "[dp] validation step is skipped\n",
      "[dp] training size: 7815\n",
      "[dp] prediction - data shape: (19255, 17), period: 1995-06-01 ~ 1996-01-31, sliding(in month): 4, test: 4\n",
      "[dp] track/sliding/test window size: 10257, 10257, 8998\n",
      "[dp] validation step is skipped\n",
      "[dp] training size: 10257\n",
      "[dp] prediction - data shape: (19527, 17), period: 1995-10-02 ~ 1996-05-31, sliding(in month): 4, test: 4\n",
      "[dp] track/sliding/test window size: 8998, 8998, 10529\n",
      "[dp] validation step is skipped\n",
      "[dp] training size: 8998\n",
      "[dp] prediction - data shape: (21701, 17), period: 1996-02-01 ~ 1996-09-30, sliding(in month): 4, test: 4\n",
      "[dp] track/sliding/test window size: 10094, 10094, 11607\n",
      "[dp] validation step is skipped\n",
      "[dp] training size: 10094\n",
      "[dp] prediction - data shape: (21318, 17), period: 1996-06-03 ~ 1997-01-31, sliding(in month): 4, test: 4\n",
      "[dp] track/sliding/test window size: 11172, 11172, 10146\n",
      "[dp] validation step is skipped\n",
      "[dp] training size: 11172\n",
      "[dp] prediction - data shape: (21449, 17), period: 1996-10-01 ~ 1997-05-30, sliding(in month): 4, test: 4\n",
      "[dp] track/sliding/test window size: 9845, 9845, 11604\n",
      "[dp] validation step is skipped\n",
      "[dp] training size: 9845\n",
      "[dp] prediction - data shape: (25379, 17), period: 1997-02-01 ~ 1997-09-30, sliding(in month): 4, test: 4\n",
      "[dp] track/sliding/test window size: 11303, 11303, 14076\n",
      "[dp] validation step is skipped\n",
      "[dp] training size: 11303\n",
      "[dp] prediction - data shape: (26803, 17), period: 1997-06-02 ~ 1998-01-30, sliding(in month): 4, test: 4\n",
      "[dp] track/sliding/test window size: 14076, 14076, 12727\n",
      "[dp] validation step is skipped\n",
      "[dp] training size: 14076\n",
      "[dp] prediction - data shape: (27651, 17), period: 1997-10-01 ~ 1998-05-29, sliding(in month): 4, test: 4\n",
      "[dp] track/sliding/test window size: 12349, 12349, 15302\n",
      "[dp] validation step is skipped\n",
      "[dp] training size: 12349\n",
      "[dp] prediction - data shape: (32807, 17), period: 1998-02-02 ~ 1998-09-30, sliding(in month): 4, test: 4\n"
     ]
    },
    {
     "name": "stderr",
     "output_type": "stream",
     "text": [
      "[dp] track/sliding/test window size: 14924, 14924, 17883\n",
      "[dp] validation step is skipped\n",
      "[dp] training size: 14924\n",
      "[dp] prediction - data shape: (31826, 17), period: 1998-06-01 ~ 1999-01-29, sliding(in month): 4, test: 4\n",
      "[dp] track/sliding/test window size: 17442, 17442, 14384\n",
      "[dp] validation step is skipped\n",
      "[dp] training size: 17442\n",
      "[dp] prediction - data shape: (30808, 17), period: 1998-10-01 ~ 1999-05-30, sliding(in month): 4, test: 4\n",
      "[dp] track/sliding/test window size: 13943, 13943, 16865\n",
      "[dp] validation step is skipped\n",
      "[dp] training size: 13943\n",
      "[dp] prediction - data shape: (35695, 17), period: 1999-02-01 ~ 1999-09-30, sliding(in month): 4, test: 4\n",
      "[dp] track/sliding/test window size: 16865, 16865, 18830\n",
      "[dp] validation step is skipped\n",
      "[dp] training size: 16865\n",
      "[dp] prediction - data shape: (33353, 17), period: 1999-06-01 ~ 2000-01-31, sliding(in month): 4, test: 4\n",
      "[dp] track/sliding/test window size: 18830, 18830, 14523\n",
      "[dp] validation step is skipped\n",
      "[dp] training size: 18830\n",
      "[dp] prediction - data shape: (31150, 17), period: 1999-10-01 ~ 2000-05-31, sliding(in month): 4, test: 4\n",
      "[dp] track/sliding/test window size: 14523, 14523, 16627\n",
      "[dp] validation step is skipped\n",
      "[dp] training size: 14523\n",
      "[dp] prediction - data shape: (33932, 17), period: 2000-02-01 ~ 2000-09-29, sliding(in month): 4, test: 4\n",
      "[dp] track/sliding/test window size: 15855, 15855, 18077\n",
      "[dp] validation step is skipped\n",
      "[dp] training size: 15855\n",
      "[dp] prediction - data shape: (31915, 17), period: 2000-06-01 ~ 2001-01-31, sliding(in month): 4, test: 4\n",
      "[dp] track/sliding/test window size: 17305, 17305, 14610\n",
      "[dp] validation step is skipped\n",
      "[dp] training size: 17305\n",
      "[dp] prediction - data shape: (29690, 17), period: 2000-10-02 ~ 2001-05-31, sliding(in month): 4, test: 4\n",
      "[dp] track/sliding/test window size: 14610, 14610, 15080\n",
      "[dp] validation step is skipped\n",
      "[dp] training size: 14610\n",
      "[dp] prediction - data shape: (32762, 17), period: 2001-02-01 ~ 2001-09-28, sliding(in month): 4, test: 4\n",
      "[dp] track/sliding/test window size: 14254, 14254, 18508\n",
      "[dp] validation step is skipped\n",
      "[dp] training size: 14254\n",
      "[dp] prediction - data shape: (31653, 17), period: 2001-06-01 ~ 2002-01-31, sliding(in month): 4, test: 4\n",
      "[dp] track/sliding/test window size: 17682, 17682, 13971\n",
      "[dp] validation step is skipped\n",
      "[dp] training size: 17682\n",
      "[dp] prediction - data shape: (32242, 17), period: 2001-10-01 ~ 2002-05-31, sliding(in month): 4, test: 4\n",
      "[dp] track/sliding/test window size: 13971, 13971, 18271\n",
      "[dp] validation step is skipped\n",
      "[dp] training size: 13971\n",
      "[dp] prediction - data shape: (36874, 17), period: 2002-02-01 ~ 2002-09-30, sliding(in month): 4, test: 4\n",
      "[dp] track/sliding/test window size: 17691, 17691, 19183\n",
      "[dp] validation step is skipped\n",
      "[dp] training size: 17691\n",
      "[dp] prediction - data shape: (34309, 17), period: 2002-06-03 ~ 2003-01-31, sliding(in month): 4, test: 4\n",
      "[dp] track/sliding/test window size: 18603, 18603, 15706\n",
      "[dp] validation step is skipped\n",
      "[dp] training size: 18603\n",
      "[dp] prediction - data shape: (32631, 17), period: 2002-10-01 ~ 2003-05-30, sliding(in month): 4, test: 4\n",
      "[dp] track/sliding/test window size: 15311, 15311, 17320\n",
      "[dp] validation step is skipped\n",
      "[dp] training size: 15311\n",
      "[dp] prediction - data shape: (38030, 17), period: 2003-02-03 ~ 2003-09-30, sliding(in month): 4, test: 4\n",
      "[dp] track/sliding/test window size: 16925, 16925, 21105\n",
      "[dp] validation step is skipped\n",
      "[dp] training size: 16925\n",
      "[dp] prediction - data shape: (39058, 17), period: 2003-06-02 ~ 2004-01-30, sliding(in month): 4, test: 4\n",
      "[dp] track/sliding/test window size: 21105, 21105, 17953\n",
      "[dp] validation step is skipped\n",
      "[dp] training size: 21105\n",
      "[dp] prediction - data shape: (37858, 17), period: 2003-10-01 ~ 2004-05-28, sliding(in month): 4, test: 4\n",
      "[dp] track/sliding/test window size: 17351, 17351, 20507\n",
      "[dp] validation step is skipped\n",
      "[dp] training size: 17351\n",
      "[dp] prediction - data shape: (41663, 17), period: 2004-02-02 ~ 2004-09-30, sliding(in month): 4, test: 4\n",
      "[dp] track/sliding/test window size: 19905, 19905, 21758\n",
      "[dp] validation step is skipped\n",
      "[dp] training size: 19905\n",
      "[dp] prediction - data shape: (38674, 17), period: 2004-06-01 ~ 2005-01-31, sliding(in month): 4, test: 4\n",
      "[dp] track/sliding/test window size: 21758, 21758, 16916\n",
      "[dp] validation step is skipped\n",
      "[dp] training size: 21758\n",
      "[dp] prediction - data shape: (35321, 17), period: 2004-10-01 ~ 2005-05-31, sliding(in month): 4, test: 4\n",
      "[dp] track/sliding/test window size: 16916, 16916, 18405\n",
      "[dp] validation step is skipped\n",
      "[dp] training size: 16916\n",
      "[dp] prediction - data shape: (38446, 17), period: 2005-02-01 ~ 2005-09-30, sliding(in month): 4, test: 4\n",
      "[dp] track/sliding/test window size: 18015, 18015, 20431\n",
      "[dp] validation step is skipped\n",
      "[dp] training size: 18015\n",
      "[dp] prediction - data shape: (34454, 17), period: 2005-06-01 ~ 2006-01-31, sliding(in month): 4, test: 4\n",
      "[dp] track/sliding/test window size: 20041, 20041, 14413\n",
      "[dp] validation step is skipped\n",
      "[dp] training size: 20041\n",
      "[dp] prediction - data shape: (28212, 17), period: 2005-10-03 ~ 2006-05-31, sliding(in month): 4, test: 4\n",
      "[dp] track/sliding/test window size: 14413, 14413, 13799\n",
      "[dp] validation step is skipped\n",
      "[dp] training size: 14413\n",
      "[dp] prediction - data shape: (26960, 17), period: 2006-02-01 ~ 2006-09-29, sliding(in month): 4, test: 4\n",
      "[dp] track/sliding/test window size: 13189, 13189, 13771\n",
      "[dp] validation step is skipped\n",
      "[dp] training size: 13189\n",
      "[dp] prediction - data shape: (24539, 17), period: 2006-06-01 ~ 2007-01-31, sliding(in month): 4, test: 4\n",
      "[dp] track/sliding/test window size: 13161, 13161, 11378\n",
      "[dp] validation step is skipped\n",
      "[dp] training size: 13161\n",
      "[dp] prediction - data shape: (22534, 17), period: 2006-10-02 ~ 2007-05-31, sliding(in month): 4, test: 4\n",
      "[dp] track/sliding/test window size: 11378, 11378, 11156\n",
      "[dp] validation step is skipped\n",
      "[dp] training size: 11378\n",
      "[dp] prediction - data shape: (21280, 17), period: 2007-02-01 ~ 2007-09-28, sliding(in month): 4, test: 4\n",
      "[dp] track/sliding/test window size: 10586, 10586, 10694\n",
      "[dp] validation step is skipped\n",
      "[dp] training size: 10586\n",
      "[dp] prediction - data shape: (17187, 17), period: 2007-06-01 ~ 2008-01-31, sliding(in month): 4, test: 4\n",
      "[dp] track/sliding/test window size: 10124, 10124, 7063\n",
      "[dp] validation step is skipped\n",
      "[dp] training size: 10124\n",
      "[dp] prediction - data shape: (15652, 17), period: 2007-10-01 ~ 2008-05-30, sliding(in month): 4, test: 4\n",
      "[dp] track/sliding/test window size: 6909, 6909, 8743\n",
      "[dp] validation step is skipped\n",
      "[dp] training size: 6909\n",
      "[dp] prediction - data shape: (20089, 17), period: 2008-02-01 ~ 2008-09-30, sliding(in month): 4, test: 4\n",
      "[dp] track/sliding/test window size: 8589, 8589, 11500\n",
      "[dp] validation step is skipped\n",
      "[dp] training size: 8589\n",
      "[dp] prediction - data shape: (22263, 17), period: 2008-06-02 ~ 2009-01-30, sliding(in month): 4, test: 4\n",
      "[dp] track/sliding/test window size: 11500, 11500, 10763\n",
      "[dp] validation step is skipped\n",
      "[dp] training size: 11500\n",
      "[dp] prediction - data shape: (21438, 17), period: 2008-10-01 ~ 2009-05-29, sliding(in month): 4, test: 4\n",
      "[dp] track/sliding/test window size: 10498, 10498, 10940\n",
      "[dp] validation step is skipped\n",
      "[dp] training size: 10498\n",
      "[dp] prediction - data shape: (23386, 17), period: 2009-02-02 ~ 2009-09-30, sliding(in month): 4, test: 4\n",
      "[dp] track/sliding/test window size: 10675, 10675, 12711\n",
      "[dp] validation step is skipped\n",
      "[dp] training size: 10675\n",
      "[dp] prediction - data shape: (24079, 17), period: 2009-06-01 ~ 2010-01-29, sliding(in month): 4, test: 4\n",
      "[dp] track/sliding/test window size: 12335, 12335, 11744\n",
      "[dp] validation step is skipped\n",
      "[dp] training size: 12335\n",
      "[dp] prediction - data shape: (22765, 17), period: 2009-10-01 ~ 2010-05-28, sliding(in month): 4, test: 4\n",
      "[dp] track/sliding/test window size: 11081, 11081, 11684\n",
      "[dp] validation step is skipped\n",
      "[dp] training size: 11081\n",
      "[dp] prediction - data shape: (22819, 17), period: 2010-02-01 ~ 2010-09-30, sliding(in month): 4, test: 4\n",
      "[dp] track/sliding/test window size: 11397, 11397, 11422\n",
      "[dp] validation step is skipped\n",
      "[dp] training size: 11397\n",
      "[dp] prediction - data shape: (20913, 17), period: 2010-06-01 ~ 2011-01-31, sliding(in month): 4, test: 4\n",
      "[dp] track/sliding/test window size: 11422, 11422, 9491\n"
     ]
    },
    {
     "name": "stderr",
     "output_type": "stream",
     "text": [
      "[dp] validation step is skipped\n",
      "[dp] training size: 11422\n",
      "[dp] prediction - data shape: (19778, 17), period: 2010-10-01 ~ 2011-05-31, sliding(in month): 4, test: 4\n",
      "[dp] track/sliding/test window size: 9491, 9491, 10287\n",
      "[dp] validation step is skipped\n",
      "[dp] training size: 9491\n",
      "[dp] prediction - data shape: (21432, 17), period: 2011-02-01 ~ 2011-09-30, sliding(in month): 4, test: 4\n",
      "[dp] track/sliding/test window size: 10108, 10108, 11324\n",
      "[dp] validation step is skipped\n",
      "[dp] training size: 10108\n",
      "[dp] prediction - data shape: (20882, 17), period: 2011-06-01 ~ 2012-01-31, sliding(in month): 4, test: 4\n",
      "[dp] track/sliding/test window size: 11145, 11145, 9737\n",
      "[dp] validation step is skipped\n",
      "[dp] training size: 11145\n",
      "[dp] prediction - data shape: (21122, 17), period: 2011-10-03 ~ 2012-05-31, sliding(in month): 4, test: 4\n",
      "[dp] track/sliding/test window size: 9737, 9737, 11385\n",
      "[dp] validation step is skipped\n",
      "[dp] training size: 9737\n",
      "[dp] prediction - data shape: (24040, 17), period: 2012-02-01 ~ 2012-09-28, sliding(in month): 4, test: 4\n",
      "[dp] track/sliding/test window size: 10771, 10771, 13269\n",
      "[dp] validation step is skipped\n",
      "[dp] training size: 10771\n",
      "[dp] prediction - data shape: (24271, 17), period: 2012-06-01 ~ 2013-01-31, sliding(in month): 4, test: 4\n",
      "[dp] track/sliding/test window size: 12655, 12655, 11616\n",
      "[dp] validation step is skipped\n",
      "[dp] training size: 12655\n",
      "[dp] prediction - data shape: (24133, 17), period: 2012-10-01 ~ 2013-05-31, sliding(in month): 4, test: 4\n",
      "[dp] track/sliding/test window size: 11616, 11616, 12517\n",
      "[dp] validation step is skipped\n",
      "[dp] training size: 11616\n",
      "[dp] prediction - data shape: (25891, 17), period: 2013-02-01 ~ 2013-09-30, sliding(in month): 4, test: 4\n",
      "[dp] track/sliding/test window size: 12213, 12213, 13678\n",
      "[dp] validation step is skipped\n",
      "[dp] training size: 12213\n",
      "[dp] prediction - data shape: (23459, 17), period: 2013-06-03 ~ 2014-01-31, sliding(in month): 4, test: 4\n",
      "[dp] track/sliding/test window size: 13374, 13374, 10085\n",
      "[dp] validation step is skipped\n",
      "[dp] training size: 13374\n",
      "[dp] prediction - data shape: (20579, 17), period: 2013-10-01 ~ 2014-05-30, sliding(in month): 4, test: 4\n",
      "[dp] track/sliding/test window size: 9888, 9888, 10691\n",
      "[dp] validation step is skipped\n",
      "[dp] training size: 9888\n",
      "[dp] prediction - data shape: (21727, 17), period: 2014-02-03 ~ 2014-09-30, sliding(in month): 4, test: 4\n",
      "[dp] track/sliding/test window size: 10494, 10494, 11233\n",
      "[dp] validation step is skipped\n",
      "[dp] training size: 10494\n",
      "[dp] prediction - data shape: (17980, 17), period: 2014-06-02 ~ 2015-01-30, sliding(in month): 4, test: 4\n",
      "[dp] track/sliding/test window size: 11233, 11233, 6747\n",
      "[dp] validation step is skipped\n",
      "[dp] training size: 11233\n",
      "[dp] prediction - data shape: (18343, 17), period: 2014-10-01 ~ 2015-05-29, sliding(in month): 4, test: 4\n",
      "[dp] track/sliding/test window size: 6576, 6576, 11767\n",
      "[dp] validation step is skipped\n",
      "[dp] training size: 6576\n",
      "[dp] prediction - data shape: (24944, 17), period: 2015-02-02 ~ 2015-09-30, sliding(in month): 4, test: 4\n",
      "[dp] track/sliding/test window size: 11596, 11596, 13348\n",
      "[dp] validation step is skipped\n",
      "[dp] training size: 11596\n",
      "[dp] prediction - data shape: (23101, 17), period: 2015-06-01 ~ 2016-01-29, sliding(in month): 4, test: 4\n",
      "[dp] track/sliding/test window size: 13127, 13127, 9974\n",
      "[dp] validation step is skipped\n",
      "[dp] training size: 13127\n",
      "[dp] prediction - data shape: (21487, 17), period: 2015-10-01 ~ 2016-05-31, sliding(in month): 4, test: 4\n",
      "[dp] track/sliding/test window size: 9753, 9753, 11734\n",
      "[dp] validation step is skipped\n",
      "[dp] training size: 9753\n",
      "[dp] prediction - data shape: (24962, 17), period: 2016-02-01 ~ 2016-09-30, sliding(in month): 4, test: 4\n",
      "[dp] track/sliding/test window size: 11481, 11481, 13481\n",
      "[dp] validation step is skipped\n",
      "[dp] training size: 11481\n",
      "[dp] prediction - data shape: (23647, 17), period: 2016-06-01 ~ 2017-01-31, sliding(in month): 4, test: 4\n",
      "[dp] track/sliding/test window size: 13228, 13228, 10419\n",
      "[dp] validation step is skipped\n",
      "[dp] training size: 13228\n",
      "[dp] prediction - data shape: (21904, 17), period: 2016-10-03 ~ 2017-05-31, sliding(in month): 4, test: 4\n",
      "[dp] track/sliding/test window size: 10419, 10419, 11485\n",
      "[dp] validation step is skipped\n",
      "[dp] training size: 10419\n",
      "[dp] prediction - data shape: (23772, 17), period: 2017-02-01 ~ 2017-09-27, sliding(in month): 4, test: 4\n",
      "[dp] track/sliding/test window size: 10996, 10996, 12776\n",
      "[dp] validation step is skipped\n",
      "[dp] training size: 10996\n"
     ]
    },
    {
     "data": {
      "text/plain": [
       "[43976.5131943247,\n",
       " 47022.894083921274,\n",
       " 54446.31280592243,\n",
       " 54364.88461667377,\n",
       " 52321.82649834702,\n",
       " 57934.318925339394,\n",
       " 66574.30728919824,\n",
       " 61475.26066468218,\n",
       " 65062.16406356966,\n",
       " 76730.80640345882,\n",
       " 79776.94889857368,\n",
       " 73416.24891611468,\n",
       " 72173.2996729165,\n",
       " 68451.73162090924,\n",
       " 70569.77328333906,\n",
       " 81794.13334772609,\n",
       " 72839.97454525618,\n",
       " 76447.53611943606,\n",
       " 77457.21196046029,\n",
       " 73399.23593784074,\n",
       " 72880.99909425605,\n",
       " 68743.93655741346,\n",
       " 73014.91205074801,\n",
       " 76545.35996071067,\n",
       " 70897.5266832006,\n",
       " 76299.02733106186,\n",
       " 78887.84187313438,\n",
       " 74492.62074704068,\n",
       " 76428.43357618847,\n",
       " 78007.29705132032,\n",
       " 73511.8092336708,\n",
       " 80105.05174287359,\n",
       " 84520.14203603512,\n",
       " 83067.34631246097,\n",
       " 83087.84064286425,\n",
       " 85988.87420844543,\n",
       " 92475.48159931831,\n",
       " 92573.17808162783,\n",
       " 84751.52969722183,\n",
       " 87414.71696669351,\n",
       " 90557.41307196312,\n",
       " 98472.9567765404,\n",
       " 108597.16560601482,\n",
       " 102104.55015713938,\n",
       " 108641.40946154356,\n",
       " 97314.38921164951,\n",
       " 93782.3785760298,\n",
       " 100264.56949627378,\n",
       " 104815.80675474979,\n",
       " 102743.00615350743,\n",
       " 105554.35497298429,\n",
       " 107673.30788234409,\n",
       " 111178.22950482006,\n",
       " 116672.72746001786,\n",
       " 139581.763303259,\n",
       " 130832.54089508383,\n",
       " 123379.52648264077,\n",
       " 121240.65231761547,\n",
       " 127033.25266527008,\n",
       " 130267.6635715747,\n",
       " 128540.95858349495,\n",
       " 125372.40282905957,\n",
       " 131504.33806696106,\n",
       " 141449.41217215967,\n",
       " 135336.07909006503,\n",
       " 138887.47085787865,\n",
       " 131114.5916394712,\n",
       " 98784.65661084825,\n",
       " 115540.37219983344,\n",
       " 95143.36485855989,\n",
       " 96537.53715958237,\n",
       " 91412.2405366352,\n",
       " 93746.42644480529,\n",
       " 89410.9464838424,\n",
       " 97852.5529555082,\n",
       " 100260.29723893381,\n",
       " 107866.5681949319,\n",
       " 97766.56723130248,\n",
       " 102806.43124063071,\n",
       " 98327.31398291817,\n",
       " 103948.93555888948,\n",
       " 114782.56532258178,\n",
       " 106676.9671749978,\n",
       " 107696.8120518285,\n",
       " 99347.95327460488,\n",
       " 95871.85505576458,\n",
       " 90921.34128635052,\n",
       " 93417.93310962681,\n",
       " 87635.55798250175,\n",
       " 79855.3577505584,\n",
       " 74564.16936809244,\n",
       " 66524.26555660352,\n",
       " 63814.87988706154,\n",
       " 81552.39478789763,\n",
       " 115157.95560385742]"
      ]
     },
     "execution_count": 14,
     "metadata": {},
     "output_type": "execute_result"
    }
   ],
   "source": [
    "### regress with 4-month sliding window\n",
    "mr_full.regress(df_all, sliding_window=4)"
   ]
  },
  {
   "cell_type": "code",
   "execution_count": 15,
   "metadata": {},
   "outputs": [
    {
     "name": "stderr",
     "output_type": "stream",
     "text": [
      "[dp] data range: 1985-10-01 - 2017-09-27\n",
      "[dp] sliding_windows: [4, 4, 4, 4, 4, 4, 4, 4, 4, 4, 4, 4, 4, 4, 4, 4, 4, 4, 4, 4, 4, 4, 4, 4, 4, 4, 4, 4, 4, 4, 4, 4, 4, 4, 4, 4, 4, 4, 4, 4, 4, 4, 4, 4, 4, 4, 4, 4, 4, 4, 4, 4, 4, 4, 4, 4, 4, 4, 4, 4, 4, 4, 4, 4, 4, 4, 4, 4, 4, 4, 4, 4, 4, 4, 4, 4, 4, 4, 4, 4, 4, 4, 4, 4, 4, 4, 4, 4, 4, 4, 4, 4, 4, 4, 4]\n",
      "[dp] errors: [43976.5131943247, 47022.894083921274, 54446.31280592243, 54364.88461667377, 52321.82649834702, 57934.318925339394, 66574.30728919824, 61475.26066468218, 65062.16406356966, 76730.80640345882, 79776.94889857368, 73416.24891611468, 72173.2996729165, 68451.73162090924, 70569.77328333906, 81794.13334772609, 72839.97454525618, 76447.53611943606, 77457.21196046029, 73399.23593784074, 72880.99909425605, 68743.93655741346, 73014.91205074801, 76545.35996071067, 70897.5266832006, 76299.02733106186, 78887.84187313438, 74492.62074704068, 76428.43357618847, 78007.29705132032, 73511.8092336708, 80105.05174287359, 84520.14203603512, 83067.34631246097, 83087.84064286425, 85988.87420844543, 92475.48159931831, 92573.17808162783, 84751.52969722183, 87414.71696669351, 90557.41307196312, 98472.9567765404, 108597.16560601482, 102104.55015713938, 108641.40946154356, 97314.38921164951, 93782.3785760298, 100264.56949627378, 104815.80675474979, 102743.00615350743, 105554.35497298429, 107673.30788234409, 111178.22950482006, 116672.72746001786, 139581.763303259, 130832.54089508383, 123379.52648264077, 121240.65231761547, 127033.25266527008, 130267.6635715747, 128540.95858349495, 125372.40282905957, 131504.33806696106, 141449.41217215967, 135336.07909006503, 138887.47085787865, 131114.5916394712, 98784.65661084825, 115540.37219983344, 95143.36485855989, 96537.53715958237, 91412.2405366352, 93746.42644480529, 89410.9464838424, 97852.5529555082, 100260.29723893381, 107866.5681949319, 97766.56723130248, 102806.43124063071, 98327.31398291817, 103948.93555888948, 114782.56532258178, 106676.9671749978, 107696.8120518285, 99347.95327460488, 95871.85505576458, 90921.34128635052, 93417.93310962681, 87635.55798250175, 79855.3577505584, 74564.16936809244, 66524.26555660352, 63814.87988706154, 81552.39478789763, 115157.95560385742]\n"
     ]
    },
    {
     "data": {
      "image/png": "[encoded data removed]",
      "text/plain": [
       "<matplotlib.figure.Figure at 0x234a0f84e80>"
      ]
     },
     "metadata": {},
     "output_type": "display_data"
    }
   ],
   "source": [
    "df_sum_4 = mr_full.summary()\n",
    "plot_trends(df_sum_4, ['error'])"
   ]
  },
  {
   "cell_type": "code",
   "execution_count": 19,
   "metadata": {
    "collapsed": true
   },
   "outputs": [
    {
     "name": "stderr",
     "output_type": "stream",
     "text": [
      "[dp] prediction - data shape: (26051, 17), period: 1985-10-01 ~ 1986-05-30, sliding(in month): 4, test: 4\n",
      "[dp] track/sliding/test window size: 13403, 13403, 12648\n",
      "[dp] validation step is skipped\n",
      "[dp] training size: 13403\n",
      "[dp] prediction - data shape: (43749, 17), period: 1985-10-01 ~ 1986-09-30, sliding(in month): 8, test: 4\n",
      "[dp] track/sliding/test window size: 26051, 26051, 17698\n",
      "[dp] validation step is skipped\n",
      "[dp] training size: 26051\n",
      "[dp] prediction - data shape: (61867, 17), period: 1985-10-01 ~ 1987-01-30, sliding(in month): 12, test: 4\n",
      "[dp] track/sliding/test window size: 43749, 43749, 18118\n",
      "[dp] validation step is skipped\n",
      "[dp] training size: 43749\n",
      "[dp] prediction - data shape: (63207, 17), period: 1986-02-03 ~ 1987-05-29, sliding(in month): 12, test: 4\n",
      "[dp] track/sliding/test window size: 47724, 47724, 15483\n",
      "[dp] validation step is skipped\n",
      "[dp] training size: 47724\n",
      "[dp] prediction - data shape: (69151, 17), period: 1986-06-02 ~ 1987-09-30, sliding(in month): 12, test: 4\n",
      "[dp] track/sliding/test window size: 50944, 50944, 18207\n",
      "[dp] validation step is skipped\n",
      "[dp] training size: 50944\n",
      "[dp] validation - data shape: (110216, 17), sliding(in month): 4, period: 1985-10-01 ~ 1988-01-31\n",
      "[dp] track/sliding/test window size: 95202, 13788, 15014\n",
      "[dp] walk-forward train:(13788,), test:(15014,), scope:0 ~ 28801\n",
      "[dp] walk-forward train:(13788,), test:(15014,), scope:15014 ~ 43815\n",
      "[dp] walk-forward train:(13788,), test:(15014,), scope:30028 ~ 58829\n",
      "[dp] walk-forward train:(13788,), test:(15014,), scope:45042 ~ 73843\n",
      "[dp] walk-forward train:(13788,), test:(15014,), scope:60056 ~ 88857\n",
      "[dp] training size: 95202\n"
     ]
    },
    {
     "name": "stdout",
     "output_type": "stream",
     "text": [
      "Fitting 5 folds for each of 1 candidates, totalling 5 fits\n"
     ]
    },
    {
     "name": "stderr",
     "output_type": "stream",
     "text": [
      "[Parallel(n_jobs=-1)]: Done   5 out of   5 | elapsed:    6.9s finished\n",
      "[dp] validation - sliding(in month):4, score: -2432692112.547437\n",
      "[dp] validation - data shape: (110216, 17), sliding(in month): 8, period: 1985-10-01 ~ 1988-01-31\n",
      "[dp] track/sliding/test window size: 95202, 26051, 15014\n",
      "[dp] walk-forward train:(26051,), test:(15014,), scope:0 ~ 41064\n",
      "[dp] walk-forward train:(26051,), test:(15014,), scope:15014 ~ 56078\n",
      "[dp] walk-forward train:(26051,), test:(15014,), scope:30028 ~ 71092\n",
      "[dp] walk-forward train:(26051,), test:(15014,), scope:45042 ~ 86106\n",
      "[dp] training size: 95202\n"
     ]
    },
    {
     "name": "stdout",
     "output_type": "stream",
     "text": [
      "Fitting 4 folds for each of 1 candidates, totalling 4 fits\n"
     ]
    },
    {
     "name": "stderr",
     "output_type": "stream",
     "text": [
      "[Parallel(n_jobs=-1)]: Done   2 out of   4 | elapsed:    8.5s remaining:    8.5s\n",
      "[Parallel(n_jobs=-1)]: Done   4 out of   4 | elapsed:    9.3s finished\n",
      "[dp] validation - sliding(in month):8, score: -2499199348.598236\n",
      "[dp] validation - data shape: (110216, 17), sliding(in month): 12, period: 1985-10-01 ~ 1988-01-31\n",
      "[dp] track/sliding/test window size: 95202, 43749, 15014\n",
      "[dp] walk-forward train:(43749,), test:(15014,), scope:0 ~ 58762\n",
      "[dp] walk-forward train:(43749,), test:(15014,), scope:15014 ~ 73776\n",
      "[dp] walk-forward train:(43749,), test:(15014,), scope:30028 ~ 88790\n",
      "[dp] training size: 95202\n"
     ]
    },
    {
     "name": "stdout",
     "output_type": "stream",
     "text": [
      "Fitting 3 folds for each of 1 candidates, totalling 3 fits\n"
     ]
    },
    {
     "name": "stderr",
     "output_type": "stream",
     "text": [
      "[Parallel(n_jobs=-1)]: Done   3 out of   3 | elapsed:   10.2s finished\n",
      "[dp] validation - sliding(in month):12, score: -2487935568.791562\n",
      "[dp] prediction - data shape: (33221, 17), period: 1987-06-01 ~ 1988-01-31, sliding(in month): 4, test: 4\n",
      "[dp] track/sliding/test window size: 18207, 18207, 15014\n",
      "[dp] validation step is skipped\n",
      "[dp] training size: 18207\n",
      "[dp] prediction - data shape: (30695, 17), period: 1987-10-01 ~ 1988-05-31, sliding(in month): 4, test: 4\n",
      "[dp] track/sliding/test window size: 15014, 15014, 15681\n",
      "[dp] validation step is skipped\n",
      "[dp] training size: 15014\n",
      "[dp] prediction - data shape: (37290, 17), period: 1988-02-01 ~ 1988-09-30, sliding(in month): 4, test: 4\n",
      "[dp] track/sliding/test window size: 15431, 15431, 21859\n",
      "[dp] validation step is skipped\n",
      "[dp] training size: 15431\n",
      "[dp] prediction - data shape: (40106, 17), period: 1988-06-01 ~ 1989-01-31, sliding(in month): 4, test: 4\n",
      "[dp] track/sliding/test window size: 21609, 21609, 18497\n",
      "[dp] validation step is skipped\n",
      "[dp] training size: 21609\n",
      "[dp] prediction - data shape: (35722, 17), period: 1988-10-03 ~ 1989-05-31, sliding(in month): 4, test: 4\n",
      "[dp] track/sliding/test window size: 18497, 18497, 17225\n",
      "[dp] validation step is skipped\n",
      "[dp] training size: 18497\n",
      "[dp] prediction - data shape: (35282, 17), period: 1989-02-01 ~ 1989-09-29, sliding(in month): 4, test: 4\n",
      "[dp] track/sliding/test window size: 16705, 16705, 18577\n",
      "[dp] validation step is skipped\n",
      "[dp] training size: 16705\n",
      "[dp] validation - data shape: (121269, 17), sliding(in month): 4, period: 1987-10-01 ~ 1990-01-31\n",
      "[dp] track/sliding/test window size: 106083, 15014, 15186\n",
      "[dp] walk-forward train:(15014,), test:(15186,), scope:0 ~ 30199\n",
      "[dp] walk-forward train:(15014,), test:(15186,), scope:15186 ~ 45385\n",
      "[dp] walk-forward train:(15014,), test:(15186,), scope:30372 ~ 60571\n",
      "[dp] walk-forward train:(15014,), test:(15186,), scope:45558 ~ 75757\n",
      "[dp] walk-forward train:(15014,), test:(15186,), scope:60744 ~ 90943\n",
      "[dp] training size: 106083\n"
     ]
    },
    {
     "name": "stdout",
     "output_type": "stream",
     "text": [
      "Fitting 5 folds for each of 1 candidates, totalling 5 fits\n"
     ]
    },
    {
     "name": "stderr",
     "output_type": "stream",
     "text": [
      "[Parallel(n_jobs=-1)]: Done   5 out of   5 | elapsed:    7.4s finished\n",
      "[dp] validation - sliding(in month):4, score: -4405127365.537791\n",
      "[dp] validation - data shape: (121269, 17), sliding(in month): 8, period: 1987-10-01 ~ 1990-01-31\n",
      "[dp] track/sliding/test window size: 106083, 30695, 15186\n",
      "[dp] walk-forward train:(30695,), test:(15186,), scope:0 ~ 45880\n",
      "[dp] walk-forward train:(30695,), test:(15186,), scope:15186 ~ 61066\n",
      "[dp] walk-forward train:(30695,), test:(15186,), scope:30372 ~ 76252\n",
      "[dp] walk-forward train:(30695,), test:(15186,), scope:45558 ~ 91438\n",
      "[dp] training size: 106083\n"
     ]
    },
    {
     "name": "stdout",
     "output_type": "stream",
     "text": [
      "Fitting 4 folds for each of 1 candidates, totalling 4 fits\n"
     ]
    },
    {
     "name": "stderr",
     "output_type": "stream",
     "text": [
      "[Parallel(n_jobs=-1)]: Done   2 out of   4 | elapsed:    9.1s remaining:    9.1s\n",
      "[Parallel(n_jobs=-1)]: Done   4 out of   4 | elapsed:    9.9s finished\n",
      "[dp] validation - sliding(in month):8, score: -4426638494.739366\n",
      "[dp] validation - data shape: (121269, 17), sliding(in month): 12, period: 1987-10-01 ~ 1990-01-31\n",
      "[dp] track/sliding/test window size: 106083, 52304, 15186\n",
      "[dp] walk-forward train:(52304,), test:(15186,), scope:0 ~ 67489\n",
      "[dp] walk-forward train:(52304,), test:(15186,), scope:15186 ~ 82675\n",
      "[dp] walk-forward train:(52304,), test:(15186,), scope:30372 ~ 97861\n",
      "[dp] training size: 106083\n"
     ]
    },
    {
     "name": "stdout",
     "output_type": "stream",
     "text": [
      "Fitting 3 folds for each of 1 candidates, totalling 3 fits\n"
     ]
    },
    {
     "name": "stderr",
     "output_type": "stream",
     "text": [
      "[Parallel(n_jobs=-1)]: Done   3 out of   3 | elapsed:   11.6s finished\n",
      "[dp] validation - sliding(in month):12, score: -5465440739.6275835\n",
      "[dp] prediction - data shape: (33243, 17), period: 1989-06-01 ~ 1990-01-31, sliding(in month): 4, test: 4\n",
      "[dp] track/sliding/test window size: 18057, 18057, 15186\n",
      "[dp] validation step is skipped\n",
      "[dp] training size: 18057\n",
      "[dp] prediction - data shape: (28808, 17), period: 1989-10-02 ~ 1990-05-31, sliding(in month): 4, test: 4\n",
      "[dp] track/sliding/test window size: 15186, 15186, 13622\n",
      "[dp] validation step is skipped\n",
      "[dp] training size: 15186\n",
      "[dp] prediction - data shape: (26991, 17), period: 1990-02-01 ~ 1990-09-28, sliding(in month): 4, test: 4\n",
      "[dp] track/sliding/test window size: 13034, 13034, 13957\n",
      "[dp] validation step is skipped\n",
      "[dp] training size: 13034\n",
      "[dp] prediction - data shape: (22587, 17), period: 1990-06-01 ~ 1991-01-31, sliding(in month): 4, test: 4\n",
      "[dp] track/sliding/test window size: 13369, 13369, 9218\n",
      "[dp] validation step is skipped\n",
      "[dp] training size: 13369\n",
      "[dp] prediction - data shape: (19548, 17), period: 1990-10-01 ~ 1991-05-31, sliding(in month): 4, test: 4\n",
      "[dp] track/sliding/test window size: 9218, 9218, 10330\n",
      "[dp] validation step is skipped\n",
      "[dp] training size: 9218\n",
      "[dp] prediction - data shape: (21886, 17), period: 1991-02-01 ~ 1991-09-30, sliding(in month): 4, test: 4\n",
      "[dp] track/sliding/test window size: 9891, 9891, 11995\n",
      "[dp] validation step is skipped\n",
      "[dp] training size: 9891\n",
      "[dp] validation - data shape: (82430, 17), sliding(in month): 4, period: 1989-10-02 ~ 1992-01-31\n",
      "[dp] track/sliding/test window size: 73281, 15359, 9149\n",
      "[dp] walk-forward train:(15359,), test:(9149,), scope:0 ~ 24507\n",
      "[dp] walk-forward train:(15359,), test:(9149,), scope:9149 ~ 33656\n",
      "[dp] walk-forward train:(15359,), test:(9149,), scope:18298 ~ 42805\n",
      "[dp] walk-forward train:(15359,), test:(9149,), scope:27447 ~ 51954\n",
      "[dp] walk-forward train:(15359,), test:(9149,), scope:36596 ~ 61103\n",
      "[dp] walk-forward train:(15359,), test:(9149,), scope:45745 ~ 70252\n",
      "[dp] training size: 73281\n"
     ]
    },
    {
     "name": "stdout",
     "output_type": "stream",
     "text": [
      "Fitting 6 folds for each of 1 candidates, totalling 6 fits\n"
     ]
    },
    {
     "name": "stderr",
     "output_type": "stream",
     "text": [
      "[Parallel(n_jobs=-1)]: Done   6 out of   6 | elapsed:    8.0s remaining:    0.0s\n",
      "[Parallel(n_jobs=-1)]: Done   6 out of   6 | elapsed:    8.0s finished\n",
      "[dp] validation - sliding(in month):4, score: -5251001880.892931\n",
      "[dp] validation - data shape: (82430, 17), sliding(in month): 8, period: 1989-10-02 ~ 1992-01-31\n",
      "[dp] track/sliding/test window size: 73281, 29122, 9149\n",
      "[dp] walk-forward train:(29122,), test:(9149,), scope:0 ~ 38270\n",
      "[dp] walk-forward train:(29122,), test:(9149,), scope:9149 ~ 47419\n",
      "[dp] walk-forward train:(29122,), test:(9149,), scope:18298 ~ 56568\n",
      "[dp] walk-forward train:(29122,), test:(9149,), scope:27447 ~ 65717\n",
      "[dp] training size: 73281\n"
     ]
    },
    {
     "name": "stdout",
     "output_type": "stream",
     "text": [
      "Fitting 4 folds for each of 1 candidates, totalling 4 fits\n"
     ]
    },
    {
     "name": "stderr",
     "output_type": "stream",
     "text": [
      "[Parallel(n_jobs=-1)]: Done   2 out of   4 | elapsed:    8.4s remaining:    8.4s\n",
      "[Parallel(n_jobs=-1)]: Done   4 out of   4 | elapsed:    9.3s finished\n",
      "[dp] validation - sliding(in month):8, score: -5264338768.136841\n",
      "[dp] validation - data shape: (82430, 17), sliding(in month): 12, period: 1989-10-02 ~ 1992-01-31\n",
      "[dp] track/sliding/test window size: 73281, 42313, 9149\n",
      "[dp] walk-forward train:(42313,), test:(9149,), scope:0 ~ 51461\n",
      "[dp] walk-forward train:(42313,), test:(9149,), scope:9149 ~ 60610\n",
      "[dp] walk-forward train:(42313,), test:(9149,), scope:18298 ~ 69759\n",
      "[dp] training size: 73281\n"
     ]
    },
    {
     "name": "stdout",
     "output_type": "stream",
     "text": [
      "Fitting 3 folds for each of 1 candidates, totalling 3 fits\n"
     ]
    },
    {
     "name": "stderr",
     "output_type": "stream",
     "text": [
      "[Parallel(n_jobs=-1)]: Done   3 out of   3 | elapsed:   10.8s finished\n",
      "[dp] validation - sliding(in month):12, score: -5407583685.051001\n",
      "[dp] prediction - data shape: (20705, 17), period: 1991-06-03 ~ 1992-01-31, sliding(in month): 4, test: 4\n",
      "[dp] track/sliding/test window size: 11556, 11556, 9149\n",
      "[dp] validation step is skipped\n",
      "[dp] training size: 11556\n",
      "[dp] prediction - data shape: (19254, 17), period: 1991-10-01 ~ 1992-05-29, sliding(in month): 4, test: 4\n",
      "[dp] track/sliding/test window size: 8830, 8830, 10424\n",
      "[dp] validation step is skipped\n",
      "[dp] training size: 8830\n",
      "[dp] prediction - data shape: (20174, 17), period: 1992-02-03 ~ 1992-09-30, sliding(in month): 4, test: 4\n",
      "[dp] track/sliding/test window size: 10105, 10105, 10069\n",
      "[dp] validation step is skipped\n",
      "[dp] training size: 10105\n",
      "[dp] prediction - data shape: (19237, 17), period: 1992-06-01 ~ 1993-01-30, sliding(in month): 4, test: 4\n",
      "[dp] track/sliding/test window size: 10069, 10069, 9168\n",
      "[dp] validation step is skipped\n",
      "[dp] training size: 10069\n",
      "[dp] prediction - data shape: (18087, 17), period: 1992-10-01 ~ 1993-05-28, sliding(in month): 4, test: 4\n",
      "[dp] track/sliding/test window size: 8930, 8930, 9157\n",
      "[dp] validation step is skipped\n",
      "[dp] training size: 8930\n",
      "[dp] prediction - data shape: (19663, 17), period: 1993-02-01 ~ 1993-09-30, sliding(in month): 4, test: 4\n",
      "[dp] track/sliding/test window size: 8919, 8919, 10744\n",
      "[dp] validation step is skipped\n",
      "[dp] training size: 8919\n",
      "[dp] validation - data shape: (68101, 17), sliding(in month): 4, period: 1991-10-01 ~ 1994-01-31\n",
      "[dp] track/sliding/test window size: 58154, 9149, 9947\n",
      "[dp] walk-forward train:(9149,), test:(9947,), scope:0 ~ 19095\n",
      "[dp] walk-forward train:(9149,), test:(9947,), scope:9947 ~ 29042\n",
      "[dp] walk-forward train:(9149,), test:(9947,), scope:19894 ~ 38989\n",
      "[dp] walk-forward train:(9149,), test:(9947,), scope:29841 ~ 48936\n",
      "[dp] training size: 58154\n"
     ]
    },
    {
     "name": "stdout",
     "output_type": "stream",
     "text": [
      "Fitting 4 folds for each of 1 candidates, totalling 4 fits\n"
     ]
    },
    {
     "name": "stderr",
     "output_type": "stream",
     "text": [
      "[Parallel(n_jobs=-1)]: Done   2 out of   4 | elapsed:    3.4s remaining:    3.4s\n",
      "[Parallel(n_jobs=-1)]: Done   4 out of   4 | elapsed:    5.3s finished\n",
      "[dp] validation - sliding(in month):4, score: -5505806291.310549\n",
      "[dp] validation - data shape: (68101, 17), sliding(in month): 8, period: 1991-10-01 ~ 1994-01-31\n",
      "[dp] track/sliding/test window size: 58154, 19254, 9947\n",
      "[dp] walk-forward train:(19254,), test:(9947,), scope:0 ~ 29200\n",
      "[dp] walk-forward train:(19254,), test:(9947,), scope:9947 ~ 39147\n",
      "[dp] walk-forward train:(19254,), test:(9947,), scope:19894 ~ 49094\n",
      "[dp] training size: 58154\n"
     ]
    },
    {
     "name": "stdout",
     "output_type": "stream",
     "text": [
      "Fitting 3 folds for each of 1 candidates, totalling 3 fits\n"
     ]
    },
    {
     "name": "stderr",
     "output_type": "stream",
     "text": [
      "[Parallel(n_jobs=-1)]: Done   3 out of   3 | elapsed:    5.7s finished\n",
      "[dp] validation - sliding(in month):8, score: -5340089678.263594\n",
      "[dp] validation - data shape: (68101, 17), sliding(in month): 12, period: 1991-10-01 ~ 1994-01-31\n",
      "[dp] track/sliding/test window size: 58154, 29323, 9947\n",
      "[dp] walk-forward train:(29323,), test:(9947,), scope:0 ~ 39269\n",
      "[dp] walk-forward train:(29323,), test:(9947,), scope:9947 ~ 49216\n",
      "[dp] training size: 58154\n"
     ]
    },
    {
     "name": "stdout",
     "output_type": "stream",
     "text": [
      "Fitting 2 folds for each of 1 candidates, totalling 2 fits\n"
     ]
    },
    {
     "name": "stderr",
     "output_type": "stream",
     "text": [
      "[Parallel(n_jobs=-1)]: Done   2 out of   2 | elapsed:    5.4s finished\n",
      "[dp] validation - sliding(in month):12, score: -4750515186.1239605\n",
      "[dp] prediction - data shape: (38778, 17), period: 1992-10-01 ~ 1994-01-31, sliding(in month): 12, test: 4\n",
      "[dp] track/sliding/test window size: 28831, 28831, 9947\n",
      "[dp] validation step is skipped\n",
      "[dp] training size: 28831\n",
      "[dp] prediction - data shape: (40973, 17), period: 1993-02-01 ~ 1994-05-31, sliding(in month): 12, test: 4\n",
      "[dp] track/sliding/test window size: 29610, 29610, 11363\n",
      "[dp] validation step is skipped\n",
      "[dp] training size: 29610\n",
      "[dp] prediction - data shape: (43789, 17), period: 1993-06-01 ~ 1994-09-30, sliding(in month): 12, test: 4\n",
      "[dp] track/sliding/test window size: 31825, 31825, 11964\n",
      "[dp] validation step is skipped\n",
      "[dp] training size: 31825\n",
      "[dp] prediction - data shape: (41593, 17), period: 1993-10-01 ~ 1995-01-31, sliding(in month): 12, test: 4\n",
      "[dp] track/sliding/test window size: 33045, 33045, 8548\n",
      "[dp] validation step is skipped\n",
      "[dp] training size: 33045\n",
      "[dp] prediction - data shape: (39855, 17), period: 1994-02-01 ~ 1995-05-31, sliding(in month): 12, test: 4\n",
      "[dp] track/sliding/test window size: 31646, 31646, 8209\n",
      "[dp] validation step is skipped\n",
      "[dp] training size: 31646\n",
      "[dp] prediction - data shape: (38749, 17), period: 1994-06-01 ~ 1995-09-29, sliding(in month): 12, test: 4\n",
      "[dp] track/sliding/test window size: 28098, 28098, 10651\n",
      "[dp] validation step is skipped\n",
      "[dp] training size: 28098\n",
      "[dp] validation - data shape: (69057, 17), sliding(in month): 4, period: 1993-10-01 ~ 1996-01-31\n",
      "[dp] track/sliding/test window size: 60059, 9947, 8998\n",
      "[dp] walk-forward train:(9947,), test:(8998,), scope:0 ~ 18944\n",
      "[dp] walk-forward train:(9947,), test:(8998,), scope:8998 ~ 27942\n",
      "[dp] walk-forward train:(9947,), test:(8998,), scope:17996 ~ 36940\n",
      "[dp] walk-forward train:(9947,), test:(8998,), scope:26994 ~ 45938\n",
      "[dp] walk-forward train:(9947,), test:(8998,), scope:35992 ~ 54936\n",
      "[dp] training size: 60059\n"
     ]
    },
    {
     "name": "stdout",
     "output_type": "stream",
     "text": [
      "Fitting 5 folds for each of 1 candidates, totalling 5 fits\n"
     ]
    },
    {
     "name": "stderr",
     "output_type": "stream",
     "text": [
      "[Parallel(n_jobs=-1)]: Done   5 out of   5 | elapsed:    6.3s finished\n",
      "[dp] validation - sliding(in month):4, score: -5620762575.599433\n",
      "[dp] validation - data shape: (69057, 17), sliding(in month): 8, period: 1993-10-01 ~ 1996-01-31\n",
      "[dp] track/sliding/test window size: 60059, 21310, 8998\n",
      "[dp] walk-forward train:(21310,), test:(8998,), scope:0 ~ 30307\n",
      "[dp] walk-forward train:(21310,), test:(8998,), scope:8998 ~ 39305\n",
      "[dp] walk-forward train:(21310,), test:(8998,), scope:17996 ~ 48303\n",
      "[dp] walk-forward train:(21310,), test:(8998,), scope:26994 ~ 57301\n",
      "[dp] training size: 60059\n"
     ]
    },
    {
     "name": "stdout",
     "output_type": "stream",
     "text": [
      "Fitting 4 folds for each of 1 candidates, totalling 4 fits\n"
     ]
    },
    {
     "name": "stderr",
     "output_type": "stream",
     "text": [
      "[Parallel(n_jobs=-1)]: Done   2 out of   4 | elapsed:    7.1s remaining:    7.1s\n",
      "[Parallel(n_jobs=-1)]: Done   4 out of   4 | elapsed:    8.0s finished\n",
      "[dp] validation - sliding(in month):8, score: -5432387645.044645\n",
      "[dp] validation - data shape: (69057, 17), sliding(in month): 12, period: 1993-10-01 ~ 1996-01-31\n",
      "[dp] track/sliding/test window size: 60059, 33045, 8998\n",
      "[dp] walk-forward train:(33045,), test:(8998,), scope:0 ~ 42042\n",
      "[dp] walk-forward train:(33045,), test:(8998,), scope:8998 ~ 51040\n",
      "[dp] walk-forward train:(33045,), test:(8998,), scope:17996 ~ 60038\n",
      "[dp] training size: 60059\n"
     ]
    },
    {
     "name": "stdout",
     "output_type": "stream",
     "text": [
      "Fitting 3 folds for each of 1 candidates, totalling 3 fits\n"
     ]
    },
    {
     "name": "stderr",
     "output_type": "stream",
     "text": [
      "[Parallel(n_jobs=-1)]: Done   3 out of   3 | elapsed:    9.1s finished\n",
      "[dp] validation - sliding(in month):12, score: -5205811286.390984\n",
      "[dp] prediction - data shape: (36012, 17), period: 1994-10-03 ~ 1996-01-31, sliding(in month): 12, test: 4\n",
      "[dp] track/sliding/test window size: 27014, 27014, 8998\n",
      "[dp] validation step is skipped\n",
      "[dp] training size: 27014\n",
      "[dp] prediction - data shape: (37993, 17), period: 1995-02-01 ~ 1996-05-31, sliding(in month): 12, test: 4\n",
      "[dp] track/sliding/test window size: 27464, 27464, 10529\n",
      "[dp] validation step is skipped\n",
      "[dp] training size: 27464\n",
      "[dp] prediction - data shape: (40956, 17), period: 1995-06-01 ~ 1996-09-30, sliding(in month): 12, test: 4\n",
      "[dp] track/sliding/test window size: 29349, 29349, 11607\n",
      "[dp] validation step is skipped\n",
      "[dp] training size: 29349\n",
      "[dp] prediction - data shape: (40845, 17), period: 1995-10-02 ~ 1997-01-31, sliding(in month): 12, test: 4\n",
      "[dp] track/sliding/test window size: 30699, 30699, 10146\n",
      "[dp] validation step is skipped\n",
      "[dp] training size: 30699\n",
      "[dp] prediction - data shape: (43150, 17), period: 1996-02-01 ~ 1997-05-30, sliding(in month): 12, test: 4\n",
      "[dp] track/sliding/test window size: 31546, 31546, 11604\n",
      "[dp] validation step is skipped\n",
      "[dp] training size: 31546\n",
      "[dp] prediction - data shape: (46697, 17), period: 1996-06-03 ~ 1997-09-30, sliding(in month): 12, test: 4\n",
      "[dp] track/sliding/test window size: 32621, 32621, 14076\n",
      "[dp] validation step is skipped\n",
      "[dp] training size: 32621\n",
      "[dp] validation - data shape: (78951, 17), sliding(in month): 4, period: 1995-10-02 ~ 1998-01-30\n",
      "[dp] track/sliding/test window size: 66224, 9078, 12727\n",
      "[dp] walk-forward train:(9078,), test:(12727,), scope:0 ~ 21804\n",
      "[dp] walk-forward train:(9078,), test:(12727,), scope:12727 ~ 34531\n",
      "[dp] walk-forward train:(9078,), test:(12727,), scope:25454 ~ 47258\n",
      "[dp] walk-forward train:(9078,), test:(12727,), scope:38181 ~ 59985\n",
      "[dp] training size: 66224\n"
     ]
    },
    {
     "name": "stdout",
     "output_type": "stream",
     "text": [
      "Fitting 4 folds for each of 1 candidates, totalling 4 fits\n"
     ]
    },
    {
     "name": "stderr",
     "output_type": "stream",
     "text": [
      "[Parallel(n_jobs=-1)]: Done   2 out of   4 | elapsed:    3.9s remaining:    3.9s\n",
      "[Parallel(n_jobs=-1)]: Done   4 out of   4 | elapsed:    5.8s finished\n",
      "[dp] validation - sliding(in month):4, score: -6569533966.73598\n",
      "[dp] validation - data shape: (78951, 17), sliding(in month): 8, period: 1995-10-02 ~ 1998-01-30\n",
      "[dp] track/sliding/test window size: 66224, 19527, 12727\n",
      "[dp] walk-forward train:(19527,), test:(12727,), scope:0 ~ 32253\n",
      "[dp] walk-forward train:(19527,), test:(12727,), scope:12727 ~ 44980\n",
      "[dp] walk-forward train:(19527,), test:(12727,), scope:25454 ~ 57707\n",
      "[dp] training size: 66224\n"
     ]
    },
    {
     "name": "stdout",
     "output_type": "stream",
     "text": [
      "Fitting 3 folds for each of 1 candidates, totalling 3 fits\n"
     ]
    },
    {
     "name": "stderr",
     "output_type": "stream",
     "text": [
      "[Parallel(n_jobs=-1)]: Done   3 out of   3 | elapsed:    6.0s finished\n",
      "[dp] validation - sliding(in month):8, score: -6727132952.745265\n",
      "[dp] validation - data shape: (78951, 17), sliding(in month): 12, period: 1995-10-02 ~ 1998-01-30\n",
      "[dp] track/sliding/test window size: 66224, 30819, 12727\n",
      "[dp] walk-forward train:(30819,), test:(12727,), scope:0 ~ 43545\n",
      "[dp] walk-forward train:(30819,), test:(12727,), scope:12727 ~ 56272\n",
      "[dp] training size: 66224\n"
     ]
    },
    {
     "name": "stdout",
     "output_type": "stream",
     "text": [
      "Fitting 2 folds for each of 1 candidates, totalling 2 fits\n"
     ]
    },
    {
     "name": "stderr",
     "output_type": "stream",
     "text": [
      "[Parallel(n_jobs=-1)]: Done   2 out of   2 | elapsed:    5.7s finished\n",
      "[dp] validation - sliding(in month):12, score: -6847220205.515295\n",
      "[dp] prediction - data shape: (26803, 17), period: 1997-06-02 ~ 1998-01-30, sliding(in month): 4, test: 4\n",
      "[dp] track/sliding/test window size: 14076, 14076, 12727\n",
      "[dp] validation step is skipped\n",
      "[dp] training size: 14076\n",
      "[dp] prediction - data shape: (27651, 17), period: 1997-10-01 ~ 1998-05-29, sliding(in month): 4, test: 4\n",
      "[dp] track/sliding/test window size: 12349, 12349, 15302\n",
      "[dp] validation step is skipped\n",
      "[dp] training size: 12349\n",
      "[dp] prediction - data shape: (32807, 17), period: 1998-02-02 ~ 1998-09-30, sliding(in month): 4, test: 4\n",
      "[dp] track/sliding/test window size: 14924, 14924, 17883\n",
      "[dp] validation step is skipped\n",
      "[dp] training size: 14924\n",
      "[dp] prediction - data shape: (31826, 17), period: 1998-06-01 ~ 1999-01-29, sliding(in month): 4, test: 4\n",
      "[dp] track/sliding/test window size: 17442, 17442, 14384\n",
      "[dp] validation step is skipped\n",
      "[dp] training size: 17442\n",
      "[dp] prediction - data shape: (30808, 17), period: 1998-10-01 ~ 1999-05-30, sliding(in month): 4, test: 4\n",
      "[dp] track/sliding/test window size: 13943, 13943, 16865\n",
      "[dp] validation step is skipped\n",
      "[dp] training size: 13943\n",
      "[dp] prediction - data shape: (35695, 17), period: 1999-02-01 ~ 1999-09-30, sliding(in month): 4, test: 4\n",
      "[dp] track/sliding/test window size: 16865, 16865, 18830\n",
      "[dp] validation step is skipped\n",
      "[dp] training size: 16865\n",
      "[dp] validation - data shape: (109695, 17), sliding(in month): 4, period: 1997-10-01 ~ 2000-01-31\n",
      "[dp] track/sliding/test window size: 95172, 12727, 14523\n",
      "[dp] walk-forward train:(12727,), test:(14523,), scope:0 ~ 27249\n",
      "[dp] walk-forward train:(12727,), test:(14523,), scope:14523 ~ 41772\n",
      "[dp] walk-forward train:(12727,), test:(14523,), scope:29046 ~ 56295\n",
      "[dp] walk-forward train:(12727,), test:(14523,), scope:43569 ~ 70818\n",
      "[dp] walk-forward train:(12727,), test:(14523,), scope:58092 ~ 85341\n",
      "[dp] training size: 95172\n"
     ]
    },
    {
     "name": "stdout",
     "output_type": "stream",
     "text": [
      "Fitting 5 folds for each of 1 candidates, totalling 5 fits\n"
     ]
    },
    {
     "name": "stderr",
     "output_type": "stream",
     "text": [
      "[Parallel(n_jobs=-1)]: Done   5 out of   5 | elapsed:    6.5s finished\n",
      "[dp] validation - sliding(in month):4, score: -8133203981.896853\n",
      "[dp] validation - data shape: (109695, 17), sliding(in month): 8, period: 1997-10-01 ~ 2000-01-31\n",
      "[dp] track/sliding/test window size: 95172, 27651, 14523\n",
      "[dp] walk-forward train:(27651,), test:(14523,), scope:0 ~ 42173\n",
      "[dp] walk-forward train:(27651,), test:(14523,), scope:14523 ~ 56696\n",
      "[dp] walk-forward train:(27651,), test:(14523,), scope:29046 ~ 71219\n",
      "[dp] walk-forward train:(27651,), test:(14523,), scope:43569 ~ 85742\n",
      "[dp] training size: 95172\n"
     ]
    },
    {
     "name": "stdout",
     "output_type": "stream",
     "text": [
      "Fitting 4 folds for each of 1 candidates, totalling 4 fits\n"
     ]
    },
    {
     "name": "stderr",
     "output_type": "stream",
     "text": [
      "[Parallel(n_jobs=-1)]: Done   2 out of   4 | elapsed:    8.4s remaining:    8.4s\n",
      "[Parallel(n_jobs=-1)]: Done   4 out of   4 | elapsed:    9.2s finished\n",
      "[dp] validation - sliding(in month):8, score: -7681540739.691169\n",
      "[dp] validation - data shape: (109695, 17), sliding(in month): 12, period: 1997-10-01 ~ 2000-01-31\n",
      "[dp] track/sliding/test window size: 95172, 45534, 14523\n",
      "[dp] walk-forward train:(45534,), test:(14523,), scope:0 ~ 60056\n",
      "[dp] walk-forward train:(45534,), test:(14523,), scope:14523 ~ 74579\n",
      "[dp] walk-forward train:(45534,), test:(14523,), scope:29046 ~ 89102\n",
      "[dp] training size: 95172\n"
     ]
    },
    {
     "name": "stdout",
     "output_type": "stream",
     "text": [
      "Fitting 3 folds for each of 1 candidates, totalling 3 fits\n"
     ]
    },
    {
     "name": "stderr",
     "output_type": "stream",
     "text": [
      "[Parallel(n_jobs=-1)]: Done   3 out of   3 | elapsed:   10.2s finished\n",
      "[dp] validation - sliding(in month):12, score: -7558450906.186707\n",
      "[dp] prediction - data shape: (64161, 17), period: 1998-10-01 ~ 2000-01-31, sliding(in month): 12, test: 4\n",
      "[dp] track/sliding/test window size: 49638, 49638, 14523\n",
      "[dp] validation step is skipped\n",
      "[dp] training size: 49638\n",
      "[dp] prediction - data shape: (66845, 17), period: 1999-02-01 ~ 2000-05-31, sliding(in month): 12, test: 4\n",
      "[dp] track/sliding/test window size: 50218, 50218, 16627\n",
      "[dp] validation step is skipped\n",
      "[dp] training size: 50218\n",
      "[dp] prediction - data shape: (67285, 17), period: 1999-06-01 ~ 2000-09-29, sliding(in month): 12, test: 4\n",
      "[dp] track/sliding/test window size: 49208, 49208, 18077\n",
      "[dp] validation step is skipped\n",
      "[dp] training size: 49208\n",
      "[dp] prediction - data shape: (63065, 17), period: 1999-10-01 ~ 2001-01-31, sliding(in month): 12, test: 4\n",
      "[dp] track/sliding/test window size: 48455, 48455, 14610\n",
      "[dp] validation step is skipped\n",
      "[dp] training size: 48455\n",
      "[dp] prediction - data shape: (63622, 17), period: 2000-02-01 ~ 2001-05-31, sliding(in month): 12, test: 4\n",
      "[dp] track/sliding/test window size: 48542, 48542, 15080\n",
      "[dp] validation step is skipped\n",
      "[dp] training size: 48542\n",
      "[dp] prediction - data shape: (64677, 17), period: 2000-06-01 ~ 2001-09-28, sliding(in month): 12, test: 4\n",
      "[dp] track/sliding/test window size: 46169, 46169, 18508\n",
      "[dp] validation step is skipped\n",
      "[dp] training size: 46169\n",
      "[dp] validation - data shape: (109798, 17), sliding(in month): 4, period: 1999-10-01 ~ 2002-01-31\n",
      "[dp] track/sliding/test window size: 95827, 14523, 13971\n",
      "[dp] walk-forward train:(14523,), test:(13971,), scope:0 ~ 28493\n",
      "[dp] walk-forward train:(14523,), test:(13971,), scope:13971 ~ 42464\n",
      "[dp] walk-forward train:(14523,), test:(13971,), scope:27942 ~ 56435\n",
      "[dp] walk-forward train:(14523,), test:(13971,), scope:41913 ~ 70406\n",
      "[dp] walk-forward train:(14523,), test:(13971,), scope:55884 ~ 84377\n",
      "[dp] training size: 95827\n"
     ]
    },
    {
     "name": "stdout",
     "output_type": "stream",
     "text": [
      "Fitting 5 folds for each of 1 candidates, totalling 5 fits\n"
     ]
    },
    {
     "name": "stderr",
     "output_type": "stream",
     "text": [
      "[Parallel(n_jobs=-1)]: Done   5 out of   5 | elapsed:    6.7s finished\n",
      "[dp] validation - sliding(in month):4, score: -10500196802.068167\n",
      "[dp] validation - data shape: (109798, 17), sliding(in month): 8, period: 1999-10-01 ~ 2002-01-31\n",
      "[dp] track/sliding/test window size: 95827, 31150, 13971\n",
      "[dp] walk-forward train:(31150,), test:(13971,), scope:0 ~ 45120\n",
      "[dp] walk-forward train:(31150,), test:(13971,), scope:13971 ~ 59091\n",
      "[dp] walk-forward train:(31150,), test:(13971,), scope:27942 ~ 73062\n",
      "[dp] walk-forward train:(31150,), test:(13971,), scope:41913 ~ 87033\n",
      "[dp] training size: 95827\n"
     ]
    },
    {
     "name": "stdout",
     "output_type": "stream",
     "text": [
      "Fitting 4 folds for each of 1 candidates, totalling 4 fits\n"
     ]
    },
    {
     "name": "stderr",
     "output_type": "stream",
     "text": [
      "[Parallel(n_jobs=-1)]: Done   2 out of   4 | elapsed:    8.5s remaining:    8.5s\n",
      "[Parallel(n_jobs=-1)]: Done   4 out of   4 | elapsed:    9.5s finished\n",
      "[dp] validation - sliding(in month):8, score: -9787180070.676273\n",
      "[dp] validation - data shape: (109798, 17), sliding(in month): 12, period: 1999-10-01 ~ 2002-01-31\n",
      "[dp] track/sliding/test window size: 95827, 48455, 13971\n",
      "[dp] walk-forward train:(48455,), test:(13971,), scope:0 ~ 62425\n",
      "[dp] walk-forward train:(48455,), test:(13971,), scope:13971 ~ 76396\n",
      "[dp] walk-forward train:(48455,), test:(13971,), scope:27942 ~ 90367\n",
      "[dp] training size: 95827\n"
     ]
    },
    {
     "name": "stdout",
     "output_type": "stream",
     "text": [
      "Fitting 3 folds for each of 1 candidates, totalling 3 fits\n"
     ]
    },
    {
     "name": "stderr",
     "output_type": "stream",
     "text": [
      "[Parallel(n_jobs=-1)]: Done   3 out of   3 | elapsed:   10.5s finished\n",
      "[dp] validation - sliding(in month):12, score: -9778797945.495476\n",
      "[dp] prediction - data shape: (61343, 17), period: 2000-10-02 ~ 2002-01-31, sliding(in month): 12, test: 4\n",
      "[dp] track/sliding/test window size: 47372, 47372, 13971\n",
      "[dp] validation step is skipped\n",
      "[dp] training size: 47372\n",
      "[dp] prediction - data shape: (65004, 17), period: 2001-02-01 ~ 2002-05-31, sliding(in month): 12, test: 4\n",
      "[dp] track/sliding/test window size: 46733, 46733, 18271\n",
      "[dp] validation step is skipped\n",
      "[dp] training size: 46733\n",
      "[dp] prediction - data shape: (68527, 17), period: 2001-06-01 ~ 2002-09-30, sliding(in month): 12, test: 4\n",
      "[dp] track/sliding/test window size: 49344, 49344, 19183\n",
      "[dp] validation step is skipped\n",
      "[dp] training size: 49344\n",
      "[dp] prediction - data shape: (66551, 17), period: 2001-10-01 ~ 2003-01-31, sliding(in month): 12, test: 4\n",
      "[dp] track/sliding/test window size: 50845, 50845, 15706\n",
      "[dp] validation step is skipped\n",
      "[dp] training size: 50845\n",
      "[dp] prediction - data shape: (69505, 17), period: 2002-02-01 ~ 2003-05-30, sliding(in month): 12, test: 4\n",
      "[dp] track/sliding/test window size: 52185, 52185, 17320\n",
      "[dp] validation step is skipped\n",
      "[dp] training size: 52185\n",
      "[dp] prediction - data shape: (72339, 17), period: 2002-06-03 ~ 2003-09-30, sliding(in month): 12, test: 4\n",
      "[dp] track/sliding/test window size: 51234, 51234, 21105\n",
      "[dp] validation step is skipped\n",
      "[dp] training size: 51234\n",
      "[dp] validation - data shape: (122534, 17), sliding(in month): 4, period: 2001-10-01 ~ 2004-01-30\n",
      "[dp] track/sliding/test window size: 104581, 13971, 17953\n",
      "[dp] walk-forward train:(13971,), test:(17953,), scope:0 ~ 31923\n",
      "[dp] walk-forward train:(13971,), test:(17953,), scope:17953 ~ 49876\n",
      "[dp] walk-forward train:(13971,), test:(17953,), scope:35906 ~ 67829\n",
      "[dp] walk-forward train:(13971,), test:(17953,), scope:53859 ~ 85782\n",
      "[dp] walk-forward train:(13971,), test:(17953,), scope:71812 ~ 103735\n",
      "[dp] training size: 104581\n"
     ]
    },
    {
     "name": "stdout",
     "output_type": "stream",
     "text": [
      "Fitting 5 folds for each of 1 candidates, totalling 5 fits\n"
     ]
    },
    {
     "name": "stderr",
     "output_type": "stream",
     "text": [
      "[Parallel(n_jobs=-1)]: Done   5 out of   5 | elapsed:    6.5s finished\n",
      "[dp] validation - sliding(in month):4, score: -11519097812.62254\n",
      "[dp] validation - data shape: (122534, 17), sliding(in month): 8, period: 2001-10-01 ~ 2004-01-30\n",
      "[dp] track/sliding/test window size: 104581, 32242, 17953\n",
      "[dp] walk-forward train:(32242,), test:(17953,), scope:0 ~ 50194\n",
      "[dp] walk-forward train:(32242,), test:(17953,), scope:17953 ~ 68147\n",
      "[dp] walk-forward train:(32242,), test:(17953,), scope:35906 ~ 86100\n",
      "[dp] walk-forward train:(32242,), test:(17953,), scope:53859 ~ 104053\n",
      "[dp] training size: 104581\n"
     ]
    },
    {
     "name": "stdout",
     "output_type": "stream",
     "text": [
      "Fitting 4 folds for each of 1 candidates, totalling 4 fits\n"
     ]
    },
    {
     "name": "stderr",
     "output_type": "stream",
     "text": [
      "[Parallel(n_jobs=-1)]: Done   2 out of   4 | elapsed:    9.6s remaining:    9.6s\n",
      "[Parallel(n_jobs=-1)]: Done   4 out of   4 | elapsed:   10.1s finished\n",
      "[dp] validation - sliding(in month):8, score: -10824381599.348461\n",
      "[dp] validation - data shape: (122534, 17), sliding(in month): 12, period: 2001-10-01 ~ 2004-01-30\n",
      "[dp] track/sliding/test window size: 104581, 50845, 17953\n",
      "[dp] walk-forward train:(50845,), test:(17953,), scope:0 ~ 68797\n",
      "[dp] walk-forward train:(50845,), test:(17953,), scope:17953 ~ 86750\n",
      "[dp] training size: 104581\n"
     ]
    },
    {
     "name": "stdout",
     "output_type": "stream",
     "text": [
      "Fitting 2 folds for each of 1 candidates, totalling 2 fits\n"
     ]
    },
    {
     "name": "stderr",
     "output_type": "stream",
     "text": [
      "[Parallel(n_jobs=-1)]: Done   2 out of   2 | elapsed:    8.1s finished\n",
      "[dp] validation - sliding(in month):12, score: -11376507580.318525\n",
      "[dp] prediction - data shape: (55983, 17), period: 2003-02-03 ~ 2004-01-30, sliding(in month): 8, test: 4\n",
      "[dp] track/sliding/test window size: 38030, 38030, 17953\n",
      "[dp] validation step is skipped\n",
      "[dp] training size: 38030\n",
      "[dp] prediction - data shape: (58963, 17), period: 2003-06-02 ~ 2004-05-28, sliding(in month): 8, test: 4\n",
      "[dp] track/sliding/test window size: 38456, 38456, 20507\n",
      "[dp] validation step is skipped\n",
      "[dp] training size: 38456\n",
      "[dp] prediction - data shape: (59616, 17), period: 2003-10-01 ~ 2004-09-30, sliding(in month): 8, test: 4\n",
      "[dp] track/sliding/test window size: 37858, 37858, 21758\n",
      "[dp] validation step is skipped\n",
      "[dp] training size: 37858\n",
      "[dp] prediction - data shape: (58579, 17), period: 2004-02-02 ~ 2005-01-31, sliding(in month): 8, test: 4\n",
      "[dp] track/sliding/test window size: 41663, 41663, 16916\n",
      "[dp] validation step is skipped\n",
      "[dp] training size: 41663\n",
      "[dp] prediction - data shape: (57079, 17), period: 2004-06-01 ~ 2005-05-31, sliding(in month): 8, test: 4\n",
      "[dp] track/sliding/test window size: 38674, 38674, 18405\n",
      "[dp] validation step is skipped\n",
      "[dp] training size: 38674\n",
      "[dp] prediction - data shape: (55362, 17), period: 2004-10-01 ~ 2005-09-30, sliding(in month): 8, test: 4\n",
      "[dp] track/sliding/test window size: 34931, 34931, 20431\n",
      "[dp] validation step is skipped\n",
      "[dp] training size: 34931\n",
      "[dp] validation - data shape: (129391, 17), sliding(in month): 4, period: 2003-10-01 ~ 2006-01-31\n",
      "[dp] track/sliding/test window size: 114978, 17953, 14413\n",
      "[dp] walk-forward train:(17953,), test:(14413,), scope:0 ~ 32365\n",
      "[dp] walk-forward train:(17953,), test:(14413,), scope:14413 ~ 46778\n",
      "[dp] walk-forward train:(17953,), test:(14413,), scope:28826 ~ 61191\n",
      "[dp] walk-forward train:(17953,), test:(14413,), scope:43239 ~ 75604\n",
      "[dp] walk-forward train:(17953,), test:(14413,), scope:57652 ~ 90017\n",
      "[dp] walk-forward train:(17953,), test:(14413,), scope:72065 ~ 104430\n",
      "[dp] training size: 114978\n"
     ]
    },
    {
     "name": "stdout",
     "output_type": "stream",
     "text": [
      "Fitting 6 folds for each of 1 candidates, totalling 6 fits\n"
     ]
    },
    {
     "name": "stderr",
     "output_type": "stream",
     "text": [
      "[Parallel(n_jobs=-1)]: Done   6 out of   6 | elapsed:    8.3s remaining:    0.0s\n",
      "[Parallel(n_jobs=-1)]: Done   6 out of   6 | elapsed:    8.3s finished\n",
      "[dp] validation - sliding(in month):4, score: -16115252179.178034\n",
      "[dp] validation - data shape: (129391, 17), sliding(in month): 8, period: 2003-10-01 ~ 2006-01-31\n",
      "[dp] track/sliding/test window size: 114978, 37858, 14413\n",
      "[dp] walk-forward train:(37858,), test:(14413,), scope:0 ~ 52270\n",
      "[dp] walk-forward train:(37858,), test:(14413,), scope:14413 ~ 66683\n",
      "[dp] walk-forward train:(37858,), test:(14413,), scope:28826 ~ 81096\n",
      "[dp] walk-forward train:(37858,), test:(14413,), scope:43239 ~ 95509\n",
      "[dp] walk-forward train:(37858,), test:(14413,), scope:57652 ~ 109922\n",
      "[dp] training size: 114978\n"
     ]
    },
    {
     "name": "stdout",
     "output_type": "stream",
     "text": [
      "Fitting 5 folds for each of 1 candidates, totalling 5 fits\n"
     ]
    },
    {
     "name": "stderr",
     "output_type": "stream",
     "text": [
      "[Parallel(n_jobs=-1)]: Done   5 out of   5 | elapsed:   14.4s finished\n",
      "[dp] validation - sliding(in month):8, score: -15608053166.152826\n",
      "[dp] validation - data shape: (129391, 17), sliding(in month): 12, period: 2003-10-01 ~ 2006-01-31\n",
      "[dp] track/sliding/test window size: 114978, 59616, 14413\n",
      "[dp] walk-forward train:(59616,), test:(14413,), scope:0 ~ 74028\n",
      "[dp] walk-forward train:(59616,), test:(14413,), scope:14413 ~ 88441\n",
      "[dp] walk-forward train:(59616,), test:(14413,), scope:28826 ~ 102854\n",
      "[dp] training size: 114978\n"
     ]
    },
    {
     "name": "stdout",
     "output_type": "stream",
     "text": [
      "Fitting 3 folds for each of 1 candidates, totalling 3 fits\n"
     ]
    },
    {
     "name": "stderr",
     "output_type": "stream",
     "text": [
      "[Parallel(n_jobs=-1)]: Done   3 out of   3 | elapsed:   12.5s finished\n",
      "[dp] validation - sliding(in month):12, score: -15814731723.567589\n",
      "[dp] prediction - data shape: (52859, 17), period: 2005-02-01 ~ 2006-01-31, sliding(in month): 8, test: 4\n",
      "[dp] track/sliding/test window size: 38446, 38446, 14413\n",
      "[dp] validation step is skipped\n",
      "[dp] training size: 38446\n",
      "[dp] prediction - data shape: (48253, 17), period: 2005-06-01 ~ 2006-05-31, sliding(in month): 8, test: 4\n",
      "[dp] track/sliding/test window size: 34454, 34454, 13799\n",
      "[dp] validation step is skipped\n",
      "[dp] training size: 34454\n",
      "[dp] prediction - data shape: (41373, 17), period: 2005-10-03 ~ 2006-09-29, sliding(in month): 8, test: 4\n",
      "[dp] track/sliding/test window size: 27602, 27602, 13771\n",
      "[dp] validation step is skipped\n",
      "[dp] training size: 27602\n",
      "[dp] prediction - data shape: (38338, 17), period: 2006-02-01 ~ 2007-01-31, sliding(in month): 8, test: 4\n",
      "[dp] track/sliding/test window size: 26960, 26960, 11378\n",
      "[dp] validation step is skipped\n",
      "[dp] training size: 26960\n",
      "[dp] prediction - data shape: (35695, 17), period: 2006-06-01 ~ 2007-05-31, sliding(in month): 8, test: 4\n",
      "[dp] track/sliding/test window size: 24539, 24539, 11156\n",
      "[dp] validation step is skipped\n",
      "[dp] training size: 24539\n",
      "[dp] prediction - data shape: (32658, 17), period: 2006-10-02 ~ 2007-09-28, sliding(in month): 8, test: 4\n",
      "[dp] track/sliding/test window size: 21964, 21964, 10694\n",
      "[dp] validation step is skipped\n",
      "[dp] training size: 21964\n",
      "[dp] validation - data shape: (81094, 17), sliding(in month): 4, period: 2005-10-03 ~ 2008-01-31\n",
      "[dp] track/sliding/test window size: 74031, 14626, 7063\n",
      "[dp] walk-forward train:(14626,), test:(7063,), scope:0 ~ 21688\n",
      "[dp] walk-forward train:(14626,), test:(7063,), scope:7063 ~ 28751\n",
      "[dp] walk-forward train:(14626,), test:(7063,), scope:14126 ~ 35814\n",
      "[dp] walk-forward train:(14626,), test:(7063,), scope:21189 ~ 42877\n",
      "[dp] walk-forward train:(14626,), test:(7063,), scope:28252 ~ 49940\n",
      "[dp] walk-forward train:(14626,), test:(7063,), scope:35315 ~ 57003\n",
      "[dp] walk-forward train:(14626,), test:(7063,), scope:42378 ~ 64066\n",
      "[dp] walk-forward train:(14626,), test:(7063,), scope:49441 ~ 71129\n",
      "[dp] training size: 74031\n"
     ]
    },
    {
     "name": "stdout",
     "output_type": "stream",
     "text": [
      "Fitting 8 folds for each of 1 candidates, totalling 8 fits\n"
     ]
    },
    {
     "name": "stderr",
     "output_type": "stream",
     "text": [
      "[Parallel(n_jobs=-1)]: Done   8 out of   8 | elapsed:    9.6s finished\n",
      "[dp] validation - sliding(in month):4, score: -16367157379.22181\n",
      "[dp] validation - data shape: (81094, 17), sliding(in month): 8, period: 2005-10-03 ~ 2008-01-31\n",
      "[dp] track/sliding/test window size: 74031, 28581, 7063\n",
      "[dp] walk-forward train:(28581,), test:(7063,), scope:0 ~ 35643\n",
      "[dp] walk-forward train:(28581,), test:(7063,), scope:7063 ~ 42706\n",
      "[dp] walk-forward train:(28581,), test:(7063,), scope:14126 ~ 49769\n",
      "[dp] walk-forward train:(28581,), test:(7063,), scope:21189 ~ 56832\n",
      "[dp] walk-forward train:(28581,), test:(7063,), scope:28252 ~ 63895\n",
      "[dp] walk-forward train:(28581,), test:(7063,), scope:35315 ~ 70958\n",
      "[dp] training size: 74031\n"
     ]
    },
    {
     "name": "stdout",
     "output_type": "stream",
     "text": [
      "Fitting 6 folds for each of 1 candidates, totalling 6 fits\n"
     ]
    },
    {
     "name": "stderr",
     "output_type": "stream",
     "text": [
      "[Parallel(n_jobs=-1)]: Done   6 out of   6 | elapsed:   12.3s remaining:    0.0s\n",
      "[Parallel(n_jobs=-1)]: Done   6 out of   6 | elapsed:   12.3s finished\n",
      "[dp] validation - sliding(in month):8, score: -15901246721.471523\n",
      "[dp] validation - data shape: (81094, 17), sliding(in month): 12, period: 2005-10-03 ~ 2008-01-31\n",
      "[dp] track/sliding/test window size: 74031, 41486, 7063\n",
      "[dp] walk-forward train:(41486,), test:(7063,), scope:0 ~ 48548\n",
      "[dp] walk-forward train:(41486,), test:(7063,), scope:7063 ~ 55611\n",
      "[dp] walk-forward train:(41486,), test:(7063,), scope:14126 ~ 62674\n",
      "[dp] walk-forward train:(41486,), test:(7063,), scope:21189 ~ 69737\n",
      "[dp] training size: 74031\n"
     ]
    },
    {
     "name": "stdout",
     "output_type": "stream",
     "text": [
      "Fitting 4 folds for each of 1 candidates, totalling 4 fits\n"
     ]
    },
    {
     "name": "stderr",
     "output_type": "stream",
     "text": [
      "[Parallel(n_jobs=-1)]: Done   2 out of   4 | elapsed:   11.0s remaining:   11.0s\n",
      "[Parallel(n_jobs=-1)]: Done   4 out of   4 | elapsed:   12.2s finished\n",
      "[dp] validation - sliding(in month):12, score: -15824383401.321547\n",
      "[dp] prediction - data shape: (39721, 17), period: 2006-10-02 ~ 2008-01-31, sliding(in month): 12, test: 4\n",
      "[dp] track/sliding/test window size: 32658, 32658, 7063\n",
      "[dp] validation step is skipped\n",
      "[dp] training size: 32658\n",
      "[dp] prediction - data shape: (36932, 17), period: 2007-02-01 ~ 2008-05-30, sliding(in month): 12, test: 4\n",
      "[dp] track/sliding/test window size: 28189, 28189, 8743\n",
      "[dp] validation step is skipped\n",
      "[dp] training size: 28189\n",
      "[dp] prediction - data shape: (37276, 17), period: 2007-06-01 ~ 2008-09-30, sliding(in month): 12, test: 4\n",
      "[dp] track/sliding/test window size: 25776, 25776, 11500\n",
      "[dp] validation step is skipped\n",
      "[dp] training size: 25776\n",
      "[dp] prediction - data shape: (37915, 17), period: 2007-10-01 ~ 2009-01-30, sliding(in month): 12, test: 4\n",
      "[dp] track/sliding/test window size: 27152, 27152, 10763\n",
      "[dp] validation step is skipped\n",
      "[dp] training size: 27152\n",
      "[dp] prediction - data shape: (41527, 17), period: 2008-02-01 ~ 2009-05-29, sliding(in month): 12, test: 4\n",
      "[dp] track/sliding/test window size: 30587, 30587, 10940\n",
      "[dp] validation step is skipped\n",
      "[dp] training size: 30587\n",
      "[dp] prediction - data shape: (45649, 17), period: 2008-06-02 ~ 2009-09-30, sliding(in month): 12, test: 4\n",
      "[dp] track/sliding/test window size: 32938, 32938, 12711\n",
      "[dp] validation step is skipped\n",
      "[dp] training size: 32938\n",
      "[dp] validation - data shape: (72669, 17), sliding(in month): 4, period: 2007-10-01 ~ 2010-01-29\n",
      "[dp] track/sliding/test window size: 60925, 7063, 11744\n",
      "[dp] walk-forward train:(7063,), test:(11744,), scope:0 ~ 18806\n",
      "[dp] walk-forward train:(7063,), test:(11744,), scope:11744 ~ 30550\n",
      "[dp] walk-forward train:(7063,), test:(11744,), scope:23488 ~ 42294\n",
      "[dp] walk-forward train:(7063,), test:(11744,), scope:35232 ~ 54038\n",
      "[dp] training size: 60925\n"
     ]
    },
    {
     "name": "stdout",
     "output_type": "stream",
     "text": [
      "Fitting 4 folds for each of 1 candidates, totalling 4 fits\n"
     ]
    },
    {
     "name": "stderr",
     "output_type": "stream",
     "text": [
      "[Parallel(n_jobs=-1)]: Done   2 out of   4 | elapsed:    3.3s remaining:    3.3s\n",
      "[Parallel(n_jobs=-1)]: Done   4 out of   4 | elapsed:    5.1s finished\n",
      "[dp] validation - sliding(in month):4, score: -11145061944.640957\n",
      "[dp] validation - data shape: (72669, 17), sliding(in month): 8, period: 2007-10-01 ~ 2010-01-29\n",
      "[dp] track/sliding/test window size: 60925, 15652, 11744\n",
      "[dp] walk-forward train:(15652,), test:(11744,), scope:0 ~ 27395\n",
      "[dp] walk-forward train:(15652,), test:(11744,), scope:11744 ~ 39139\n",
      "[dp] walk-forward train:(15652,), test:(11744,), scope:23488 ~ 50883\n",
      "[dp] training size: 60925\n"
     ]
    },
    {
     "name": "stdout",
     "output_type": "stream",
     "text": [
      "Fitting 3 folds for each of 1 candidates, totalling 3 fits\n"
     ]
    },
    {
     "name": "stderr",
     "output_type": "stream",
     "text": [
      "[Parallel(n_jobs=-1)]: Done   3 out of   3 | elapsed:    5.1s finished\n",
      "[dp] validation - sliding(in month):8, score: -10560928675.378391\n",
      "[dp] validation - data shape: (72669, 17), sliding(in month): 12, period: 2007-10-01 ~ 2010-01-29\n",
      "[dp] track/sliding/test window size: 60925, 27152, 11744\n",
      "[dp] walk-forward train:(27152,), test:(11744,), scope:0 ~ 38895\n",
      "[dp] walk-forward train:(27152,), test:(11744,), scope:11744 ~ 50639\n",
      "[dp] training size: 60925\n"
     ]
    },
    {
     "name": "stdout",
     "output_type": "stream",
     "text": [
      "Fitting 2 folds for each of 1 candidates, totalling 2 fits\n"
     ]
    },
    {
     "name": "stderr",
     "output_type": "stream",
     "text": [
      "[Parallel(n_jobs=-1)]: Done   2 out of   2 | elapsed:    5.1s finished\n",
      "[dp] validation - sliding(in month):12, score: -10615346053.885647\n",
      "[dp] prediction - data shape: (34754, 17), period: 2009-02-02 ~ 2010-01-29, sliding(in month): 8, test: 4\n",
      "[dp] track/sliding/test window size: 23010, 23010, 11744\n",
      "[dp] validation step is skipped\n",
      "[dp] training size: 23010\n",
      "[dp] prediction - data shape: (35476, 17), period: 2009-06-01 ~ 2010-05-28, sliding(in month): 8, test: 4\n",
      "[dp] track/sliding/test window size: 23792, 23792, 11684\n",
      "[dp] validation step is skipped\n",
      "[dp] training size: 23792\n",
      "[dp] prediction - data shape: (34187, 17), period: 2009-10-01 ~ 2010-09-30, sliding(in month): 8, test: 4\n",
      "[dp] track/sliding/test window size: 22765, 22765, 11422\n",
      "[dp] validation step is skipped\n",
      "[dp] training size: 22765\n",
      "[dp] prediction - data shape: (32310, 17), period: 2010-02-01 ~ 2011-01-31, sliding(in month): 8, test: 4\n",
      "[dp] track/sliding/test window size: 22819, 22819, 9491\n",
      "[dp] validation step is skipped\n",
      "[dp] training size: 22819\n",
      "[dp] prediction - data shape: (31200, 17), period: 2010-06-01 ~ 2011-05-31, sliding(in month): 8, test: 4\n",
      "[dp] track/sliding/test window size: 20913, 20913, 10287\n",
      "[dp] validation step is skipped\n",
      "[dp] training size: 20913\n",
      "[dp] prediction - data shape: (30923, 17), period: 2010-10-01 ~ 2011-09-30, sliding(in month): 8, test: 4\n",
      "[dp] track/sliding/test window size: 19599, 19599, 11324\n",
      "[dp] validation step is skipped\n",
      "[dp] training size: 19599\n",
      "[dp] validation - data shape: (74847, 17), sliding(in month): 4, period: 2009-10-01 ~ 2012-01-31\n",
      "[dp] track/sliding/test window size: 65110, 11368, 9737\n",
      "[dp] walk-forward train:(11368,), test:(9737,), scope:0 ~ 21104\n",
      "[dp] walk-forward train:(11368,), test:(9737,), scope:9737 ~ 30841\n",
      "[dp] walk-forward train:(11368,), test:(9737,), scope:19474 ~ 40578\n",
      "[dp] walk-forward train:(11368,), test:(9737,), scope:29211 ~ 50315\n",
      "[dp] walk-forward train:(11368,), test:(9737,), scope:38948 ~ 60052\n",
      "[dp] training size: 65110\n"
     ]
    },
    {
     "name": "stdout",
     "output_type": "stream",
     "text": [
      "Fitting 5 folds for each of 1 candidates, totalling 5 fits\n"
     ]
    },
    {
     "name": "stderr",
     "output_type": "stream",
     "text": [
      "[Parallel(n_jobs=-1)]: Done   5 out of   5 | elapsed:    6.4s finished\n",
      "[dp] validation - sliding(in month):4, score: -9141203402.051676\n",
      "[dp] validation - data shape: (74847, 17), sliding(in month): 8, period: 2009-10-01 ~ 2012-01-31\n",
      "[dp] track/sliding/test window size: 65110, 22765, 9737\n",
      "[dp] walk-forward train:(22765,), test:(9737,), scope:0 ~ 32501\n",
      "[dp] walk-forward train:(22765,), test:(9737,), scope:9737 ~ 42238\n",
      "[dp] walk-forward train:(22765,), test:(9737,), scope:19474 ~ 51975\n",
      "[dp] walk-forward train:(22765,), test:(9737,), scope:29211 ~ 61712\n",
      "[dp] training size: 65110\n"
     ]
    },
    {
     "name": "stdout",
     "output_type": "stream",
     "text": [
      "Fitting 4 folds for each of 1 candidates, totalling 4 fits\n"
     ]
    },
    {
     "name": "stderr",
     "output_type": "stream",
     "text": [
      "[Parallel(n_jobs=-1)]: Done   2 out of   4 | elapsed:    7.1s remaining:    7.1s\n",
      "[Parallel(n_jobs=-1)]: Done   4 out of   4 | elapsed:    7.9s finished\n",
      "[dp] validation - sliding(in month):8, score: -8892488630.297173\n",
      "[dp] validation - data shape: (74847, 17), sliding(in month): 12, period: 2009-10-01 ~ 2012-01-31\n",
      "[dp] track/sliding/test window size: 65110, 34187, 9737\n",
      "[dp] walk-forward train:(34187,), test:(9737,), scope:0 ~ 43923\n",
      "[dp] walk-forward train:(34187,), test:(9737,), scope:9737 ~ 53660\n",
      "[dp] walk-forward train:(34187,), test:(9737,), scope:19474 ~ 63397\n",
      "[dp] training size: 65110\n"
     ]
    },
    {
     "name": "stdout",
     "output_type": "stream",
     "text": [
      "Fitting 3 folds for each of 1 candidates, totalling 3 fits\n"
     ]
    },
    {
     "name": "stderr",
     "output_type": "stream",
     "text": [
      "[Parallel(n_jobs=-1)]: Done   3 out of   3 | elapsed:    8.3s finished\n",
      "[dp] validation - sliding(in month):12, score: -9469092571.403784\n",
      "[dp] prediction - data shape: (31169, 17), period: 2011-02-01 ~ 2012-01-31, sliding(in month): 8, test: 4\n",
      "[dp] track/sliding/test window size: 21432, 21432, 9737\n",
      "[dp] validation step is skipped\n",
      "[dp] training size: 21432\n",
      "[dp] prediction - data shape: (32267, 17), period: 2011-06-01 ~ 2012-05-31, sliding(in month): 8, test: 4\n",
      "[dp] track/sliding/test window size: 20882, 20882, 11385\n",
      "[dp] validation step is skipped\n",
      "[dp] training size: 20882\n",
      "[dp] prediction - data shape: (33777, 17), period: 2011-10-03 ~ 2012-09-28, sliding(in month): 8, test: 4\n",
      "[dp] track/sliding/test window size: 20508, 20508, 13269\n",
      "[dp] validation step is skipped\n",
      "[dp] training size: 20508\n",
      "[dp] prediction - data shape: (35656, 17), period: 2012-02-01 ~ 2013-01-31, sliding(in month): 8, test: 4\n",
      "[dp] track/sliding/test window size: 24040, 24040, 11616\n",
      "[dp] validation step is skipped\n",
      "[dp] training size: 24040\n",
      "[dp] prediction - data shape: (36788, 17), period: 2012-06-01 ~ 2013-05-31, sliding(in month): 8, test: 4\n",
      "[dp] track/sliding/test window size: 24271, 24271, 12517\n",
      "[dp] validation step is skipped\n",
      "[dp] training size: 24271\n",
      "[dp] prediction - data shape: (37507, 17), period: 2012-10-01 ~ 2013-09-30, sliding(in month): 8, test: 4\n",
      "[dp] track/sliding/test window size: 23829, 23829, 13678\n",
      "[dp] validation step is skipped\n",
      "[dp] training size: 23829\n",
      "[dp] validation - data shape: (81369, 17), sliding(in month): 4, period: 2011-10-03 ~ 2014-01-31\n",
      "[dp] track/sliding/test window size: 71284, 9880, 10085\n",
      "[dp] walk-forward train:(9880,), test:(10085,), scope:0 ~ 19964\n",
      "[dp] walk-forward train:(9880,), test:(10085,), scope:10085 ~ 30049\n",
      "[dp] walk-forward train:(9880,), test:(10085,), scope:20170 ~ 40134\n",
      "[dp] walk-forward train:(9880,), test:(10085,), scope:30255 ~ 50219\n",
      "[dp] walk-forward train:(9880,), test:(10085,), scope:40340 ~ 60304\n",
      "[dp] walk-forward train:(9880,), test:(10085,), scope:50425 ~ 70389\n",
      "[dp] training size: 71284\n"
     ]
    },
    {
     "name": "stdout",
     "output_type": "stream",
     "text": [
      "Fitting 6 folds for each of 1 candidates, totalling 6 fits\n"
     ]
    },
    {
     "name": "stderr",
     "output_type": "stream",
     "text": [
      "[Parallel(n_jobs=-1)]: Done   6 out of   6 | elapsed:    6.4s remaining:    0.0s\n",
      "[Parallel(n_jobs=-1)]: Done   6 out of   6 | elapsed:    6.4s finished\n",
      "[dp] validation - sliding(in month):4, score: -11160134930.701014\n",
      "[dp] validation - data shape: (81369, 17), sliding(in month): 8, period: 2011-10-03 ~ 2014-01-31\n",
      "[dp] track/sliding/test window size: 71284, 21315, 10085\n",
      "[dp] walk-forward train:(21315,), test:(10085,), scope:0 ~ 31399\n",
      "[dp] walk-forward train:(21315,), test:(10085,), scope:10085 ~ 41484\n",
      "[dp] walk-forward train:(21315,), test:(10085,), scope:20170 ~ 51569\n",
      "[dp] walk-forward train:(21315,), test:(10085,), scope:30255 ~ 61654\n",
      "[dp] training size: 71284\n"
     ]
    },
    {
     "name": "stdout",
     "output_type": "stream",
     "text": [
      "Fitting 4 folds for each of 1 candidates, totalling 4 fits\n"
     ]
    },
    {
     "name": "stderr",
     "output_type": "stream",
     "text": [
      "[Parallel(n_jobs=-1)]: Done   2 out of   4 | elapsed:    6.8s remaining:    6.8s\n",
      "[Parallel(n_jobs=-1)]: Done   4 out of   4 | elapsed:    7.9s finished\n",
      "[dp] validation - sliding(in month):8, score: -10566510102.11086\n",
      "[dp] validation - data shape: (81369, 17), sliding(in month): 12, period: 2011-10-03 ~ 2014-01-31\n",
      "[dp] track/sliding/test window size: 71284, 33990, 10085\n",
      "[dp] walk-forward train:(33990,), test:(10085,), scope:0 ~ 44074\n",
      "[dp] walk-forward train:(33990,), test:(10085,), scope:10085 ~ 54159\n",
      "[dp] walk-forward train:(33990,), test:(10085,), scope:20170 ~ 64244\n",
      "[dp] training size: 71284\n"
     ]
    },
    {
     "name": "stdout",
     "output_type": "stream",
     "text": [
      "Fitting 3 folds for each of 1 candidates, totalling 3 fits\n"
     ]
    },
    {
     "name": "stderr",
     "output_type": "stream",
     "text": [
      "[Parallel(n_jobs=-1)]: Done   3 out of   3 | elapsed:    8.2s finished\n",
      "[dp] validation - sliding(in month):12, score: -10956346529.197857\n",
      "[dp] prediction - data shape: (35976, 17), period: 2013-02-01 ~ 2014-01-31, sliding(in month): 8, test: 4\n",
      "[dp] track/sliding/test window size: 25891, 25891, 10085\n",
      "[dp] validation step is skipped\n",
      "[dp] training size: 25891\n",
      "[dp] prediction - data shape: (33953, 17), period: 2013-06-03 ~ 2014-05-30, sliding(in month): 8, test: 4\n",
      "[dp] track/sliding/test window size: 23262, 23262, 10691\n",
      "[dp] validation step is skipped\n",
      "[dp] training size: 23262\n",
      "[dp] prediction - data shape: (31812, 17), period: 2013-10-01 ~ 2014-09-30, sliding(in month): 8, test: 4\n",
      "[dp] track/sliding/test window size: 20579, 20579, 11233\n",
      "[dp] validation step is skipped\n",
      "[dp] training size: 20579\n",
      "[dp] prediction - data shape: (28474, 17), period: 2014-02-03 ~ 2015-01-30, sliding(in month): 8, test: 4\n",
      "[dp] track/sliding/test window size: 21727, 21727, 6747\n",
      "[dp] validation step is skipped\n",
      "[dp] training size: 21727\n",
      "[dp] prediction - data shape: (29576, 17), period: 2014-06-02 ~ 2015-05-29, sliding(in month): 8, test: 4\n",
      "[dp] track/sliding/test window size: 17809, 17809, 11767\n",
      "[dp] validation step is skipped\n",
      "[dp] training size: 17809\n",
      "[dp] prediction - data shape: (31691, 17), period: 2014-10-01 ~ 2015-09-30, sliding(in month): 8, test: 4\n",
      "[dp] track/sliding/test window size: 18343, 18343, 13348\n",
      "[dp] validation step is skipped\n",
      "[dp] training size: 18343\n",
      "[dp] validation - data shape: (73256, 17), sliding(in month): 4, period: 2013-10-01 ~ 2016-01-29\n",
      "[dp] track/sliding/test window size: 63282, 10085, 9974\n",
      "[dp] walk-forward train:(10085,), test:(9974,), scope:0 ~ 20058\n",
      "[dp] walk-forward train:(10085,), test:(9974,), scope:9974 ~ 30032\n",
      "[dp] walk-forward train:(10085,), test:(9974,), scope:19948 ~ 40006\n",
      "[dp] walk-forward train:(10085,), test:(9974,), scope:29922 ~ 49980\n",
      "[dp] walk-forward train:(10085,), test:(9974,), scope:39896 ~ 59954\n",
      "[dp] training size: 63282\n"
     ]
    },
    {
     "name": "stdout",
     "output_type": "stream",
     "text": [
      "Fitting 5 folds for each of 1 candidates, totalling 5 fits\n"
     ]
    },
    {
     "name": "stderr",
     "output_type": "stream",
     "text": [
      "[Parallel(n_jobs=-1)]: Done   5 out of   5 | elapsed:    6.1s finished\n",
      "[dp] validation - sliding(in month):4, score: -8807544938.820114\n",
      "[dp] validation - data shape: (73256, 17), sliding(in month): 8, period: 2013-10-01 ~ 2016-01-29\n",
      "[dp] track/sliding/test window size: 63282, 20579, 9974\n",
      "[dp] walk-forward train:(20579,), test:(9974,), scope:0 ~ 30552\n",
      "[dp] walk-forward train:(20579,), test:(9974,), scope:9974 ~ 40526\n",
      "[dp] walk-forward train:(20579,), test:(9974,), scope:19948 ~ 50500\n",
      "[dp] walk-forward train:(20579,), test:(9974,), scope:29922 ~ 60474\n",
      "[dp] training size: 63282\n"
     ]
    },
    {
     "name": "stdout",
     "output_type": "stream",
     "text": [
      "Fitting 4 folds for each of 1 candidates, totalling 4 fits\n"
     ]
    },
    {
     "name": "stderr",
     "output_type": "stream",
     "text": [
      "[Parallel(n_jobs=-1)]: Done   2 out of   4 | elapsed:    6.3s remaining:    6.3s\n",
      "[Parallel(n_jobs=-1)]: Done   4 out of   4 | elapsed:    7.2s finished\n",
      "[dp] validation - sliding(in month):8, score: -8008362753.740054\n",
      "[dp] validation - data shape: (73256, 17), sliding(in month): 12, period: 2013-10-01 ~ 2016-01-29\n",
      "[dp] track/sliding/test window size: 63282, 31812, 9974\n",
      "[dp] walk-forward train:(31812,), test:(9974,), scope:0 ~ 41785\n",
      "[dp] walk-forward train:(31812,), test:(9974,), scope:9974 ~ 51759\n",
      "[dp] walk-forward train:(31812,), test:(9974,), scope:19948 ~ 61733\n",
      "[dp] training size: 63282\n"
     ]
    },
    {
     "name": "stdout",
     "output_type": "stream",
     "text": [
      "Fitting 3 folds for each of 1 candidates, totalling 3 fits\n"
     ]
    },
    {
     "name": "stderr",
     "output_type": "stream",
     "text": [
      "[Parallel(n_jobs=-1)]: Done   3 out of   3 | elapsed:    7.9s finished\n",
      "[dp] validation - sliding(in month):12, score: -7723068585.66082\n",
      "[dp] prediction - data shape: (41444, 17), period: 2014-10-01 ~ 2016-01-29, sliding(in month): 12, test: 4\n",
      "[dp] track/sliding/test window size: 31470, 31470, 9974\n",
      "[dp] validation step is skipped\n",
      "[dp] training size: 31470\n",
      "[dp] prediction - data shape: (46431, 17), period: 2015-02-02 ~ 2016-05-31, sliding(in month): 12, test: 4\n",
      "[dp] track/sliding/test window size: 34697, 34697, 11734\n",
      "[dp] validation step is skipped\n",
      "[dp] training size: 34697\n",
      "[dp] prediction - data shape: (48063, 17), period: 2015-06-01 ~ 2016-09-30, sliding(in month): 12, test: 4\n",
      "[dp] track/sliding/test window size: 34582, 34582, 13481\n",
      "[dp] validation step is skipped\n",
      "[dp] training size: 34582\n",
      "[dp] prediction - data shape: (45134, 17), period: 2015-10-01 ~ 2017-01-31, sliding(in month): 12, test: 4\n",
      "[dp] track/sliding/test window size: 34715, 34715, 10419\n",
      "[dp] validation step is skipped\n",
      "[dp] training size: 34715\n",
      "[dp] prediction - data shape: (46866, 17), period: 2016-02-01 ~ 2017-05-31, sliding(in month): 12, test: 4\n",
      "[dp] track/sliding/test window size: 35381, 35381, 11485\n",
      "[dp] validation step is skipped\n",
      "[dp] training size: 35381\n",
      "[dp] prediction - data shape: (47419, 17), period: 2016-06-01 ~ 2017-09-27, sliding(in month): 12, test: 4\n",
      "[dp] track/sliding/test window size: 34643, 34643, 12776\n",
      "[dp] validation step is skipped\n",
      "[dp] training size: 34643\n"
     ]
    },
    {
     "data": {
      "text/plain": [
       "[43976.5131943247,\n",
       " 47258.108516511435,\n",
       " 51938.43130005982,\n",
       " 52697.61388399104,\n",
       " 52469.42535143521,\n",
       " 57546.51762204806,\n",
       " 66574.30728919824,\n",
       " 61475.26066468218,\n",
       " 65062.16406356966,\n",
       " 76730.80640345882,\n",
       " 79776.94889857368,\n",
       " 72143.3532896779,\n",
       " 72173.2996729165,\n",
       " 68451.73162090922,\n",
       " 70569.77328333906,\n",
       " 81794.13334772609,\n",
       " 72839.97454525618,\n",
       " 76310.32054399865,\n",
       " 77457.21196046029,\n",
       " 73399.23593784074,\n",
       " 72880.99909425605,\n",
       " 68743.93655741346,\n",
       " 73014.91205074801,\n",
       " 74284.23330501227,\n",
       " 67845.87885902674,\n",
       " 75533.88347148789,\n",
       " 77519.7135729078,\n",
       " 66025.6173919984,\n",
       " 74367.10625383297,\n",
       " 74691.61670982368,\n",
       " 73542.13355548852,\n",
       " 76345.40536627048,\n",
       " 83708.63052235862,\n",
       " 82330.75581368966,\n",
       " 83374.72473666971,\n",
       " 84976.10667023038,\n",
       " 92475.48159931831,\n",
       " 92573.17808162783,\n",
       " 84751.52969722183,\n",
       " 87414.71696669351,\n",
       " 90557.41307196312,\n",
       " 95728.509079206,\n",
       " 109216.55934316186,\n",
       " 103161.93046414742,\n",
       " 109664.62544280181,\n",
       " 96044.99254010318,\n",
       " 92961.21241685604,\n",
       " 96003.6733095036,\n",
       " 100374.8257721562,\n",
       " 101894.35908631417,\n",
       " 105729.72542899924,\n",
       " 108438.34971513116,\n",
       " 111680.36330314624,\n",
       " 111416.09231963189,\n",
       " 141837.0075415073,\n",
       " 142025.11304388935,\n",
       " 125111.90896098188,\n",
       " 116960.04006943748,\n",
       " 125093.66291561036,\n",
       " 127572.75817091353,\n",
       " 122936.87844600502,\n",
       " 124469.25248223552,\n",
       " 130760.23716543622,\n",
       " 134856.35506791202,\n",
       " 131559.39187549773,\n",
       " 135670.1613574328,\n",
       " 143404.1690650599,\n",
       " 110126.88995684846,\n",
       " 114268.9162796148,\n",
       " 93278.38579269566,\n",
       " 93721.77173202053,\n",
       " 90780.2816559614,\n",
       " 91054.87809632863,\n",
       " 86217.74170251926,\n",
       " 99471.29772243692,\n",
       " 97159.53244149731,\n",
       " 102592.14463615608,\n",
       " 96325.0107134862,\n",
       " 96013.03041581732,\n",
       " 98341.91534210971,\n",
       " 102025.06015613473,\n",
       " 107942.45253396808,\n",
       " 106669.92674890837,\n",
       " 106264.13159447206,\n",
       " 93579.8818698356,\n",
       " 92040.04721729059,\n",
       " 89743.07431876652,\n",
       " 89487.3491401379,\n",
       " 85380.0313668769,\n",
       " 79793.00181744945,\n",
       " 76365.23736724489,\n",
       " 69504.18566408806,\n",
       " 64146.64133998717,\n",
       " 78508.23840985147,\n",
       " 117034.43649005407]"
      ]
     },
     "execution_count": 19,
     "metadata": {},
     "output_type": "execute_result"
    }
   ],
   "source": [
    "### validate sliding_window with walk-forward\n",
    "mr_full.regress(df_all, param_grid=parameters, GridSearchCV={'verbose':True, 'n_jobs':-1})"
   ]
  },
  {
   "cell_type": "code",
   "execution_count": 20,
   "metadata": {},
   "outputs": [
    {
     "name": "stderr",
     "output_type": "stream",
     "text": [
      "[dp] data range: 1985-10-01 - 2017-09-27\n",
      "[dp] sliding_windows: [4, 8, 12, 12, 12, 4, 4, 4, 4, 4, 4, 4, 4, 4, 4, 4, 4, 4, 4, 4, 4, 4, 4, 12, 12, 12, 12, 12, 12, 12, 12, 12, 12, 12, 12, 4, 4, 4, 4, 4, 4, 12, 12, 12, 12, 12, 12, 12, 12, 12, 12, 12, 12, 8, 8, 8, 8, 8, 8, 8, 8, 8, 8, 8, 8, 12, 12, 12, 12, 12, 12, 8, 8, 8, 8, 8, 8, 8, 8, 8, 8, 8, 8, 8, 8, 8, 8, 8, 8, 12, 12, 12, 12, 12, 12]\n",
      "[dp] errors: [43976.5131943247, 47258.108516511435, 51938.43130005982, 52697.61388399104, 52469.42535143521, 57546.51762204806, 66574.30728919824, 61475.26066468218, 65062.16406356966, 76730.80640345882, 79776.94889857368, 72143.3532896779, 72173.2996729165, 68451.73162090922, 70569.77328333906, 81794.13334772609, 72839.97454525618, 76310.32054399865, 77457.21196046029, 73399.23593784074, 72880.99909425605, 68743.93655741346, 73014.91205074801, 74284.23330501227, 67845.87885902674, 75533.88347148789, 77519.7135729078, 66025.6173919984, 74367.10625383297, 74691.61670982368, 73542.13355548852, 76345.40536627048, 83708.63052235862, 82330.75581368966, 83374.72473666971, 84976.10667023038, 92475.48159931831, 92573.17808162783, 84751.52969722183, 87414.71696669351, 90557.41307196312, 95728.509079206, 109216.55934316186, 103161.93046414742, 109664.62544280181, 96044.99254010318, 92961.21241685604, 96003.6733095036, 100374.8257721562, 101894.35908631417, 105729.72542899924, 108438.34971513116, 111680.36330314624, 111416.09231963189, 141837.0075415073, 142025.11304388935, 125111.90896098188, 116960.04006943748, 125093.66291561036, 127572.75817091353, 122936.87844600502, 124469.25248223552, 130760.23716543622, 134856.35506791202, 131559.39187549773, 135670.1613574328, 143404.1690650599, 110126.88995684846, 114268.9162796148, 93278.38579269566, 93721.77173202053, 90780.2816559614, 91054.87809632863, 86217.74170251926, 99471.29772243692, 97159.53244149731, 102592.14463615608, 96325.0107134862, 96013.03041581732, 98341.91534210971, 102025.06015613473, 107942.45253396808, 106669.92674890837, 106264.13159447206, 93579.8818698356, 92040.04721729059, 89743.07431876652, 89487.3491401379, 85380.0313668769, 79793.00181744945, 76365.23736724489, 69504.18566408806, 64146.64133998717, 78508.23840985147, 117034.43649005407]\n"
     ]
    },
    {
     "data": {
      "image/png": "[encoded data removed]",
      "text/plain": [
       "<matplotlib.figure.Figure at 0x23410370668>"
      ]
     },
     "metadata": {},
     "output_type": "display_data"
    }
   ],
   "source": [
    "df_sum_auto = mr_full.summary()\n",
    "plot_trends(df_sum_auto, ['error'])"
   ]
  },
  {
   "cell_type": "code",
   "execution_count": 21,
   "metadata": {},
   "outputs": [
    {
     "data": {
      "image/png": "[encoded data removed]",
      "text/plain": [
       "<matplotlib.figure.Figure at 0x2347f4a3e80>"
      ]
     },
     "metadata": {},
     "output_type": "display_data"
    }
   ],
   "source": [
    "plot_trends(df_sum_auto, ['sliding_windows'])"
   ]
  },
  {
   "cell_type": "code",
   "execution_count": 42,
   "metadata": {},
   "outputs": [
    {
     "name": "stderr",
     "output_type": "stream",
     "text": [
      "[dp] prediction - data shape: (26051, 17), period: 1985-10-01 ~ 1986-05-30, sliding(in month): 4, test: 4\n",
      "[dp] track/sliding/test window size: 13403, 0, 12648\n",
      "[dp] training size: 13403\n"
     ]
    },
    {
     "name": "stdout",
     "output_type": "stream",
     "text": [
      "8 4 4 0 95 4\n"
     ]
    },
    {
     "name": "stderr",
     "output_type": "stream",
     "text": [
      "[dp] prediction - data shape: (43749, 17), period: 1985-10-01 ~ 1986-09-30, sliding(in month): 8, test: 4\n",
      "[dp] track/sliding/test window size: 26051, 13403, 17698\n",
      "[dp] training size: 26051\n"
     ]
    },
    {
     "name": "stdout",
     "output_type": "stream",
     "text": [
      "12 4 8 1 95 8\n"
     ]
    },
    {
     "name": "stderr",
     "output_type": "stream",
     "text": [
      "[dp] validation - data shape: (61867, 17), sliding(in month): 4, period: 1985-10-01 ~ 1987-01-30\n",
      "[dp] track/sliding/test window size: 43749, 12648, 18118\n",
      "[dp] validation - sliding(in month):4, score: -46813.67130078244\n",
      "[dp] validation - data shape: (61867, 17), sliding(in month): 8, period: 1985-10-01 ~ 1987-01-30\n",
      "[dp] track/sliding/test window size: 43749, 26051, 18118\n",
      "[dp] validation - sliding(in month):8, score: -46521.348791693395\n",
      "[dp] validation - data shape: (61867, 17), sliding(in month): 12, period: 1985-10-01 ~ 1987-01-30\n",
      "[dp] track/sliding/test window size: 43749, 26051, 18118\n",
      "[dp] validation - sliding(in month):12, score: -46521.34879169339\n",
      "[dp] prediction - data shape: (61867, 17), period: 1985-10-01 ~ 1987-01-30, sliding(in month): 12, test: 4\n",
      "[dp] track/sliding/test window size: 43749, 26051, 18118\n",
      "[dp] training size: 43749\n"
     ]
    },
    {
     "name": "stdout",
     "output_type": "stream",
     "text": [
      "16 4 12 2 95 12\n"
     ]
    },
    {
     "name": "stderr",
     "output_type": "stream",
     "text": [
      "[dp] prediction - data shape: (63207, 17), period: 1986-02-03 ~ 1987-05-29, sliding(in month): 12, test: 4\n",
      "[dp] track/sliding/test window size: 47724, 29598, 15483\n",
      "[dp] training size: 47724\n"
     ]
    },
    {
     "name": "stdout",
     "output_type": "stream",
     "text": [
      "20 4 12 3 95 16\n"
     ]
    },
    {
     "name": "stderr",
     "output_type": "stream",
     "text": [
      "[dp] prediction - data shape: (69151, 17), period: 1986-06-02 ~ 1987-09-30, sliding(in month): 12, test: 4\n",
      "[dp] track/sliding/test window size: 50944, 35461, 18207\n",
      "[dp] training size: 50944\n"
     ]
    },
    {
     "name": "stdout",
     "output_type": "stream",
     "text": [
      "24 4 12 4 95 20\n"
     ]
    },
    {
     "name": "stderr",
     "output_type": "stream",
     "text": [
      "[dp] validation - data shape: (66467, 17), sliding(in month): 4, period: 1986-10-01 ~ 1988-01-31\n",
      "[dp] track/sliding/test window size: 51453, 15128, 15014\n",
      "[dp] validation - sliding(in month):4, score: -52131.17885263345\n",
      "[dp] validation - data shape: (66467, 17), sliding(in month): 8, period: 1986-10-01 ~ 1988-01-31\n",
      "[dp] track/sliding/test window size: 51453, 33246, 15014\n",
      "[dp] validation - sliding(in month):8, score: -51116.56928878356\n",
      "[dp] validation - data shape: (66467, 17), sliding(in month): 12, period: 1986-10-01 ~ 1988-01-31\n",
      "[dp] track/sliding/test window size: 51453, 33246, 15014\n",
      "[dp] validation - sliding(in month):12, score: -51116.56928878356\n",
      "[dp] prediction - data shape: (48349, 17), period: 1987-02-02 ~ 1988-01-31, sliding(in month): 8, test: 4\n",
      "[dp] track/sliding/test window size: 33335, 15128, 15014\n",
      "[dp] training size: 33335\n"
     ]
    },
    {
     "name": "stdout",
     "output_type": "stream",
     "text": [
      "28 4 8 5 95 24\n"
     ]
    },
    {
     "name": "stderr",
     "output_type": "stream",
     "text": [
      "[dp] prediction - data shape: (48902, 17), period: 1987-06-01 ~ 1988-05-31, sliding(in month): 8, test: 4\n",
      "[dp] track/sliding/test window size: 33221, 18207, 15681\n",
      "[dp] training size: 33221\n"
     ]
    },
    {
     "name": "stdout",
     "output_type": "stream",
     "text": [
      "32 4 8 6 95 28\n"
     ]
    },
    {
     "name": "stderr",
     "output_type": "stream",
     "text": [
      "[dp] prediction - data shape: (52304, 17), period: 1987-10-01 ~ 1988-09-30, sliding(in month): 8, test: 4\n",
      "[dp] track/sliding/test window size: 30445, 14657, 21859\n",
      "[dp] training size: 30445\n"
     ]
    },
    {
     "name": "stdout",
     "output_type": "stream",
     "text": [
      "36 4 8 7 95 32\n"
     ]
    },
    {
     "name": "stderr",
     "output_type": "stream",
     "text": [
      "[dp] validation - data shape: (70801, 17), sliding(in month): 4, period: 1987-10-01 ~ 1989-01-31\n",
      "[dp] track/sliding/test window size: 52304, 15432, 18497\n",
      "[dp] validation - sliding(in month):4, score: -60240.628134910025\n",
      "[dp] validation - data shape: (70801, 17), sliding(in month): 8, period: 1987-10-01 ~ 1989-01-31\n",
      "[dp] track/sliding/test window size: 52304, 30445, 18497\n",
      "[dp] validation - sliding(in month):8, score: -60512.521530640646\n",
      "[dp] validation - data shape: (70801, 17), sliding(in month): 12, period: 1987-10-01 ~ 1989-01-31\n",
      "[dp] track/sliding/test window size: 52304, 30445, 18497\n",
      "[dp] validation - sliding(in month):12, score: -60512.521530640646\n",
      "[dp] prediction - data shape: (40106, 17), period: 1988-06-01 ~ 1989-01-31, sliding(in month): 4, test: 4\n",
      "[dp] track/sliding/test window size: 21609, 0, 18497\n",
      "[dp] training size: 21609\n"
     ]
    },
    {
     "name": "stdout",
     "output_type": "stream",
     "text": [
      "40 4 4 8 95 36\n"
     ]
    },
    {
     "name": "stderr",
     "output_type": "stream",
     "text": [
      "[dp] prediction - data shape: (35722, 17), period: 1988-10-03 ~ 1989-05-31, sliding(in month): 4, test: 4\n",
      "[dp] track/sliding/test window size: 18497, 0, 17225\n",
      "[dp] training size: 18497\n"
     ]
    },
    {
     "name": "stdout",
     "output_type": "stream",
     "text": [
      "44 4 4 9 95 40\n"
     ]
    },
    {
     "name": "stderr",
     "output_type": "stream",
     "text": [
      "[dp] prediction - data shape: (35282, 17), period: 1989-02-01 ~ 1989-09-29, sliding(in month): 4, test: 4\n",
      "[dp] track/sliding/test window size: 16705, 0, 18577\n",
      "[dp] training size: 16705\n"
     ]
    },
    {
     "name": "stdout",
     "output_type": "stream",
     "text": [
      "48 4 4 10 95 44\n"
     ]
    },
    {
     "name": "stderr",
     "output_type": "stream",
     "text": [
      "[dp] validation - data shape: (68965, 17), sliding(in month): 4, period: 1988-10-03 ~ 1990-01-31\n",
      "[dp] track/sliding/test window size: 53779, 17147, 15186\n",
      "[dp] validation - sliding(in month):4, score: -79468.111099494\n",
      "[dp] validation - data shape: (68965, 17), sliding(in month): 8, period: 1988-10-03 ~ 1990-01-31\n",
      "[dp] track/sliding/test window size: 53779, 35202, 15186\n",
      "[dp] validation - sliding(in month):8, score: -81669.8430859198\n",
      "[dp] validation - data shape: (68965, 17), sliding(in month): 12, period: 1988-10-03 ~ 1990-01-31\n",
      "[dp] track/sliding/test window size: 53779, 35202, 15186\n",
      "[dp] validation - sliding(in month):12, score: -81669.8430859198\n",
      "[dp] prediction - data shape: (33243, 17), period: 1989-06-01 ~ 1990-01-31, sliding(in month): 4, test: 4\n",
      "[dp] track/sliding/test window size: 18057, 0, 15186\n",
      "[dp] training size: 18057\n"
     ]
    },
    {
     "name": "stdout",
     "output_type": "stream",
     "text": [
      "52 4 4 11 95 48\n"
     ]
    },
    {
     "name": "stderr",
     "output_type": "stream",
     "text": [
      "[dp] prediction - data shape: (28808, 17), period: 1989-10-02 ~ 1990-05-31, sliding(in month): 4, test: 4\n",
      "[dp] track/sliding/test window size: 15186, 0, 13622\n",
      "[dp] training size: 15186\n"
     ]
    },
    {
     "name": "stdout",
     "output_type": "stream",
     "text": [
      "56 4 4 12 95 52\n"
     ]
    },
    {
     "name": "stderr",
     "output_type": "stream",
     "text": [
      "[dp] prediction - data shape: (26991, 17), period: 1990-02-01 ~ 1990-09-28, sliding(in month): 4, test: 4\n",
      "[dp] track/sliding/test window size: 13034, 0, 13957\n",
      "[dp] training size: 13034\n"
     ]
    },
    {
     "name": "stdout",
     "output_type": "stream",
     "text": [
      "60 4 4 13 95 56\n"
     ]
    },
    {
     "name": "stderr",
     "output_type": "stream",
     "text": [
      "[dp] validation - data shape: (51395, 17), sliding(in month): 4, period: 1989-10-02 ~ 1991-01-31\n",
      "[dp] track/sliding/test window size: 42177, 13549, 9218\n",
      "[dp] validation - sliding(in month):4, score: -68330.47990920981\n",
      "[dp] validation - data shape: (51395, 17), sliding(in month): 8, period: 1989-10-02 ~ 1991-01-31\n",
      "[dp] track/sliding/test window size: 42177, 28220, 9218\n",
      "[dp] validation - sliding(in month):8, score: -66153.02631549354\n",
      "[dp] validation - data shape: (51395, 17), sliding(in month): 12, period: 1989-10-02 ~ 1991-01-31\n",
      "[dp] track/sliding/test window size: 42177, 28220, 9218\n",
      "[dp] validation - sliding(in month):12, score: -66153.02631549354\n",
      "[dp] prediction - data shape: (36209, 17), period: 1990-02-01 ~ 1991-01-31, sliding(in month): 8, test: 4\n",
      "[dp] track/sliding/test window size: 26991, 13034, 9218\n",
      "[dp] training size: 26991\n"
     ]
    },
    {
     "name": "stdout",
     "output_type": "stream",
     "text": [
      "64 4 8 14 95 60\n"
     ]
    },
    {
     "name": "stderr",
     "output_type": "stream",
     "text": [
      "[dp] prediction - data shape: (32917, 17), period: 1990-06-01 ~ 1991-05-31, sliding(in month): 8, test: 4\n",
      "[dp] track/sliding/test window size: 22587, 13369, 10330\n",
      "[dp] training size: 22587\n"
     ]
    },
    {
     "name": "stdout",
     "output_type": "stream",
     "text": [
      "68 4 8 15 95 64\n"
     ]
    },
    {
     "name": "stderr",
     "output_type": "stream",
     "text": [
      "[dp] prediction - data shape: (31104, 17), period: 1990-10-01 ~ 1991-09-30, sliding(in month): 8, test: 4\n",
      "[dp] track/sliding/test window size: 19109, 9018, 11995\n",
      "[dp] training size: 19109\n"
     ]
    },
    {
     "name": "stdout",
     "output_type": "stream",
     "text": [
      "72 4 8 16 95 68\n"
     ]
    },
    {
     "name": "stderr",
     "output_type": "stream",
     "text": [
      "[dp] validation - data shape: (40253, 17), sliding(in month): 4, period: 1990-10-01 ~ 1992-01-31\n",
      "[dp] track/sliding/test window size: 31104, 10091, 9149\n",
      "[dp] validation - sliding(in month):4, score: -70772.11946497097\n",
      "[dp] validation - data shape: (40253, 17), sliding(in month): 8, period: 1990-10-01 ~ 1992-01-31\n",
      "[dp] track/sliding/test window size: 31104, 19109, 9149\n",
      "[dp] validation - sliding(in month):8, score: -67489.26583591937\n",
      "[dp] validation - data shape: (40253, 17), sliding(in month): 12, period: 1990-10-01 ~ 1992-01-31\n",
      "[dp] track/sliding/test window size: 31104, 19109, 9149\n",
      "[dp] validation - sliding(in month):12, score: -67489.26583591937\n",
      "[dp] prediction - data shape: (31035, 17), period: 1991-02-01 ~ 1992-01-31, sliding(in month): 8, test: 4\n",
      "[dp] track/sliding/test window size: 21886, 9891, 9149\n",
      "[dp] training size: 21886\n"
     ]
    },
    {
     "name": "stdout",
     "output_type": "stream",
     "text": [
      "76 4 8 17 95 72\n"
     ]
    },
    {
     "name": "stderr",
     "output_type": "stream",
     "text": [
      "[dp] prediction - data shape: (30810, 17), period: 1991-06-03 ~ 1992-05-29, sliding(in month): 8, test: 4\n",
      "[dp] track/sliding/test window size: 20386, 11361, 10424\n",
      "[dp] training size: 20386\n"
     ]
    },
    {
     "name": "stdout",
     "output_type": "stream",
     "text": [
      "80 4 8 18 95 76\n"
     ]
    },
    {
     "name": "stderr",
     "output_type": "stream",
     "text": [
      "[dp] prediction - data shape: (29323, 17), period: 1991-10-01 ~ 1992-09-30, sliding(in month): 8, test: 4\n",
      "[dp] track/sliding/test window size: 19254, 8830, 10069\n",
      "[dp] training size: 19254\n"
     ]
    },
    {
     "name": "stdout",
     "output_type": "stream",
     "text": [
      "84 4 8 19 95 80\n"
     ]
    },
    {
     "name": "stderr",
     "output_type": "stream",
     "text": [
      "[dp] validation - data shape: (38491, 17), sliding(in month): 4, period: 1991-10-01 ~ 1993-01-30\n",
      "[dp] track/sliding/test window size: 29323, 10301, 9168\n",
      "[dp] validation - sliding(in month):4, score: -73471.9553100508\n",
      "[dp] validation - data shape: (38491, 17), sliding(in month): 8, period: 1991-10-01 ~ 1993-01-30\n",
      "[dp] track/sliding/test window size: 29323, 19254, 9168\n",
      "[dp] validation - sliding(in month):8, score: -78234.38868993908\n",
      "[dp] validation - data shape: (38491, 17), sliding(in month): 12, period: 1991-10-01 ~ 1993-01-30\n",
      "[dp] track/sliding/test window size: 29323, 19254, 9168\n",
      "[dp] validation - sliding(in month):12, score: -78234.38868993908\n",
      "[dp] prediction - data shape: (19237, 17), period: 1992-06-01 ~ 1993-01-30, sliding(in month): 4, test: 4\n",
      "[dp] track/sliding/test window size: 10069, 0, 9168\n",
      "[dp] training size: 10069\n"
     ]
    },
    {
     "name": "stdout",
     "output_type": "stream",
     "text": [
      "88 4 4 20 95 84\n"
     ]
    },
    {
     "name": "stderr",
     "output_type": "stream",
     "text": [
      "[dp] prediction - data shape: (18087, 17), period: 1992-10-01 ~ 1993-05-28, sliding(in month): 4, test: 4\n",
      "[dp] track/sliding/test window size: 8930, 0, 9157\n",
      "[dp] training size: 8930\n"
     ]
    },
    {
     "name": "stdout",
     "output_type": "stream",
     "text": [
      "92 4 4 21 95 88\n"
     ]
    },
    {
     "name": "stderr",
     "output_type": "stream",
     "text": [
      "[dp] prediction - data shape: (19663, 17), period: 1993-02-01 ~ 1993-09-30, sliding(in month): 4, test: 4\n",
      "[dp] track/sliding/test window size: 8919, 0, 10744\n",
      "[dp] training size: 8919\n"
     ]
    },
    {
     "name": "stdout",
     "output_type": "stream",
     "text": [
      "96 4 4 22 95 92\n"
     ]
    },
    {
     "name": "stderr",
     "output_type": "stream",
     "text": [
      "[dp] validation - data shape: (38778, 17), sliding(in month): 4, period: 1992-10-01 ~ 1994-01-31\n",
      "[dp] track/sliding/test window size: 28831, 8919, 9947\n",
      "[dp] validation - sliding(in month):4, score: -72674.29418276933\n",
      "[dp] validation - data shape: (38778, 17), sliding(in month): 8, period: 1992-10-01 ~ 1994-01-31\n",
      "[dp] track/sliding/test window size: 28831, 18087, 9947\n",
      "[dp] validation - sliding(in month):8, score: -70289.47517494037\n",
      "[dp] validation - data shape: (38778, 17), sliding(in month): 12, period: 1992-10-01 ~ 1994-01-31\n",
      "[dp] track/sliding/test window size: 28831, 18087, 9947\n",
      "[dp] validation - sliding(in month):12, score: -70289.47517494038\n",
      "[dp] prediction - data shape: (29610, 17), period: 1993-02-01 ~ 1994-01-31, sliding(in month): 8, test: 4\n",
      "[dp] track/sliding/test window size: 19663, 8919, 9947\n",
      "[dp] training size: 19663\n"
     ]
    },
    {
     "name": "stdout",
     "output_type": "stream",
     "text": [
      "100 4 8 23 95 96\n"
     ]
    },
    {
     "name": "stderr",
     "output_type": "stream",
     "text": [
      "[dp] prediction - data shape: (32054, 17), period: 1993-06-01 ~ 1994-05-31, sliding(in month): 8, test: 4\n",
      "[dp] track/sliding/test window size: 20691, 10744, 11363\n",
      "[dp] training size: 20691\n"
     ]
    },
    {
     "name": "stdout",
     "output_type": "stream",
     "text": [
      "104 4 8 24 95 100\n"
     ]
    },
    {
     "name": "stderr",
     "output_type": "stream",
     "text": [
      "[dp] prediction - data shape: (33045, 17), period: 1993-10-01 ~ 1994-09-30, sliding(in month): 8, test: 4\n",
      "[dp] track/sliding/test window size: 21081, 9514, 11964\n",
      "[dp] training size: 21081\n"
     ]
    },
    {
     "name": "stdout",
     "output_type": "stream",
     "text": [
      "108 4 8 25 95 104\n"
     ]
    },
    {
     "name": "stderr",
     "output_type": "stream",
     "text": [
      "[dp] validation - data shape: (41593, 17), sliding(in month): 4, period: 1993-10-01 ~ 1995-01-31\n",
      "[dp] track/sliding/test window size: 33045, 11310, 8548\n",
      "[dp] validation - sliding(in month):4, score: -76644.06122262034\n",
      "[dp] validation - data shape: (41593, 17), sliding(in month): 8, period: 1993-10-01 ~ 1995-01-31\n",
      "[dp] track/sliding/test window size: 33045, 21081, 8548\n",
      "[dp] validation - sliding(in month):8, score: -74515.25404194517\n",
      "[dp] validation - data shape: (41593, 17), sliding(in month): 12, period: 1993-10-01 ~ 1995-01-31\n",
      "[dp] track/sliding/test window size: 33045, 21081, 8548\n",
      "[dp] validation - sliding(in month):12, score: -74515.25404194517\n",
      "[dp] prediction - data shape: (31646, 17), period: 1994-02-01 ~ 1995-01-31, sliding(in month): 8, test: 4\n",
      "[dp] track/sliding/test window size: 23098, 11134, 8548\n",
      "[dp] training size: 23098\n"
     ]
    },
    {
     "name": "stdout",
     "output_type": "stream",
     "text": [
      "112 4 8 26 95 108\n"
     ]
    },
    {
     "name": "stderr",
     "output_type": "stream",
     "text": [
      "[dp] prediction - data shape: (28492, 17), period: 1994-06-01 ~ 1995-05-31, sliding(in month): 8, test: 4\n",
      "[dp] track/sliding/test window size: 20283, 11735, 8209\n",
      "[dp] training size: 20283\n"
     ]
    },
    {
     "name": "stdout",
     "output_type": "stream",
     "text": [
      "116 4 8 27 95 112\n"
     ]
    },
    {
     "name": "stderr",
     "output_type": "stream",
     "text": [
      "[dp] prediction - data shape: (27014, 17), period: 1994-10-03 ~ 1995-09-29, sliding(in month): 8, test: 4\n",
      "[dp] track/sliding/test window size: 16363, 8185, 10651\n",
      "[dp] training size: 16363\n"
     ]
    },
    {
     "name": "stdout",
     "output_type": "stream",
     "text": [
      "120 4 8 28 95 116\n"
     ]
    },
    {
     "name": "stderr",
     "output_type": "stream",
     "text": [
      "[dp] validation - data shape: (36012, 17), sliding(in month): 4, period: 1994-10-03 ~ 1996-01-31\n",
      "[dp] track/sliding/test window size: 27014, 8030, 8998\n",
      "[dp] validation - sliding(in month):4, score: -75719.01892689588\n",
      "[dp] validation - data shape: (36012, 17), sliding(in month): 8, period: 1994-10-03 ~ 1996-01-31\n",
      "[dp] track/sliding/test window size: 27014, 16363, 8998\n",
      "[dp] validation - sliding(in month):8, score: -72410.54453911306\n",
      "[dp] validation - data shape: (36012, 17), sliding(in month): 12, period: 1994-10-03 ~ 1996-01-31\n",
      "[dp] track/sliding/test window size: 27014, 16363, 8998\n",
      "[dp] validation - sliding(in month):12, score: -72410.54453911306\n",
      "[dp] prediction - data shape: (27464, 17), period: 1995-02-01 ~ 1996-01-31, sliding(in month): 8, test: 4\n",
      "[dp] track/sliding/test window size: 18466, 7815, 8998\n",
      "[dp] training size: 18466\n"
     ]
    },
    {
     "name": "stdout",
     "output_type": "stream",
     "text": [
      "124 4 8 29 95 120\n"
     ]
    },
    {
     "name": "stderr",
     "output_type": "stream",
     "text": [
      "[dp] prediction - data shape: (29784, 17), period: 1995-06-01 ~ 1996-05-31, sliding(in month): 8, test: 4\n",
      "[dp] track/sliding/test window size: 19255, 10257, 10529\n",
      "[dp] training size: 19255\n"
     ]
    },
    {
     "name": "stdout",
     "output_type": "stream",
     "text": [
      "128 4 8 30 95 124\n"
     ]
    },
    {
     "name": "stderr",
     "output_type": "stream",
     "text": [
      "[dp] prediction - data shape: (30699, 17), period: 1995-10-02 ~ 1996-09-30, sliding(in month): 8, test: 4\n",
      "[dp] track/sliding/test window size: 19092, 8767, 11607\n",
      "[dp] training size: 19092\n"
     ]
    },
    {
     "name": "stdout",
     "output_type": "stream",
     "text": [
      "132 4 8 31 95 128\n"
     ]
    },
    {
     "name": "stderr",
     "output_type": "stream",
     "text": [
      "[dp] validation - data shape: (40845, 17), sliding(in month): 4, period: 1995-10-02 ~ 1997-01-31\n",
      "[dp] track/sliding/test window size: 30699, 10325, 10146\n",
      "[dp] validation - sliding(in month):4, score: -79698.19029897302\n",
      "[dp] validation - data shape: (40845, 17), sliding(in month): 8, period: 1995-10-02 ~ 1997-01-31\n",
      "[dp] track/sliding/test window size: 30699, 19092, 10146\n",
      "[dp] validation - sliding(in month):8, score: -77144.10949717267\n",
      "[dp] validation - data shape: (40845, 17), sliding(in month): 12, period: 1995-10-02 ~ 1997-01-31\n",
      "[dp] track/sliding/test window size: 30699, 19092, 10146\n",
      "[dp] validation - sliding(in month):12, score: -77144.10949717266\n",
      "[dp] prediction - data shape: (40845, 17), period: 1995-10-02 ~ 1997-01-31, sliding(in month): 12, test: 4\n",
      "[dp] track/sliding/test window size: 30699, 19092, 10146\n",
      "[dp] training size: 30699\n"
     ]
    },
    {
     "name": "stdout",
     "output_type": "stream",
     "text": [
      "136 4 12 32 95 132\n"
     ]
    },
    {
     "name": "stderr",
     "output_type": "stream",
     "text": [
      "[dp] prediction - data shape: (43150, 17), period: 1996-02-01 ~ 1997-05-30, sliding(in month): 12, test: 4\n",
      "[dp] track/sliding/test window size: 31546, 21701, 11604\n",
      "[dp] training size: 31546\n"
     ]
    },
    {
     "name": "stdout",
     "output_type": "stream",
     "text": [
      "140 4 12 33 95 136\n"
     ]
    },
    {
     "name": "stderr",
     "output_type": "stream",
     "text": [
      "[dp] prediction - data shape: (46697, 17), period: 1996-06-03 ~ 1997-09-30, sliding(in month): 12, test: 4\n",
      "[dp] track/sliding/test window size: 32621, 21017, 14076\n",
      "[dp] training size: 32621\n"
     ]
    },
    {
     "name": "stdout",
     "output_type": "stream",
     "text": [
      "144 4 12 34 95 140\n"
     ]
    },
    {
     "name": "stderr",
     "output_type": "stream",
     "text": [
      "[dp] validation - data shape: (48252, 17), sliding(in month): 4, period: 1996-10-01 ~ 1998-01-30\n",
      "[dp] track/sliding/test window size: 35525, 11604, 12727\n",
      "[dp] validation - sliding(in month):4, score: -83154.49905347779\n",
      "[dp] validation - data shape: (48252, 17), sliding(in month): 8, period: 1996-10-01 ~ 1998-01-30\n",
      "[dp] track/sliding/test window size: 35525, 21449, 12727\n",
      "[dp] validation - sliding(in month):8, score: -81014.06557905897\n",
      "[dp] validation - data shape: (48252, 17), sliding(in month): 12, period: 1996-10-01 ~ 1998-01-30\n",
      "[dp] track/sliding/test window size: 35525, 21449, 12727\n",
      "[dp] validation - sliding(in month):12, score: -81014.06557905897\n",
      "[dp] prediction - data shape: (38106, 17), period: 1997-02-01 ~ 1998-01-30, sliding(in month): 8, test: 4\n",
      "[dp] track/sliding/test window size: 25379, 11303, 12727\n",
      "[dp] training size: 25379\n"
     ]
    },
    {
     "name": "stdout",
     "output_type": "stream",
     "text": [
      "148 4 8 35 95 144\n"
     ]
    },
    {
     "name": "stderr",
     "output_type": "stream",
     "text": [
      "[dp] prediction - data shape: (41727, 17), period: 1997-06-02 ~ 1998-05-29, sliding(in month): 8, test: 4\n",
      "[dp] track/sliding/test window size: 26425, 13656, 15302\n",
      "[dp] training size: 26425\n"
     ]
    },
    {
     "name": "stdout",
     "output_type": "stream",
     "text": [
      "152 4 8 36 95 148\n"
     ]
    },
    {
     "name": "stderr",
     "output_type": "stream",
     "text": [
      "[dp] prediction - data shape: (45534, 17), period: 1997-10-01 ~ 1998-09-30, sliding(in month): 8, test: 4\n",
      "[dp] track/sliding/test window size: 27651, 12349, 17883\n",
      "[dp] training size: 27651\n"
     ]
    },
    {
     "name": "stdout",
     "output_type": "stream",
     "text": [
      "156 4 8 37 95 152\n"
     ]
    },
    {
     "name": "stderr",
     "output_type": "stream",
     "text": [
      "[dp] validation - data shape: (59477, 17), sliding(in month): 4, period: 1997-10-01 ~ 1999-01-29\n",
      "[dp] track/sliding/test window size: 45093, 15302, 14384\n",
      "[dp] validation - sliding(in month):4, score: -90194.67262417157\n",
      "[dp] validation - data shape: (59477, 17), sliding(in month): 8, period: 1997-10-01 ~ 1999-01-29\n",
      "[dp] track/sliding/test window size: 45093, 27651, 14384\n",
      "[dp] validation - sliding(in month):8, score: -91108.1625297762\n",
      "[dp] validation - data shape: (59477, 17), sliding(in month): 12, period: 1997-10-01 ~ 1999-01-29\n",
      "[dp] track/sliding/test window size: 45093, 27651, 14384\n",
      "[dp] validation - sliding(in month):12, score: -91108.1625297762\n",
      "[dp] prediction - data shape: (31826, 17), period: 1998-06-01 ~ 1999-01-29, sliding(in month): 4, test: 4\n",
      "[dp] track/sliding/test window size: 17442, 0, 14384\n",
      "[dp] training size: 17442\n"
     ]
    },
    {
     "name": "stdout",
     "output_type": "stream",
     "text": [
      "160 4 4 38 95 156\n"
     ]
    },
    {
     "name": "stderr",
     "output_type": "stream",
     "text": [
      "[dp] prediction - data shape: (30808, 17), period: 1998-10-01 ~ 1999-05-30, sliding(in month): 4, test: 4\n",
      "[dp] track/sliding/test window size: 13943, 0, 16865\n",
      "[dp] training size: 13943\n"
     ]
    },
    {
     "name": "stdout",
     "output_type": "stream",
     "text": [
      "164 4 4 39 95 160\n"
     ]
    },
    {
     "name": "stderr",
     "output_type": "stream",
     "text": [
      "[dp] prediction - data shape: (35695, 17), period: 1999-02-01 ~ 1999-09-30, sliding(in month): 4, test: 4\n",
      "[dp] track/sliding/test window size: 16865, 0, 18830\n",
      "[dp] training size: 16865\n"
     ]
    },
    {
     "name": "stdout",
     "output_type": "stream",
     "text": [
      "168 4 4 40 95 164\n"
     ]
    },
    {
     "name": "stderr",
     "output_type": "stream",
     "text": [
      "[dp] validation - data shape: (64161, 17), sliding(in month): 4, period: 1998-10-01 ~ 2000-01-31\n",
      "[dp] track/sliding/test window size: 49638, 16865, 14523\n",
      "[dp] validation - sliding(in month):4, score: -89939.95851612004\n",
      "[dp] validation - data shape: (64161, 17), sliding(in month): 8, period: 1998-10-01 ~ 2000-01-31\n",
      "[dp] track/sliding/test window size: 49638, 30808, 14523\n",
      "[dp] validation - sliding(in month):8, score: -87167.49745308873\n",
      "[dp] validation - data shape: (64161, 17), sliding(in month): 12, period: 1998-10-01 ~ 2000-01-31\n",
      "[dp] track/sliding/test window size: 49638, 30808, 14523\n",
      "[dp] validation - sliding(in month):12, score: -87167.49745308873\n",
      "[dp] prediction - data shape: (50218, 17), period: 1999-02-01 ~ 2000-01-31, sliding(in month): 8, test: 4\n",
      "[dp] track/sliding/test window size: 35695, 16865, 14523\n",
      "[dp] training size: 35695\n"
     ]
    },
    {
     "name": "stdout",
     "output_type": "stream",
     "text": [
      "172 4 8 41 95 168\n"
     ]
    },
    {
     "name": "stderr",
     "output_type": "stream",
     "text": [
      "[dp] prediction - data shape: (49980, 17), period: 1999-06-01 ~ 2000-05-31, sliding(in month): 8, test: 4\n",
      "[dp] track/sliding/test window size: 33353, 18830, 16627\n",
      "[dp] training size: 33353\n"
     ]
    },
    {
     "name": "stdout",
     "output_type": "stream",
     "text": [
      "176 4 8 42 95 172\n"
     ]
    },
    {
     "name": "stderr",
     "output_type": "stream",
     "text": [
      "[dp] prediction - data shape: (48455, 17), period: 1999-10-01 ~ 2000-09-29, sliding(in month): 8, test: 4\n",
      "[dp] track/sliding/test window size: 30378, 13765, 18077\n",
      "[dp] training size: 30378\n"
     ]
    },
    {
     "name": "stdout",
     "output_type": "stream",
     "text": [
      "180 4 8 43 95 176\n"
     ]
    },
    {
     "name": "stderr",
     "output_type": "stream",
     "text": [
      "[dp] validation - data shape: (63065, 17), sliding(in month): 4, period: 1999-10-01 ~ 2001-01-31\n",
      "[dp] track/sliding/test window size: 48455, 16115, 14610\n",
      "[dp] validation - sliding(in month):4, score: -101235.02316509743\n",
      "[dp] validation - data shape: (63065, 17), sliding(in month): 8, period: 1999-10-01 ~ 2001-01-31\n",
      "[dp] track/sliding/test window size: 48455, 30378, 14610\n",
      "[dp] validation - sliding(in month):8, score: -98950.10004140295\n",
      "[dp] validation - data shape: (63065, 17), sliding(in month): 12, period: 1999-10-01 ~ 2001-01-31\n",
      "[dp] track/sliding/test window size: 48455, 30378, 14610\n",
      "[dp] validation - sliding(in month):12, score: -98950.10004140295\n",
      "[dp] prediction - data shape: (48542, 17), period: 2000-02-01 ~ 2001-01-31, sliding(in month): 8, test: 4\n",
      "[dp] track/sliding/test window size: 33932, 15855, 14610\n",
      "[dp] training size: 33932\n"
     ]
    },
    {
     "name": "stdout",
     "output_type": "stream",
     "text": [
      "184 4 8 44 95 180\n"
     ]
    },
    {
     "name": "stderr",
     "output_type": "stream",
     "text": [
      "[dp] prediction - data shape: (46995, 17), period: 2000-06-01 ~ 2001-05-31, sliding(in month): 8, test: 4\n",
      "[dp] track/sliding/test window size: 31915, 17305, 15080\n",
      "[dp] training size: 31915\n"
     ]
    },
    {
     "name": "stdout",
     "output_type": "stream",
     "text": [
      "188 4 8 45 95 184\n"
     ]
    },
    {
     "name": "stderr",
     "output_type": "stream",
     "text": [
      "[dp] prediction - data shape: (47372, 17), period: 2000-10-02 ~ 2001-09-28, sliding(in month): 8, test: 4\n",
      "[dp] track/sliding/test window size: 28864, 13746, 18508\n",
      "[dp] training size: 28864\n"
     ]
    },
    {
     "name": "stdout",
     "output_type": "stream",
     "text": [
      "192 4 8 46 95 188\n"
     ]
    },
    {
     "name": "stderr",
     "output_type": "stream",
     "text": [
      "[dp] validation - data shape: (61343, 17), sliding(in month): 4, period: 2000-10-02 ~ 2002-01-31\n",
      "[dp] track/sliding/test window size: 47372, 14904, 13971\n",
      "[dp] validation - sliding(in month):4, score: -92533.45160535454\n",
      "[dp] validation - data shape: (61343, 17), sliding(in month): 8, period: 2000-10-02 ~ 2002-01-31\n",
      "[dp] track/sliding/test window size: 47372, 28864, 13971\n",
      "[dp] validation - sliding(in month):8, score: -89948.45536026309\n",
      "[dp] validation - data shape: (61343, 17), sliding(in month): 12, period: 2000-10-02 ~ 2002-01-31\n",
      "[dp] track/sliding/test window size: 47372, 28864, 13971\n",
      "[dp] validation - sliding(in month):12, score: -89948.45536026309\n",
      "[dp] prediction - data shape: (46733, 17), period: 2001-02-01 ~ 2002-01-31, sliding(in month): 8, test: 4\n",
      "[dp] track/sliding/test window size: 32762, 14254, 13971\n",
      "[dp] training size: 32762\n"
     ]
    },
    {
     "name": "stdout",
     "output_type": "stream",
     "text": [
      "196 4 8 47 95 192\n"
     ]
    },
    {
     "name": "stderr",
     "output_type": "stream",
     "text": [
      "[dp] prediction - data shape: (49924, 17), period: 2001-06-01 ~ 2002-05-31, sliding(in month): 8, test: 4\n",
      "[dp] track/sliding/test window size: 31653, 17682, 18271\n",
      "[dp] training size: 31653\n"
     ]
    },
    {
     "name": "stdout",
     "output_type": "stream",
     "text": [
      "200 4 8 48 95 196\n"
     ]
    },
    {
     "name": "stderr",
     "output_type": "stream",
     "text": [
      "[dp] prediction - data shape: (50845, 17), period: 2001-10-01 ~ 2002-09-30, sliding(in month): 8, test: 4\n",
      "[dp] track/sliding/test window size: 31662, 13636, 19183\n",
      "[dp] training size: 31662\n"
     ]
    },
    {
     "name": "stdout",
     "output_type": "stream",
     "text": [
      "204 4 8 49 95 200\n"
     ]
    },
    {
     "name": "stderr",
     "output_type": "stream",
     "text": [
      "[dp] validation - data shape: (66551, 17), sliding(in month): 4, period: 2001-10-01 ~ 2003-01-31\n",
      "[dp] track/sliding/test window size: 50845, 18026, 15706\n",
      "[dp] validation - sliding(in month):4, score: -101660.57085550582\n",
      "[dp] validation - data shape: (66551, 17), sliding(in month): 8, period: 2001-10-01 ~ 2003-01-31\n",
      "[dp] track/sliding/test window size: 50845, 31662, 15706\n",
      "[dp] validation - sliding(in month):8, score: -101697.45885481835\n",
      "[dp] validation - data shape: (66551, 17), sliding(in month): 12, period: 2001-10-01 ~ 2003-01-31\n",
      "[dp] track/sliding/test window size: 50845, 31662, 15706\n",
      "[dp] validation - sliding(in month):12, score: -101697.45885481834\n",
      "[dp] prediction - data shape: (34309, 17), period: 2002-06-03 ~ 2003-01-31, sliding(in month): 4, test: 4\n",
      "[dp] track/sliding/test window size: 18603, 0, 15706\n",
      "[dp] training size: 18603\n"
     ]
    },
    {
     "name": "stdout",
     "output_type": "stream",
     "text": [
      "208 4 4 50 95 204\n"
     ]
    },
    {
     "name": "stderr",
     "output_type": "stream",
     "text": [
      "[dp] prediction - data shape: (32631, 17), period: 2002-10-01 ~ 2003-05-30, sliding(in month): 4, test: 4\n",
      "[dp] track/sliding/test window size: 15311, 0, 17320\n",
      "[dp] training size: 15311\n"
     ]
    },
    {
     "name": "stdout",
     "output_type": "stream",
     "text": [
      "212 4 4 51 95 208\n"
     ]
    },
    {
     "name": "stderr",
     "output_type": "stream",
     "text": [
      "[dp] prediction - data shape: (38030, 17), period: 2003-02-03 ~ 2003-09-30, sliding(in month): 4, test: 4\n",
      "[dp] track/sliding/test window size: 16925, 0, 21105\n",
      "[dp] training size: 16925\n"
     ]
    },
    {
     "name": "stdout",
     "output_type": "stream",
     "text": [
      "216 4 4 52 95 212\n"
     ]
    },
    {
     "name": "stderr",
     "output_type": "stream",
     "text": [
      "[dp] validation - data shape: (71689, 17), sliding(in month): 4, period: 2002-10-01 ~ 2004-01-30\n",
      "[dp] track/sliding/test window size: 53736, 17320, 17953\n",
      "[dp] validation - sliding(in month):4, score: -108253.42623294855\n",
      "[dp] validation - data shape: (71689, 17), sliding(in month): 8, period: 2002-10-01 ~ 2004-01-30\n",
      "[dp] track/sliding/test window size: 53736, 32631, 17953\n",
      "[dp] validation - sliding(in month):8, score: -107238.64241181624\n",
      "[dp] validation - data shape: (71689, 17), sliding(in month): 12, period: 2002-10-01 ~ 2004-01-30\n",
      "[dp] track/sliding/test window size: 53736, 32631, 17953\n",
      "[dp] validation - sliding(in month):12, score: -107238.64241181624\n",
      "[dp] prediction - data shape: (55983, 17), period: 2003-02-03 ~ 2004-01-30, sliding(in month): 8, test: 4\n",
      "[dp] track/sliding/test window size: 38030, 16925, 17953\n",
      "[dp] training size: 38030\n"
     ]
    },
    {
     "name": "stdout",
     "output_type": "stream",
     "text": [
      "220 4 8 53 95 216\n"
     ]
    },
    {
     "name": "stderr",
     "output_type": "stream",
     "text": [
      "[dp] prediction - data shape: (58963, 17), period: 2003-06-02 ~ 2004-05-28, sliding(in month): 8, test: 4\n",
      "[dp] track/sliding/test window size: 38456, 20287, 20507\n",
      "[dp] training size: 38456\n"
     ]
    },
    {
     "name": "stdout",
     "output_type": "stream",
     "text": [
      "224 4 8 54 95 220\n"
     ]
    },
    {
     "name": "stderr",
     "output_type": "stream",
     "text": [
      "[dp] prediction - data shape: (59616, 17), period: 2003-10-01 ~ 2004-09-30, sliding(in month): 8, test: 4\n",
      "[dp] track/sliding/test window size: 37858, 17351, 21758\n",
      "[dp] training size: 37858\n"
     ]
    },
    {
     "name": "stdout",
     "output_type": "stream",
     "text": [
      "228 4 8 55 95 224\n"
     ]
    },
    {
     "name": "stderr",
     "output_type": "stream",
     "text": [
      "[dp] validation - data shape: (76532, 17), sliding(in month): 4, period: 2003-10-01 ~ 2005-01-31\n",
      "[dp] track/sliding/test window size: 59616, 19905, 16916\n",
      "[dp] validation - sliding(in month):4, score: -129339.01625513526\n",
      "[dp] validation - data shape: (76532, 17), sliding(in month): 8, period: 2003-10-01 ~ 2005-01-31\n",
      "[dp] track/sliding/test window size: 59616, 37858, 16916\n",
      "[dp] validation - sliding(in month):8, score: -140301.08807068676\n",
      "[dp] validation - data shape: (76532, 17), sliding(in month): 12, period: 2003-10-01 ~ 2005-01-31\n",
      "[dp] track/sliding/test window size: 59616, 37858, 16916\n",
      "[dp] validation - sliding(in month):12, score: -140301.08807068676\n",
      "[dp] prediction - data shape: (38674, 17), period: 2004-06-01 ~ 2005-01-31, sliding(in month): 4, test: 4\n",
      "[dp] track/sliding/test window size: 21758, 0, 16916\n",
      "[dp] training size: 21758\n"
     ]
    },
    {
     "name": "stdout",
     "output_type": "stream",
     "text": [
      "232 4 4 56 95 228\n"
     ]
    },
    {
     "name": "stderr",
     "output_type": "stream",
     "text": [
      "[dp] prediction - data shape: (35321, 17), period: 2004-10-01 ~ 2005-05-31, sliding(in month): 4, test: 4\n",
      "[dp] track/sliding/test window size: 16916, 0, 18405\n",
      "[dp] training size: 16916\n"
     ]
    },
    {
     "name": "stdout",
     "output_type": "stream",
     "text": [
      "236 4 4 57 95 232\n"
     ]
    },
    {
     "name": "stderr",
     "output_type": "stream",
     "text": [
      "[dp] prediction - data shape: (38446, 17), period: 2005-02-01 ~ 2005-09-30, sliding(in month): 4, test: 4\n",
      "[dp] track/sliding/test window size: 18015, 0, 20431\n",
      "[dp] training size: 18015\n"
     ]
    },
    {
     "name": "stdout",
     "output_type": "stream",
     "text": [
      "240 4 4 58 95 236\n"
     ]
    },
    {
     "name": "stderr",
     "output_type": "stream",
     "text": [
      "[dp] validation - data shape: (69775, 17), sliding(in month): 4, period: 2004-10-01 ~ 2006-01-31\n",
      "[dp] track/sliding/test window size: 55362, 18247, 14413\n",
      "[dp] validation - sliding(in month):4, score: -124296.1305078063\n",
      "[dp] validation - data shape: (69775, 17), sliding(in month): 8, period: 2004-10-01 ~ 2006-01-31\n",
      "[dp] track/sliding/test window size: 55362, 34931, 14413\n",
      "[dp] validation - sliding(in month):8, score: -122570.68906075323\n",
      "[dp] validation - data shape: (69775, 17), sliding(in month): 12, period: 2004-10-01 ~ 2006-01-31\n",
      "[dp] track/sliding/test window size: 55362, 34931, 14413\n",
      "[dp] validation - sliding(in month):12, score: -122570.68906075323\n",
      "[dp] prediction - data shape: (52859, 17), period: 2005-02-01 ~ 2006-01-31, sliding(in month): 8, test: 4\n",
      "[dp] track/sliding/test window size: 38446, 18015, 14413\n",
      "[dp] training size: 38446\n"
     ]
    },
    {
     "name": "stdout",
     "output_type": "stream",
     "text": [
      "244 4 8 59 95 240\n"
     ]
    },
    {
     "name": "stderr",
     "output_type": "stream",
     "text": [
      "[dp] prediction - data shape: (48253, 17), period: 2005-06-01 ~ 2006-05-31, sliding(in month): 8, test: 4\n",
      "[dp] track/sliding/test window size: 34454, 20041, 13799\n",
      "[dp] training size: 34454\n"
     ]
    },
    {
     "name": "stdout",
     "output_type": "stream",
     "text": [
      "248 4 8 60 95 244\n"
     ]
    },
    {
     "name": "stderr",
     "output_type": "stream",
     "text": [
      "[dp] prediction - data shape: (41373, 17), period: 2005-10-03 ~ 2006-09-29, sliding(in month): 8, test: 4\n",
      "[dp] track/sliding/test window size: 27602, 13836, 13771\n",
      "[dp] training size: 27602\n"
     ]
    },
    {
     "name": "stdout",
     "output_type": "stream",
     "text": [
      "252 4 8 61 95 248\n"
     ]
    },
    {
     "name": "stderr",
     "output_type": "stream",
     "text": [
      "[dp] validation - data shape: (52751, 17), sliding(in month): 4, period: 2005-10-03 ~ 2007-01-31\n",
      "[dp] track/sliding/test window size: 41373, 13580, 11378\n",
      "[dp] validation - sliding(in month):4, score: -123270.54297958587\n",
      "[dp] validation - data shape: (52751, 17), sliding(in month): 8, period: 2005-10-03 ~ 2007-01-31\n",
      "[dp] track/sliding/test window size: 41373, 27602, 11378\n",
      "[dp] validation - sliding(in month):8, score: -121321.21331012856\n",
      "[dp] validation - data shape: (52751, 17), sliding(in month): 12, period: 2005-10-03 ~ 2007-01-31\n",
      "[dp] track/sliding/test window size: 41373, 27602, 11378\n",
      "[dp] validation - sliding(in month):12, score: -121321.21331012856\n",
      "[dp] prediction - data shape: (38338, 17), period: 2006-02-01 ~ 2007-01-31, sliding(in month): 8, test: 4\n",
      "[dp] track/sliding/test window size: 26960, 13189, 11378\n",
      "[dp] training size: 26960\n"
     ]
    },
    {
     "name": "stdout",
     "output_type": "stream",
     "text": [
      "256 4 8 62 95 252\n"
     ]
    },
    {
     "name": "stderr",
     "output_type": "stream",
     "text": [
      "[dp] prediction - data shape: (35695, 17), period: 2006-06-01 ~ 2007-05-31, sliding(in month): 8, test: 4\n",
      "[dp] track/sliding/test window size: 24539, 13161, 11156\n",
      "[dp] training size: 24539\n"
     ]
    },
    {
     "name": "stdout",
     "output_type": "stream",
     "text": [
      "260 4 8 63 95 256\n"
     ]
    },
    {
     "name": "stderr",
     "output_type": "stream",
     "text": [
      "[dp] prediction - data shape: (32658, 17), period: 2006-10-02 ~ 2007-09-28, sliding(in month): 8, test: 4\n",
      "[dp] track/sliding/test window size: 21964, 10753, 10694\n",
      "[dp] training size: 21964\n"
     ]
    },
    {
     "name": "stdout",
     "output_type": "stream",
     "text": [
      "264 4 8 64 95 260\n"
     ]
    },
    {
     "name": "stderr",
     "output_type": "stream",
     "text": [
      "[dp] validation - data shape: (39721, 17), sliding(in month): 4, period: 2006-10-02 ~ 2008-01-31\n",
      "[dp] track/sliding/test window size: 32658, 11041, 7063\n",
      "[dp] validation - sliding(in month):4, score: -134857.48325728794\n",
      "[dp] validation - data shape: (39721, 17), sliding(in month): 8, period: 2006-10-02 ~ 2008-01-31\n",
      "[dp] track/sliding/test window size: 32658, 21964, 7063\n",
      "[dp] validation - sliding(in month):8, score: -128694.2428120473\n",
      "[dp] validation - data shape: (39721, 17), sliding(in month): 12, period: 2006-10-02 ~ 2008-01-31\n",
      "[dp] track/sliding/test window size: 32658, 21964, 7063\n",
      "[dp] validation - sliding(in month):12, score: -128694.2428120473\n",
      "[dp] prediction - data shape: (28343, 17), period: 2007-02-01 ~ 2008-01-31, sliding(in month): 8, test: 4\n",
      "[dp] track/sliding/test window size: 21280, 10586, 7063\n",
      "[dp] training size: 21280\n"
     ]
    },
    {
     "name": "stdout",
     "output_type": "stream",
     "text": [
      "268 4 8 65 95 264\n"
     ]
    },
    {
     "name": "stderr",
     "output_type": "stream",
     "text": [
      "[dp] prediction - data shape: (25776, 17), period: 2007-06-01 ~ 2008-05-30, sliding(in month): 8, test: 4\n",
      "[dp] track/sliding/test window size: 17033, 10124, 8743\n",
      "[dp] training size: 17033\n"
     ]
    },
    {
     "name": "stdout",
     "output_type": "stream",
     "text": [
      "272 4 8 66 95 268\n"
     ]
    },
    {
     "name": "stderr",
     "output_type": "stream",
     "text": [
      "[dp] prediction - data shape: (27152, 17), period: 2007-10-01 ~ 2008-09-30, sliding(in month): 8, test: 4\n",
      "[dp] track/sliding/test window size: 15652, 6909, 11500\n",
      "[dp] training size: 15652\n"
     ]
    },
    {
     "name": "stdout",
     "output_type": "stream",
     "text": [
      "276 4 8 67 95 272\n"
     ]
    },
    {
     "name": "stderr",
     "output_type": "stream",
     "text": [
      "[dp] validation - data shape: (37915, 17), sliding(in month): 4, period: 2007-10-01 ~ 2009-01-30\n",
      "[dp] track/sliding/test window size: 27152, 8743, 10763\n",
      "[dp] validation - sliding(in month):4, score: -98733.42608663818\n",
      "[dp] validation - data shape: (37915, 17), sliding(in month): 8, period: 2007-10-01 ~ 2009-01-30\n",
      "[dp] track/sliding/test window size: 27152, 15652, 10763\n",
      "[dp] validation - sliding(in month):8, score: -103011.47382709684\n",
      "[dp] validation - data shape: (37915, 17), sliding(in month): 12, period: 2007-10-01 ~ 2009-01-30\n",
      "[dp] track/sliding/test window size: 27152, 15652, 10763\n",
      "[dp] validation - sliding(in month):12, score: -103011.47382709684\n",
      "[dp] prediction - data shape: (22263, 17), period: 2008-06-02 ~ 2009-01-30, sliding(in month): 4, test: 4\n",
      "[dp] track/sliding/test window size: 11500, 0, 10763\n",
      "[dp] training size: 11500\n"
     ]
    },
    {
     "name": "stdout",
     "output_type": "stream",
     "text": [
      "280 4 4 68 95 276\n"
     ]
    },
    {
     "name": "stderr",
     "output_type": "stream",
     "text": [
      "[dp] prediction - data shape: (21438, 17), period: 2008-10-01 ~ 2009-05-29, sliding(in month): 4, test: 4\n",
      "[dp] track/sliding/test window size: 10498, 0, 10940\n",
      "[dp] training size: 10498\n"
     ]
    },
    {
     "name": "stdout",
     "output_type": "stream",
     "text": [
      "284 4 4 69 95 280\n"
     ]
    },
    {
     "name": "stderr",
     "output_type": "stream",
     "text": [
      "[dp] prediction - data shape: (23386, 17), period: 2009-02-02 ~ 2009-09-30, sliding(in month): 4, test: 4\n",
      "[dp] track/sliding/test window size: 10675, 0, 12711\n",
      "[dp] training size: 10675\n"
     ]
    },
    {
     "name": "stdout",
     "output_type": "stream",
     "text": [
      "288 4 4 70 95 284\n"
     ]
    },
    {
     "name": "stderr",
     "output_type": "stream",
     "text": [
      "[dp] validation - data shape: (45517, 17), sliding(in month): 4, period: 2008-10-01 ~ 2010-01-29\n",
      "[dp] track/sliding/test window size: 33773, 10940, 11744\n",
      "[dp] validation - sliding(in month):4, score: -95744.83193922683\n",
      "[dp] validation - data shape: (45517, 17), sliding(in month): 8, period: 2008-10-01 ~ 2010-01-29\n",
      "[dp] track/sliding/test window size: 33773, 21438, 11744\n",
      "[dp] validation - sliding(in month):8, score: -97567.81065630281\n",
      "[dp] validation - data shape: (45517, 17), sliding(in month): 12, period: 2008-10-01 ~ 2010-01-29\n",
      "[dp] track/sliding/test window size: 33773, 21438, 11744\n",
      "[dp] validation - sliding(in month):12, score: -97567.81065630281\n",
      "[dp] prediction - data shape: (24079, 17), period: 2009-06-01 ~ 2010-01-29, sliding(in month): 4, test: 4\n",
      "[dp] track/sliding/test window size: 12335, 0, 11744\n",
      "[dp] training size: 12335\n"
     ]
    },
    {
     "name": "stdout",
     "output_type": "stream",
     "text": [
      "292 4 4 71 95 288\n"
     ]
    },
    {
     "name": "stderr",
     "output_type": "stream",
     "text": [
      "[dp] prediction - data shape: (22765, 17), period: 2009-10-01 ~ 2010-05-28, sliding(in month): 4, test: 4\n",
      "[dp] track/sliding/test window size: 11081, 0, 11684\n",
      "[dp] training size: 11081\n"
     ]
    },
    {
     "name": "stdout",
     "output_type": "stream",
     "text": [
      "296 4 4 72 95 292\n"
     ]
    },
    {
     "name": "stderr",
     "output_type": "stream",
     "text": [
      "[dp] prediction - data shape: (22819, 17), period: 2010-02-01 ~ 2010-09-30, sliding(in month): 4, test: 4\n",
      "[dp] track/sliding/test window size: 11397, 0, 11422\n",
      "[dp] training size: 11397\n"
     ]
    },
    {
     "name": "stdout",
     "output_type": "stream",
     "text": [
      "300 4 4 73 95 296\n"
     ]
    },
    {
     "name": "stderr",
     "output_type": "stream",
     "text": [
      "[dp] validation - data shape: (43678, 17), sliding(in month): 4, period: 2009-10-01 ~ 2011-01-31\n",
      "[dp] track/sliding/test window size: 34187, 11397, 9491\n",
      "[dp] validation - sliding(in month):4, score: -89510.12323674902\n",
      "[dp] validation - data shape: (43678, 17), sliding(in month): 8, period: 2009-10-01 ~ 2011-01-31\n",
      "[dp] track/sliding/test window size: 34187, 22765, 9491\n",
      "[dp] validation - sliding(in month):8, score: -85709.53319850279\n",
      "[dp] validation - data shape: (43678, 17), sliding(in month): 12, period: 2009-10-01 ~ 2011-01-31\n",
      "[dp] track/sliding/test window size: 34187, 22765, 9491\n",
      "[dp] validation - sliding(in month):12, score: -85709.53319850279\n",
      "[dp] prediction - data shape: (32310, 17), period: 2010-02-01 ~ 2011-01-31, sliding(in month): 8, test: 4\n",
      "[dp] track/sliding/test window size: 22819, 11397, 9491\n",
      "[dp] training size: 22819\n"
     ]
    },
    {
     "name": "stdout",
     "output_type": "stream",
     "text": [
      "304 4 8 74 95 300\n"
     ]
    },
    {
     "name": "stderr",
     "output_type": "stream",
     "text": [
      "[dp] prediction - data shape: (31200, 17), period: 2010-06-01 ~ 2011-05-31, sliding(in month): 8, test: 4\n",
      "[dp] track/sliding/test window size: 20913, 11422, 10287\n",
      "[dp] training size: 20913\n"
     ]
    },
    {
     "name": "stdout",
     "output_type": "stream",
     "text": [
      "308 4 8 75 95 304\n"
     ]
    },
    {
     "name": "stderr",
     "output_type": "stream",
     "text": [
      "[dp] prediction - data shape: (30923, 17), period: 2010-10-01 ~ 2011-09-30, sliding(in month): 8, test: 4\n",
      "[dp] track/sliding/test window size: 19599, 9068, 11324\n",
      "[dp] training size: 19599\n"
     ]
    },
    {
     "name": "stdout",
     "output_type": "stream",
     "text": [
      "312 4 8 76 95 308\n"
     ]
    },
    {
     "name": "stderr",
     "output_type": "stream",
     "text": [
      "[dp] validation - data shape: (40660, 17), sliding(in month): 4, period: 2010-10-01 ~ 2012-01-31\n",
      "[dp] track/sliding/test window size: 30923, 10303, 9737\n",
      "[dp] validation - sliding(in month):4, score: -107266.38457900326\n",
      "[dp] validation - data shape: (40660, 17), sliding(in month): 8, period: 2010-10-01 ~ 2012-01-31\n",
      "[dp] track/sliding/test window size: 30923, 19599, 9737\n",
      "[dp] validation - sliding(in month):8, score: -101798.35532552474\n",
      "[dp] validation - data shape: (40660, 17), sliding(in month): 12, period: 2010-10-01 ~ 2012-01-31\n",
      "[dp] track/sliding/test window size: 30923, 19599, 9737\n",
      "[dp] validation - sliding(in month):12, score: -101798.35532552474\n",
      "[dp] prediction - data shape: (31169, 17), period: 2011-02-01 ~ 2012-01-31, sliding(in month): 8, test: 4\n",
      "[dp] track/sliding/test window size: 21432, 10108, 9737\n",
      "[dp] training size: 21432\n"
     ]
    },
    {
     "name": "stdout",
     "output_type": "stream",
     "text": [
      "316 4 8 77 95 312\n"
     ]
    },
    {
     "name": "stderr",
     "output_type": "stream",
     "text": [
      "[dp] prediction - data shape: (32267, 17), period: 2011-06-01 ~ 2012-05-31, sliding(in month): 8, test: 4\n",
      "[dp] track/sliding/test window size: 20882, 11145, 11385\n",
      "[dp] training size: 20882\n"
     ]
    },
    {
     "name": "stdout",
     "output_type": "stream",
     "text": [
      "320 4 8 78 95 316\n"
     ]
    },
    {
     "name": "stderr",
     "output_type": "stream",
     "text": [
      "[dp] prediction - data shape: (33777, 17), period: 2011-10-03 ~ 2012-09-28, sliding(in month): 8, test: 4\n",
      "[dp] track/sliding/test window size: 20508, 9171, 13269\n",
      "[dp] training size: 20508\n"
     ]
    },
    {
     "name": "stdout",
     "output_type": "stream",
     "text": [
      "324 4 8 79 95 320\n"
     ]
    },
    {
     "name": "stderr",
     "output_type": "stream",
     "text": [
      "[dp] validation - data shape: (45393, 17), sliding(in month): 4, period: 2011-10-03 ~ 2013-01-31\n",
      "[dp] track/sliding/test window size: 33777, 11053, 11616\n",
      "[dp] validation - sliding(in month):4, score: -100330.8490027368\n",
      "[dp] validation - data shape: (45393, 17), sliding(in month): 8, period: 2011-10-03 ~ 2013-01-31\n",
      "[dp] track/sliding/test window size: 33777, 20508, 11616\n",
      "[dp] validation - sliding(in month):8, score: -96899.82048935282\n",
      "[dp] validation - data shape: (45393, 17), sliding(in month): 12, period: 2011-10-03 ~ 2013-01-31\n",
      "[dp] track/sliding/test window size: 33777, 20508, 11616\n",
      "[dp] validation - sliding(in month):12, score: -96899.82048935282\n",
      "[dp] prediction - data shape: (35656, 17), period: 2012-02-01 ~ 2013-01-31, sliding(in month): 8, test: 4\n",
      "[dp] track/sliding/test window size: 24040, 10771, 11616\n",
      "[dp] training size: 24040\n"
     ]
    },
    {
     "name": "stdout",
     "output_type": "stream",
     "text": [
      "328 4 8 80 95 324\n"
     ]
    },
    {
     "name": "stderr",
     "output_type": "stream",
     "text": [
      "[dp] prediction - data shape: (36788, 17), period: 2012-06-01 ~ 2013-05-31, sliding(in month): 8, test: 4\n",
      "[dp] track/sliding/test window size: 24271, 12655, 12517\n",
      "[dp] training size: 24271\n"
     ]
    },
    {
     "name": "stdout",
     "output_type": "stream",
     "text": [
      "332 4 8 81 95 328\n"
     ]
    },
    {
     "name": "stderr",
     "output_type": "stream",
     "text": [
      "[dp] prediction - data shape: (37507, 17), period: 2012-10-01 ~ 2013-09-30, sliding(in month): 8, test: 4\n",
      "[dp] track/sliding/test window size: 23829, 11414, 13678\n",
      "[dp] training size: 23829\n"
     ]
    },
    {
     "name": "stdout",
     "output_type": "stream",
     "text": [
      "336 4 8 82 95 332\n"
     ]
    },
    {
     "name": "stderr",
     "output_type": "stream",
     "text": [
      "[dp] validation - data shape: (47592, 17), sliding(in month): 4, period: 2012-10-01 ~ 2014-01-31\n",
      "[dp] track/sliding/test window size: 37507, 12415, 10085\n",
      "[dp] validation - sliding(in month):4, score: -105269.57738754641\n",
      "[dp] validation - data shape: (47592, 17), sliding(in month): 8, period: 2012-10-01 ~ 2014-01-31\n",
      "[dp] track/sliding/test window size: 37507, 23829, 10085\n",
      "[dp] validation - sliding(in month):8, score: -107040.8904745054\n",
      "[dp] validation - data shape: (47592, 17), sliding(in month): 12, period: 2012-10-01 ~ 2014-01-31\n",
      "[dp] track/sliding/test window size: 37507, 23829, 10085\n",
      "[dp] validation - sliding(in month):12, score: -107040.8904745054\n",
      "[dp] prediction - data shape: (23459, 17), period: 2013-06-03 ~ 2014-01-31, sliding(in month): 4, test: 4\n",
      "[dp] track/sliding/test window size: 13374, 0, 10085\n",
      "[dp] training size: 13374\n"
     ]
    },
    {
     "name": "stdout",
     "output_type": "stream",
     "text": [
      "340 4 4 83 95 336\n"
     ]
    },
    {
     "name": "stderr",
     "output_type": "stream",
     "text": [
      "[dp] prediction - data shape: (20579, 17), period: 2013-10-01 ~ 2014-05-30, sliding(in month): 4, test: 4\n",
      "[dp] track/sliding/test window size: 9888, 0, 10691\n",
      "[dp] training size: 9888\n"
     ]
    },
    {
     "name": "stdout",
     "output_type": "stream",
     "text": [
      "344 4 4 84 95 340\n"
     ]
    },
    {
     "name": "stderr",
     "output_type": "stream",
     "text": [
      "[dp] prediction - data shape: (21727, 17), period: 2014-02-03 ~ 2014-09-30, sliding(in month): 4, test: 4\n",
      "[dp] track/sliding/test window size: 10494, 0, 11233\n",
      "[dp] training size: 10494\n"
     ]
    },
    {
     "name": "stdout",
     "output_type": "stream",
     "text": [
      "348 4 4 85 95 344\n"
     ]
    },
    {
     "name": "stderr",
     "output_type": "stream",
     "text": [
      "[dp] validation - data shape: (38559, 17), sliding(in month): 4, period: 2013-10-01 ~ 2015-01-30\n",
      "[dp] track/sliding/test window size: 31812, 10691, 6747\n",
      "[dp] validation - sliding(in month):4, score: -95828.63048832984\n",
      "[dp] validation - data shape: (38559, 17), sliding(in month): 8, period: 2013-10-01 ~ 2015-01-30\n",
      "[dp] track/sliding/test window size: 31812, 20579, 6747\n",
      "[dp] validation - sliding(in month):8, score: -91711.73506828681\n",
      "[dp] validation - data shape: (38559, 17), sliding(in month): 12, period: 2013-10-01 ~ 2015-01-30\n",
      "[dp] track/sliding/test window size: 31812, 20579, 6747\n",
      "[dp] validation - sliding(in month):12, score: -91711.73506828683\n",
      "[dp] prediction - data shape: (28474, 17), period: 2014-02-03 ~ 2015-01-30, sliding(in month): 8, test: 4\n",
      "[dp] track/sliding/test window size: 21727, 10494, 6747\n",
      "[dp] training size: 21727\n"
     ]
    },
    {
     "name": "stdout",
     "output_type": "stream",
     "text": [
      "352 4 8 86 95 348\n"
     ]
    },
    {
     "name": "stderr",
     "output_type": "stream",
     "text": [
      "[dp] prediction - data shape: (29576, 17), period: 2014-06-02 ~ 2015-05-29, sliding(in month): 8, test: 4\n",
      "[dp] track/sliding/test window size: 17809, 11031, 11767\n",
      "[dp] training size: 17809\n"
     ]
    },
    {
     "name": "stdout",
     "output_type": "stream",
     "text": [
      "356 4 8 87 95 352\n"
     ]
    },
    {
     "name": "stderr",
     "output_type": "stream",
     "text": [
      "[dp] prediction - data shape: (31691, 17), period: 2014-10-01 ~ 2015-09-30, sliding(in month): 8, test: 4\n",
      "[dp] track/sliding/test window size: 18343, 6576, 13348\n",
      "[dp] training size: 18343\n"
     ]
    },
    {
     "name": "stdout",
     "output_type": "stream",
     "text": [
      "360 4 8 88 95 356\n"
     ]
    },
    {
     "name": "stderr",
     "output_type": "stream",
     "text": [
      "[dp] validation - data shape: (41444, 17), sliding(in month): 4, period: 2014-10-01 ~ 2016-01-29\n",
      "[dp] track/sliding/test window size: 31470, 11767, 9974\n",
      "[dp] validation - sliding(in month):4, score: -87420.19708521427\n",
      "[dp] validation - data shape: (41444, 17), sliding(in month): 8, period: 2014-10-01 ~ 2016-01-29\n",
      "[dp] track/sliding/test window size: 31470, 18343, 9974\n",
      "[dp] validation - sliding(in month):8, score: -84577.48728927245\n",
      "[dp] validation - data shape: (41444, 17), sliding(in month): 12, period: 2014-10-01 ~ 2016-01-29\n",
      "[dp] track/sliding/test window size: 31470, 18343, 9974\n",
      "[dp] validation - sliding(in month):12, score: -84577.48728927245\n",
      "[dp] prediction - data shape: (34697, 17), period: 2015-02-02 ~ 2016-01-29, sliding(in month): 8, test: 4\n",
      "[dp] track/sliding/test window size: 24723, 11596, 9974\n",
      "[dp] training size: 24723\n"
     ]
    },
    {
     "name": "stdout",
     "output_type": "stream",
     "text": [
      "364 4 8 89 95 360\n"
     ]
    },
    {
     "name": "stderr",
     "output_type": "stream",
     "text": [
      "[dp] prediction - data shape: (34835, 17), period: 2015-06-01 ~ 2016-05-31, sliding(in month): 8, test: 4\n",
      "[dp] track/sliding/test window size: 23101, 13127, 11734\n",
      "[dp] training size: 23101\n"
     ]
    },
    {
     "name": "stdout",
     "output_type": "stream",
     "text": [
      "368 4 8 90 95 364\n"
     ]
    },
    {
     "name": "stderr",
     "output_type": "stream",
     "text": [
      "[dp] prediction - data shape: (34715, 17), period: 2015-10-01 ~ 2016-09-30, sliding(in month): 8, test: 4\n",
      "[dp] track/sliding/test window size: 21234, 9442, 13481\n",
      "[dp] training size: 21234\n"
     ]
    },
    {
     "name": "stdout",
     "output_type": "stream",
     "text": [
      "372 4 8 91 95 368\n"
     ]
    },
    {
     "name": "stderr",
     "output_type": "stream",
     "text": [
      "[dp] validation - data shape: (45134, 17), sliding(in month): 4, period: 2015-10-01 ~ 2017-01-31\n",
      "[dp] track/sliding/test window size: 34715, 11481, 10419\n",
      "[dp] validation - sliding(in month):4, score: -66391.15104964911\n",
      "[dp] validation - data shape: (45134, 17), sliding(in month): 8, period: 2015-10-01 ~ 2017-01-31\n",
      "[dp] track/sliding/test window size: 34715, 21234, 10419\n",
      "[dp] validation - sliding(in month):8, score: -65621.362205862\n",
      "[dp] validation - data shape: (45134, 17), sliding(in month): 12, period: 2015-10-01 ~ 2017-01-31\n",
      "[dp] track/sliding/test window size: 34715, 21234, 10419\n",
      "[dp] validation - sliding(in month):12, score: -65621.362205862\n",
      "[dp] prediction - data shape: (35381, 17), period: 2016-02-01 ~ 2017-01-31, sliding(in month): 8, test: 4\n",
      "[dp] track/sliding/test window size: 24962, 11481, 10419\n",
      "[dp] training size: 24962\n"
     ]
    },
    {
     "name": "stdout",
     "output_type": "stream",
     "text": [
      "376 4 8 92 95 372\n"
     ]
    },
    {
     "name": "stderr",
     "output_type": "stream",
     "text": [
      "[dp] prediction - data shape: (35132, 17), period: 2016-06-01 ~ 2017-05-31, sliding(in month): 8, test: 4\n",
      "[dp] track/sliding/test window size: 23647, 13228, 11485\n",
      "[dp] training size: 23647\n"
     ]
    },
    {
     "name": "stdout",
     "output_type": "stream",
     "text": [
      "380 4 8 93 95 376\n"
     ]
    },
    {
     "name": "stderr",
     "output_type": "stream",
     "text": [
      "[dp] prediction - data shape: (34191, 17), period: 2016-10-03 ~ 2017-09-27, sliding(in month): 8, test: 4\n",
      "[dp] track/sliding/test window size: 21415, 9979, 12776\n",
      "[dp] training size: 21415\n"
     ]
    },
    {
     "name": "stdout",
     "output_type": "stream",
     "text": [
      "384 4 8 94 95 380\n"
     ]
    },
    {
     "data": {
      "text/plain": [
       "[43622.74965494429,\n",
       " 46521.34879169339,\n",
       " 51608.6355973454,\n",
       " 51594.719532203206,\n",
       " 51864.57246519474,\n",
       " 55888.52975882361,\n",
       " 65040.834480538266,\n",
       " 60512.521530640646,\n",
       " 63989.74125752722,\n",
       " 75537.0989970009,\n",
       " 78230.60426215506,\n",
       " 72022.02200107652,\n",
       " 71407.39142625756,\n",
       " 67729.47278673723,\n",
       " 68520.13078994758,\n",
       " 84585.5104797485,\n",
       " 67489.26583591937,\n",
       " 72551.7914932537,\n",
       " 70698.43684250089,\n",
       " 78234.38868993908,\n",
       " 72660.69901818913,\n",
       " 67985.23041326975,\n",
       " 72674.29418276933,\n",
       " 72338.03551826064,\n",
       " 66515.18465515425,\n",
       " 74515.25404194517,\n",
       " 78291.71858345983,\n",
       " 67729.32901121241,\n",
       " 72410.54453911306,\n",
       " 76481.10501599834,\n",
       " 73911.95426729505,\n",
       " 77144.10949717267,\n",
       " 83666.66353743983,\n",
       " 82275.36377811144,\n",
       " 83063.34928089273,\n",
       " 82861.31926731305,\n",
       " 89457.53288674793,\n",
       " 90933.6466826748,\n",
       " 84760.80840121998,\n",
       " 86643.06244893435,\n",
       " 89939.95851612004,\n",
       " 96410.42640194185,\n",
       " 107154.8911865898,\n",
       " 98950.10004140295,\n",
       " 106555.14264641947,\n",
       " 92822.70485317137,\n",
       " 89948.45536026309,\n",
       " 97881.43156243146,\n",
       " 99739.47125783877,\n",
       " 101697.45885481835,\n",
       " 104128.32567651276,\n",
       " 105729.47782018951,\n",
       " 108199.94677294612,\n",
       " 111817.62643331666,\n",
       " 139864.13187944793,\n",
       " 140301.08807068676,\n",
       " 123164.12730057885,\n",
       " 119841.02036792629,\n",
       " 127357.88241691599,\n",
       " 127451.35111900966,\n",
       " 120744.63399607698,\n",
       " 121321.21331012856,\n",
       " 127713.33566836992,\n",
       " 132578.06368718314,\n",
       " 128694.2428120473,\n",
       " 135645.7495282493,\n",
       " 133860.71394384935,\n",
       " 103011.47382709684,\n",
       " 114073.19660686237,\n",
       " 95210.89990840446,\n",
       " 96169.30379467792,\n",
       " 91110.20794921865,\n",
       " 93451.28309768862,\n",
       " 89510.12323674902,\n",
       " 96730.06939766587,\n",
       " 95245.23322918166,\n",
       " 101798.35532552474,\n",
       " 96433.53468613922,\n",
       " 96042.69773211858,\n",
       " 96899.82048935282,\n",
       " 101489.68372085274,\n",
       " 107766.85554968679,\n",
       " 107040.8904745054,\n",
       " 106588.31689031736,\n",
       " 98104.99450086929,\n",
       " 96570.63320621388,\n",
       " 90113.67549419146,\n",
       " 88795.92200698577,\n",
       " 84390.40544480321,\n",
       " 79805.9694759233,\n",
       " 74044.56917673985,\n",
       " 65621.362205862,\n",
       " 63834.633052901896,\n",
       " 76225.92515932747,\n",
       " 115539.21970437186]"
      ]
     },
     "execution_count": 42,
     "metadata": {},
     "output_type": "execute_result"
    }
   ],
   "source": [
    "### validate sliding_window with just last test_window\n",
    "mr_full = ModelRegression(use_features_base, rf, track_window=12)\n",
    "mr_full.regress(df_all, param_grid=parameters)"
   ]
  },
  {
   "cell_type": "code",
   "execution_count": 43,
   "metadata": {},
   "outputs": [
    {
     "name": "stderr",
     "output_type": "stream",
     "text": [
      "[dp] data range: 1985-10-01 - 2017-09-27\n",
      "[dp] sliding_windows: [4, 8, 12, 12, 12, 8, 8, 8, 4, 4, 4, 4, 4, 4, 8, 8, 8, 8, 8, 8, 4, 4, 4, 8, 8, 8, 8, 8, 8, 8, 8, 8, 12, 12, 12, 8, 8, 8, 4, 4, 4, 8, 8, 8, 8, 8, 8, 8, 8, 8, 4, 4, 4, 8, 8, 8, 4, 4, 4, 8, 8, 8, 8, 8, 8, 8, 8, 8, 4, 4, 4, 4, 4, 4, 8, 8, 8, 8, 8, 8, 8, 8, 8, 4, 4, 4, 8, 8, 8, 8, 8, 8, 8, 8, 8]\n",
      "[dp] errors: [43622.74965494429, 46521.34879169339, 51608.6355973454, 51594.719532203206, 51864.57246519474, 55888.52975882361, 65040.834480538266, 60512.521530640646, 63989.74125752722, 75537.0989970009, 78230.60426215506, 72022.02200107652, 71407.39142625756, 67729.47278673723, 68520.13078994758, 84585.5104797485, 67489.26583591937, 72551.7914932537, 70698.43684250089, 78234.38868993908, 72660.69901818913, 67985.23041326975, 72674.29418276933, 72338.03551826064, 66515.18465515425, 74515.25404194517, 78291.71858345983, 67729.32901121241, 72410.54453911306, 76481.10501599834, 73911.95426729505, 77144.10949717267, 83666.66353743983, 82275.36377811144, 83063.34928089273, 82861.31926731305, 89457.53288674793, 90933.6466826748, 84760.80840121998, 86643.06244893435, 89939.95851612004, 96410.42640194185, 107154.8911865898, 98950.10004140295, 106555.14264641947, 92822.70485317137, 89948.45536026309, 97881.43156243146, 99739.47125783877, 101697.45885481835, 104128.32567651276, 105729.47782018951, 108199.94677294612, 111817.62643331666, 139864.13187944793, 140301.08807068676, 123164.12730057885, 119841.02036792629, 127357.88241691599, 127451.35111900966, 120744.63399607698, 121321.21331012856, 127713.33566836992, 132578.06368718314, 128694.2428120473, 135645.7495282493, 133860.71394384935, 103011.47382709684, 114073.19660686237, 95210.89990840446, 96169.30379467792, 91110.20794921865, 93451.28309768862, 89510.12323674902, 96730.06939766587, 95245.23322918166, 101798.35532552474, 96433.53468613922, 96042.69773211858, 96899.82048935282, 101489.68372085274, 107766.85554968679, 107040.8904745054, 106588.31689031736, 98104.99450086929, 96570.63320621388, 90113.67549419146, 88795.92200698577, 84390.40544480321, 79805.9694759233, 74044.56917673985, 65621.362205862, 63834.633052901896, 76225.92515932747, 115539.21970437186]\n"
     ]
    },
    {
     "data": {
      "image/png": "[encoded data removed]",
      "text/plain": [
       "<matplotlib.figure.Figure at 0x15e951e5198>"
      ]
     },
     "metadata": {},
     "output_type": "display_data"
    }
   ],
   "source": [
    "df_sum_auto = mr_full.summary()\n",
    "plot_trends(df_sum_auto, ['error'])"
   ]
  },
  {
   "cell_type": "code",
   "execution_count": 44,
   "metadata": {},
   "outputs": [
    {
     "data": {
      "image/png": "[encoded data removed]",
      "text/plain": [
       "<matplotlib.figure.Figure at 0x15eb51ee048>"
      ]
     },
     "metadata": {},
     "output_type": "display_data"
    }
   ],
   "source": [
    "plot_trends(df_sum_auto, ['sliding_windows'])"
   ]
  }
 ],
 "metadata": {
  "kernelspec": {
   "display_name": "Python 3",
   "language": "python",
   "name": "python3"
  },
  "language_info": {
   "codemirror_mode": {
    "name": "ipython",
    "version": 3
   },
   "file_extension": ".py",
   "mimetype": "text/x-python",
   "name": "python",
   "nbconvert_exporter": "python",
   "pygments_lexer": "ipython3",
   "version": "3.6.4"
  }
 },
 "nbformat": 4,
 "nbformat_minor": 2
}
