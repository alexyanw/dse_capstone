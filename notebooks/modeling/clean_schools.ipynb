{
 "cells": [
  {
   "cell_type": "code",
   "execution_count": 34,
   "metadata": {},
   "outputs": [
    {
     "name": "stdout",
     "output_type": "stream",
     "text": [
      "The autoreload extension is already loaded. To reload it, use:\n",
      "  %reload_ext autoreload\n"
     ]
    }
   ],
   "source": [
    "%load_ext autoreload\n",
    "# always reload modules marked with \"%aimport\"\n",
    "%autoreload 1\n",
    "\n",
    "import os,sys\n",
    "import numpy as np\n",
    "import pandas as pd\n",
    "\n",
    "# add the 'src' directory as one where we can import modules\n",
    "src_dir = os.path.join(os.getcwd(), '../..', 'src')\n",
    "sys.path.append(src_dir)\n",
    "\n",
    "%aimport plot_utils\n",
    "from plot_utils import *\n",
    "%aimport preprocessing\n",
    "from preprocessing import *\n",
    "%aimport data_source\n",
    "from data_source import *\n",
    "%aimport model_manage\n",
    "from model_manage import *\n",
    "\n",
    "import logging\n",
    "from utils import *\n",
    "set_logger(logging.DEBUG)"
   ]
  },
  {
   "cell_type": "code",
   "execution_count": 35,
   "metadata": {},
   "outputs": [],
   "source": [
    "import pandas as pd\n",
    "import numpy as np\n",
    "\n",
    "from sklearn import linear_model\n",
    "from sklearn import model_selection\n",
    "from sklearn.ensemble import RandomForestRegressor\n",
    "from sklearn.model_selection import cross_val_score\n",
    "from sklearn.ensemble import GradientBoostingRegressor\n",
    "from sklearn.pipeline import make_pipeline, Pipeline\n",
    "from sklearn.preprocessing import StandardScaler\n",
    "from sklearn.linear_model import ElasticNet"
   ]
  },
  {
   "cell_type": "code",
   "execution_count": 36,
   "metadata": {},
   "outputs": [
    {
     "name": "stderr",
     "output_type": "stream",
     "text": [
      "[dp] connect to database postgresql://postgres:@localhost:5432/sdra\n",
      "[dp] supported views: ['properties', 'property_features', 'transactions', 'property_addresses', 'property_address_transactions', 'property_transaction_valid', 'property_address_school_transactions', 'property_address_schools']\n"
     ]
    }
   ],
   "source": [
    "ds = DataSource(host='localhost',port=5432, username='postgres', password='', database='sdra')\n",
    "ds.show_views()\n",
    "#ds.update_views()"
   ]
  },
  {
   "cell_type": "code",
   "execution_count": 37,
   "metadata": {},
   "outputs": [
    {
     "name": "stdout",
     "output_type": "stream",
     "text": [
      "(1477830, 37)\n",
      "(709325, 22)\n"
     ]
    }
   ],
   "source": [
    "df_transaction = ds.get_view_df('property_address_school_transactions')\n",
    "df_property = ds.get_view_df('property_addresses')\n",
    "print(df_transaction.shape)\n",
    "print(df_property.shape)"
   ]
  },
  {
   "cell_type": "code",
   "execution_count": 38,
   "metadata": {},
   "outputs": [],
   "source": [
    "pp = Preprocess(df_transaction, df_property, target='sold_price')"
   ]
  },
  {
   "cell_type": "code",
   "execution_count": 39,
   "metadata": {},
   "outputs": [
    {
     "data": {
      "text/plain": [
       "['sold_price_zip_avg',\n",
       " 'lat',\n",
       " 'sqft_over_zip_avg',\n",
       " 'eval_over_zip_avg',\n",
       " 'pool',\n",
       " 'pin',\n",
       " 'sqft_zip_avg',\n",
       " 'sqft',\n",
       " 'sqft_price_zip_avg',\n",
       " 'impr_over_land',\n",
       " 'num_bath',\n",
       " 'date',\n",
       " 'view',\n",
       " 'lon',\n",
       " 'num_bed',\n",
       " 'eval_zip_avg']"
      ]
     },
     "execution_count": 39,
     "metadata": {},
     "output_type": "execute_result"
    }
   ],
   "source": [
    "use_features = pp.get_feature_list()\n",
    "school_features = ['min_elem_distance', 'min_middle_distance', 'min_high_distance',\n",
    "                   'elem_rating', 'middle_rating', 'high_rating',\n",
    "                   'avg_elem_rating', 'avg_high_rating', 'avg_middle_rating']\n",
    "use_features_base = list(set(use_features) - set(school_features))\n",
    "use_features_base"
   ]
  },
  {
   "cell_type": "code",
   "execution_count": 40,
   "metadata": {},
   "outputs": [
    {
     "name": "stderr",
     "output_type": "stream",
     "text": [
      "[dp] transforming date\n",
      "[dp] transforming view\n",
      "[dp] transforming pool\n",
      "[dp] transforming impr_over_land\n",
      "[dp] transforming sold_year\n",
      "[dp] transforming sold_month\n",
      "[dp] transforming sold_age\n",
      "[dp] transforming eval\n",
      "[dp] transforming eval_sqft_price\n",
      "[dp] making sqft_zip_avg\n",
      "[dp] making sqft_over_zip_avg\n",
      "[dp] making sqft_price_zip_avg\n",
      "[dp] making sold_price_zip_avg\n",
      "[dp] making eval_zip_avg\n",
      "[dp] making eval_over_zip_avg\n",
      "[dp] making sale_count_zip\n",
      "[dp] cleaning on criteria: sold_price\n",
      "[dp] cleaning on criteria: sqft_price\n",
      "[dp] cleaning on criteria: sqft\n",
      "[dp] cleaning on criteria: num_bed\n",
      "[dp] cleaning on criteria: num_bath\n",
      "[dp] cleaning on criteria: lon\n"
     ]
    },
    {
     "name": "stdout",
     "output_type": "stream",
     "text": [
      "(69026, 27)\n"
     ]
    },
    {
     "data": {
      "text/html": [
       "<div>\n",
       "<style scoped>\n",
       "    .dataframe tbody tr th:only-of-type {\n",
       "        vertical-align: middle;\n",
       "    }\n",
       "\n",
       "    .dataframe tbody tr th {\n",
       "        vertical-align: top;\n",
       "    }\n",
       "\n",
       "    .dataframe thead th {\n",
       "        text-align: right;\n",
       "    }\n",
       "</style>\n",
       "<table border=\"1\" class=\"dataframe\">\n",
       "  <thead>\n",
       "    <tr style=\"text-align: right;\">\n",
       "      <th></th>\n",
       "      <th>high_rating</th>\n",
       "      <th>lat</th>\n",
       "      <th>avg_high_rating</th>\n",
       "      <th>sqft</th>\n",
       "      <th>middle_rating</th>\n",
       "      <th>id</th>\n",
       "      <th>min_high_distance</th>\n",
       "      <th>pool</th>\n",
       "      <th>sqft_zip_avg</th>\n",
       "      <th>sold_price</th>\n",
       "      <th>...</th>\n",
       "      <th>lon</th>\n",
       "      <th>num_bed</th>\n",
       "      <th>avg_middle_rating</th>\n",
       "      <th>eval_zip_avg</th>\n",
       "      <th>min_middle_distance</th>\n",
       "      <th>sqft_over_zip_avg</th>\n",
       "      <th>impr_over_land</th>\n",
       "      <th>num_bath</th>\n",
       "      <th>view</th>\n",
       "      <th>avg_elem_rating</th>\n",
       "    </tr>\n",
       "  </thead>\n",
       "  <tbody>\n",
       "    <tr>\n",
       "      <th>0</th>\n",
       "      <td>5.00</td>\n",
       "      <td>32.57141</td>\n",
       "      <td>5.000000</td>\n",
       "      <td>1008</td>\n",
       "      <td>6.0</td>\n",
       "      <td>1395276</td>\n",
       "      <td>588.900513</td>\n",
       "      <td>0</td>\n",
       "      <td>1314.809291</td>\n",
       "      <td>445000</td>\n",
       "      <td>...</td>\n",
       "      <td>-117.10905</td>\n",
       "      <td>3.0</td>\n",
       "      <td>6.000000</td>\n",
       "      <td>499326.537897</td>\n",
       "      <td>1252.112571</td>\n",
       "      <td>0.766651</td>\n",
       "      <td>1.225000</td>\n",
       "      <td>2.0</td>\n",
       "      <td>0</td>\n",
       "      <td>4.000000</td>\n",
       "    </tr>\n",
       "    <tr>\n",
       "      <th>13255</th>\n",
       "      <td>7.00</td>\n",
       "      <td>32.75133</td>\n",
       "      <td>6.466667</td>\n",
       "      <td>1274</td>\n",
       "      <td>7.0</td>\n",
       "      <td>1395290</td>\n",
       "      <td>2222.612139</td>\n",
       "      <td>0</td>\n",
       "      <td>1769.504702</td>\n",
       "      <td>315000</td>\n",
       "      <td>...</td>\n",
       "      <td>-116.94223</td>\n",
       "      <td>3.0</td>\n",
       "      <td>5.259259</td>\n",
       "      <td>481237.685737</td>\n",
       "      <td>969.465776</td>\n",
       "      <td>0.719975</td>\n",
       "      <td>1.739916</td>\n",
       "      <td>2.0</td>\n",
       "      <td>1</td>\n",
       "      <td>7.000000</td>\n",
       "    </tr>\n",
       "    <tr>\n",
       "      <th>62047</th>\n",
       "      <td>8.25</td>\n",
       "      <td>32.74473</td>\n",
       "      <td>8.250000</td>\n",
       "      <td>840</td>\n",
       "      <td>5.0</td>\n",
       "      <td>1395392</td>\n",
       "      <td>1653.725193</td>\n",
       "      <td>0</td>\n",
       "      <td>1402.442574</td>\n",
       "      <td>340000</td>\n",
       "      <td>...</td>\n",
       "      <td>-117.15826</td>\n",
       "      <td>2.0</td>\n",
       "      <td>7.416667</td>\n",
       "      <td>709445.015842</td>\n",
       "      <td>1023.326852</td>\n",
       "      <td>0.598955</td>\n",
       "      <td>2.087515</td>\n",
       "      <td>1.0</td>\n",
       "      <td>0</td>\n",
       "      <td>8.333333</td>\n",
       "    </tr>\n",
       "    <tr>\n",
       "      <th>62046</th>\n",
       "      <td>8.25</td>\n",
       "      <td>32.74451</td>\n",
       "      <td>8.250000</td>\n",
       "      <td>864</td>\n",
       "      <td>5.0</td>\n",
       "      <td>1395384</td>\n",
       "      <td>1814.643056</td>\n",
       "      <td>0</td>\n",
       "      <td>1402.442574</td>\n",
       "      <td>375000</td>\n",
       "      <td>...</td>\n",
       "      <td>-117.16051</td>\n",
       "      <td>1.0</td>\n",
       "      <td>7.333333</td>\n",
       "      <td>709445.015842</td>\n",
       "      <td>1202.902514</td>\n",
       "      <td>0.616068</td>\n",
       "      <td>2.160235</td>\n",
       "      <td>1.0</td>\n",
       "      <td>0</td>\n",
       "      <td>8.000000</td>\n",
       "    </tr>\n",
       "    <tr>\n",
       "      <th>61202</th>\n",
       "      <td>NaN</td>\n",
       "      <td>33.10266</td>\n",
       "      <td>NaN</td>\n",
       "      <td>2456</td>\n",
       "      <td>NaN</td>\n",
       "      <td>1395387</td>\n",
       "      <td>NaN</td>\n",
       "      <td>0</td>\n",
       "      <td>2163.965680</td>\n",
       "      <td>950000</td>\n",
       "      <td>...</td>\n",
       "      <td>-117.30830</td>\n",
       "      <td>4.0</td>\n",
       "      <td>NaN</td>\n",
       "      <td>825232.724260</td>\n",
       "      <td>NaN</td>\n",
       "      <td>1.134953</td>\n",
       "      <td>0.889355</td>\n",
       "      <td>3.0</td>\n",
       "      <td>0</td>\n",
       "      <td>NaN</td>\n",
       "    </tr>\n",
       "  </tbody>\n",
       "</table>\n",
       "<p>5 rows × 27 columns</p>\n",
       "</div>"
      ],
      "text/plain": [
       "       high_rating       lat  avg_high_rating  sqft  middle_rating       id  \\\n",
       "0             5.00  32.57141         5.000000  1008            6.0  1395276   \n",
       "13255         7.00  32.75133         6.466667  1274            7.0  1395290   \n",
       "62047         8.25  32.74473         8.250000   840            5.0  1395392   \n",
       "62046         8.25  32.74451         8.250000   864            5.0  1395384   \n",
       "61202          NaN  33.10266              NaN  2456            NaN  1395387   \n",
       "\n",
       "       min_high_distance  pool  sqft_zip_avg  sold_price       ...         \\\n",
       "0             588.900513     0   1314.809291      445000       ...          \n",
       "13255        2222.612139     0   1769.504702      315000       ...          \n",
       "62047        1653.725193     0   1402.442574      340000       ...          \n",
       "62046        1814.643056     0   1402.442574      375000       ...          \n",
       "61202                NaN     0   2163.965680      950000       ...          \n",
       "\n",
       "             lon  num_bed  avg_middle_rating   eval_zip_avg  \\\n",
       "0     -117.10905      3.0           6.000000  499326.537897   \n",
       "13255 -116.94223      3.0           5.259259  481237.685737   \n",
       "62047 -117.15826      2.0           7.416667  709445.015842   \n",
       "62046 -117.16051      1.0           7.333333  709445.015842   \n",
       "61202 -117.30830      4.0                NaN  825232.724260   \n",
       "\n",
       "      min_middle_distance  sqft_over_zip_avg impr_over_land  num_bath  view  \\\n",
       "0             1252.112571           0.766651       1.225000       2.0     0   \n",
       "13255          969.465776           0.719975       1.739916       2.0     1   \n",
       "62047         1023.326852           0.598955       2.087515       1.0     0   \n",
       "62046         1202.902514           0.616068       2.160235       1.0     0   \n",
       "61202                 NaN           1.134953       0.889355       3.0     0   \n",
       "\n",
       "       avg_elem_rating  \n",
       "0             4.000000  \n",
       "13255         7.000000  \n",
       "62047         8.333333  \n",
       "62046         8.000000  \n",
       "61202              NaN  \n",
       "\n",
       "[5 rows x 27 columns]"
      ]
     },
     "execution_count": 40,
     "metadata": {},
     "output_type": "execute_result"
    }
   ],
   "source": [
    "df_track = pp.dataset(feature='delivered', valid=True, date=('2015-10-01', '2017-10-01'))\n",
    "monthly_volume = int(df_track.shape[0] / 24)\n",
    "print(df_track.shape)\n",
    "df_track.head()"
   ]
  },
  {
   "cell_type": "markdown",
   "metadata": {},
   "source": [
    "## Random Forest Model"
   ]
  },
  {
   "cell_type": "markdown",
   "metadata": {},
   "source": [
    "10-fold cross-validation to select the best number of trees and depth of each tree in the forest."
   ]
  },
  {
   "cell_type": "code",
   "execution_count": 41,
   "metadata": {},
   "outputs": [
    {
     "data": {
      "text/plain": [
       "high_rating            8017\n",
       "lat                       0\n",
       "avg_high_rating        7865\n",
       "sqft                      0\n",
       "middle_rating          5958\n",
       "id                        0\n",
       "min_high_distance      7985\n",
       "pool                      0\n",
       "sqft_zip_avg              0\n",
       "sold_price                0\n",
       "min_elem_distance      2490\n",
       "sold_price_zip_avg        0\n",
       "elem_rating            2501\n",
       "eval_over_zip_avg         0\n",
       "pin                       0\n",
       "sqft_price_zip_avg        0\n",
       "date                      0\n",
       "lon                       0\n",
       "num_bed                   0\n",
       "avg_middle_rating      5838\n",
       "eval_zip_avg              0\n",
       "min_middle_distance    4538\n",
       "sqft_over_zip_avg         0\n",
       "impr_over_land            0\n",
       "num_bath                  0\n",
       "view                      0\n",
       "avg_elem_rating        2501\n",
       "dtype: int64"
      ]
     },
     "execution_count": 41,
     "metadata": {},
     "output_type": "execute_result"
    }
   ],
   "source": [
    "df_track.isnull().sum()"
   ]
  },
  {
   "cell_type": "code",
   "execution_count": 42,
   "metadata": {},
   "outputs": [
    {
     "name": "stderr",
     "output_type": "stream",
     "text": [
      "[dp] track/sliding/test window size: 57522, 34512, 11504\n",
      "[dp] training data size: (34512, 14)\n",
      "[dp] test data size: (11504, 14)\n"
     ]
    },
    {
     "data": {
      "text/plain": [
       "119267.58947030158"
      ]
     },
     "execution_count": 42,
     "metadata": {},
     "output_type": "execute_result"
    }
   ],
   "source": [
    "### baseline without school features\n",
    "rf = RandomForestRegressor(n_estimators=100, max_depth=16, n_jobs=-1, random_state=17)\n",
    "mm = ModelManager(df_track, use_features_base, rf, target='sold_price', time_series=True)\n",
    "mm.run(sliding_window=monthly_volume*12, test_size=monthly_volume*4)"
   ]
  },
  {
   "cell_type": "code",
   "execution_count": 43,
   "metadata": {},
   "outputs": [
    {
     "data": {
      "image/png": "[encoded data removed]",
      "text/plain": [
       "<matplotlib.figure.Figure at 0x1978792b6a0>"
      ]
     },
     "metadata": {},
     "output_type": "display_data"
    }
   ],
   "source": [
    "mm.plot_feature_importance()"
   ]
  },
  {
   "cell_type": "code",
   "execution_count": 45,
   "metadata": {},
   "outputs": [
    {
     "name": "stderr",
     "output_type": "stream",
     "text": [
      "[dp] track/sliding/test window size: 57522, 34512, 11504\n",
      "[dp] training data size: (34512, 23)\n",
      "[dp] test data size: (11504, 23)\n"
     ]
    },
    {
     "data": {
      "text/plain": [
       "118852.60211856647"
      ]
     },
     "execution_count": 45,
     "metadata": {},
     "output_type": "execute_result"
    }
   ],
   "source": [
    "### fill school feature nan with mean\n",
    "df_track_valid = df_track.fillna(df_track.mean())\n",
    "mm1 = ModelManager(df_track_valid, use_features, rf, target='sold_price', time_series=True)\n",
    "mm1.run(sliding_window=monthly_volume*12, test_size=monthly_volume*4)"
   ]
  },
  {
   "cell_type": "code",
   "execution_count": 46,
   "metadata": {},
   "outputs": [
    {
     "data": {
      "image/png": "[encoded data removed]",
      "text/plain": [
       "<matplotlib.figure.Figure at 0x19795fef0b8>"
      ]
     },
     "metadata": {},
     "output_type": "display_data"
    }
   ],
   "source": [
    "mm1.plot_feature_importance()"
   ]
  },
  {
   "cell_type": "code",
   "execution_count": 50,
   "metadata": {},
   "outputs": [
    {
     "name": "stderr",
     "output_type": "stream",
     "text": [
      "[dp] track/sliding/test window size: 57522, 34512, 11504\n",
      "[dp] training data size: (34512, 23)\n",
      "[dp] test data size: (11504, 23)\n"
     ]
    },
    {
     "data": {
      "text/plain": [
       "118631.21027919654"
      ]
     },
     "execution_count": 50,
     "metadata": {},
     "output_type": "execute_result"
    }
   ],
   "source": [
    "### fill school feature nan with extreme value\n",
    "df_track_valid = df_track.copy()\n",
    "for f in ['min_elem_distance', 'min_middle_distance', 'min_high_distance']:\n",
    "    df_track_valid[f] = df_track_valid[f].fillna(df_track_valid[f].max())\n",
    "df_track_valid = df_track_valid.fillna(0)\n",
    "mm2 = ModelManager(df_track_valid, use_features, rf, target='sold_price', time_series=True)\n",
    "mm2.run(sliding_window=monthly_volume*12, test_size=monthly_volume*4)"
   ]
  },
  {
   "cell_type": "code",
   "execution_count": 51,
   "metadata": {},
   "outputs": [
    {
     "data": {
      "image/png": "[encoded data removed]",
      "text/plain": [
       "<matplotlib.figure.Figure at 0x197932367f0>"
      ]
     },
     "metadata": {},
     "output_type": "display_data"
    }
   ],
   "source": [
    "mm2.plot_feature_importance()"
   ]
  },
  {
   "cell_type": "code",
   "execution_count": 52,
   "metadata": {},
   "outputs": [
    {
     "name": "stderr",
     "output_type": "stream",
     "text": [
      "[dp] track/sliding/test window size: 47071, 34512, 11504\n",
      "[dp] training data size: (34512, 23)\n",
      "[dp] test data size: (11504, 23)\n"
     ]
    },
    {
     "data": {
      "text/plain": [
       "106268.42182590491"
      ]
     },
     "execution_count": 52,
     "metadata": {},
     "output_type": "execute_result"
    }
   ],
   "source": [
    "### remove rows with invalid school feature value\n",
    "df_track_valid = df_track[np.isfinite(df_track['min_elem_distance']) & \n",
    "                          np.isfinite(df_track['min_middle_distance']) &\n",
    "                          np.isfinite(df_track['min_high_distance']) &\n",
    "                          np.isfinite(df_track['elem_rating']) &\n",
    "                          np.isfinite(df_track['middle_rating']) &\n",
    "                          np.isfinite(df_track['high_rating']) \n",
    "                         ]\n",
    "mm3 = ModelManager(df_track_valid, use_features, rf, target='sold_price', time_series=True)\n",
    "mm3.run(sliding_window=monthly_volume*12, test_size=monthly_volume*4)"
   ]
  },
  {
   "cell_type": "code",
   "execution_count": 53,
   "metadata": {},
   "outputs": [
    {
     "data": {
      "image/png": "[encoded data removed]",
      "text/plain": [
       "<matplotlib.figure.Figure at 0x19795ee6f28>"
      ]
     },
     "metadata": {},
     "output_type": "display_data"
    }
   ],
   "source": [
    "mm3.plot_feature_importance()"
   ]
  }
 ],
 "metadata": {
  "kernelspec": {
   "display_name": "Python 3",
   "language": "python",
   "name": "python3"
  },
  "language_info": {
   "codemirror_mode": {
    "name": "ipython",
    "version": 3
   },
   "file_extension": ".py",
   "mimetype": "text/x-python",
   "name": "python",
   "nbconvert_exporter": "python",
   "pygments_lexer": "ipython3",
   "version": "3.6.4"
  }
 },
 "nbformat": 4,
 "nbformat_minor": 2
}
